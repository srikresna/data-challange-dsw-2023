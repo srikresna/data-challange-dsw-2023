{
 "cells": [
  {
   "cell_type": "code",
   "execution_count": 1,
   "metadata": {},
   "outputs": [],
   "source": [
    "import pandas as pd\n",
    "import numpy as np\n",
    "import plotly.express as px\n",
    "import seaborn as sns\n",
    "\n",
    "from sklearn.model_selection import train_test_split, GridSearchCV\n",
    "from sklearn.preprocessing import LabelEncoder\n",
    "from imblearn.over_sampling import SMOTE\n",
    "from sklearn.metrics import classification_report, confusion_matrix, accuracy_score, roc_auc_score, roc_curve, auc\n",
    "\n",
    "from xgboost import XGBClassifier"
   ]
  },
  {
   "cell_type": "code",
   "execution_count": 2,
   "metadata": {},
   "outputs": [
    {
     "data": {
      "text/html": [
       "<div>\n",
       "<style scoped>\n",
       "    .dataframe tbody tr th:only-of-type {\n",
       "        vertical-align: middle;\n",
       "    }\n",
       "\n",
       "    .dataframe tbody tr th {\n",
       "        vertical-align: top;\n",
       "    }\n",
       "\n",
       "    .dataframe thead th {\n",
       "        text-align: right;\n",
       "    }\n",
       "</style>\n",
       "<table border=\"1\" class=\"dataframe\">\n",
       "  <thead>\n",
       "    <tr style=\"text-align: right;\">\n",
       "      <th></th>\n",
       "      <th>Customer ID</th>\n",
       "      <th>Tenure Months</th>\n",
       "      <th>Location</th>\n",
       "      <th>Device Class</th>\n",
       "      <th>Games Product</th>\n",
       "      <th>Music Product</th>\n",
       "      <th>Education Product</th>\n",
       "      <th>Call Center</th>\n",
       "      <th>Video Product</th>\n",
       "      <th>Use MyApp</th>\n",
       "      <th>Payment Method</th>\n",
       "      <th>Monthly Purchase (Thou. IDR)</th>\n",
       "      <th>Churn Label</th>\n",
       "      <th>Longitude</th>\n",
       "      <th>Latitude</th>\n",
       "      <th>CLTV (Predicted Thou. IDR)</th>\n",
       "      <th>service_used</th>\n",
       "      <th>payment_method_churn_rate</th>\n",
       "      <th>location_churn_rate</th>\n",
       "      <th>device_churn_rate</th>\n",
       "    </tr>\n",
       "  </thead>\n",
       "  <tbody>\n",
       "    <tr>\n",
       "      <th>0</th>\n",
       "      <td>0</td>\n",
       "      <td>2</td>\n",
       "      <td>Jakarta</td>\n",
       "      <td>Mid End</td>\n",
       "      <td>1</td>\n",
       "      <td>1</td>\n",
       "      <td>0</td>\n",
       "      <td>0</td>\n",
       "      <td>0</td>\n",
       "      <td>0</td>\n",
       "      <td>Digital Wallet</td>\n",
       "      <td>70.005</td>\n",
       "      <td>1</td>\n",
       "      <td>106.816666</td>\n",
       "      <td>-6.2</td>\n",
       "      <td>4210.7</td>\n",
       "      <td>2</td>\n",
       "      <td>0.191067</td>\n",
       "      <td>0.26297</td>\n",
       "      <td>0.189591</td>\n",
       "    </tr>\n",
       "    <tr>\n",
       "      <th>1</th>\n",
       "      <td>1</td>\n",
       "      <td>2</td>\n",
       "      <td>Jakarta</td>\n",
       "      <td>High End</td>\n",
       "      <td>0</td>\n",
       "      <td>0</td>\n",
       "      <td>0</td>\n",
       "      <td>0</td>\n",
       "      <td>0</td>\n",
       "      <td>0</td>\n",
       "      <td>Pulsa</td>\n",
       "      <td>91.910</td>\n",
       "      <td>1</td>\n",
       "      <td>106.816666</td>\n",
       "      <td>-6.2</td>\n",
       "      <td>3511.3</td>\n",
       "      <td>0</td>\n",
       "      <td>0.452854</td>\n",
       "      <td>0.26297</td>\n",
       "      <td>0.418928</td>\n",
       "    </tr>\n",
       "    <tr>\n",
       "      <th>2</th>\n",
       "      <td>2</td>\n",
       "      <td>8</td>\n",
       "      <td>Jakarta</td>\n",
       "      <td>High End</td>\n",
       "      <td>0</td>\n",
       "      <td>0</td>\n",
       "      <td>1</td>\n",
       "      <td>0</td>\n",
       "      <td>1</td>\n",
       "      <td>1</td>\n",
       "      <td>Pulsa</td>\n",
       "      <td>129.545</td>\n",
       "      <td>1</td>\n",
       "      <td>106.816666</td>\n",
       "      <td>-6.2</td>\n",
       "      <td>6983.6</td>\n",
       "      <td>3</td>\n",
       "      <td>0.452854</td>\n",
       "      <td>0.26297</td>\n",
       "      <td>0.418928</td>\n",
       "    </tr>\n",
       "    <tr>\n",
       "      <th>3</th>\n",
       "      <td>3</td>\n",
       "      <td>28</td>\n",
       "      <td>Jakarta</td>\n",
       "      <td>High End</td>\n",
       "      <td>0</td>\n",
       "      <td>0</td>\n",
       "      <td>1</td>\n",
       "      <td>1</td>\n",
       "      <td>1</td>\n",
       "      <td>1</td>\n",
       "      <td>Pulsa</td>\n",
       "      <td>136.240</td>\n",
       "      <td>1</td>\n",
       "      <td>106.816666</td>\n",
       "      <td>-6.2</td>\n",
       "      <td>6503.9</td>\n",
       "      <td>4</td>\n",
       "      <td>0.452854</td>\n",
       "      <td>0.26297</td>\n",
       "      <td>0.418928</td>\n",
       "    </tr>\n",
       "    <tr>\n",
       "      <th>4</th>\n",
       "      <td>4</td>\n",
       "      <td>49</td>\n",
       "      <td>Jakarta</td>\n",
       "      <td>High End</td>\n",
       "      <td>0</td>\n",
       "      <td>1</td>\n",
       "      <td>1</td>\n",
       "      <td>0</td>\n",
       "      <td>1</td>\n",
       "      <td>1</td>\n",
       "      <td>Debit</td>\n",
       "      <td>134.810</td>\n",
       "      <td>1</td>\n",
       "      <td>106.816666</td>\n",
       "      <td>-6.2</td>\n",
       "      <td>6942.0</td>\n",
       "      <td>4</td>\n",
       "      <td>0.167098</td>\n",
       "      <td>0.26297</td>\n",
       "      <td>0.418928</td>\n",
       "    </tr>\n",
       "  </tbody>\n",
       "</table>\n",
       "</div>"
      ],
      "text/plain": [
       "   Customer ID  Tenure Months Location Device Class  Games Product  \\\n",
       "0            0              2  Jakarta      Mid End              1   \n",
       "1            1              2  Jakarta     High End              0   \n",
       "2            2              8  Jakarta     High End              0   \n",
       "3            3             28  Jakarta     High End              0   \n",
       "4            4             49  Jakarta     High End              0   \n",
       "\n",
       "   Music Product  Education Product  Call Center  Video Product  Use MyApp  \\\n",
       "0              1                  0            0              0          0   \n",
       "1              0                  0            0              0          0   \n",
       "2              0                  1            0              1          1   \n",
       "3              0                  1            1              1          1   \n",
       "4              1                  1            0              1          1   \n",
       "\n",
       "   Payment Method  Monthly Purchase (Thou. IDR)  Churn Label   Longitude  \\\n",
       "0  Digital Wallet                        70.005            1  106.816666   \n",
       "1           Pulsa                        91.910            1  106.816666   \n",
       "2           Pulsa                       129.545            1  106.816666   \n",
       "3           Pulsa                       136.240            1  106.816666   \n",
       "4           Debit                       134.810            1  106.816666   \n",
       "\n",
       "   Latitude  CLTV (Predicted Thou. IDR)  service_used  \\\n",
       "0      -6.2                      4210.7             2   \n",
       "1      -6.2                      3511.3             0   \n",
       "2      -6.2                      6983.6             3   \n",
       "3      -6.2                      6503.9             4   \n",
       "4      -6.2                      6942.0             4   \n",
       "\n",
       "   payment_method_churn_rate  location_churn_rate  device_churn_rate  \n",
       "0                   0.191067              0.26297           0.189591  \n",
       "1                   0.452854              0.26297           0.418928  \n",
       "2                   0.452854              0.26297           0.418928  \n",
       "3                   0.452854              0.26297           0.418928  \n",
       "4                   0.167098              0.26297           0.418928  "
      ]
     },
     "execution_count": 2,
     "metadata": {},
     "output_type": "execute_result"
    }
   ],
   "source": [
    "df = pd.read_excel(\"data_modified_v1.xlsx\")\n",
    "df.head()"
   ]
  },
  {
   "cell_type": "code",
   "execution_count": 3,
   "metadata": {},
   "outputs": [
    {
     "data": {
      "text/html": [
       "<div>\n",
       "<style scoped>\n",
       "    .dataframe tbody tr th:only-of-type {\n",
       "        vertical-align: middle;\n",
       "    }\n",
       "\n",
       "    .dataframe tbody tr th {\n",
       "        vertical-align: top;\n",
       "    }\n",
       "\n",
       "    .dataframe thead th {\n",
       "        text-align: right;\n",
       "    }\n",
       "</style>\n",
       "<table border=\"1\" class=\"dataframe\">\n",
       "  <thead>\n",
       "    <tr style=\"text-align: right;\">\n",
       "      <th></th>\n",
       "      <th>Tenure Months</th>\n",
       "      <th>Location</th>\n",
       "      <th>Device Class</th>\n",
       "      <th>Games Product</th>\n",
       "      <th>Music Product</th>\n",
       "      <th>Education Product</th>\n",
       "      <th>Call Center</th>\n",
       "      <th>Video Product</th>\n",
       "      <th>Use MyApp</th>\n",
       "      <th>Payment Method</th>\n",
       "      <th>Monthly Purchase (Thou. IDR)</th>\n",
       "      <th>Churn Label</th>\n",
       "      <th>CLTV (Predicted Thou. IDR)</th>\n",
       "      <th>service_used</th>\n",
       "      <th>payment_method_churn_rate</th>\n",
       "      <th>location_churn_rate</th>\n",
       "      <th>device_churn_rate</th>\n",
       "    </tr>\n",
       "  </thead>\n",
       "  <tbody>\n",
       "    <tr>\n",
       "      <th>0</th>\n",
       "      <td>2</td>\n",
       "      <td>Jakarta</td>\n",
       "      <td>Mid End</td>\n",
       "      <td>1</td>\n",
       "      <td>1</td>\n",
       "      <td>0</td>\n",
       "      <td>0</td>\n",
       "      <td>0</td>\n",
       "      <td>0</td>\n",
       "      <td>Digital Wallet</td>\n",
       "      <td>70.005</td>\n",
       "      <td>1</td>\n",
       "      <td>4210.7</td>\n",
       "      <td>2</td>\n",
       "      <td>0.191067</td>\n",
       "      <td>0.26297</td>\n",
       "      <td>0.189591</td>\n",
       "    </tr>\n",
       "    <tr>\n",
       "      <th>1</th>\n",
       "      <td>2</td>\n",
       "      <td>Jakarta</td>\n",
       "      <td>High End</td>\n",
       "      <td>0</td>\n",
       "      <td>0</td>\n",
       "      <td>0</td>\n",
       "      <td>0</td>\n",
       "      <td>0</td>\n",
       "      <td>0</td>\n",
       "      <td>Pulsa</td>\n",
       "      <td>91.910</td>\n",
       "      <td>1</td>\n",
       "      <td>3511.3</td>\n",
       "      <td>0</td>\n",
       "      <td>0.452854</td>\n",
       "      <td>0.26297</td>\n",
       "      <td>0.418928</td>\n",
       "    </tr>\n",
       "    <tr>\n",
       "      <th>2</th>\n",
       "      <td>8</td>\n",
       "      <td>Jakarta</td>\n",
       "      <td>High End</td>\n",
       "      <td>0</td>\n",
       "      <td>0</td>\n",
       "      <td>1</td>\n",
       "      <td>0</td>\n",
       "      <td>1</td>\n",
       "      <td>1</td>\n",
       "      <td>Pulsa</td>\n",
       "      <td>129.545</td>\n",
       "      <td>1</td>\n",
       "      <td>6983.6</td>\n",
       "      <td>3</td>\n",
       "      <td>0.452854</td>\n",
       "      <td>0.26297</td>\n",
       "      <td>0.418928</td>\n",
       "    </tr>\n",
       "    <tr>\n",
       "      <th>3</th>\n",
       "      <td>28</td>\n",
       "      <td>Jakarta</td>\n",
       "      <td>High End</td>\n",
       "      <td>0</td>\n",
       "      <td>0</td>\n",
       "      <td>1</td>\n",
       "      <td>1</td>\n",
       "      <td>1</td>\n",
       "      <td>1</td>\n",
       "      <td>Pulsa</td>\n",
       "      <td>136.240</td>\n",
       "      <td>1</td>\n",
       "      <td>6503.9</td>\n",
       "      <td>4</td>\n",
       "      <td>0.452854</td>\n",
       "      <td>0.26297</td>\n",
       "      <td>0.418928</td>\n",
       "    </tr>\n",
       "    <tr>\n",
       "      <th>4</th>\n",
       "      <td>49</td>\n",
       "      <td>Jakarta</td>\n",
       "      <td>High End</td>\n",
       "      <td>0</td>\n",
       "      <td>1</td>\n",
       "      <td>1</td>\n",
       "      <td>0</td>\n",
       "      <td>1</td>\n",
       "      <td>1</td>\n",
       "      <td>Debit</td>\n",
       "      <td>134.810</td>\n",
       "      <td>1</td>\n",
       "      <td>6942.0</td>\n",
       "      <td>4</td>\n",
       "      <td>0.167098</td>\n",
       "      <td>0.26297</td>\n",
       "      <td>0.418928</td>\n",
       "    </tr>\n",
       "  </tbody>\n",
       "</table>\n",
       "</div>"
      ],
      "text/plain": [
       "   Tenure Months Location Device Class  Games Product  Music Product  \\\n",
       "0              2  Jakarta      Mid End              1              1   \n",
       "1              2  Jakarta     High End              0              0   \n",
       "2              8  Jakarta     High End              0              0   \n",
       "3             28  Jakarta     High End              0              0   \n",
       "4             49  Jakarta     High End              0              1   \n",
       "\n",
       "   Education Product  Call Center  Video Product  Use MyApp  Payment Method  \\\n",
       "0                  0            0              0          0  Digital Wallet   \n",
       "1                  0            0              0          0           Pulsa   \n",
       "2                  1            0              1          1           Pulsa   \n",
       "3                  1            1              1          1           Pulsa   \n",
       "4                  1            0              1          1           Debit   \n",
       "\n",
       "   Monthly Purchase (Thou. IDR)  Churn Label  CLTV (Predicted Thou. IDR)  \\\n",
       "0                        70.005            1                      4210.7   \n",
       "1                        91.910            1                      3511.3   \n",
       "2                       129.545            1                      6983.6   \n",
       "3                       136.240            1                      6503.9   \n",
       "4                       134.810            1                      6942.0   \n",
       "\n",
       "   service_used  payment_method_churn_rate  location_churn_rate  \\\n",
       "0             2                   0.191067              0.26297   \n",
       "1             0                   0.452854              0.26297   \n",
       "2             3                   0.452854              0.26297   \n",
       "3             4                   0.452854              0.26297   \n",
       "4             4                   0.167098              0.26297   \n",
       "\n",
       "   device_churn_rate  \n",
       "0           0.189591  \n",
       "1           0.418928  \n",
       "2           0.418928  \n",
       "3           0.418928  \n",
       "4           0.418928  "
      ]
     },
     "execution_count": 3,
     "metadata": {},
     "output_type": "execute_result"
    }
   ],
   "source": [
    "df.drop([\"Customer ID\", \"Latitude\", \"Longitude\"], axis=1, inplace=True)\n",
    "df.head()"
   ]
  },
  {
   "cell_type": "code",
   "execution_count": 4,
   "metadata": {},
   "outputs": [],
   "source": [
    "def encode_data(df):\n",
    "    if df.dtype == \"object\":\n",
    "        le = LabelEncoder()\n",
    "        df = le.fit_transform(df)\n",
    "    return df"
   ]
  },
  {
   "cell_type": "code",
   "execution_count": 5,
   "metadata": {},
   "outputs": [
    {
     "data": {
      "text/html": [
       "<div>\n",
       "<style scoped>\n",
       "    .dataframe tbody tr th:only-of-type {\n",
       "        vertical-align: middle;\n",
       "    }\n",
       "\n",
       "    .dataframe tbody tr th {\n",
       "        vertical-align: top;\n",
       "    }\n",
       "\n",
       "    .dataframe thead th {\n",
       "        text-align: right;\n",
       "    }\n",
       "</style>\n",
       "<table border=\"1\" class=\"dataframe\">\n",
       "  <thead>\n",
       "    <tr style=\"text-align: right;\">\n",
       "      <th></th>\n",
       "      <th>Tenure Months</th>\n",
       "      <th>Location</th>\n",
       "      <th>Device Class</th>\n",
       "      <th>Games Product</th>\n",
       "      <th>Music Product</th>\n",
       "      <th>Education Product</th>\n",
       "      <th>Call Center</th>\n",
       "      <th>Video Product</th>\n",
       "      <th>Use MyApp</th>\n",
       "      <th>Payment Method</th>\n",
       "      <th>Monthly Purchase (Thou. IDR)</th>\n",
       "      <th>Churn Label</th>\n",
       "      <th>CLTV (Predicted Thou. IDR)</th>\n",
       "      <th>service_used</th>\n",
       "      <th>payment_method_churn_rate</th>\n",
       "      <th>location_churn_rate</th>\n",
       "      <th>device_churn_rate</th>\n",
       "    </tr>\n",
       "  </thead>\n",
       "  <tbody>\n",
       "    <tr>\n",
       "      <th>0</th>\n",
       "      <td>2</td>\n",
       "      <td>1</td>\n",
       "      <td>2</td>\n",
       "      <td>1</td>\n",
       "      <td>1</td>\n",
       "      <td>0</td>\n",
       "      <td>0</td>\n",
       "      <td>0</td>\n",
       "      <td>0</td>\n",
       "      <td>2</td>\n",
       "      <td>70.005</td>\n",
       "      <td>1</td>\n",
       "      <td>4210.7</td>\n",
       "      <td>2</td>\n",
       "      <td>0.191067</td>\n",
       "      <td>0.26297</td>\n",
       "      <td>0.189591</td>\n",
       "    </tr>\n",
       "    <tr>\n",
       "      <th>1</th>\n",
       "      <td>2</td>\n",
       "      <td>1</td>\n",
       "      <td>0</td>\n",
       "      <td>0</td>\n",
       "      <td>0</td>\n",
       "      <td>0</td>\n",
       "      <td>0</td>\n",
       "      <td>0</td>\n",
       "      <td>0</td>\n",
       "      <td>3</td>\n",
       "      <td>91.910</td>\n",
       "      <td>1</td>\n",
       "      <td>3511.3</td>\n",
       "      <td>0</td>\n",
       "      <td>0.452854</td>\n",
       "      <td>0.26297</td>\n",
       "      <td>0.418928</td>\n",
       "    </tr>\n",
       "    <tr>\n",
       "      <th>2</th>\n",
       "      <td>8</td>\n",
       "      <td>1</td>\n",
       "      <td>0</td>\n",
       "      <td>0</td>\n",
       "      <td>0</td>\n",
       "      <td>1</td>\n",
       "      <td>0</td>\n",
       "      <td>1</td>\n",
       "      <td>1</td>\n",
       "      <td>3</td>\n",
       "      <td>129.545</td>\n",
       "      <td>1</td>\n",
       "      <td>6983.6</td>\n",
       "      <td>3</td>\n",
       "      <td>0.452854</td>\n",
       "      <td>0.26297</td>\n",
       "      <td>0.418928</td>\n",
       "    </tr>\n",
       "    <tr>\n",
       "      <th>3</th>\n",
       "      <td>28</td>\n",
       "      <td>1</td>\n",
       "      <td>0</td>\n",
       "      <td>0</td>\n",
       "      <td>0</td>\n",
       "      <td>1</td>\n",
       "      <td>1</td>\n",
       "      <td>1</td>\n",
       "      <td>1</td>\n",
       "      <td>3</td>\n",
       "      <td>136.240</td>\n",
       "      <td>1</td>\n",
       "      <td>6503.9</td>\n",
       "      <td>4</td>\n",
       "      <td>0.452854</td>\n",
       "      <td>0.26297</td>\n",
       "      <td>0.418928</td>\n",
       "    </tr>\n",
       "    <tr>\n",
       "      <th>4</th>\n",
       "      <td>49</td>\n",
       "      <td>1</td>\n",
       "      <td>0</td>\n",
       "      <td>0</td>\n",
       "      <td>1</td>\n",
       "      <td>1</td>\n",
       "      <td>0</td>\n",
       "      <td>1</td>\n",
       "      <td>1</td>\n",
       "      <td>1</td>\n",
       "      <td>134.810</td>\n",
       "      <td>1</td>\n",
       "      <td>6942.0</td>\n",
       "      <td>4</td>\n",
       "      <td>0.167098</td>\n",
       "      <td>0.26297</td>\n",
       "      <td>0.418928</td>\n",
       "    </tr>\n",
       "  </tbody>\n",
       "</table>\n",
       "</div>"
      ],
      "text/plain": [
       "   Tenure Months  Location  Device Class  Games Product  Music Product  \\\n",
       "0              2         1             2              1              1   \n",
       "1              2         1             0              0              0   \n",
       "2              8         1             0              0              0   \n",
       "3             28         1             0              0              0   \n",
       "4             49         1             0              0              1   \n",
       "\n",
       "   Education Product  Call Center  Video Product  Use MyApp  Payment Method  \\\n",
       "0                  0            0              0          0               2   \n",
       "1                  0            0              0          0               3   \n",
       "2                  1            0              1          1               3   \n",
       "3                  1            1              1          1               3   \n",
       "4                  1            0              1          1               1   \n",
       "\n",
       "   Monthly Purchase (Thou. IDR)  Churn Label  CLTV (Predicted Thou. IDR)  \\\n",
       "0                        70.005            1                      4210.7   \n",
       "1                        91.910            1                      3511.3   \n",
       "2                       129.545            1                      6983.6   \n",
       "3                       136.240            1                      6503.9   \n",
       "4                       134.810            1                      6942.0   \n",
       "\n",
       "   service_used  payment_method_churn_rate  location_churn_rate  \\\n",
       "0             2                   0.191067              0.26297   \n",
       "1             0                   0.452854              0.26297   \n",
       "2             3                   0.452854              0.26297   \n",
       "3             4                   0.452854              0.26297   \n",
       "4             4                   0.167098              0.26297   \n",
       "\n",
       "   device_churn_rate  \n",
       "0           0.189591  \n",
       "1           0.418928  \n",
       "2           0.418928  \n",
       "3           0.418928  \n",
       "4           0.418928  "
      ]
     },
     "execution_count": 5,
     "metadata": {},
     "output_type": "execute_result"
    }
   ],
   "source": [
    "df = df.apply(lambda x: encode_data(x))\n",
    "df.head()"
   ]
  },
  {
   "cell_type": "code",
   "execution_count": 6,
   "metadata": {},
   "outputs": [
    {
     "data": {
      "application/vnd.plotly.v1+json": {
       "config": {
        "plotlyServerURL": "https://plot.ly"
       },
       "data": [
        {
         "alignmentgroup": "True",
         "hovertemplate": "index=%{x}<br>value=%{marker.color}<extra></extra>",
         "legendgroup": "",
         "marker": {
          "color": [
           1,
           0.3224545552123071,
           0.3033586255540694,
           0.2628182020893582,
           0.193356422237854,
           0.06322774611875864,
           0.0613815480151869,
           0.008596374123943925,
           -0.008596374123850607,
           -0.06615979128029065,
           -0.08225486893814218,
           -0.0876981271195637,
           -0.12746310171745023,
           -0.16467355590159374,
           -0.171226291948553,
           -0.2408097340138934,
           -0.352228670113079
          ],
          "coloraxis": "coloraxis",
          "pattern": {
           "shape": ""
          }
         },
         "name": "",
         "offsetgroup": "",
         "orientation": "v",
         "showlegend": false,
         "textposition": "auto",
         "type": "bar",
         "x": [
          "Churn Label",
          "device_churn_rate",
          "payment_method_churn_rate",
          "Payment Method",
          "Monthly Purchase (Thou. IDR)",
          "Video Product",
          "Use MyApp",
          "location_churn_rate",
          "Location",
          "Education Product",
          "Music Product",
          "service_used",
          "CLTV (Predicted Thou. IDR)",
          "Call Center",
          "Games Product",
          "Device Class",
          "Tenure Months"
         ],
         "xaxis": "x",
         "y": [
          1,
          0.3224545552123071,
          0.3033586255540694,
          0.2628182020893582,
          0.193356422237854,
          0.06322774611875864,
          0.0613815480151869,
          0.008596374123943925,
          -0.008596374123850607,
          -0.06615979128029065,
          -0.08225486893814218,
          -0.0876981271195637,
          -0.12746310171745023,
          -0.16467355590159374,
          -0.171226291948553,
          -0.2408097340138934,
          -0.352228670113079
         ],
         "yaxis": "y"
        }
       ],
       "layout": {
        "barmode": "relative",
        "coloraxis": {
         "colorbar": {
          "title": {
           "text": "value"
          }
         },
         "colorscale": [
          [
           0,
           "#0d0887"
          ],
          [
           0.1111111111111111,
           "#46039f"
          ],
          [
           0.2222222222222222,
           "#7201a8"
          ],
          [
           0.3333333333333333,
           "#9c179e"
          ],
          [
           0.4444444444444444,
           "#bd3786"
          ],
          [
           0.5555555555555556,
           "#d8576b"
          ],
          [
           0.6666666666666666,
           "#ed7953"
          ],
          [
           0.7777777777777778,
           "#fb9f3a"
          ],
          [
           0.8888888888888888,
           "#fdca26"
          ],
          [
           1,
           "#f0f921"
          ]
         ]
        },
        "legend": {
         "tracegroupgap": 0
        },
        "margin": {
         "t": 60
        },
        "template": {
         "data": {
          "bar": [
           {
            "error_x": {
             "color": "#2a3f5f"
            },
            "error_y": {
             "color": "#2a3f5f"
            },
            "marker": {
             "line": {
              "color": "#E5ECF6",
              "width": 0.5
             },
             "pattern": {
              "fillmode": "overlay",
              "size": 10,
              "solidity": 0.2
             }
            },
            "type": "bar"
           }
          ],
          "barpolar": [
           {
            "marker": {
             "line": {
              "color": "#E5ECF6",
              "width": 0.5
             },
             "pattern": {
              "fillmode": "overlay",
              "size": 10,
              "solidity": 0.2
             }
            },
            "type": "barpolar"
           }
          ],
          "carpet": [
           {
            "aaxis": {
             "endlinecolor": "#2a3f5f",
             "gridcolor": "white",
             "linecolor": "white",
             "minorgridcolor": "white",
             "startlinecolor": "#2a3f5f"
            },
            "baxis": {
             "endlinecolor": "#2a3f5f",
             "gridcolor": "white",
             "linecolor": "white",
             "minorgridcolor": "white",
             "startlinecolor": "#2a3f5f"
            },
            "type": "carpet"
           }
          ],
          "choropleth": [
           {
            "colorbar": {
             "outlinewidth": 0,
             "ticks": ""
            },
            "type": "choropleth"
           }
          ],
          "contour": [
           {
            "colorbar": {
             "outlinewidth": 0,
             "ticks": ""
            },
            "colorscale": [
             [
              0,
              "#0d0887"
             ],
             [
              0.1111111111111111,
              "#46039f"
             ],
             [
              0.2222222222222222,
              "#7201a8"
             ],
             [
              0.3333333333333333,
              "#9c179e"
             ],
             [
              0.4444444444444444,
              "#bd3786"
             ],
             [
              0.5555555555555556,
              "#d8576b"
             ],
             [
              0.6666666666666666,
              "#ed7953"
             ],
             [
              0.7777777777777778,
              "#fb9f3a"
             ],
             [
              0.8888888888888888,
              "#fdca26"
             ],
             [
              1,
              "#f0f921"
             ]
            ],
            "type": "contour"
           }
          ],
          "contourcarpet": [
           {
            "colorbar": {
             "outlinewidth": 0,
             "ticks": ""
            },
            "type": "contourcarpet"
           }
          ],
          "heatmap": [
           {
            "colorbar": {
             "outlinewidth": 0,
             "ticks": ""
            },
            "colorscale": [
             [
              0,
              "#0d0887"
             ],
             [
              0.1111111111111111,
              "#46039f"
             ],
             [
              0.2222222222222222,
              "#7201a8"
             ],
             [
              0.3333333333333333,
              "#9c179e"
             ],
             [
              0.4444444444444444,
              "#bd3786"
             ],
             [
              0.5555555555555556,
              "#d8576b"
             ],
             [
              0.6666666666666666,
              "#ed7953"
             ],
             [
              0.7777777777777778,
              "#fb9f3a"
             ],
             [
              0.8888888888888888,
              "#fdca26"
             ],
             [
              1,
              "#f0f921"
             ]
            ],
            "type": "heatmap"
           }
          ],
          "heatmapgl": [
           {
            "colorbar": {
             "outlinewidth": 0,
             "ticks": ""
            },
            "colorscale": [
             [
              0,
              "#0d0887"
             ],
             [
              0.1111111111111111,
              "#46039f"
             ],
             [
              0.2222222222222222,
              "#7201a8"
             ],
             [
              0.3333333333333333,
              "#9c179e"
             ],
             [
              0.4444444444444444,
              "#bd3786"
             ],
             [
              0.5555555555555556,
              "#d8576b"
             ],
             [
              0.6666666666666666,
              "#ed7953"
             ],
             [
              0.7777777777777778,
              "#fb9f3a"
             ],
             [
              0.8888888888888888,
              "#fdca26"
             ],
             [
              1,
              "#f0f921"
             ]
            ],
            "type": "heatmapgl"
           }
          ],
          "histogram": [
           {
            "marker": {
             "pattern": {
              "fillmode": "overlay",
              "size": 10,
              "solidity": 0.2
             }
            },
            "type": "histogram"
           }
          ],
          "histogram2d": [
           {
            "colorbar": {
             "outlinewidth": 0,
             "ticks": ""
            },
            "colorscale": [
             [
              0,
              "#0d0887"
             ],
             [
              0.1111111111111111,
              "#46039f"
             ],
             [
              0.2222222222222222,
              "#7201a8"
             ],
             [
              0.3333333333333333,
              "#9c179e"
             ],
             [
              0.4444444444444444,
              "#bd3786"
             ],
             [
              0.5555555555555556,
              "#d8576b"
             ],
             [
              0.6666666666666666,
              "#ed7953"
             ],
             [
              0.7777777777777778,
              "#fb9f3a"
             ],
             [
              0.8888888888888888,
              "#fdca26"
             ],
             [
              1,
              "#f0f921"
             ]
            ],
            "type": "histogram2d"
           }
          ],
          "histogram2dcontour": [
           {
            "colorbar": {
             "outlinewidth": 0,
             "ticks": ""
            },
            "colorscale": [
             [
              0,
              "#0d0887"
             ],
             [
              0.1111111111111111,
              "#46039f"
             ],
             [
              0.2222222222222222,
              "#7201a8"
             ],
             [
              0.3333333333333333,
              "#9c179e"
             ],
             [
              0.4444444444444444,
              "#bd3786"
             ],
             [
              0.5555555555555556,
              "#d8576b"
             ],
             [
              0.6666666666666666,
              "#ed7953"
             ],
             [
              0.7777777777777778,
              "#fb9f3a"
             ],
             [
              0.8888888888888888,
              "#fdca26"
             ],
             [
              1,
              "#f0f921"
             ]
            ],
            "type": "histogram2dcontour"
           }
          ],
          "mesh3d": [
           {
            "colorbar": {
             "outlinewidth": 0,
             "ticks": ""
            },
            "type": "mesh3d"
           }
          ],
          "parcoords": [
           {
            "line": {
             "colorbar": {
              "outlinewidth": 0,
              "ticks": ""
             }
            },
            "type": "parcoords"
           }
          ],
          "pie": [
           {
            "automargin": true,
            "type": "pie"
           }
          ],
          "scatter": [
           {
            "fillpattern": {
             "fillmode": "overlay",
             "size": 10,
             "solidity": 0.2
            },
            "type": "scatter"
           }
          ],
          "scatter3d": [
           {
            "line": {
             "colorbar": {
              "outlinewidth": 0,
              "ticks": ""
             }
            },
            "marker": {
             "colorbar": {
              "outlinewidth": 0,
              "ticks": ""
             }
            },
            "type": "scatter3d"
           }
          ],
          "scattercarpet": [
           {
            "marker": {
             "colorbar": {
              "outlinewidth": 0,
              "ticks": ""
             }
            },
            "type": "scattercarpet"
           }
          ],
          "scattergeo": [
           {
            "marker": {
             "colorbar": {
              "outlinewidth": 0,
              "ticks": ""
             }
            },
            "type": "scattergeo"
           }
          ],
          "scattergl": [
           {
            "marker": {
             "colorbar": {
              "outlinewidth": 0,
              "ticks": ""
             }
            },
            "type": "scattergl"
           }
          ],
          "scattermapbox": [
           {
            "marker": {
             "colorbar": {
              "outlinewidth": 0,
              "ticks": ""
             }
            },
            "type": "scattermapbox"
           }
          ],
          "scatterpolar": [
           {
            "marker": {
             "colorbar": {
              "outlinewidth": 0,
              "ticks": ""
             }
            },
            "type": "scatterpolar"
           }
          ],
          "scatterpolargl": [
           {
            "marker": {
             "colorbar": {
              "outlinewidth": 0,
              "ticks": ""
             }
            },
            "type": "scatterpolargl"
           }
          ],
          "scatterternary": [
           {
            "marker": {
             "colorbar": {
              "outlinewidth": 0,
              "ticks": ""
             }
            },
            "type": "scatterternary"
           }
          ],
          "surface": [
           {
            "colorbar": {
             "outlinewidth": 0,
             "ticks": ""
            },
            "colorscale": [
             [
              0,
              "#0d0887"
             ],
             [
              0.1111111111111111,
              "#46039f"
             ],
             [
              0.2222222222222222,
              "#7201a8"
             ],
             [
              0.3333333333333333,
              "#9c179e"
             ],
             [
              0.4444444444444444,
              "#bd3786"
             ],
             [
              0.5555555555555556,
              "#d8576b"
             ],
             [
              0.6666666666666666,
              "#ed7953"
             ],
             [
              0.7777777777777778,
              "#fb9f3a"
             ],
             [
              0.8888888888888888,
              "#fdca26"
             ],
             [
              1,
              "#f0f921"
             ]
            ],
            "type": "surface"
           }
          ],
          "table": [
           {
            "cells": {
             "fill": {
              "color": "#EBF0F8"
             },
             "line": {
              "color": "white"
             }
            },
            "header": {
             "fill": {
              "color": "#C8D4E3"
             },
             "line": {
              "color": "white"
             }
            },
            "type": "table"
           }
          ]
         },
         "layout": {
          "annotationdefaults": {
           "arrowcolor": "#2a3f5f",
           "arrowhead": 0,
           "arrowwidth": 1
          },
          "autotypenumbers": "strict",
          "coloraxis": {
           "colorbar": {
            "outlinewidth": 0,
            "ticks": ""
           }
          },
          "colorscale": {
           "diverging": [
            [
             0,
             "#8e0152"
            ],
            [
             0.1,
             "#c51b7d"
            ],
            [
             0.2,
             "#de77ae"
            ],
            [
             0.3,
             "#f1b6da"
            ],
            [
             0.4,
             "#fde0ef"
            ],
            [
             0.5,
             "#f7f7f7"
            ],
            [
             0.6,
             "#e6f5d0"
            ],
            [
             0.7,
             "#b8e186"
            ],
            [
             0.8,
             "#7fbc41"
            ],
            [
             0.9,
             "#4d9221"
            ],
            [
             1,
             "#276419"
            ]
           ],
           "sequential": [
            [
             0,
             "#0d0887"
            ],
            [
             0.1111111111111111,
             "#46039f"
            ],
            [
             0.2222222222222222,
             "#7201a8"
            ],
            [
             0.3333333333333333,
             "#9c179e"
            ],
            [
             0.4444444444444444,
             "#bd3786"
            ],
            [
             0.5555555555555556,
             "#d8576b"
            ],
            [
             0.6666666666666666,
             "#ed7953"
            ],
            [
             0.7777777777777778,
             "#fb9f3a"
            ],
            [
             0.8888888888888888,
             "#fdca26"
            ],
            [
             1,
             "#f0f921"
            ]
           ],
           "sequentialminus": [
            [
             0,
             "#0d0887"
            ],
            [
             0.1111111111111111,
             "#46039f"
            ],
            [
             0.2222222222222222,
             "#7201a8"
            ],
            [
             0.3333333333333333,
             "#9c179e"
            ],
            [
             0.4444444444444444,
             "#bd3786"
            ],
            [
             0.5555555555555556,
             "#d8576b"
            ],
            [
             0.6666666666666666,
             "#ed7953"
            ],
            [
             0.7777777777777778,
             "#fb9f3a"
            ],
            [
             0.8888888888888888,
             "#fdca26"
            ],
            [
             1,
             "#f0f921"
            ]
           ]
          },
          "colorway": [
           "#636efa",
           "#EF553B",
           "#00cc96",
           "#ab63fa",
           "#FFA15A",
           "#19d3f3",
           "#FF6692",
           "#B6E880",
           "#FF97FF",
           "#FECB52"
          ],
          "font": {
           "color": "#2a3f5f"
          },
          "geo": {
           "bgcolor": "white",
           "lakecolor": "white",
           "landcolor": "#E5ECF6",
           "showlakes": true,
           "showland": true,
           "subunitcolor": "white"
          },
          "hoverlabel": {
           "align": "left"
          },
          "hovermode": "closest",
          "mapbox": {
           "style": "light"
          },
          "paper_bgcolor": "white",
          "plot_bgcolor": "#E5ECF6",
          "polar": {
           "angularaxis": {
            "gridcolor": "white",
            "linecolor": "white",
            "ticks": ""
           },
           "bgcolor": "#E5ECF6",
           "radialaxis": {
            "gridcolor": "white",
            "linecolor": "white",
            "ticks": ""
           }
          },
          "scene": {
           "xaxis": {
            "backgroundcolor": "#E5ECF6",
            "gridcolor": "white",
            "gridwidth": 2,
            "linecolor": "white",
            "showbackground": true,
            "ticks": "",
            "zerolinecolor": "white"
           },
           "yaxis": {
            "backgroundcolor": "#E5ECF6",
            "gridcolor": "white",
            "gridwidth": 2,
            "linecolor": "white",
            "showbackground": true,
            "ticks": "",
            "zerolinecolor": "white"
           },
           "zaxis": {
            "backgroundcolor": "#E5ECF6",
            "gridcolor": "white",
            "gridwidth": 2,
            "linecolor": "white",
            "showbackground": true,
            "ticks": "",
            "zerolinecolor": "white"
           }
          },
          "shapedefaults": {
           "line": {
            "color": "#2a3f5f"
           }
          },
          "ternary": {
           "aaxis": {
            "gridcolor": "white",
            "linecolor": "white",
            "ticks": ""
           },
           "baxis": {
            "gridcolor": "white",
            "linecolor": "white",
            "ticks": ""
           },
           "bgcolor": "#E5ECF6",
           "caxis": {
            "gridcolor": "white",
            "linecolor": "white",
            "ticks": ""
           }
          },
          "title": {
           "x": 0.05
          },
          "xaxis": {
           "automargin": true,
           "gridcolor": "white",
           "linecolor": "white",
           "ticks": "",
           "title": {
            "standoff": 15
           },
           "zerolinecolor": "white",
           "zerolinewidth": 2
          },
          "yaxis": {
           "automargin": true,
           "gridcolor": "white",
           "linecolor": "white",
           "ticks": "",
           "title": {
            "standoff": 15
           },
           "zerolinecolor": "white",
           "zerolinewidth": 2
          }
         }
        },
        "xaxis": {
         "anchor": "y",
         "domain": [
          0,
          1
         ],
         "title": {
          "text": "index"
         }
        },
        "yaxis": {
         "anchor": "x",
         "domain": [
          0,
          1
         ],
         "title": {
          "text": "value"
         }
        }
       }
      }
     },
     "metadata": {},
     "output_type": "display_data"
    }
   ],
   "source": [
    "fig = px.bar(df.corr()['Churn Label'].sort_values(ascending = False),\n",
    "             color = 'value')\n",
    "fig.show()"
   ]
  },
  {
   "cell_type": "code",
   "execution_count": 7,
   "metadata": {},
   "outputs": [],
   "source": [
    "over = SMOTE(sampling_strategy=1)\n",
    "\n",
    "X = df.drop([\"Churn Label\"], axis=1)\n",
    "y = df[\"Churn Label\"]"
   ]
  },
  {
   "cell_type": "code",
   "execution_count": 8,
   "metadata": {},
   "outputs": [],
   "source": [
    "X, y = over.fit_resample(X, y)"
   ]
  },
  {
   "cell_type": "code",
   "execution_count": 9,
   "metadata": {},
   "outputs": [
    {
     "data": {
      "text/plain": [
       "((8278, 16), (2070, 16), (8278,), (2070,))"
      ]
     },
     "execution_count": 9,
     "metadata": {},
     "output_type": "execute_result"
    }
   ],
   "source": [
    "X_train, X_test, y_train, y_test = train_test_split(X, y, test_size=0.2)\n",
    "X_train.shape, X_test.shape, y_train.shape, y_test.shape"
   ]
  },
  {
   "cell_type": "code",
   "execution_count": 10,
   "metadata": {},
   "outputs": [],
   "source": [
    "def model(method, x_train, y_train, x_test, y_test):\n",
    "    # Train the model\n",
    "    method.fit(x_train, y_train)\n",
    "    \n",
    "    # Make predictions on test data and calculate confusion matrix\n",
    "    predictions = method.predict(x_test)\n",
    "    c_matrix = confusion_matrix(y_test, predictions)\n",
    "    \n",
    "    # Calculate label percentages and create label strings with counts and percentages\n",
    "    percentages = (c_matrix / np.sum(c_matrix, axis=1)[:, np.newaxis]).round(2) * 100\n",
    "    labels = [[f\"{c_matrix[i, j]} ({percentages[i, j]:.2f}%)\" for j in range(c_matrix.shape[1])] for i in range(c_matrix.shape[0])]\n",
    "    labels = np.asarray(labels)\n",
    "    \n",
    "    # Plot confusion matrix with labeled counts and percentages\n",
    "    sns.heatmap(c_matrix, annot=labels, fmt='', cmap='Blues')\n",
    "    \n",
    "    # Evaluate model performance and print results\n",
    "    print(\"ROC AUC: \", '{:.2%}'.format(roc_auc_score(y_test, predictions)))\n",
    "    print(\"Model accuracy: \", '{:.2%}'.format(accuracy_score(y_test, predictions)))\n",
    "    print(classification_report(y_test, predictions))"
   ]
  },
  {
   "cell_type": "code",
   "execution_count": 11,
   "metadata": {},
   "outputs": [
    {
     "name": "stdout",
     "output_type": "stream",
     "text": [
      "ROC AUC:  83.79%\n",
      "Model accuracy:  83.77%\n",
      "              precision    recall  f1-score   support\n",
      "\n",
      "           0       0.82      0.86      0.84      1021\n",
      "           1       0.85      0.82      0.84      1049\n",
      "\n",
      "    accuracy                           0.84      2070\n",
      "   macro avg       0.84      0.84      0.84      2070\n",
      "weighted avg       0.84      0.84      0.84      2070\n",
      "\n"
     ]
    },
    {
     "data": {
      "image/png": "[encoded data removed]",
      "text/plain": [
       "<Figure size 640x480 with 2 Axes>"
      ]
     },
     "metadata": {},
     "output_type": "display_data"
    }
   ],
   "source": [
    "xgb = XGBClassifier(learning_rate= 0.01,max_depth = 3,n_estimators = 1000)\n",
    "\n",
    "model(xgb, X_train, y_train, X_test, y_test)"
   ]
  },
  {
   "cell_type": "code",
   "execution_count": 12,
   "metadata": {},
   "outputs": [
    {
     "name": "stdout",
     "output_type": "stream",
     "text": [
      "Fitting 3 folds for each of 64 candidates, totalling 192 fits\n",
      "{'gamma': 0.3, 'learning_rate': 0.1, 'max_depth': 5, 'min_child_weight': 2, 'n_estimators': 200, 'subsample': 0.8}\n",
      "0.934159933172842\n"
     ]
    }
   ],
   "source": [
    "xgb = XGBClassifier()\n",
    "\n",
    "param_grid = {\n",
    "    'max_depth': [5, 6],\n",
    "    'learning_rate': [0.1, 0.15],\n",
    "    'n_estimators': [200, 250],\n",
    "    'gamma': [0.2, 0.3],\n",
    "    'min_child_weight': [1, 2],\n",
    "    'subsample': [0.8, 0.9],\n",
    "}\n",
    "\n",
    "grid_clf = GridSearchCV(xgb, param_grid, scoring='roc_auc', cv=3, n_jobs=1, verbose=1)\n",
    "grid_clf.fit(X_train, y_train)\n",
    "\n",
    "print(grid_clf.best_params_)\n",
    "print(grid_clf.best_score_)\n"
   ]
  },
  {
   "cell_type": "code",
   "execution_count": 13,
   "metadata": {},
   "outputs": [
    {
     "name": "stdout",
     "output_type": "stream",
     "text": [
      "              precision    recall  f1-score   support\n",
      "\n",
      "           0       0.82      0.86      0.84      1021\n",
      "           1       0.86      0.81      0.83      1049\n",
      "\n",
      "    accuracy                           0.84      2070\n",
      "   macro avg       0.84      0.84      0.84      2070\n",
      "weighted avg       0.84      0.84      0.84      2070\n",
      "\n"
     ]
    },
    {
     "data": {
      "application/vnd.plotly.v1+json": {
       "config": {
        "plotlyServerURL": "https://plot.ly"
       },
       "data": [
        {
         "fillpattern": {
          "shape": ""
         },
         "hovertemplate": "False Positive Rate=%{x}<br>True Positive Rate=%{y}<extra></extra>",
         "legendgroup": "",
         "line": {
          "color": "#636efa"
         },
         "marker": {
          "symbol": "circle"
         },
         "mode": "lines",
         "name": "",
         "orientation": "v",
         "showlegend": false,
         "stackgroup": "1",
         "type": "scatter",
         "x": [
          0,
          0,
          0,
          0,
          0,
          0,
          0,
          0,
          0,
          0,
          0,
          0.0009794319294809011,
          0.0009794319294809011,
          0.0019588638589618022,
          0.0019588638589618022,
          0.002938295788442703,
          0.002938295788442703,
          0.0039177277179236044,
          0.0039177277179236044,
          0.004897159647404506,
          0.004897159647404506,
          0.005876591576885406,
          0.005876591576885406,
          0.0068560235063663075,
          0.0068560235063663075,
          0.0068560235063663075,
          0.0068560235063663075,
          0.007835455435847209,
          0.007835455435847209,
          0.00881488736532811,
          0.00881488736532811,
          0.009794319294809012,
          0.009794319294809012,
          0.010773751224289911,
          0.010773751224289911,
          0.011753183153770812,
          0.011753183153770812,
          0.011753183153770812,
          0.011753183153770812,
          0.012732615083251714,
          0.012732615083251714,
          0.014691478942213516,
          0.014691478942213516,
          0.015670910871694418,
          0.015670910871694418,
          0.01665034280117532,
          0.01665034280117532,
          0.01762977473065622,
          0.01762977473065622,
          0.019588638589618023,
          0.019588638589618023,
          0.02056807051909892,
          0.02056807051909892,
          0.022526934378060724,
          0.022526934378060724,
          0.023506366307541625,
          0.023506366307541625,
          0.024485798237022526,
          0.024485798237022526,
          0.025465230166503428,
          0.025465230166503428,
          0.02644466209598433,
          0.02644466209598433,
          0.02742409402546523,
          0.02742409402546523,
          0.02840352595494613,
          0.02840352595494613,
          0.029382957884427033,
          0.029382957884427033,
          0.030362389813907934,
          0.030362389813907934,
          0.031341821743388835,
          0.031341821743388835,
          0.03232125367286973,
          0.03232125367286973,
          0.03330068560235064,
          0.03330068560235064,
          0.034280117531831536,
          0.034280117531831536,
          0.03525954946131244,
          0.03525954946131244,
          0.03623898139079334,
          0.03623898139079334,
          0.03721841332027424,
          0.03721841332027424,
          0.03819784524975514,
          0.03819784524975514,
          0.040156709108716944,
          0.040156709108716944,
          0.04113614103819784,
          0.04113614103819784,
          0.04211557296767875,
          0.04211557296767875,
          0.043095004897159644,
          0.043095004897159644,
          0.04407443682664055,
          0.04407443682664055,
          0.04603330068560235,
          0.04603330068560235,
          0.04701273261508325,
          0.04701273261508325,
          0.05386875612144956,
          0.05386875612144956,
          0.05484818805093046,
          0.05484818805093046,
          0.05582761998041136,
          0.05582761998041136,
          0.061704211557296766,
          0.061704211557296766,
          0.06268364348677767,
          0.06268364348677767,
          0.06464250734573947,
          0.06464250734573947,
          0.06562193927522038,
          0.06562193927522038,
          0.06856023506366307,
          0.06856023506366307,
          0.07051909892262488,
          0.07051909892262488,
          0.07247796278158668,
          0.07247796278158668,
          0.07541625857002938,
          0.07541625857002938,
          0.07639569049951028,
          0.07639569049951028,
          0.07737512242899118,
          0.07737512242899118,
          0.07835455435847209,
          0.07835455435847209,
          0.07933398628795299,
          0.07933398628795299,
          0.08227228207639568,
          0.08227228207639568,
          0.08619000979431929,
          0.08619000979431929,
          0.0881488736532811,
          0.0881488736532811,
          0.0910871694417238,
          0.0910871694417238,
          0.0940254652301665,
          0.0940254652301665,
          0.09598432908912831,
          0.09598432908912831,
          0.09990205680705191,
          0.09990205680705191,
          0.10186092066601371,
          0.10186092066601371,
          0.10284035259549461,
          0.10284035259549461,
          0.10381978452497552,
          0.10381978452497552,
          0.10479921645445642,
          0.10479921645445642,
          0.10577864838393732,
          0.10577864838393732,
          0.10675808031341821,
          0.10675808031341821,
          0.10871694417238002,
          0.10871694417238002,
          0.10969637610186092,
          0.10969637610186092,
          0.11067580803134182,
          0.11067580803134182,
          0.11165523996082272,
          0.11165523996082272,
          0.11361410381978453,
          0.11361410381978453,
          0.11459353574926542,
          0.11459353574926542,
          0.11557296767874632,
          0.11557296767874632,
          0.11655239960822723,
          0.11655239960822723,
          0.11753183153770813,
          0.11753183153770813,
          0.11949069539666993,
          0.11949069539666993,
          0.12047012732615084,
          0.12047012732615084,
          0.12144955925563174,
          0.12144955925563174,
          0.12536728697355534,
          0.12536728697355534,
          0.12634671890303623,
          0.12634671890303623,
          0.12928501469147893,
          0.12928501469147893,
          0.13516160626836435,
          0.13516160626836435,
          0.13614103819784526,
          0.13614103819784526,
          0.13809990205680706,
          0.13809990205680706,
          0.14005876591576885,
          0.14005876591576885,
          0.14299706170421156,
          0.14299706170421156,
          0.14593535749265427,
          0.14593535749265427,
          0.14691478942213515,
          0.14691478942213515,
          0.14789422135161606,
          0.14789422135161606,
          0.14985308521057786,
          0.14985308521057786,
          0.15181194906953965,
          0.15181194906953965,
          0.15475024485798236,
          0.15475024485798236,
          0.15670910871694418,
          0.15670910871694418,
          0.15768854064642507,
          0.15768854064642507,
          0.15866797257590598,
          0.15866797257590598,
          0.16356513222331048,
          0.16356513222331048,
          0.16748285994123407,
          0.16748285994123407,
          0.1694417238001959,
          0.1694417238001959,
          0.17238001958863858,
          0.17238001958863858,
          0.1733594515181195,
          0.1733594515181195,
          0.1762977473065622,
          0.1762977473065622,
          0.1772771792360431,
          0.1772771792360431,
          0.1811949069539667,
          0.1811949069539667,
          0.1831537708129285,
          0.1831537708129285,
          0.1841332027424094,
          0.1841332027424094,
          0.1851126346718903,
          0.1851126346718903,
          0.1860920666013712,
          0.1860920666013712,
          0.19000979431929482,
          0.19000979431929482,
          0.1929480901077375,
          0.1929480901077375,
          0.19490695396669933,
          0.19490695396669933,
          0.19882468168462292,
          0.19882468168462292,
          0.2007835455435847,
          0.2007835455435847,
          0.20176297747306562,
          0.20176297747306562,
          0.20763956904995104,
          0.20763956904995104,
          0.20959843290891284,
          0.20959843290891284,
          0.21057786483839372,
          0.21057786483839372,
          0.21351616062683643,
          0.21351616062683643,
          0.21449559255631734,
          0.21449559255631734,
          0.22233104799216455,
          0.22233104799216455,
          0.22428991185112634,
          0.22428991185112634,
          0.22526934378060726,
          0.22526934378060726,
          0.22722820763956905,
          0.22722820763956905,
          0.22820763956904996,
          0.22820763956904996,
          0.23016650342801176,
          0.23016650342801176,
          0.23408423114593535,
          0.23408423114593535,
          0.23702252693437806,
          0.23702252693437806,
          0.23800195886385897,
          0.23800195886385897,
          0.23996082272282077,
          0.23996082272282077,
          0.24191968658178256,
          0.24191968658178256,
          0.24387855044074436,
          0.24387855044074436,
          0.24485798237022527,
          0.24485798237022527,
          0.24583741429970618,
          0.24583741429970618,
          0.2517140058765916,
          0.2517140058765916,
          0.2546523016650343,
          0.2546523016650343,
          0.257590597453477,
          0.257590597453477,
          0.2595494613124388,
          0.2595494613124388,
          0.2615083251714006,
          0.2615083251714006,
          0.2624877571008815,
          0.2624877571008815,
          0.2693437806072478,
          0.2693437806072478,
          0.2722820763956905,
          0.2722820763956905,
          0.2752203721841332,
          0.2752203721841332,
          0.2761998041136141,
          0.2761998041136141,
          0.2791380999020568,
          0.2791380999020568,
          0.2801175318315377,
          0.2801175318315377,
          0.2810969637610186,
          0.2810969637610186,
          0.28305582761998044,
          0.28305582761998044,
          0.2840352595494613,
          0.2840352595494613,
          0.28697355533790403,
          0.28697355533790403,
          0.2889324191968658,
          0.2889324191968658,
          0.2899118511263467,
          0.2899118511263467,
          0.2908912830558276,
          0.2908912830558276,
          0.2997061704211557,
          0.2997061704211557,
          0.30264446620959845,
          0.30264446620959845,
          0.30558276199804113,
          0.30558276199804113,
          0.30852105778648387,
          0.30852105778648387,
          0.3095004897159647,
          0.3095004897159647,
          0.31145935357492655,
          0.31145935357492655,
          0.31243878550440746,
          0.31243878550440746,
          0.31537708129285014,
          0.31537708129285014,
          0.31733594515181196,
          0.31733594515181196,
          0.31929480901077373,
          0.31929480901077373,
          0.32125367286973555,
          0.32125367286973555,
          0.3232125367286974,
          0.3232125367286974,
          0.32713026444662097,
          0.32713026444662097,
          0.3281096963761019,
          0.3281096963761019,
          0.33104799216454456,
          0.33104799216454456,
          0.34084231145935356,
          0.34084231145935356,
          0.356513222331048,
          0.356513222331048,
          0.3614103819784525,
          0.3614103819784525,
          0.3633692458374143,
          0.3633692458374143,
          0.3653281096963761,
          0.3653281096963761,
          0.3672869735553379,
          0.3672869735553379,
          0.3721841332027424,
          0.3721841332027424,
          0.37414299706170423,
          0.37414299706170423,
          0.376101860920666,
          0.376101860920666,
          0.3780607247796278,
          0.3780607247796278,
          0.37904015670910873,
          0.37904015670910873,
          0.3829578844270323,
          0.3829578844270323,
          0.38393731635651324,
          0.38393731635651324,
          0.395690499510284,
          0.395690499510284,
          0.39862879529872675,
          0.39862879529872675,
          0.4005876591576885,
          0.4005876591576885,
          0.40352595494613125,
          0.40352595494613125,
          0.40450538687561216,
          0.40450538687561216,
          0.41332027424094026,
          0.41332027424094026,
          0.41429970617042117,
          0.41429970617042117,
          0.41919686581782567,
          0.41919686581782567,
          0.42213516160626835,
          0.42213516160626835,
          0.43780607247796277,
          0.43780607247796277,
          0.4564152791380999,
          0.4564152791380999,
          0.4593535749265426,
          0.4593535749265426,
          0.4671890303623898,
          0.4671890303623898,
          0.4720861900097943,
          0.4720861900097943,
          0.47600391772771794,
          0.47600391772771794,
          0.47698334965719885,
          0.47698334965719885,
          0.48677766895200786,
          0.48677766895200786,
          0.49069539666993145,
          0.49069539666993145,
          0.4926542605288932,
          0.4926542605288932,
          0.5014691478942214,
          0.5014691478942214,
          0.5053868756121449,
          0.5053868756121449,
          0.5142017629774731,
          0.5142017629774731,
          0.5161606268364348,
          0.5161606268364348,
          0.5190989226248776,
          0.5190989226248776,
          0.5230166503428012,
          0.5230166503428012,
          0.5621939275220372,
          0.5621939275220372,
          0.5700293829578844,
          0.5700293829578844,
          0.5719882468168462,
          0.5719882468168462,
          0.5739471106758081,
          0.5739471106758081,
          0.5798237022526934,
          0.5798237022526934,
          0.5925563173359452,
          0.5925563173359452,
          0.594515181194907,
          0.594515181194907,
          0.5964740450538688,
          0.5964740450538688,
          0.614103819784525,
          0.614103819784525,
          0.6474045053868757,
          0.6474045053868757,
          0.6552399608227228,
          0.6552399608227228,
          0.7042115572967679,
          0.7042115572967679,
          0.7355533790401567,
          0.7355533790401567,
          0.7443682664054848,
          0.7463271302644466,
          0.7776689520078355,
          0.7776689520078355,
          0.7855044074436827,
          0.7855044074436827,
          0.8256611165523996,
          0.8256611165523996,
          0.920666013712047,
          0.920666013712047,
          0.9353574926542605,
          0.9353574926542605,
          1
         ],
         "xaxis": "x",
         "y": [
          0,
          0.0009532888465204957,
          0.016205910390848427,
          0.01811248808388942,
          0.05433746425166826,
          0.05624404194470925,
          0.2163965681601525,
          0.21830314585319352,
          0.3574833174451859,
          0.3593898951382269,
          0.4613918017159199,
          0.4613918017159199,
          0.4852240228789323,
          0.4852240228789323,
          0.4861773117254528,
          0.4861773117254528,
          0.49571020019065776,
          0.49571020019065776,
          0.5023832221163013,
          0.5023832221163013,
          0.5042897998093422,
          0.5042897998093422,
          0.5252621544327931,
          0.5252621544327931,
          0.5262154432793136,
          0.5281220209723546,
          0.5357483317445186,
          0.5357483317445186,
          0.550047664442326,
          0.550047664442326,
          0.5586272640610105,
          0.5586272640610105,
          0.563393708293613,
          0.563393708293613,
          0.5862726406101049,
          0.5862726406101049,
          0.5891325071496664,
          0.5910390848427073,
          0.5919923736892279,
          0.5919923736892279,
          0.5986653956148713,
          0.5986653956148713,
          0.6091515729265967,
          0.6091515729265967,
          0.6120114394661582,
          0.6120114394661582,
          0.6167778836987607,
          0.6167778836987607,
          0.6215443279313632,
          0.6215443279313632,
          0.6244041944709247,
          0.6244041944709247,
          0.6329837940896091,
          0.6329837940896091,
          0.6396568160152526,
          0.6396568160152526,
          0.6425166825548141,
          0.6425166825548141,
          0.6444232602478551,
          0.6444232602478551,
          0.6472831267874166,
          0.6472831267874166,
          0.6587225929456625,
          0.6587225929456625,
          0.6596758817921831,
          0.6596758817921831,
          0.665395614871306,
          0.665395614871306,
          0.6701620591039085,
          0.6701620591039085,
          0.6711153479504289,
          0.6711153479504289,
          0.6720686367969495,
          0.6720686367969495,
          0.6758817921830315,
          0.6758817921830315,
          0.678741658722593,
          0.678741658722593,
          0.680648236415634,
          0.680648236415634,
          0.6854146806482364,
          0.6854146806482364,
          0.6863679694947569,
          0.6863679694947569,
          0.6892278360343184,
          0.6892278360343184,
          0.6920877025738799,
          0.6920877025738799,
          0.6939942802669209,
          0.6939942802669209,
          0.6968541468064824,
          0.6968541468064824,
          0.6978074356530028,
          0.6978074356530028,
          0.6987607244995233,
          0.6987607244995233,
          0.6997140133460439,
          0.6997140133460439,
          0.7102001906577693,
          0.7102001906577693,
          0.7130600571973308,
          0.7130600571973308,
          0.7140133460438512,
          0.7140133460438512,
          0.7168732125834127,
          0.7168732125834127,
          0.7206863679694948,
          0.7206863679694948,
          0.7254528122020972,
          0.7254528122020972,
          0.7292659675881792,
          0.7292659675881792,
          0.7302192564346998,
          0.7302192564346998,
          0.7311725452812202,
          0.7311725452812202,
          0.7378455672068637,
          0.7378455672068637,
          0.7387988560533841,
          0.7387988560533841,
          0.7407054337464252,
          0.7407054337464252,
          0.7416587225929456,
          0.7416587225929456,
          0.7435653002859867,
          0.7435653002859867,
          0.7445185891325071,
          0.7445185891325071,
          0.7454718779790277,
          0.7454718779790277,
          0.7483317445185891,
          0.7483317445185891,
          0.7502383222116301,
          0.7502383222116301,
          0.7530981887511916,
          0.7530981887511916,
          0.7559580552907531,
          0.7559580552907531,
          0.7578646329837941,
          0.7578646329837941,
          0.7607244995233555,
          0.7607244995233555,
          0.7616777883698761,
          0.7616777883698761,
          0.7626310772163966,
          0.7626310772163966,
          0.7645376549094376,
          0.7645376549094376,
          0.765490943755958,
          0.765490943755958,
          0.7673975214489991,
          0.7673975214489991,
          0.7683508102955195,
          0.7683508102955195,
          0.76930409914204,
          0.76930409914204,
          0.7702573879885606,
          0.7702573879885606,
          0.773117254528122,
          0.773117254528122,
          0.778836987607245,
          0.778836987607245,
          0.7836034318398475,
          0.7836034318398475,
          0.7855100095328885,
          0.7855100095328885,
          0.7883698760724499,
          0.7883698760724499,
          0.7893231649189705,
          0.7893231649189705,
          0.7902764537654909,
          0.7902764537654909,
          0.7931363203050524,
          0.7931363203050524,
          0.7940896091515729,
          0.7940896091515729,
          0.7969494756911344,
          0.7969494756911344,
          0.7988560533841754,
          0.7988560533841754,
          0.8007626310772163,
          0.8007626310772163,
          0.8017159199237369,
          0.8017159199237369,
          0.8026692087702574,
          0.8026692087702574,
          0.8055290753098189,
          0.8055290753098189,
          0.8064823641563393,
          0.8064823641563393,
          0.8074356530028599,
          0.8074356530028599,
          0.8093422306959008,
          0.8093422306959008,
          0.8131553860819828,
          0.8131553860819828,
          0.8150619637750238,
          0.8150619637750238,
          0.8169685414680649,
          0.8169685414680649,
          0.8179218303145853,
          0.8179218303145853,
          0.8198284080076264,
          0.8198284080076264,
          0.8207816968541468,
          0.8207816968541468,
          0.8226882745471878,
          0.8226882745471878,
          0.8236415633937083,
          0.8236415633937083,
          0.8255481410867492,
          0.8255481410867492,
          0.8265014299332698,
          0.8265014299332698,
          0.8284080076263107,
          0.8284080076263107,
          0.8293612964728313,
          0.8293612964728313,
          0.8303145853193518,
          0.8303145853193518,
          0.8322211630123928,
          0.8322211630123928,
          0.8331744518589133,
          0.8331744518589133,
          0.8341277407054337,
          0.8341277407054337,
          0.8379408960915157,
          0.8379408960915157,
          0.8398474737845567,
          0.8398474737845567,
          0.8446139180171592,
          0.8446139180171592,
          0.8455672068636797,
          0.8455672068636797,
          0.8465204957102002,
          0.8465204957102002,
          0.8503336510962822,
          0.8503336510962822,
          0.8589132507149666,
          0.8589132507149666,
          0.8598665395614872,
          0.8598665395614872,
          0.8608198284080076,
          0.8608198284080076,
          0.8617731172545281,
          0.8617731172545281,
          0.86558627264061,
          0.86558627264061,
          0.8674928503336511,
          0.8674928503336511,
          0.8684461391801716,
          0.8684461391801716,
          0.871306005719733,
          0.871306005719733,
          0.8722592945662536,
          0.8722592945662536,
          0.8741658722592945,
          0.8741658722592945,
          0.8751191611058151,
          0.8751191611058151,
          0.877025738798856,
          0.877025738798856,
          0.8779790276453765,
          0.8779790276453765,
          0.880838894184938,
          0.880838894184938,
          0.8817921830314586,
          0.8817921830314586,
          0.882745471877979,
          0.882745471877979,
          0.8836987607244995,
          0.8836987607244995,
          0.8846520495710201,
          0.8846520495710201,
          0.8856053384175405,
          0.8856053384175405,
          0.886558627264061,
          0.886558627264061,
          0.888465204957102,
          0.888465204957102,
          0.892278360343184,
          0.892278360343184,
          0.894184938036225,
          0.894184938036225,
          0.8951382268827455,
          0.8951382268827455,
          0.8960915157292659,
          0.8960915157292659,
          0.897998093422307,
          0.897998093422307,
          0.90371782650143,
          0.90371782650143,
          0.9046711153479504,
          0.9046711153479504,
          0.9075309818875119,
          0.9075309818875119,
          0.9084842707340324,
          0.9084842707340324,
          0.909437559580553,
          0.909437559580553,
          0.9113441372735939,
          0.9113441372735939,
          0.9122974261201144,
          0.9122974261201144,
          0.9132507149666349,
          0.9132507149666349,
          0.9142040038131554,
          0.9142040038131554,
          0.9161105815061964,
          0.9161105815061964,
          0.9170638703527169,
          0.9170638703527169,
          0.9180171591992373,
          0.9180171591992373,
          0.9189704480457579,
          0.9189704480457579,
          0.9199237368922784,
          0.9199237368922784,
          0.9208770257387988,
          0.9208770257387988,
          0.9218303145853194,
          0.9218303145853194,
          0.9237368922783603,
          0.9237368922783603,
          0.9256434699714013,
          0.9256434699714013,
          0.9265967588179218,
          0.9265967588179218,
          0.9275500476644424,
          0.9275500476644424,
          0.9285033365109628,
          0.9285033365109628,
          0.9294566253574833,
          0.9294566253574833,
          0.9304099142040038,
          0.9304099142040038,
          0.9313632030505243,
          0.9313632030505243,
          0.9323164918970448,
          0.9323164918970448,
          0.9332697807435653,
          0.9332697807435653,
          0.9342230695900858,
          0.9342230695900858,
          0.9351763584366063,
          0.9351763584366063,
          0.9361296472831268,
          0.9361296472831268,
          0.9370829361296473,
          0.9370829361296473,
          0.9380362249761678,
          0.9380362249761678,
          0.9389895138226882,
          0.9389895138226882,
          0.9399428026692088,
          0.9399428026692088,
          0.9408960915157293,
          0.9408960915157293,
          0.9418493803622497,
          0.9418493803622497,
          0.9428026692087702,
          0.9428026692087702,
          0.9437559580552908,
          0.9437559580552908,
          0.9447092469018112,
          0.9447092469018112,
          0.9466158245948523,
          0.9466158245948523,
          0.9475691134413727,
          0.9475691134413727,
          0.9485224022878932,
          0.9485224022878932,
          0.9494756911344138,
          0.9494756911344138,
          0.9513822688274547,
          0.9513822688274547,
          0.9542421353670162,
          0.9542421353670162,
          0.9551954242135366,
          0.9551954242135366,
          0.9561487130600572,
          0.9561487130600572,
          0.9571020019065777,
          0.9571020019065777,
          0.9580552907530981,
          0.9580552907530981,
          0.9590085795996187,
          0.9590085795996187,
          0.9599618684461392,
          0.9599618684461392,
          0.9609151572926596,
          0.9609151572926596,
          0.9618684461391802,
          0.9618684461391802,
          0.9628217349857007,
          0.9628217349857007,
          0.9637750238322211,
          0.9637750238322211,
          0.9647283126787417,
          0.9647283126787417,
          0.9656816015252622,
          0.9656816015252622,
          0.9666348903717826,
          0.9666348903717826,
          0.9675881792183031,
          0.9675881792183031,
          0.9685414680648237,
          0.9685414680648237,
          0.9704480457578646,
          0.9704480457578646,
          0.9714013346043852,
          0.9714013346043852,
          0.9723546234509056,
          0.9723546234509056,
          0.9733079122974261,
          0.9733079122974261,
          0.9742612011439467,
          0.9742612011439467,
          0.9752144899904671,
          0.9752144899904671,
          0.9761677788369876,
          0.9761677788369876,
          0.9780743565300286,
          0.9780743565300286,
          0.9790276453765491,
          0.9790276453765491,
          0.9799809342230696,
          0.9799809342230696,
          0.9809342230695901,
          0.9809342230695901,
          0.9818875119161106,
          0.9818875119161106,
          0.982840800762631,
          0.982840800762631,
          0.9837940896091516,
          0.9837940896091516,
          0.9847473784556721,
          0.9847473784556721,
          0.9857006673021925,
          0.9857006673021925,
          0.9866539561487131,
          0.9866539561487131,
          0.9876072449952336,
          0.9876072449952336,
          0.988560533841754,
          0.988560533841754,
          0.9895138226882746,
          0.9895138226882746,
          0.990467111534795,
          0.990467111534795,
          0.9914204003813155,
          0.9914204003813155,
          0.9923736892278361,
          0.9923736892278361,
          0.9933269780743565,
          0.9933269780743565,
          0.994280266920877,
          0.994280266920877,
          0.9952335557673975,
          0.9952335557673975,
          0.9952335557673975,
          0.9952335557673975,
          0.996186844613918,
          0.996186844613918,
          0.9971401334604385,
          0.9971401334604385,
          0.998093422306959,
          0.998093422306959,
          0.9990467111534795,
          0.9990467111534795,
          1,
          1
         ],
         "yaxis": "y"
        }
       ],
       "layout": {
        "height": 500,
        "legend": {
         "tracegroupgap": 0
        },
        "shapes": [
         {
          "line": {
           "dash": "dash"
          },
          "type": "line",
          "x0": 0,
          "x1": 1,
          "y0": 0,
          "y1": 1
         }
        ],
        "template": {
         "data": {
          "bar": [
           {
            "error_x": {
             "color": "#2a3f5f"
            },
            "error_y": {
             "color": "#2a3f5f"
            },
            "marker": {
             "line": {
              "color": "#E5ECF6",
              "width": 0.5
             },
             "pattern": {
              "fillmode": "overlay",
              "size": 10,
              "solidity": 0.2
             }
            },
            "type": "bar"
           }
          ],
          "barpolar": [
           {
            "marker": {
             "line": {
              "color": "#E5ECF6",
              "width": 0.5
             },
             "pattern": {
              "fillmode": "overlay",
              "size": 10,
              "solidity": 0.2
             }
            },
            "type": "barpolar"
           }
          ],
          "carpet": [
           {
            "aaxis": {
             "endlinecolor": "#2a3f5f",
             "gridcolor": "white",
             "linecolor": "white",
             "minorgridcolor": "white",
             "startlinecolor": "#2a3f5f"
            },
            "baxis": {
             "endlinecolor": "#2a3f5f",
             "gridcolor": "white",
             "linecolor": "white",
             "minorgridcolor": "white",
             "startlinecolor": "#2a3f5f"
            },
            "type": "carpet"
           }
          ],
          "choropleth": [
           {
            "colorbar": {
             "outlinewidth": 0,
             "ticks": ""
            },
            "type": "choropleth"
           }
          ],
          "contour": [
           {
            "colorbar": {
             "outlinewidth": 0,
             "ticks": ""
            },
            "colorscale": [
             [
              0,
              "#0d0887"
             ],
             [
              0.1111111111111111,
              "#46039f"
             ],
             [
              0.2222222222222222,
              "#7201a8"
             ],
             [
              0.3333333333333333,
              "#9c179e"
             ],
             [
              0.4444444444444444,
              "#bd3786"
             ],
             [
              0.5555555555555556,
              "#d8576b"
             ],
             [
              0.6666666666666666,
              "#ed7953"
             ],
             [
              0.7777777777777778,
              "#fb9f3a"
             ],
             [
              0.8888888888888888,
              "#fdca26"
             ],
             [
              1,
              "#f0f921"
             ]
            ],
            "type": "contour"
           }
          ],
          "contourcarpet": [
           {
            "colorbar": {
             "outlinewidth": 0,
             "ticks": ""
            },
            "type": "contourcarpet"
           }
          ],
          "heatmap": [
           {
            "colorbar": {
             "outlinewidth": 0,
             "ticks": ""
            },
            "colorscale": [
             [
              0,
              "#0d0887"
             ],
             [
              0.1111111111111111,
              "#46039f"
             ],
             [
              0.2222222222222222,
              "#7201a8"
             ],
             [
              0.3333333333333333,
              "#9c179e"
             ],
             [
              0.4444444444444444,
              "#bd3786"
             ],
             [
              0.5555555555555556,
              "#d8576b"
             ],
             [
              0.6666666666666666,
              "#ed7953"
             ],
             [
              0.7777777777777778,
              "#fb9f3a"
             ],
             [
              0.8888888888888888,
              "#fdca26"
             ],
             [
              1,
              "#f0f921"
             ]
            ],
            "type": "heatmap"
           }
          ],
          "heatmapgl": [
           {
            "colorbar": {
             "outlinewidth": 0,
             "ticks": ""
            },
            "colorscale": [
             [
              0,
              "#0d0887"
             ],
             [
              0.1111111111111111,
              "#46039f"
             ],
             [
              0.2222222222222222,
              "#7201a8"
             ],
             [
              0.3333333333333333,
              "#9c179e"
             ],
             [
              0.4444444444444444,
              "#bd3786"
             ],
             [
              0.5555555555555556,
              "#d8576b"
             ],
             [
              0.6666666666666666,
              "#ed7953"
             ],
             [
              0.7777777777777778,
              "#fb9f3a"
             ],
             [
              0.8888888888888888,
              "#fdca26"
             ],
             [
              1,
              "#f0f921"
             ]
            ],
            "type": "heatmapgl"
           }
          ],
          "histogram": [
           {
            "marker": {
             "pattern": {
              "fillmode": "overlay",
              "size": 10,
              "solidity": 0.2
             }
            },
            "type": "histogram"
           }
          ],
          "histogram2d": [
           {
            "colorbar": {
             "outlinewidth": 0,
             "ticks": ""
            },
            "colorscale": [
             [
              0,
              "#0d0887"
             ],
             [
              0.1111111111111111,
              "#46039f"
             ],
             [
              0.2222222222222222,
              "#7201a8"
             ],
             [
              0.3333333333333333,
              "#9c179e"
             ],
             [
              0.4444444444444444,
              "#bd3786"
             ],
             [
              0.5555555555555556,
              "#d8576b"
             ],
             [
              0.6666666666666666,
              "#ed7953"
             ],
             [
              0.7777777777777778,
              "#fb9f3a"
             ],
             [
              0.8888888888888888,
              "#fdca26"
             ],
             [
              1,
              "#f0f921"
             ]
            ],
            "type": "histogram2d"
           }
          ],
          "histogram2dcontour": [
           {
            "colorbar": {
             "outlinewidth": 0,
             "ticks": ""
            },
            "colorscale": [
             [
              0,
              "#0d0887"
             ],
             [
              0.1111111111111111,
              "#46039f"
             ],
             [
              0.2222222222222222,
              "#7201a8"
             ],
             [
              0.3333333333333333,
              "#9c179e"
             ],
             [
              0.4444444444444444,
              "#bd3786"
             ],
             [
              0.5555555555555556,
              "#d8576b"
             ],
             [
              0.6666666666666666,
              "#ed7953"
             ],
             [
              0.7777777777777778,
              "#fb9f3a"
             ],
             [
              0.8888888888888888,
              "#fdca26"
             ],
             [
              1,
              "#f0f921"
             ]
            ],
            "type": "histogram2dcontour"
           }
          ],
          "mesh3d": [
           {
            "colorbar": {
             "outlinewidth": 0,
             "ticks": ""
            },
            "type": "mesh3d"
           }
          ],
          "parcoords": [
           {
            "line": {
             "colorbar": {
              "outlinewidth": 0,
              "ticks": ""
             }
            },
            "type": "parcoords"
           }
          ],
          "pie": [
           {
            "automargin": true,
            "type": "pie"
           }
          ],
          "scatter": [
           {
            "fillpattern": {
             "fillmode": "overlay",
             "size": 10,
             "solidity": 0.2
            },
            "type": "scatter"
           }
          ],
          "scatter3d": [
           {
            "line": {
             "colorbar": {
              "outlinewidth": 0,
              "ticks": ""
             }
            },
            "marker": {
             "colorbar": {
              "outlinewidth": 0,
              "ticks": ""
             }
            },
            "type": "scatter3d"
           }
          ],
          "scattercarpet": [
           {
            "marker": {
             "colorbar": {
              "outlinewidth": 0,
              "ticks": ""
             }
            },
            "type": "scattercarpet"
           }
          ],
          "scattergeo": [
           {
            "marker": {
             "colorbar": {
              "outlinewidth": 0,
              "ticks": ""
             }
            },
            "type": "scattergeo"
           }
          ],
          "scattergl": [
           {
            "marker": {
             "colorbar": {
              "outlinewidth": 0,
              "ticks": ""
             }
            },
            "type": "scattergl"
           }
          ],
          "scattermapbox": [
           {
            "marker": {
             "colorbar": {
              "outlinewidth": 0,
              "ticks": ""
             }
            },
            "type": "scattermapbox"
           }
          ],
          "scatterpolar": [
           {
            "marker": {
             "colorbar": {
              "outlinewidth": 0,
              "ticks": ""
             }
            },
            "type": "scatterpolar"
           }
          ],
          "scatterpolargl": [
           {
            "marker": {
             "colorbar": {
              "outlinewidth": 0,
              "ticks": ""
             }
            },
            "type": "scatterpolargl"
           }
          ],
          "scatterternary": [
           {
            "marker": {
             "colorbar": {
              "outlinewidth": 0,
              "ticks": ""
             }
            },
            "type": "scatterternary"
           }
          ],
          "surface": [
           {
            "colorbar": {
             "outlinewidth": 0,
             "ticks": ""
            },
            "colorscale": [
             [
              0,
              "#0d0887"
             ],
             [
              0.1111111111111111,
              "#46039f"
             ],
             [
              0.2222222222222222,
              "#7201a8"
             ],
             [
              0.3333333333333333,
              "#9c179e"
             ],
             [
              0.4444444444444444,
              "#bd3786"
             ],
             [
              0.5555555555555556,
              "#d8576b"
             ],
             [
              0.6666666666666666,
              "#ed7953"
             ],
             [
              0.7777777777777778,
              "#fb9f3a"
             ],
             [
              0.8888888888888888,
              "#fdca26"
             ],
             [
              1,
              "#f0f921"
             ]
            ],
            "type": "surface"
           }
          ],
          "table": [
           {
            "cells": {
             "fill": {
              "color": "#EBF0F8"
             },
             "line": {
              "color": "white"
             }
            },
            "header": {
             "fill": {
              "color": "#C8D4E3"
             },
             "line": {
              "color": "white"
             }
            },
            "type": "table"
           }
          ]
         },
         "layout": {
          "annotationdefaults": {
           "arrowcolor": "#2a3f5f",
           "arrowhead": 0,
           "arrowwidth": 1
          },
          "autotypenumbers": "strict",
          "coloraxis": {
           "colorbar": {
            "outlinewidth": 0,
            "ticks": ""
           }
          },
          "colorscale": {
           "diverging": [
            [
             0,
             "#8e0152"
            ],
            [
             0.1,
             "#c51b7d"
            ],
            [
             0.2,
             "#de77ae"
            ],
            [
             0.3,
             "#f1b6da"
            ],
            [
             0.4,
             "#fde0ef"
            ],
            [
             0.5,
             "#f7f7f7"
            ],
            [
             0.6,
             "#e6f5d0"
            ],
            [
             0.7,
             "#b8e186"
            ],
            [
             0.8,
             "#7fbc41"
            ],
            [
             0.9,
             "#4d9221"
            ],
            [
             1,
             "#276419"
            ]
           ],
           "sequential": [
            [
             0,
             "#0d0887"
            ],
            [
             0.1111111111111111,
             "#46039f"
            ],
            [
             0.2222222222222222,
             "#7201a8"
            ],
            [
             0.3333333333333333,
             "#9c179e"
            ],
            [
             0.4444444444444444,
             "#bd3786"
            ],
            [
             0.5555555555555556,
             "#d8576b"
            ],
            [
             0.6666666666666666,
             "#ed7953"
            ],
            [
             0.7777777777777778,
             "#fb9f3a"
            ],
            [
             0.8888888888888888,
             "#fdca26"
            ],
            [
             1,
             "#f0f921"
            ]
           ],
           "sequentialminus": [
            [
             0,
             "#0d0887"
            ],
            [
             0.1111111111111111,
             "#46039f"
            ],
            [
             0.2222222222222222,
             "#7201a8"
            ],
            [
             0.3333333333333333,
             "#9c179e"
            ],
            [
             0.4444444444444444,
             "#bd3786"
            ],
            [
             0.5555555555555556,
             "#d8576b"
            ],
            [
             0.6666666666666666,
             "#ed7953"
            ],
            [
             0.7777777777777778,
             "#fb9f3a"
            ],
            [
             0.8888888888888888,
             "#fdca26"
            ],
            [
             1,
             "#f0f921"
            ]
           ]
          },
          "colorway": [
           "#636efa",
           "#EF553B",
           "#00cc96",
           "#ab63fa",
           "#FFA15A",
           "#19d3f3",
           "#FF6692",
           "#B6E880",
           "#FF97FF",
           "#FECB52"
          ],
          "font": {
           "color": "#2a3f5f"
          },
          "geo": {
           "bgcolor": "white",
           "lakecolor": "white",
           "landcolor": "#E5ECF6",
           "showlakes": true,
           "showland": true,
           "subunitcolor": "white"
          },
          "hoverlabel": {
           "align": "left"
          },
          "hovermode": "closest",
          "mapbox": {
           "style": "light"
          },
          "paper_bgcolor": "white",
          "plot_bgcolor": "#E5ECF6",
          "polar": {
           "angularaxis": {
            "gridcolor": "white",
            "linecolor": "white",
            "ticks": ""
           },
           "bgcolor": "#E5ECF6",
           "radialaxis": {
            "gridcolor": "white",
            "linecolor": "white",
            "ticks": ""
           }
          },
          "scene": {
           "xaxis": {
            "backgroundcolor": "#E5ECF6",
            "gridcolor": "white",
            "gridwidth": 2,
            "linecolor": "white",
            "showbackground": true,
            "ticks": "",
            "zerolinecolor": "white"
           },
           "yaxis": {
            "backgroundcolor": "#E5ECF6",
            "gridcolor": "white",
            "gridwidth": 2,
            "linecolor": "white",
            "showbackground": true,
            "ticks": "",
            "zerolinecolor": "white"
           },
           "zaxis": {
            "backgroundcolor": "#E5ECF6",
            "gridcolor": "white",
            "gridwidth": 2,
            "linecolor": "white",
            "showbackground": true,
            "ticks": "",
            "zerolinecolor": "white"
           }
          },
          "shapedefaults": {
           "line": {
            "color": "#2a3f5f"
           }
          },
          "ternary": {
           "aaxis": {
            "gridcolor": "white",
            "linecolor": "white",
            "ticks": ""
           },
           "baxis": {
            "gridcolor": "white",
            "linecolor": "white",
            "ticks": ""
           },
           "bgcolor": "#E5ECF6",
           "caxis": {
            "gridcolor": "white",
            "linecolor": "white",
            "ticks": ""
           }
          },
          "title": {
           "x": 0.05
          },
          "xaxis": {
           "automargin": true,
           "gridcolor": "white",
           "linecolor": "white",
           "ticks": "",
           "title": {
            "standoff": 15
           },
           "zerolinecolor": "white",
           "zerolinewidth": 2
          },
          "yaxis": {
           "automargin": true,
           "gridcolor": "white",
           "linecolor": "white",
           "ticks": "",
           "title": {
            "standoff": 15
           },
           "zerolinecolor": "white",
           "zerolinewidth": 2
          }
         }
        },
        "title": {
         "text": "ROC Curve (AUC=0.9281)"
        },
        "width": 700,
        "xaxis": {
         "anchor": "y",
         "constrain": "domain",
         "domain": [
          0,
          1
         ],
         "title": {
          "text": "False Positive Rate"
         }
        },
        "yaxis": {
         "anchor": "x",
         "domain": [
          0,
          1
         ],
         "scaleanchor": "x",
         "scaleratio": 1,
         "title": {
          "text": "True Positive Rate"
         }
        }
       }
      }
     },
     "metadata": {},
     "output_type": "display_data"
    },
    {
     "data": {
      "image/png": "[encoded data removed]",
      "text/plain": [
       "<Figure size 640x480 with 2 Axes>"
      ]
     },
     "metadata": {},
     "output_type": "display_data"
    }
   ],
   "source": [
    "#roc auc score\n",
    "roc_auc_score(y_test, grid_clf.predict(X_test))\n",
    "\n",
    "#accuracy score\n",
    "accuracy_score(y_test, grid_clf.predict(X_test))\n",
    "\n",
    "# classification report\n",
    "print(classification_report(y_test, grid_clf.predict(X_test)))\n",
    "\n",
    "#confusion matrix\n",
    "c_matrix = confusion_matrix(y_test, grid_clf.predict(X_test))\n",
    "\n",
    "#plot confusion matrix\n",
    "sns.heatmap(c_matrix, annot=True, fmt='', cmap='Blues')\n",
    "\n",
    "#plot roc curve\n",
    "fpr, tpr, thresholds = roc_curve(y_test, grid_clf.predict_proba(X_test)[:,1])\n",
    "roc_auc = auc(fpr, tpr)\n",
    "\n",
    "fig = px.area(\n",
    "    x=fpr, y=tpr,\n",
    "    title=f'ROC Curve (AUC={roc_auc:.4f})',\n",
    "    labels=dict(x='False Positive Rate', y='True Positive Rate'),\n",
    "    width=700, height=500\n",
    ")\n",
    "fig.add_shape(\n",
    "    type='line', line=dict(dash='dash'),\n",
    "    x0=0, x1=1, y0=0, y1=1\n",
    ")\n",
    "\n",
    "fig.update_yaxes(scaleanchor=\"x\", scaleratio=1)\n",
    "fig.update_xaxes(constrain='domain')\n",
    "fig.show()\n"
   ]
  },
  {
   "cell_type": "code",
   "execution_count": 14,
   "metadata": {},
   "outputs": [
    {
     "data": {
      "application/vnd.plotly.v1+json": {
       "config": {
        "plotlyServerURL": "https://plot.ly"
       },
       "data": [
        {
         "alignmentgroup": "True",
         "hovertemplate": "index=%{x}<br>value=%{y}<br>color=%{marker.color}<extra></extra>",
         "legendgroup": "",
         "marker": {
          "color": [
           0.251030832529068,
           0.1298866719007492,
           0.10262680798768997,
           0.09673929959535599,
           0.076118104159832,
           0.06636250764131546,
           0.05500195920467377,
           0.04225974902510643,
           0.04030268266797066,
           0.04029788821935654,
           0.02458905428647995,
           0.017314568161964417,
           0.015369933098554611,
           0.014533492736518383,
           0.014404543675482273,
           0.013161945156753063
          ],
          "coloraxis": "coloraxis",
          "pattern": {
           "shape": ""
          }
         },
         "name": "",
         "offsetgroup": "",
         "orientation": "v",
         "showlegend": false,
         "textposition": "auto",
         "type": "bar",
         "x": [
          "payment_method_churn_rate",
          "device_churn_rate",
          "location_churn_rate",
          "Payment Method",
          "Games Product",
          "Call Center",
          "Device Class",
          "Tenure Months",
          "Location",
          "Music Product",
          "Education Product",
          "service_used",
          "Monthly Purchase (Thou. IDR)",
          "Use MyApp",
          "Video Product",
          "CLTV (Predicted Thou. IDR)"
         ],
         "xaxis": "x",
         "y": [
          0.251030832529068,
          0.1298866719007492,
          0.10262680798768997,
          0.09673929959535599,
          0.076118104159832,
          0.06636250764131546,
          0.05500195920467377,
          0.04225974902510643,
          0.04030268266797066,
          0.04029788821935654,
          0.02458905428647995,
          0.017314568161964417,
          0.015369933098554611,
          0.014533492736518383,
          0.014404543675482273,
          0.013161945156753063
         ],
         "yaxis": "y"
        }
       ],
       "layout": {
        "barmode": "relative",
        "coloraxis": {
         "colorbar": {
          "title": {
           "text": "color"
          }
         },
         "colorscale": [
          [
           0,
           "#0d0887"
          ],
          [
           0.1111111111111111,
           "#46039f"
          ],
          [
           0.2222222222222222,
           "#7201a8"
          ],
          [
           0.3333333333333333,
           "#9c179e"
          ],
          [
           0.4444444444444444,
           "#bd3786"
          ],
          [
           0.5555555555555556,
           "#d8576b"
          ],
          [
           0.6666666666666666,
           "#ed7953"
          ],
          [
           0.7777777777777778,
           "#fb9f3a"
          ],
          [
           0.8888888888888888,
           "#fdca26"
          ],
          [
           1,
           "#f0f921"
          ]
         ]
        },
        "legend": {
         "tracegroupgap": 0
        },
        "template": {
         "data": {
          "bar": [
           {
            "error_x": {
             "color": "#2a3f5f"
            },
            "error_y": {
             "color": "#2a3f5f"
            },
            "marker": {
             "line": {
              "color": "#E5ECF6",
              "width": 0.5
             },
             "pattern": {
              "fillmode": "overlay",
              "size": 10,
              "solidity": 0.2
             }
            },
            "type": "bar"
           }
          ],
          "barpolar": [
           {
            "marker": {
             "line": {
              "color": "#E5ECF6",
              "width": 0.5
             },
             "pattern": {
              "fillmode": "overlay",
              "size": 10,
              "solidity": 0.2
             }
            },
            "type": "barpolar"
           }
          ],
          "carpet": [
           {
            "aaxis": {
             "endlinecolor": "#2a3f5f",
             "gridcolor": "white",
             "linecolor": "white",
             "minorgridcolor": "white",
             "startlinecolor": "#2a3f5f"
            },
            "baxis": {
             "endlinecolor": "#2a3f5f",
             "gridcolor": "white",
             "linecolor": "white",
             "minorgridcolor": "white",
             "startlinecolor": "#2a3f5f"
            },
            "type": "carpet"
           }
          ],
          "choropleth": [
           {
            "colorbar": {
             "outlinewidth": 0,
             "ticks": ""
            },
            "type": "choropleth"
           }
          ],
          "contour": [
           {
            "colorbar": {
             "outlinewidth": 0,
             "ticks": ""
            },
            "colorscale": [
             [
              0,
              "#0d0887"
             ],
             [
              0.1111111111111111,
              "#46039f"
             ],
             [
              0.2222222222222222,
              "#7201a8"
             ],
             [
              0.3333333333333333,
              "#9c179e"
             ],
             [
              0.4444444444444444,
              "#bd3786"
             ],
             [
              0.5555555555555556,
              "#d8576b"
             ],
             [
              0.6666666666666666,
              "#ed7953"
             ],
             [
              0.7777777777777778,
              "#fb9f3a"
             ],
             [
              0.8888888888888888,
              "#fdca26"
             ],
             [
              1,
              "#f0f921"
             ]
            ],
            "type": "contour"
           }
          ],
          "contourcarpet": [
           {
            "colorbar": {
             "outlinewidth": 0,
             "ticks": ""
            },
            "type": "contourcarpet"
           }
          ],
          "heatmap": [
           {
            "colorbar": {
             "outlinewidth": 0,
             "ticks": ""
            },
            "colorscale": [
             [
              0,
              "#0d0887"
             ],
             [
              0.1111111111111111,
              "#46039f"
             ],
             [
              0.2222222222222222,
              "#7201a8"
             ],
             [
              0.3333333333333333,
              "#9c179e"
             ],
             [
              0.4444444444444444,
              "#bd3786"
             ],
             [
              0.5555555555555556,
              "#d8576b"
             ],
             [
              0.6666666666666666,
              "#ed7953"
             ],
             [
              0.7777777777777778,
              "#fb9f3a"
             ],
             [
              0.8888888888888888,
              "#fdca26"
             ],
             [
              1,
              "#f0f921"
             ]
            ],
            "type": "heatmap"
           }
          ],
          "heatmapgl": [
           {
            "colorbar": {
             "outlinewidth": 0,
             "ticks": ""
            },
            "colorscale": [
             [
              0,
              "#0d0887"
             ],
             [
              0.1111111111111111,
              "#46039f"
             ],
             [
              0.2222222222222222,
              "#7201a8"
             ],
             [
              0.3333333333333333,
              "#9c179e"
             ],
             [
              0.4444444444444444,
              "#bd3786"
             ],
             [
              0.5555555555555556,
              "#d8576b"
             ],
             [
              0.6666666666666666,
              "#ed7953"
             ],
             [
              0.7777777777777778,
              "#fb9f3a"
             ],
             [
              0.8888888888888888,
              "#fdca26"
             ],
             [
              1,
              "#f0f921"
             ]
            ],
            "type": "heatmapgl"
           }
          ],
          "histogram": [
           {
            "marker": {
             "pattern": {
              "fillmode": "overlay",
              "size": 10,
              "solidity": 0.2
             }
            },
            "type": "histogram"
           }
          ],
          "histogram2d": [
           {
            "colorbar": {
             "outlinewidth": 0,
             "ticks": ""
            },
            "colorscale": [
             [
              0,
              "#0d0887"
             ],
             [
              0.1111111111111111,
              "#46039f"
             ],
             [
              0.2222222222222222,
              "#7201a8"
             ],
             [
              0.3333333333333333,
              "#9c179e"
             ],
             [
              0.4444444444444444,
              "#bd3786"
             ],
             [
              0.5555555555555556,
              "#d8576b"
             ],
             [
              0.6666666666666666,
              "#ed7953"
             ],
             [
              0.7777777777777778,
              "#fb9f3a"
             ],
             [
              0.8888888888888888,
              "#fdca26"
             ],
             [
              1,
              "#f0f921"
             ]
            ],
            "type": "histogram2d"
           }
          ],
          "histogram2dcontour": [
           {
            "colorbar": {
             "outlinewidth": 0,
             "ticks": ""
            },
            "colorscale": [
             [
              0,
              "#0d0887"
             ],
             [
              0.1111111111111111,
              "#46039f"
             ],
             [
              0.2222222222222222,
              "#7201a8"
             ],
             [
              0.3333333333333333,
              "#9c179e"
             ],
             [
              0.4444444444444444,
              "#bd3786"
             ],
             [
              0.5555555555555556,
              "#d8576b"
             ],
             [
              0.6666666666666666,
              "#ed7953"
             ],
             [
              0.7777777777777778,
              "#fb9f3a"
             ],
             [
              0.8888888888888888,
              "#fdca26"
             ],
             [
              1,
              "#f0f921"
             ]
            ],
            "type": "histogram2dcontour"
           }
          ],
          "mesh3d": [
           {
            "colorbar": {
             "outlinewidth": 0,
             "ticks": ""
            },
            "type": "mesh3d"
           }
          ],
          "parcoords": [
           {
            "line": {
             "colorbar": {
              "outlinewidth": 0,
              "ticks": ""
             }
            },
            "type": "parcoords"
           }
          ],
          "pie": [
           {
            "automargin": true,
            "type": "pie"
           }
          ],
          "scatter": [
           {
            "fillpattern": {
             "fillmode": "overlay",
             "size": 10,
             "solidity": 0.2
            },
            "type": "scatter"
           }
          ],
          "scatter3d": [
           {
            "line": {
             "colorbar": {
              "outlinewidth": 0,
              "ticks": ""
             }
            },
            "marker": {
             "colorbar": {
              "outlinewidth": 0,
              "ticks": ""
             }
            },
            "type": "scatter3d"
           }
          ],
          "scattercarpet": [
           {
            "marker": {
             "colorbar": {
              "outlinewidth": 0,
              "ticks": ""
             }
            },
            "type": "scattercarpet"
           }
          ],
          "scattergeo": [
           {
            "marker": {
             "colorbar": {
              "outlinewidth": 0,
              "ticks": ""
             }
            },
            "type": "scattergeo"
           }
          ],
          "scattergl": [
           {
            "marker": {
             "colorbar": {
              "outlinewidth": 0,
              "ticks": ""
             }
            },
            "type": "scattergl"
           }
          ],
          "scattermapbox": [
           {
            "marker": {
             "colorbar": {
              "outlinewidth": 0,
              "ticks": ""
             }
            },
            "type": "scattermapbox"
           }
          ],
          "scatterpolar": [
           {
            "marker": {
             "colorbar": {
              "outlinewidth": 0,
              "ticks": ""
             }
            },
            "type": "scatterpolar"
           }
          ],
          "scatterpolargl": [
           {
            "marker": {
             "colorbar": {
              "outlinewidth": 0,
              "ticks": ""
             }
            },
            "type": "scatterpolargl"
           }
          ],
          "scatterternary": [
           {
            "marker": {
             "colorbar": {
              "outlinewidth": 0,
              "ticks": ""
             }
            },
            "type": "scatterternary"
           }
          ],
          "surface": [
           {
            "colorbar": {
             "outlinewidth": 0,
             "ticks": ""
            },
            "colorscale": [
             [
              0,
              "#0d0887"
             ],
             [
              0.1111111111111111,
              "#46039f"
             ],
             [
              0.2222222222222222,
              "#7201a8"
             ],
             [
              0.3333333333333333,
              "#9c179e"
             ],
             [
              0.4444444444444444,
              "#bd3786"
             ],
             [
              0.5555555555555556,
              "#d8576b"
             ],
             [
              0.6666666666666666,
              "#ed7953"
             ],
             [
              0.7777777777777778,
              "#fb9f3a"
             ],
             [
              0.8888888888888888,
              "#fdca26"
             ],
             [
              1,
              "#f0f921"
             ]
            ],
            "type": "surface"
           }
          ],
          "table": [
           {
            "cells": {
             "fill": {
              "color": "#EBF0F8"
             },
             "line": {
              "color": "white"
             }
            },
            "header": {
             "fill": {
              "color": "#C8D4E3"
             },
             "line": {
              "color": "white"
             }
            },
            "type": "table"
           }
          ]
         },
         "layout": {
          "annotationdefaults": {
           "arrowcolor": "#2a3f5f",
           "arrowhead": 0,
           "arrowwidth": 1
          },
          "autotypenumbers": "strict",
          "coloraxis": {
           "colorbar": {
            "outlinewidth": 0,
            "ticks": ""
           }
          },
          "colorscale": {
           "diverging": [
            [
             0,
             "#8e0152"
            ],
            [
             0.1,
             "#c51b7d"
            ],
            [
             0.2,
             "#de77ae"
            ],
            [
             0.3,
             "#f1b6da"
            ],
            [
             0.4,
             "#fde0ef"
            ],
            [
             0.5,
             "#f7f7f7"
            ],
            [
             0.6,
             "#e6f5d0"
            ],
            [
             0.7,
             "#b8e186"
            ],
            [
             0.8,
             "#7fbc41"
            ],
            [
             0.9,
             "#4d9221"
            ],
            [
             1,
             "#276419"
            ]
           ],
           "sequential": [
            [
             0,
             "#0d0887"
            ],
            [
             0.1111111111111111,
             "#46039f"
            ],
            [
             0.2222222222222222,
             "#7201a8"
            ],
            [
             0.3333333333333333,
             "#9c179e"
            ],
            [
             0.4444444444444444,
             "#bd3786"
            ],
            [
             0.5555555555555556,
             "#d8576b"
            ],
            [
             0.6666666666666666,
             "#ed7953"
            ],
            [
             0.7777777777777778,
             "#fb9f3a"
            ],
            [
             0.8888888888888888,
             "#fdca26"
            ],
            [
             1,
             "#f0f921"
            ]
           ],
           "sequentialminus": [
            [
             0,
             "#0d0887"
            ],
            [
             0.1111111111111111,
             "#46039f"
            ],
            [
             0.2222222222222222,
             "#7201a8"
            ],
            [
             0.3333333333333333,
             "#9c179e"
            ],
            [
             0.4444444444444444,
             "#bd3786"
            ],
            [
             0.5555555555555556,
             "#d8576b"
            ],
            [
             0.6666666666666666,
             "#ed7953"
            ],
            [
             0.7777777777777778,
             "#fb9f3a"
            ],
            [
             0.8888888888888888,
             "#fdca26"
            ],
            [
             1,
             "#f0f921"
            ]
           ]
          },
          "colorway": [
           "#636efa",
           "#EF553B",
           "#00cc96",
           "#ab63fa",
           "#FFA15A",
           "#19d3f3",
           "#FF6692",
           "#B6E880",
           "#FF97FF",
           "#FECB52"
          ],
          "font": {
           "color": "#2a3f5f"
          },
          "geo": {
           "bgcolor": "white",
           "lakecolor": "white",
           "landcolor": "#E5ECF6",
           "showlakes": true,
           "showland": true,
           "subunitcolor": "white"
          },
          "hoverlabel": {
           "align": "left"
          },
          "hovermode": "closest",
          "mapbox": {
           "style": "light"
          },
          "paper_bgcolor": "white",
          "plot_bgcolor": "#E5ECF6",
          "polar": {
           "angularaxis": {
            "gridcolor": "white",
            "linecolor": "white",
            "ticks": ""
           },
           "bgcolor": "#E5ECF6",
           "radialaxis": {
            "gridcolor": "white",
            "linecolor": "white",
            "ticks": ""
           }
          },
          "scene": {
           "xaxis": {
            "backgroundcolor": "#E5ECF6",
            "gridcolor": "white",
            "gridwidth": 2,
            "linecolor": "white",
            "showbackground": true,
            "ticks": "",
            "zerolinecolor": "white"
           },
           "yaxis": {
            "backgroundcolor": "#E5ECF6",
            "gridcolor": "white",
            "gridwidth": 2,
            "linecolor": "white",
            "showbackground": true,
            "ticks": "",
            "zerolinecolor": "white"
           },
           "zaxis": {
            "backgroundcolor": "#E5ECF6",
            "gridcolor": "white",
            "gridwidth": 2,
            "linecolor": "white",
            "showbackground": true,
            "ticks": "",
            "zerolinecolor": "white"
           }
          },
          "shapedefaults": {
           "line": {
            "color": "#2a3f5f"
           }
          },
          "ternary": {
           "aaxis": {
            "gridcolor": "white",
            "linecolor": "white",
            "ticks": ""
           },
           "baxis": {
            "gridcolor": "white",
            "linecolor": "white",
            "ticks": ""
           },
           "bgcolor": "#E5ECF6",
           "caxis": {
            "gridcolor": "white",
            "linecolor": "white",
            "ticks": ""
           }
          },
          "title": {
           "x": 0.05
          },
          "xaxis": {
           "automargin": true,
           "gridcolor": "white",
           "linecolor": "white",
           "ticks": "",
           "title": {
            "standoff": 15
           },
           "zerolinecolor": "white",
           "zerolinewidth": 2
          },
          "yaxis": {
           "automargin": true,
           "gridcolor": "white",
           "linecolor": "white",
           "ticks": "",
           "title": {
            "standoff": 15
           },
           "zerolinecolor": "white",
           "zerolinewidth": 2
          }
         }
        },
        "title": {
         "text": "Feature Importance"
        },
        "xaxis": {
         "anchor": "y",
         "domain": [
          0,
          1
         ],
         "title": {
          "text": "index"
         }
        },
        "yaxis": {
         "anchor": "x",
         "domain": [
          0,
          1
         ],
         "title": {
          "text": "value"
         }
        }
       }
      }
     },
     "metadata": {},
     "output_type": "display_data"
    }
   ],
   "source": [
    "# feature importance\n",
    "importance = grid_clf.best_estimator_.feature_importances_\n",
    "feature_imp = pd.Series(importance, index=X.columns).sort_values(ascending=False)\n",
    "fig = px.bar(feature_imp, color=feature_imp, title='Feature Importance')\n",
    "fig.show()"
   ]
  }
 ],
 "metadata": {
  "kernelspec": {
   "display_name": "base",
   "language": "python",
   "name": "python3"
  },
  "language_info": {
   "codemirror_mode": {
    "name": "ipython",
    "version": 3
   },
   "file_extension": ".py",
   "mimetype": "text/x-python",
   "name": "python",
   "nbconvert_exporter": "python",
   "pygments_lexer": "ipython3",
   "version": "3.10.10"
  }
 },
 "nbformat": 4,
 "nbformat_minor": 2
}
