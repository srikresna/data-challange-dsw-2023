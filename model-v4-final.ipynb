{
 "cells": [
  {
   "cell_type": "code",
   "execution_count": 76,
   "metadata": {},
   "outputs": [],
   "source": [
    "import pandas as pd\n",
    "import numpy as np\n",
    "import plotly.express as px\n",
    "import seaborn as sns\n",
    "import matplotlib.pyplot as plt\n",
    "\n",
    "from sklearn.model_selection import train_test_split, GridSearchCV\n",
    "from sklearn.preprocessing import LabelEncoder, MinMaxScaler\n",
    "from imblearn.over_sampling import SMOTE\n",
    "from sklearn.metrics import classification_report, confusion_matrix, accuracy_score, roc_auc_score, roc_curve, auc, recall_score, precision_score, f1_score\n",
    "\n",
    "from xgboost import XGBClassifier"
   ]
  },
  {
   "cell_type": "code",
   "execution_count": 10,
   "metadata": {},
   "outputs": [
    {
     "data": {
      "text/html": [
       "<div>\n",
       "<style scoped>\n",
       "    .dataframe tbody tr th:only-of-type {\n",
       "        vertical-align: middle;\n",
       "    }\n",
       "\n",
       "    .dataframe tbody tr th {\n",
       "        vertical-align: top;\n",
       "    }\n",
       "\n",
       "    .dataframe thead th {\n",
       "        text-align: right;\n",
       "    }\n",
       "</style>\n",
       "<table border=\"1\" class=\"dataframe\">\n",
       "  <thead>\n",
       "    <tr style=\"text-align: right;\">\n",
       "      <th></th>\n",
       "      <th>Customer ID</th>\n",
       "      <th>Tenure Months</th>\n",
       "      <th>Location</th>\n",
       "      <th>Device Class</th>\n",
       "      <th>Games Product</th>\n",
       "      <th>Music Product</th>\n",
       "      <th>Education Product</th>\n",
       "      <th>Call Center</th>\n",
       "      <th>Video Product</th>\n",
       "      <th>Use MyApp</th>\n",
       "      <th>...</th>\n",
       "      <th>CLTV_Category</th>\n",
       "      <th>MonthlyPurchase_Category</th>\n",
       "      <th>tenure_cltv_category</th>\n",
       "      <th>tenure_cltv_churn_rate</th>\n",
       "      <th>tenure_monthly_purchase_category</th>\n",
       "      <th>cltv_monthly_purchase_category</th>\n",
       "      <th>tenure_cltv_monthly_purchase_category</th>\n",
       "      <th>tenure_monthly_purchase_churn_rate</th>\n",
       "      <th>cltv_monthly_purchase_churn_rate</th>\n",
       "      <th>tenure_cltv_monthly_purchase_churn_rate</th>\n",
       "    </tr>\n",
       "  </thead>\n",
       "  <tbody>\n",
       "    <tr>\n",
       "      <th>0</th>\n",
       "      <td>0</td>\n",
       "      <td>2</td>\n",
       "      <td>Jakarta</td>\n",
       "      <td>Mid End</td>\n",
       "      <td>1</td>\n",
       "      <td>1</td>\n",
       "      <td>0</td>\n",
       "      <td>0</td>\n",
       "      <td>0</td>\n",
       "      <td>0</td>\n",
       "      <td>...</td>\n",
       "      <td>Low CLTV</td>\n",
       "      <td>Medium Monthly Purchase</td>\n",
       "      <td>Low Tenure Low CLTV</td>\n",
       "      <td>0.487218</td>\n",
       "      <td>Low Tenure Medium Monthly Purchase</td>\n",
       "      <td>Low CLTV Medium Monthly Purchase</td>\n",
       "      <td>Low Tenure Low CLTV Medium Monthly Purchase</td>\n",
       "      <td>0.570925</td>\n",
       "      <td>0.388945</td>\n",
       "      <td>0.553699</td>\n",
       "    </tr>\n",
       "    <tr>\n",
       "      <th>1</th>\n",
       "      <td>1</td>\n",
       "      <td>2</td>\n",
       "      <td>Jakarta</td>\n",
       "      <td>High End</td>\n",
       "      <td>0</td>\n",
       "      <td>0</td>\n",
       "      <td>0</td>\n",
       "      <td>0</td>\n",
       "      <td>0</td>\n",
       "      <td>0</td>\n",
       "      <td>...</td>\n",
       "      <td>Low CLTV</td>\n",
       "      <td>Medium Monthly Purchase</td>\n",
       "      <td>Low Tenure Low CLTV</td>\n",
       "      <td>0.487218</td>\n",
       "      <td>Low Tenure Medium Monthly Purchase</td>\n",
       "      <td>Low CLTV Medium Monthly Purchase</td>\n",
       "      <td>Low Tenure Low CLTV Medium Monthly Purchase</td>\n",
       "      <td>0.570925</td>\n",
       "      <td>0.388945</td>\n",
       "      <td>0.553699</td>\n",
       "    </tr>\n",
       "    <tr>\n",
       "      <th>2</th>\n",
       "      <td>2</td>\n",
       "      <td>8</td>\n",
       "      <td>Jakarta</td>\n",
       "      <td>High End</td>\n",
       "      <td>0</td>\n",
       "      <td>0</td>\n",
       "      <td>1</td>\n",
       "      <td>0</td>\n",
       "      <td>1</td>\n",
       "      <td>1</td>\n",
       "      <td>...</td>\n",
       "      <td>Medium CLTV</td>\n",
       "      <td>High Monthly Purchase</td>\n",
       "      <td>Low Tenure Medium CLTV</td>\n",
       "      <td>0.503417</td>\n",
       "      <td>Low Tenure High Monthly Purchase</td>\n",
       "      <td>Medium CLTV High Monthly Purchase</td>\n",
       "      <td>Low Tenure Medium CLTV High Monthly Purchase</td>\n",
       "      <td>0.747059</td>\n",
       "      <td>0.305344</td>\n",
       "      <td>0.691358</td>\n",
       "    </tr>\n",
       "    <tr>\n",
       "      <th>3</th>\n",
       "      <td>3</td>\n",
       "      <td>28</td>\n",
       "      <td>Jakarta</td>\n",
       "      <td>High End</td>\n",
       "      <td>0</td>\n",
       "      <td>0</td>\n",
       "      <td>1</td>\n",
       "      <td>1</td>\n",
       "      <td>1</td>\n",
       "      <td>1</td>\n",
       "      <td>...</td>\n",
       "      <td>Medium CLTV</td>\n",
       "      <td>High Monthly Purchase</td>\n",
       "      <td>Medium Tenure Medium CLTV</td>\n",
       "      <td>0.226968</td>\n",
       "      <td>Medium Tenure High Monthly Purchase</td>\n",
       "      <td>Medium CLTV High Monthly Purchase</td>\n",
       "      <td>Medium Tenure Medium CLTV High Monthly Purchase</td>\n",
       "      <td>0.404678</td>\n",
       "      <td>0.305344</td>\n",
       "      <td>0.380048</td>\n",
       "    </tr>\n",
       "    <tr>\n",
       "      <th>4</th>\n",
       "      <td>4</td>\n",
       "      <td>49</td>\n",
       "      <td>Jakarta</td>\n",
       "      <td>High End</td>\n",
       "      <td>0</td>\n",
       "      <td>1</td>\n",
       "      <td>1</td>\n",
       "      <td>0</td>\n",
       "      <td>1</td>\n",
       "      <td>1</td>\n",
       "      <td>...</td>\n",
       "      <td>Medium CLTV</td>\n",
       "      <td>High Monthly Purchase</td>\n",
       "      <td>Medium Tenure Medium CLTV</td>\n",
       "      <td>0.226968</td>\n",
       "      <td>Medium Tenure High Monthly Purchase</td>\n",
       "      <td>Medium CLTV High Monthly Purchase</td>\n",
       "      <td>Medium Tenure Medium CLTV High Monthly Purchase</td>\n",
       "      <td>0.404678</td>\n",
       "      <td>0.305344</td>\n",
       "      <td>0.380048</td>\n",
       "    </tr>\n",
       "  </tbody>\n",
       "</table>\n",
       "<p>5 rows × 62 columns</p>\n",
       "</div>"
      ],
      "text/plain": [
       "   Customer ID  Tenure Months Location Device Class  Games Product  \\\n",
       "0            0              2  Jakarta      Mid End              1   \n",
       "1            1              2  Jakarta     High End              0   \n",
       "2            2              8  Jakarta     High End              0   \n",
       "3            3             28  Jakarta     High End              0   \n",
       "4            4             49  Jakarta     High End              0   \n",
       "\n",
       "   Music Product  Education Product  Call Center  Video Product  Use MyApp  \\\n",
       "0              1                  0            0              0          0   \n",
       "1              0                  0            0              0          0   \n",
       "2              0                  1            0              1          1   \n",
       "3              0                  1            1              1          1   \n",
       "4              1                  1            0              1          1   \n",
       "\n",
       "   ... CLTV_Category  MonthlyPurchase_Category       tenure_cltv_category  \\\n",
       "0  ...      Low CLTV   Medium Monthly Purchase        Low Tenure Low CLTV   \n",
       "1  ...      Low CLTV   Medium Monthly Purchase        Low Tenure Low CLTV   \n",
       "2  ...   Medium CLTV     High Monthly Purchase     Low Tenure Medium CLTV   \n",
       "3  ...   Medium CLTV     High Monthly Purchase  Medium Tenure Medium CLTV   \n",
       "4  ...   Medium CLTV     High Monthly Purchase  Medium Tenure Medium CLTV   \n",
       "\n",
       "   tenure_cltv_churn_rate     tenure_monthly_purchase_category  \\\n",
       "0                0.487218   Low Tenure Medium Monthly Purchase   \n",
       "1                0.487218   Low Tenure Medium Monthly Purchase   \n",
       "2                0.503417     Low Tenure High Monthly Purchase   \n",
       "3                0.226968  Medium Tenure High Monthly Purchase   \n",
       "4                0.226968  Medium Tenure High Monthly Purchase   \n",
       "\n",
       "      cltv_monthly_purchase_category  \\\n",
       "0   Low CLTV Medium Monthly Purchase   \n",
       "1   Low CLTV Medium Monthly Purchase   \n",
       "2  Medium CLTV High Monthly Purchase   \n",
       "3  Medium CLTV High Monthly Purchase   \n",
       "4  Medium CLTV High Monthly Purchase   \n",
       "\n",
       "             tenure_cltv_monthly_purchase_category  \\\n",
       "0      Low Tenure Low CLTV Medium Monthly Purchase   \n",
       "1      Low Tenure Low CLTV Medium Monthly Purchase   \n",
       "2     Low Tenure Medium CLTV High Monthly Purchase   \n",
       "3  Medium Tenure Medium CLTV High Monthly Purchase   \n",
       "4  Medium Tenure Medium CLTV High Monthly Purchase   \n",
       "\n",
       "   tenure_monthly_purchase_churn_rate  cltv_monthly_purchase_churn_rate  \\\n",
       "0                            0.570925                          0.388945   \n",
       "1                            0.570925                          0.388945   \n",
       "2                            0.747059                          0.305344   \n",
       "3                            0.404678                          0.305344   \n",
       "4                            0.404678                          0.305344   \n",
       "\n",
       "   tenure_cltv_monthly_purchase_churn_rate  \n",
       "0                                 0.553699  \n",
       "1                                 0.553699  \n",
       "2                                 0.691358  \n",
       "3                                 0.380048  \n",
       "4                                 0.380048  \n",
       "\n",
       "[5 rows x 62 columns]"
      ]
     },
     "execution_count": 10,
     "metadata": {},
     "output_type": "execute_result"
    }
   ],
   "source": [
    "df = pd.read_excel(\"data_modified_v3.xlsx\")\n",
    "df.head()"
   ]
  },
  {
   "cell_type": "code",
   "execution_count": 11,
   "metadata": {},
   "outputs": [
    {
     "data": {
      "text/html": [
       "<div>\n",
       "<style scoped>\n",
       "    .dataframe tbody tr th:only-of-type {\n",
       "        vertical-align: middle;\n",
       "    }\n",
       "\n",
       "    .dataframe tbody tr th {\n",
       "        vertical-align: top;\n",
       "    }\n",
       "\n",
       "    .dataframe thead th {\n",
       "        text-align: right;\n",
       "    }\n",
       "</style>\n",
       "<table border=\"1\" class=\"dataframe\">\n",
       "  <thead>\n",
       "    <tr style=\"text-align: right;\">\n",
       "      <th></th>\n",
       "      <th>Tenure Months</th>\n",
       "      <th>Location</th>\n",
       "      <th>Device Class</th>\n",
       "      <th>Games Product</th>\n",
       "      <th>Music Product</th>\n",
       "      <th>Education Product</th>\n",
       "      <th>Call Center</th>\n",
       "      <th>Video Product</th>\n",
       "      <th>Use MyApp</th>\n",
       "      <th>Payment Method</th>\n",
       "      <th>...</th>\n",
       "      <th>CLTV_Category</th>\n",
       "      <th>MonthlyPurchase_Category</th>\n",
       "      <th>tenure_cltv_category</th>\n",
       "      <th>tenure_cltv_churn_rate</th>\n",
       "      <th>tenure_monthly_purchase_category</th>\n",
       "      <th>cltv_monthly_purchase_category</th>\n",
       "      <th>tenure_cltv_monthly_purchase_category</th>\n",
       "      <th>tenure_monthly_purchase_churn_rate</th>\n",
       "      <th>cltv_monthly_purchase_churn_rate</th>\n",
       "      <th>tenure_cltv_monthly_purchase_churn_rate</th>\n",
       "    </tr>\n",
       "  </thead>\n",
       "  <tbody>\n",
       "    <tr>\n",
       "      <th>0</th>\n",
       "      <td>2</td>\n",
       "      <td>Jakarta</td>\n",
       "      <td>Mid End</td>\n",
       "      <td>1</td>\n",
       "      <td>1</td>\n",
       "      <td>0</td>\n",
       "      <td>0</td>\n",
       "      <td>0</td>\n",
       "      <td>0</td>\n",
       "      <td>Digital Wallet</td>\n",
       "      <td>...</td>\n",
       "      <td>Low CLTV</td>\n",
       "      <td>Medium Monthly Purchase</td>\n",
       "      <td>Low Tenure Low CLTV</td>\n",
       "      <td>0.487218</td>\n",
       "      <td>Low Tenure Medium Monthly Purchase</td>\n",
       "      <td>Low CLTV Medium Monthly Purchase</td>\n",
       "      <td>Low Tenure Low CLTV Medium Monthly Purchase</td>\n",
       "      <td>0.570925</td>\n",
       "      <td>0.388945</td>\n",
       "      <td>0.553699</td>\n",
       "    </tr>\n",
       "    <tr>\n",
       "      <th>1</th>\n",
       "      <td>2</td>\n",
       "      <td>Jakarta</td>\n",
       "      <td>High End</td>\n",
       "      <td>0</td>\n",
       "      <td>0</td>\n",
       "      <td>0</td>\n",
       "      <td>0</td>\n",
       "      <td>0</td>\n",
       "      <td>0</td>\n",
       "      <td>Pulsa</td>\n",
       "      <td>...</td>\n",
       "      <td>Low CLTV</td>\n",
       "      <td>Medium Monthly Purchase</td>\n",
       "      <td>Low Tenure Low CLTV</td>\n",
       "      <td>0.487218</td>\n",
       "      <td>Low Tenure Medium Monthly Purchase</td>\n",
       "      <td>Low CLTV Medium Monthly Purchase</td>\n",
       "      <td>Low Tenure Low CLTV Medium Monthly Purchase</td>\n",
       "      <td>0.570925</td>\n",
       "      <td>0.388945</td>\n",
       "      <td>0.553699</td>\n",
       "    </tr>\n",
       "    <tr>\n",
       "      <th>2</th>\n",
       "      <td>8</td>\n",
       "      <td>Jakarta</td>\n",
       "      <td>High End</td>\n",
       "      <td>0</td>\n",
       "      <td>0</td>\n",
       "      <td>1</td>\n",
       "      <td>0</td>\n",
       "      <td>1</td>\n",
       "      <td>1</td>\n",
       "      <td>Pulsa</td>\n",
       "      <td>...</td>\n",
       "      <td>Medium CLTV</td>\n",
       "      <td>High Monthly Purchase</td>\n",
       "      <td>Low Tenure Medium CLTV</td>\n",
       "      <td>0.503417</td>\n",
       "      <td>Low Tenure High Monthly Purchase</td>\n",
       "      <td>Medium CLTV High Monthly Purchase</td>\n",
       "      <td>Low Tenure Medium CLTV High Monthly Purchase</td>\n",
       "      <td>0.747059</td>\n",
       "      <td>0.305344</td>\n",
       "      <td>0.691358</td>\n",
       "    </tr>\n",
       "    <tr>\n",
       "      <th>3</th>\n",
       "      <td>28</td>\n",
       "      <td>Jakarta</td>\n",
       "      <td>High End</td>\n",
       "      <td>0</td>\n",
       "      <td>0</td>\n",
       "      <td>1</td>\n",
       "      <td>1</td>\n",
       "      <td>1</td>\n",
       "      <td>1</td>\n",
       "      <td>Pulsa</td>\n",
       "      <td>...</td>\n",
       "      <td>Medium CLTV</td>\n",
       "      <td>High Monthly Purchase</td>\n",
       "      <td>Medium Tenure Medium CLTV</td>\n",
       "      <td>0.226968</td>\n",
       "      <td>Medium Tenure High Monthly Purchase</td>\n",
       "      <td>Medium CLTV High Monthly Purchase</td>\n",
       "      <td>Medium Tenure Medium CLTV High Monthly Purchase</td>\n",
       "      <td>0.404678</td>\n",
       "      <td>0.305344</td>\n",
       "      <td>0.380048</td>\n",
       "    </tr>\n",
       "    <tr>\n",
       "      <th>4</th>\n",
       "      <td>49</td>\n",
       "      <td>Jakarta</td>\n",
       "      <td>High End</td>\n",
       "      <td>0</td>\n",
       "      <td>1</td>\n",
       "      <td>1</td>\n",
       "      <td>0</td>\n",
       "      <td>1</td>\n",
       "      <td>1</td>\n",
       "      <td>Debit</td>\n",
       "      <td>...</td>\n",
       "      <td>Medium CLTV</td>\n",
       "      <td>High Monthly Purchase</td>\n",
       "      <td>Medium Tenure Medium CLTV</td>\n",
       "      <td>0.226968</td>\n",
       "      <td>Medium Tenure High Monthly Purchase</td>\n",
       "      <td>Medium CLTV High Monthly Purchase</td>\n",
       "      <td>Medium Tenure Medium CLTV High Monthly Purchase</td>\n",
       "      <td>0.404678</td>\n",
       "      <td>0.305344</td>\n",
       "      <td>0.380048</td>\n",
       "    </tr>\n",
       "  </tbody>\n",
       "</table>\n",
       "<p>5 rows × 59 columns</p>\n",
       "</div>"
      ],
      "text/plain": [
       "   Tenure Months Location Device Class  Games Product  Music Product  \\\n",
       "0              2  Jakarta      Mid End              1              1   \n",
       "1              2  Jakarta     High End              0              0   \n",
       "2              8  Jakarta     High End              0              0   \n",
       "3             28  Jakarta     High End              0              0   \n",
       "4             49  Jakarta     High End              0              1   \n",
       "\n",
       "   Education Product  Call Center  Video Product  Use MyApp  Payment Method  \\\n",
       "0                  0            0              0          0  Digital Wallet   \n",
       "1                  0            0              0          0           Pulsa   \n",
       "2                  1            0              1          1           Pulsa   \n",
       "3                  1            1              1          1           Pulsa   \n",
       "4                  1            0              1          1           Debit   \n",
       "\n",
       "   ...  CLTV_Category  MonthlyPurchase_Category       tenure_cltv_category  \\\n",
       "0  ...       Low CLTV   Medium Monthly Purchase        Low Tenure Low CLTV   \n",
       "1  ...       Low CLTV   Medium Monthly Purchase        Low Tenure Low CLTV   \n",
       "2  ...    Medium CLTV     High Monthly Purchase     Low Tenure Medium CLTV   \n",
       "3  ...    Medium CLTV     High Monthly Purchase  Medium Tenure Medium CLTV   \n",
       "4  ...    Medium CLTV     High Monthly Purchase  Medium Tenure Medium CLTV   \n",
       "\n",
       "   tenure_cltv_churn_rate     tenure_monthly_purchase_category  \\\n",
       "0                0.487218   Low Tenure Medium Monthly Purchase   \n",
       "1                0.487218   Low Tenure Medium Monthly Purchase   \n",
       "2                0.503417     Low Tenure High Monthly Purchase   \n",
       "3                0.226968  Medium Tenure High Monthly Purchase   \n",
       "4                0.226968  Medium Tenure High Monthly Purchase   \n",
       "\n",
       "      cltv_monthly_purchase_category  \\\n",
       "0   Low CLTV Medium Monthly Purchase   \n",
       "1   Low CLTV Medium Monthly Purchase   \n",
       "2  Medium CLTV High Monthly Purchase   \n",
       "3  Medium CLTV High Monthly Purchase   \n",
       "4  Medium CLTV High Monthly Purchase   \n",
       "\n",
       "             tenure_cltv_monthly_purchase_category  \\\n",
       "0      Low Tenure Low CLTV Medium Monthly Purchase   \n",
       "1      Low Tenure Low CLTV Medium Monthly Purchase   \n",
       "2     Low Tenure Medium CLTV High Monthly Purchase   \n",
       "3  Medium Tenure Medium CLTV High Monthly Purchase   \n",
       "4  Medium Tenure Medium CLTV High Monthly Purchase   \n",
       "\n",
       "   tenure_monthly_purchase_churn_rate  cltv_monthly_purchase_churn_rate  \\\n",
       "0                            0.570925                          0.388945   \n",
       "1                            0.570925                          0.388945   \n",
       "2                            0.747059                          0.305344   \n",
       "3                            0.404678                          0.305344   \n",
       "4                            0.404678                          0.305344   \n",
       "\n",
       "   tenure_cltv_monthly_purchase_churn_rate  \n",
       "0                                 0.553699  \n",
       "1                                 0.553699  \n",
       "2                                 0.691358  \n",
       "3                                 0.380048  \n",
       "4                                 0.380048  \n",
       "\n",
       "[5 rows x 59 columns]"
      ]
     },
     "execution_count": 11,
     "metadata": {},
     "output_type": "execute_result"
    }
   ],
   "source": [
    "df.drop([\"Customer ID\", \"Latitude\", \"Longitude\"], axis=1, inplace=True)\n",
    "df.head()"
   ]
  },
  {
   "cell_type": "code",
   "execution_count": 12,
   "metadata": {},
   "outputs": [
    {
     "data": {
      "text/plain": [
       "Index(['Tenure Months', 'Location', 'Device Class', 'Games Product',\n",
       "       'Music Product', 'Education Product', 'Call Center', 'Video Product',\n",
       "       'Use MyApp', 'Payment Method', 'Monthly Purchase (Thou. IDR)',\n",
       "       'Churn Label', 'CLTV (Predicted Thou. IDR)', 'service_used',\n",
       "       'payment_method_churn_rate', 'location_churn_rate', 'device_churn_rate',\n",
       "       'games_churn_rate', 'music_churn_rate', 'education_churn_rate',\n",
       "       'call_center_churn_rate', 'video_churn_rate', 'myapp_churn_rate',\n",
       "       'service_used_churn_rate', 'device_games_churn_rate',\n",
       "       'device_music_churn_rate', 'device_education_churn_rate',\n",
       "       'device_call_center_churn_rate', 'device_video_churn_rate',\n",
       "       'device_myapp_churn_rate', 'device_service_churn_rate',\n",
       "       'device_location_churn_rate', 'device_payment_method_churn_rate',\n",
       "       'location_device_payment_method_churn_rate',\n",
       "       'location_device_payment_method_service_churn_rate',\n",
       "       'location_device_payment_method_games_churn_rate',\n",
       "       'location_device_payment_method_music_churn_rate',\n",
       "       'location_device_payment_method_education_churn_rate',\n",
       "       'location_device_payment_method_call_center_churn_rate',\n",
       "       'location_device_payment_method_video_churn_rate',\n",
       "       'location_device_payment_method_myapp_churn_rate',\n",
       "       'location_device_payment_method_monthly_purchase_churn_rate',\n",
       "       'location_device_payment_method_monthly_purchase_games_churn_rate',\n",
       "       'location_device_payment_method_monthly_purchase_music_churn_rate',\n",
       "       'location_device_payment_method_monthly_purchase_education_churn_rate',\n",
       "       'location_device_payment_method_monthly_purchase_call_center_churn_rate',\n",
       "       'location_device_payment_method_monthly_purchase_video_churn_rate',\n",
       "       'location_device_payment_method_monthly_purchase_myapp_churn_rate',\n",
       "       'Tenure_Category', 'CLTV_Category', 'MonthlyPurchase_Category',\n",
       "       'tenure_cltv_category', 'tenure_cltv_churn_rate',\n",
       "       'tenure_monthly_purchase_category', 'cltv_monthly_purchase_category',\n",
       "       'tenure_cltv_monthly_purchase_category',\n",
       "       'tenure_monthly_purchase_churn_rate',\n",
       "       'cltv_monthly_purchase_churn_rate',\n",
       "       'tenure_cltv_monthly_purchase_churn_rate'],\n",
       "      dtype='object')"
      ]
     },
     "execution_count": 12,
     "metadata": {},
     "output_type": "execute_result"
    }
   ],
   "source": [
    "df.columns"
   ]
  },
  {
   "cell_type": "code",
   "execution_count": 13,
   "metadata": {},
   "outputs": [
    {
     "data": {
      "text/plain": [
       "Tenure Months                                                               int64\n",
       "Location                                                                   object\n",
       "Device Class                                                               object\n",
       "Games Product                                                               int64\n",
       "Music Product                                                               int64\n",
       "Education Product                                                           int64\n",
       "Call Center                                                                 int64\n",
       "Video Product                                                               int64\n",
       "Use MyApp                                                                   int64\n",
       "Payment Method                                                             object\n",
       "Monthly Purchase (Thou. IDR)                                              float64\n",
       "Churn Label                                                                 int64\n",
       "CLTV (Predicted Thou. IDR)                                                float64\n",
       "service_used                                                                int64\n",
       "payment_method_churn_rate                                                 float64\n",
       "location_churn_rate                                                       float64\n",
       "device_churn_rate                                                         float64\n",
       "games_churn_rate                                                          float64\n",
       "music_churn_rate                                                          float64\n",
       "education_churn_rate                                                      float64\n",
       "call_center_churn_rate                                                    float64\n",
       "video_churn_rate                                                          float64\n",
       "myapp_churn_rate                                                          float64\n",
       "service_used_churn_rate                                                   float64\n",
       "device_games_churn_rate                                                   float64\n",
       "device_music_churn_rate                                                   float64\n",
       "device_education_churn_rate                                               float64\n",
       "device_call_center_churn_rate                                             float64\n",
       "device_video_churn_rate                                                   float64\n",
       "device_myapp_churn_rate                                                   float64\n",
       "device_service_churn_rate                                                 float64\n",
       "device_location_churn_rate                                                float64\n",
       "device_payment_method_churn_rate                                          float64\n",
       "location_device_payment_method_churn_rate                                 float64\n",
       "location_device_payment_method_service_churn_rate                         float64\n",
       "location_device_payment_method_games_churn_rate                           float64\n",
       "location_device_payment_method_music_churn_rate                           float64\n",
       "location_device_payment_method_education_churn_rate                       float64\n",
       "location_device_payment_method_call_center_churn_rate                     float64\n",
       "location_device_payment_method_video_churn_rate                           float64\n",
       "location_device_payment_method_myapp_churn_rate                           float64\n",
       "location_device_payment_method_monthly_purchase_churn_rate                float64\n",
       "location_device_payment_method_monthly_purchase_games_churn_rate          float64\n",
       "location_device_payment_method_monthly_purchase_music_churn_rate          float64\n",
       "location_device_payment_method_monthly_purchase_education_churn_rate      float64\n",
       "location_device_payment_method_monthly_purchase_call_center_churn_rate    float64\n",
       "location_device_payment_method_monthly_purchase_video_churn_rate          float64\n",
       "location_device_payment_method_monthly_purchase_myapp_churn_rate          float64\n",
       "Tenure_Category                                                            object\n",
       "CLTV_Category                                                              object\n",
       "MonthlyPurchase_Category                                                   object\n",
       "tenure_cltv_category                                                       object\n",
       "tenure_cltv_churn_rate                                                    float64\n",
       "tenure_monthly_purchase_category                                           object\n",
       "cltv_monthly_purchase_category                                             object\n",
       "tenure_cltv_monthly_purchase_category                                      object\n",
       "tenure_monthly_purchase_churn_rate                                        float64\n",
       "cltv_monthly_purchase_churn_rate                                          float64\n",
       "tenure_cltv_monthly_purchase_churn_rate                                   float64\n",
       "dtype: object"
      ]
     },
     "execution_count": 13,
     "metadata": {},
     "output_type": "execute_result"
    }
   ],
   "source": [
    "df.dtypes"
   ]
  },
  {
   "cell_type": "code",
   "execution_count": 45,
   "metadata": {},
   "outputs": [],
   "source": [
    "# scaler = MinMaxScaler()\n",
    "# need_scaled = ['Tenure Months', 'Monthly Purchase (Thou. IDR)', 'CLTV (Predicted Thou. IDR)']\n",
    "\n",
    "# df[need_scaled] = scaler.fit_transform(df[need_scaled])\n",
    "# df.head()\n",
    "\n",
    "\n",
    "\n",
    "# commented out because the accuracy is lower than the original"
   ]
  },
  {
   "cell_type": "code",
   "execution_count": 17,
   "metadata": {},
   "outputs": [],
   "source": [
    "def encode_data(df):\n",
    "    if df.dtype == \"object\":\n",
    "        le = LabelEncoder()\n",
    "        df = le.fit_transform(df)\n",
    "    return df"
   ]
  },
  {
   "cell_type": "code",
   "execution_count": 18,
   "metadata": {},
   "outputs": [
    {
     "data": {
      "text/html": [
       "<div>\n",
       "<style scoped>\n",
       "    .dataframe tbody tr th:only-of-type {\n",
       "        vertical-align: middle;\n",
       "    }\n",
       "\n",
       "    .dataframe tbody tr th {\n",
       "        vertical-align: top;\n",
       "    }\n",
       "\n",
       "    .dataframe thead th {\n",
       "        text-align: right;\n",
       "    }\n",
       "</style>\n",
       "<table border=\"1\" class=\"dataframe\">\n",
       "  <thead>\n",
       "    <tr style=\"text-align: right;\">\n",
       "      <th></th>\n",
       "      <th>Tenure Months</th>\n",
       "      <th>Location</th>\n",
       "      <th>Device Class</th>\n",
       "      <th>Games Product</th>\n",
       "      <th>Music Product</th>\n",
       "      <th>Education Product</th>\n",
       "      <th>Call Center</th>\n",
       "      <th>Video Product</th>\n",
       "      <th>Use MyApp</th>\n",
       "      <th>Payment Method</th>\n",
       "      <th>...</th>\n",
       "      <th>CLTV_Category</th>\n",
       "      <th>MonthlyPurchase_Category</th>\n",
       "      <th>tenure_cltv_category</th>\n",
       "      <th>tenure_cltv_churn_rate</th>\n",
       "      <th>tenure_monthly_purchase_category</th>\n",
       "      <th>cltv_monthly_purchase_category</th>\n",
       "      <th>tenure_cltv_monthly_purchase_category</th>\n",
       "      <th>tenure_monthly_purchase_churn_rate</th>\n",
       "      <th>cltv_monthly_purchase_churn_rate</th>\n",
       "      <th>tenure_cltv_monthly_purchase_churn_rate</th>\n",
       "    </tr>\n",
       "  </thead>\n",
       "  <tbody>\n",
       "    <tr>\n",
       "      <th>0</th>\n",
       "      <td>2</td>\n",
       "      <td>1</td>\n",
       "      <td>2</td>\n",
       "      <td>1</td>\n",
       "      <td>1</td>\n",
       "      <td>0</td>\n",
       "      <td>0</td>\n",
       "      <td>0</td>\n",
       "      <td>0</td>\n",
       "      <td>2</td>\n",
       "      <td>...</td>\n",
       "      <td>1</td>\n",
       "      <td>2</td>\n",
       "      <td>3</td>\n",
       "      <td>0.487218</td>\n",
       "      <td>5</td>\n",
       "      <td>5</td>\n",
       "      <td>11</td>\n",
       "      <td>0.570925</td>\n",
       "      <td>0.388945</td>\n",
       "      <td>0.553699</td>\n",
       "    </tr>\n",
       "    <tr>\n",
       "      <th>1</th>\n",
       "      <td>2</td>\n",
       "      <td>1</td>\n",
       "      <td>0</td>\n",
       "      <td>0</td>\n",
       "      <td>0</td>\n",
       "      <td>0</td>\n",
       "      <td>0</td>\n",
       "      <td>0</td>\n",
       "      <td>0</td>\n",
       "      <td>3</td>\n",
       "      <td>...</td>\n",
       "      <td>1</td>\n",
       "      <td>2</td>\n",
       "      <td>3</td>\n",
       "      <td>0.487218</td>\n",
       "      <td>5</td>\n",
       "      <td>5</td>\n",
       "      <td>11</td>\n",
       "      <td>0.570925</td>\n",
       "      <td>0.388945</td>\n",
       "      <td>0.553699</td>\n",
       "    </tr>\n",
       "    <tr>\n",
       "      <th>2</th>\n",
       "      <td>8</td>\n",
       "      <td>1</td>\n",
       "      <td>0</td>\n",
       "      <td>0</td>\n",
       "      <td>0</td>\n",
       "      <td>1</td>\n",
       "      <td>0</td>\n",
       "      <td>1</td>\n",
       "      <td>1</td>\n",
       "      <td>3</td>\n",
       "      <td>...</td>\n",
       "      <td>2</td>\n",
       "      <td>0</td>\n",
       "      <td>4</td>\n",
       "      <td>0.503417</td>\n",
       "      <td>3</td>\n",
       "      <td>6</td>\n",
       "      <td>12</td>\n",
       "      <td>0.747059</td>\n",
       "      <td>0.305344</td>\n",
       "      <td>0.691358</td>\n",
       "    </tr>\n",
       "    <tr>\n",
       "      <th>3</th>\n",
       "      <td>28</td>\n",
       "      <td>1</td>\n",
       "      <td>0</td>\n",
       "      <td>0</td>\n",
       "      <td>0</td>\n",
       "      <td>1</td>\n",
       "      <td>1</td>\n",
       "      <td>1</td>\n",
       "      <td>1</td>\n",
       "      <td>3</td>\n",
       "      <td>...</td>\n",
       "      <td>2</td>\n",
       "      <td>0</td>\n",
       "      <td>7</td>\n",
       "      <td>0.226968</td>\n",
       "      <td>6</td>\n",
       "      <td>6</td>\n",
       "      <td>21</td>\n",
       "      <td>0.404678</td>\n",
       "      <td>0.305344</td>\n",
       "      <td>0.380048</td>\n",
       "    </tr>\n",
       "    <tr>\n",
       "      <th>4</th>\n",
       "      <td>49</td>\n",
       "      <td>1</td>\n",
       "      <td>0</td>\n",
       "      <td>0</td>\n",
       "      <td>1</td>\n",
       "      <td>1</td>\n",
       "      <td>0</td>\n",
       "      <td>1</td>\n",
       "      <td>1</td>\n",
       "      <td>1</td>\n",
       "      <td>...</td>\n",
       "      <td>2</td>\n",
       "      <td>0</td>\n",
       "      <td>7</td>\n",
       "      <td>0.226968</td>\n",
       "      <td>6</td>\n",
       "      <td>6</td>\n",
       "      <td>21</td>\n",
       "      <td>0.404678</td>\n",
       "      <td>0.305344</td>\n",
       "      <td>0.380048</td>\n",
       "    </tr>\n",
       "  </tbody>\n",
       "</table>\n",
       "<p>5 rows × 59 columns</p>\n",
       "</div>"
      ],
      "text/plain": [
       "   Tenure Months  Location  Device Class  Games Product  Music Product  \\\n",
       "0              2         1             2              1              1   \n",
       "1              2         1             0              0              0   \n",
       "2              8         1             0              0              0   \n",
       "3             28         1             0              0              0   \n",
       "4             49         1             0              0              1   \n",
       "\n",
       "   Education Product  Call Center  Video Product  Use MyApp  Payment Method  \\\n",
       "0                  0            0              0          0               2   \n",
       "1                  0            0              0          0               3   \n",
       "2                  1            0              1          1               3   \n",
       "3                  1            1              1          1               3   \n",
       "4                  1            0              1          1               1   \n",
       "\n",
       "   ...  CLTV_Category  MonthlyPurchase_Category  tenure_cltv_category  \\\n",
       "0  ...              1                         2                     3   \n",
       "1  ...              1                         2                     3   \n",
       "2  ...              2                         0                     4   \n",
       "3  ...              2                         0                     7   \n",
       "4  ...              2                         0                     7   \n",
       "\n",
       "   tenure_cltv_churn_rate  tenure_monthly_purchase_category  \\\n",
       "0                0.487218                                 5   \n",
       "1                0.487218                                 5   \n",
       "2                0.503417                                 3   \n",
       "3                0.226968                                 6   \n",
       "4                0.226968                                 6   \n",
       "\n",
       "   cltv_monthly_purchase_category  tenure_cltv_monthly_purchase_category  \\\n",
       "0                               5                                     11   \n",
       "1                               5                                     11   \n",
       "2                               6                                     12   \n",
       "3                               6                                     21   \n",
       "4                               6                                     21   \n",
       "\n",
       "   tenure_monthly_purchase_churn_rate  cltv_monthly_purchase_churn_rate  \\\n",
       "0                            0.570925                          0.388945   \n",
       "1                            0.570925                          0.388945   \n",
       "2                            0.747059                          0.305344   \n",
       "3                            0.404678                          0.305344   \n",
       "4                            0.404678                          0.305344   \n",
       "\n",
       "   tenure_cltv_monthly_purchase_churn_rate  \n",
       "0                                 0.553699  \n",
       "1                                 0.553699  \n",
       "2                                 0.691358  \n",
       "3                                 0.380048  \n",
       "4                                 0.380048  \n",
       "\n",
       "[5 rows x 59 columns]"
      ]
     },
     "execution_count": 18,
     "metadata": {},
     "output_type": "execute_result"
    }
   ],
   "source": [
    "df = df.apply(lambda x: encode_data(x))\n",
    "df.head()"
   ]
  },
  {
   "cell_type": "code",
   "execution_count": 19,
   "metadata": {},
   "outputs": [
    {
     "data": {
      "application/vnd.plotly.v1+json": {
       "config": {
        "plotlyServerURL": "https://plot.ly"
       },
       "data": [
        {
         "alignmentgroup": "True",
         "hovertemplate": "index=%{x}<br>value=%{marker.color}<extra></extra>",
         "legendgroup": "",
         "marker": {
          "color": [
           1,
           0.8934473758903069,
           0.8901806879242976,
           0.8876202228538322,
           0.8867895353434457,
           0.8820573720285994,
           0.8810423499417699,
           0.8574815359871544,
           0.46161097251312205,
           0.44560425176636015,
           0.44298883397458494,
           0.436058308751542,
           0.4330341712680651,
           0.4232712228096937,
           0.4197118523401494,
           0.415876102152685,
           0.4002724595243154,
           0.4002305543000951,
           0.3932709601735403,
           0.3921581570698293,
           0.3909039892182715,
           0.388401044378396,
           0.3701356884979285,
           0.36282095955366944,
           0.34781029924156026,
           0.3312750670972554,
           0.3310826618046119,
           0.32334443830943077,
           0.3224545552123071,
           0.3033586255540694,
           0.2628182020893582,
           0.24439965907023084,
           0.2356014044955555,
           0.193356422237854,
           0.17122629194854305,
           0.16467355590159502,
           0.08909024363832924,
           0.08755880225180761,
           0.08225486893814055,
           0.07950539276780169,
           0.07880888745429984,
           0.06615979128028708,
           0.06322774611876471,
           0.06322774611875864,
           0.0613815480151869,
           0.06138154801518587,
           0.029627795250987698,
           0.025397572233346793,
           0.018087971608749212,
           0.008596374123943925,
           -0.008596374123850607,
           -0.06615979128029065,
           -0.08225486893814218,
           -0.0876981271195637,
           -0.12746310171745023,
           -0.16467355590159374,
           -0.171226291948553,
           -0.2408097340138934,
           -0.352228670113079
          ],
          "coloraxis": "coloraxis",
          "pattern": {
           "shape": ""
          }
         },
         "name": "",
         "offsetgroup": "",
         "orientation": "v",
         "showlegend": false,
         "textposition": "auto",
         "type": "bar",
         "x": [
          "Churn Label",
          "location_device_payment_method_monthly_purchase_music_churn_rate",
          "location_device_payment_method_monthly_purchase_games_churn_rate",
          "location_device_payment_method_monthly_purchase_education_churn_rate",
          "location_device_payment_method_monthly_purchase_call_center_churn_rate",
          "location_device_payment_method_monthly_purchase_myapp_churn_rate",
          "location_device_payment_method_monthly_purchase_video_churn_rate",
          "location_device_payment_method_monthly_purchase_churn_rate",
          "location_device_payment_method_service_churn_rate",
          "tenure_cltv_monthly_purchase_churn_rate",
          "tenure_monthly_purchase_churn_rate",
          "location_device_payment_method_games_churn_rate",
          "location_device_payment_method_call_center_churn_rate",
          "location_device_payment_method_music_churn_rate",
          "device_service_churn_rate",
          "location_device_payment_method_education_churn_rate",
          "location_device_payment_method_video_churn_rate",
          "location_device_payment_method_myapp_churn_rate",
          "location_device_payment_method_churn_rate",
          "device_payment_method_churn_rate",
          "device_games_churn_rate",
          "device_call_center_churn_rate",
          "device_music_churn_rate",
          "device_education_churn_rate",
          "tenure_cltv_churn_rate",
          "device_video_churn_rate",
          "device_myapp_churn_rate",
          "device_location_churn_rate",
          "device_churn_rate",
          "payment_method_churn_rate",
          "Payment Method",
          "cltv_monthly_purchase_churn_rate",
          "service_used_churn_rate",
          "Monthly Purchase (Thou. IDR)",
          "games_churn_rate",
          "call_center_churn_rate",
          "Tenure_Category",
          "tenure_monthly_purchase_category",
          "music_churn_rate",
          "tenure_cltv_monthly_purchase_category",
          "tenure_cltv_category",
          "education_churn_rate",
          "video_churn_rate",
          "Video Product",
          "Use MyApp",
          "myapp_churn_rate",
          "cltv_monthly_purchase_category",
          "CLTV_Category",
          "MonthlyPurchase_Category",
          "location_churn_rate",
          "Location",
          "Education Product",
          "Music Product",
          "service_used",
          "CLTV (Predicted Thou. IDR)",
          "Call Center",
          "Games Product",
          "Device Class",
          "Tenure Months"
         ],
         "xaxis": "x",
         "y": [
          1,
          0.8934473758903069,
          0.8901806879242976,
          0.8876202228538322,
          0.8867895353434457,
          0.8820573720285994,
          0.8810423499417699,
          0.8574815359871544,
          0.46161097251312205,
          0.44560425176636015,
          0.44298883397458494,
          0.436058308751542,
          0.4330341712680651,
          0.4232712228096937,
          0.4197118523401494,
          0.415876102152685,
          0.4002724595243154,
          0.4002305543000951,
          0.3932709601735403,
          0.3921581570698293,
          0.3909039892182715,
          0.388401044378396,
          0.3701356884979285,
          0.36282095955366944,
          0.34781029924156026,
          0.3312750670972554,
          0.3310826618046119,
          0.32334443830943077,
          0.3224545552123071,
          0.3033586255540694,
          0.2628182020893582,
          0.24439965907023084,
          0.2356014044955555,
          0.193356422237854,
          0.17122629194854305,
          0.16467355590159502,
          0.08909024363832924,
          0.08755880225180761,
          0.08225486893814055,
          0.07950539276780169,
          0.07880888745429984,
          0.06615979128028708,
          0.06322774611876471,
          0.06322774611875864,
          0.0613815480151869,
          0.06138154801518587,
          0.029627795250987698,
          0.025397572233346793,
          0.018087971608749212,
          0.008596374123943925,
          -0.008596374123850607,
          -0.06615979128029065,
          -0.08225486893814218,
          -0.0876981271195637,
          -0.12746310171745023,
          -0.16467355590159374,
          -0.171226291948553,
          -0.2408097340138934,
          -0.352228670113079
         ],
         "yaxis": "y"
        }
       ],
       "layout": {
        "barmode": "relative",
        "coloraxis": {
         "colorbar": {
          "title": {
           "text": "value"
          }
         },
         "colorscale": [
          [
           0,
           "#0d0887"
          ],
          [
           0.1111111111111111,
           "#46039f"
          ],
          [
           0.2222222222222222,
           "#7201a8"
          ],
          [
           0.3333333333333333,
           "#9c179e"
          ],
          [
           0.4444444444444444,
           "#bd3786"
          ],
          [
           0.5555555555555556,
           "#d8576b"
          ],
          [
           0.6666666666666666,
           "#ed7953"
          ],
          [
           0.7777777777777778,
           "#fb9f3a"
          ],
          [
           0.8888888888888888,
           "#fdca26"
          ],
          [
           1,
           "#f0f921"
          ]
         ]
        },
        "legend": {
         "tracegroupgap": 0
        },
        "margin": {
         "t": 60
        },
        "template": {
         "data": {
          "bar": [
           {
            "error_x": {
             "color": "#2a3f5f"
            },
            "error_y": {
             "color": "#2a3f5f"
            },
            "marker": {
             "line": {
              "color": "#E5ECF6",
              "width": 0.5
             },
             "pattern": {
              "fillmode": "overlay",
              "size": 10,
              "solidity": 0.2
             }
            },
            "type": "bar"
           }
          ],
          "barpolar": [
           {
            "marker": {
             "line": {
              "color": "#E5ECF6",
              "width": 0.5
             },
             "pattern": {
              "fillmode": "overlay",
              "size": 10,
              "solidity": 0.2
             }
            },
            "type": "barpolar"
           }
          ],
          "carpet": [
           {
            "aaxis": {
             "endlinecolor": "#2a3f5f",
             "gridcolor": "white",
             "linecolor": "white",
             "minorgridcolor": "white",
             "startlinecolor": "#2a3f5f"
            },
            "baxis": {
             "endlinecolor": "#2a3f5f",
             "gridcolor": "white",
             "linecolor": "white",
             "minorgridcolor": "white",
             "startlinecolor": "#2a3f5f"
            },
            "type": "carpet"
           }
          ],
          "choropleth": [
           {
            "colorbar": {
             "outlinewidth": 0,
             "ticks": ""
            },
            "type": "choropleth"
           }
          ],
          "contour": [
           {
            "colorbar": {
             "outlinewidth": 0,
             "ticks": ""
            },
            "colorscale": [
             [
              0,
              "#0d0887"
             ],
             [
              0.1111111111111111,
              "#46039f"
             ],
             [
              0.2222222222222222,
              "#7201a8"
             ],
             [
              0.3333333333333333,
              "#9c179e"
             ],
             [
              0.4444444444444444,
              "#bd3786"
             ],
             [
              0.5555555555555556,
              "#d8576b"
             ],
             [
              0.6666666666666666,
              "#ed7953"
             ],
             [
              0.7777777777777778,
              "#fb9f3a"
             ],
             [
              0.8888888888888888,
              "#fdca26"
             ],
             [
              1,
              "#f0f921"
             ]
            ],
            "type": "contour"
           }
          ],
          "contourcarpet": [
           {
            "colorbar": {
             "outlinewidth": 0,
             "ticks": ""
            },
            "type": "contourcarpet"
           }
          ],
          "heatmap": [
           {
            "colorbar": {
             "outlinewidth": 0,
             "ticks": ""
            },
            "colorscale": [
             [
              0,
              "#0d0887"
             ],
             [
              0.1111111111111111,
              "#46039f"
             ],
             [
              0.2222222222222222,
              "#7201a8"
             ],
             [
              0.3333333333333333,
              "#9c179e"
             ],
             [
              0.4444444444444444,
              "#bd3786"
             ],
             [
              0.5555555555555556,
              "#d8576b"
             ],
             [
              0.6666666666666666,
              "#ed7953"
             ],
             [
              0.7777777777777778,
              "#fb9f3a"
             ],
             [
              0.8888888888888888,
              "#fdca26"
             ],
             [
              1,
              "#f0f921"
             ]
            ],
            "type": "heatmap"
           }
          ],
          "heatmapgl": [
           {
            "colorbar": {
             "outlinewidth": 0,
             "ticks": ""
            },
            "colorscale": [
             [
              0,
              "#0d0887"
             ],
             [
              0.1111111111111111,
              "#46039f"
             ],
             [
              0.2222222222222222,
              "#7201a8"
             ],
             [
              0.3333333333333333,
              "#9c179e"
             ],
             [
              0.4444444444444444,
              "#bd3786"
             ],
             [
              0.5555555555555556,
              "#d8576b"
             ],
             [
              0.6666666666666666,
              "#ed7953"
             ],
             [
              0.7777777777777778,
              "#fb9f3a"
             ],
             [
              0.8888888888888888,
              "#fdca26"
             ],
             [
              1,
              "#f0f921"
             ]
            ],
            "type": "heatmapgl"
           }
          ],
          "histogram": [
           {
            "marker": {
             "pattern": {
              "fillmode": "overlay",
              "size": 10,
              "solidity": 0.2
             }
            },
            "type": "histogram"
           }
          ],
          "histogram2d": [
           {
            "colorbar": {
             "outlinewidth": 0,
             "ticks": ""
            },
            "colorscale": [
             [
              0,
              "#0d0887"
             ],
             [
              0.1111111111111111,
              "#46039f"
             ],
             [
              0.2222222222222222,
              "#7201a8"
             ],
             [
              0.3333333333333333,
              "#9c179e"
             ],
             [
              0.4444444444444444,
              "#bd3786"
             ],
             [
              0.5555555555555556,
              "#d8576b"
             ],
             [
              0.6666666666666666,
              "#ed7953"
             ],
             [
              0.7777777777777778,
              "#fb9f3a"
             ],
             [
              0.8888888888888888,
              "#fdca26"
             ],
             [
              1,
              "#f0f921"
             ]
            ],
            "type": "histogram2d"
           }
          ],
          "histogram2dcontour": [
           {
            "colorbar": {
             "outlinewidth": 0,
             "ticks": ""
            },
            "colorscale": [
             [
              0,
              "#0d0887"
             ],
             [
              0.1111111111111111,
              "#46039f"
             ],
             [
              0.2222222222222222,
              "#7201a8"
             ],
             [
              0.3333333333333333,
              "#9c179e"
             ],
             [
              0.4444444444444444,
              "#bd3786"
             ],
             [
              0.5555555555555556,
              "#d8576b"
             ],
             [
              0.6666666666666666,
              "#ed7953"
             ],
             [
              0.7777777777777778,
              "#fb9f3a"
             ],
             [
              0.8888888888888888,
              "#fdca26"
             ],
             [
              1,
              "#f0f921"
             ]
            ],
            "type": "histogram2dcontour"
           }
          ],
          "mesh3d": [
           {
            "colorbar": {
             "outlinewidth": 0,
             "ticks": ""
            },
            "type": "mesh3d"
           }
          ],
          "parcoords": [
           {
            "line": {
             "colorbar": {
              "outlinewidth": 0,
              "ticks": ""
             }
            },
            "type": "parcoords"
           }
          ],
          "pie": [
           {
            "automargin": true,
            "type": "pie"
           }
          ],
          "scatter": [
           {
            "fillpattern": {
             "fillmode": "overlay",
             "size": 10,
             "solidity": 0.2
            },
            "type": "scatter"
           }
          ],
          "scatter3d": [
           {
            "line": {
             "colorbar": {
              "outlinewidth": 0,
              "ticks": ""
             }
            },
            "marker": {
             "colorbar": {
              "outlinewidth": 0,
              "ticks": ""
             }
            },
            "type": "scatter3d"
           }
          ],
          "scattercarpet": [
           {
            "marker": {
             "colorbar": {
              "outlinewidth": 0,
              "ticks": ""
             }
            },
            "type": "scattercarpet"
           }
          ],
          "scattergeo": [
           {
            "marker": {
             "colorbar": {
              "outlinewidth": 0,
              "ticks": ""
             }
            },
            "type": "scattergeo"
           }
          ],
          "scattergl": [
           {
            "marker": {
             "colorbar": {
              "outlinewidth": 0,
              "ticks": ""
             }
            },
            "type": "scattergl"
           }
          ],
          "scattermapbox": [
           {
            "marker": {
             "colorbar": {
              "outlinewidth": 0,
              "ticks": ""
             }
            },
            "type": "scattermapbox"
           }
          ],
          "scatterpolar": [
           {
            "marker": {
             "colorbar": {
              "outlinewidth": 0,
              "ticks": ""
             }
            },
            "type": "scatterpolar"
           }
          ],
          "scatterpolargl": [
           {
            "marker": {
             "colorbar": {
              "outlinewidth": 0,
              "ticks": ""
             }
            },
            "type": "scatterpolargl"
           }
          ],
          "scatterternary": [
           {
            "marker": {
             "colorbar": {
              "outlinewidth": 0,
              "ticks": ""
             }
            },
            "type": "scatterternary"
           }
          ],
          "surface": [
           {
            "colorbar": {
             "outlinewidth": 0,
             "ticks": ""
            },
            "colorscale": [
             [
              0,
              "#0d0887"
             ],
             [
              0.1111111111111111,
              "#46039f"
             ],
             [
              0.2222222222222222,
              "#7201a8"
             ],
             [
              0.3333333333333333,
              "#9c179e"
             ],
             [
              0.4444444444444444,
              "#bd3786"
             ],
             [
              0.5555555555555556,
              "#d8576b"
             ],
             [
              0.6666666666666666,
              "#ed7953"
             ],
             [
              0.7777777777777778,
              "#fb9f3a"
             ],
             [
              0.8888888888888888,
              "#fdca26"
             ],
             [
              1,
              "#f0f921"
             ]
            ],
            "type": "surface"
           }
          ],
          "table": [
           {
            "cells": {
             "fill": {
              "color": "#EBF0F8"
             },
             "line": {
              "color": "white"
             }
            },
            "header": {
             "fill": {
              "color": "#C8D4E3"
             },
             "line": {
              "color": "white"
             }
            },
            "type": "table"
           }
          ]
         },
         "layout": {
          "annotationdefaults": {
           "arrowcolor": "#2a3f5f",
           "arrowhead": 0,
           "arrowwidth": 1
          },
          "autotypenumbers": "strict",
          "coloraxis": {
           "colorbar": {
            "outlinewidth": 0,
            "ticks": ""
           }
          },
          "colorscale": {
           "diverging": [
            [
             0,
             "#8e0152"
            ],
            [
             0.1,
             "#c51b7d"
            ],
            [
             0.2,
             "#de77ae"
            ],
            [
             0.3,
             "#f1b6da"
            ],
            [
             0.4,
             "#fde0ef"
            ],
            [
             0.5,
             "#f7f7f7"
            ],
            [
             0.6,
             "#e6f5d0"
            ],
            [
             0.7,
             "#b8e186"
            ],
            [
             0.8,
             "#7fbc41"
            ],
            [
             0.9,
             "#4d9221"
            ],
            [
             1,
             "#276419"
            ]
           ],
           "sequential": [
            [
             0,
             "#0d0887"
            ],
            [
             0.1111111111111111,
             "#46039f"
            ],
            [
             0.2222222222222222,
             "#7201a8"
            ],
            [
             0.3333333333333333,
             "#9c179e"
            ],
            [
             0.4444444444444444,
             "#bd3786"
            ],
            [
             0.5555555555555556,
             "#d8576b"
            ],
            [
             0.6666666666666666,
             "#ed7953"
            ],
            [
             0.7777777777777778,
             "#fb9f3a"
            ],
            [
             0.8888888888888888,
             "#fdca26"
            ],
            [
             1,
             "#f0f921"
            ]
           ],
           "sequentialminus": [
            [
             0,
             "#0d0887"
            ],
            [
             0.1111111111111111,
             "#46039f"
            ],
            [
             0.2222222222222222,
             "#7201a8"
            ],
            [
             0.3333333333333333,
             "#9c179e"
            ],
            [
             0.4444444444444444,
             "#bd3786"
            ],
            [
             0.5555555555555556,
             "#d8576b"
            ],
            [
             0.6666666666666666,
             "#ed7953"
            ],
            [
             0.7777777777777778,
             "#fb9f3a"
            ],
            [
             0.8888888888888888,
             "#fdca26"
            ],
            [
             1,
             "#f0f921"
            ]
           ]
          },
          "colorway": [
           "#636efa",
           "#EF553B",
           "#00cc96",
           "#ab63fa",
           "#FFA15A",
           "#19d3f3",
           "#FF6692",
           "#B6E880",
           "#FF97FF",
           "#FECB52"
          ],
          "font": {
           "color": "#2a3f5f"
          },
          "geo": {
           "bgcolor": "white",
           "lakecolor": "white",
           "landcolor": "#E5ECF6",
           "showlakes": true,
           "showland": true,
           "subunitcolor": "white"
          },
          "hoverlabel": {
           "align": "left"
          },
          "hovermode": "closest",
          "mapbox": {
           "style": "light"
          },
          "paper_bgcolor": "white",
          "plot_bgcolor": "#E5ECF6",
          "polar": {
           "angularaxis": {
            "gridcolor": "white",
            "linecolor": "white",
            "ticks": ""
           },
           "bgcolor": "#E5ECF6",
           "radialaxis": {
            "gridcolor": "white",
            "linecolor": "white",
            "ticks": ""
           }
          },
          "scene": {
           "xaxis": {
            "backgroundcolor": "#E5ECF6",
            "gridcolor": "white",
            "gridwidth": 2,
            "linecolor": "white",
            "showbackground": true,
            "ticks": "",
            "zerolinecolor": "white"
           },
           "yaxis": {
            "backgroundcolor": "#E5ECF6",
            "gridcolor": "white",
            "gridwidth": 2,
            "linecolor": "white",
            "showbackground": true,
            "ticks": "",
            "zerolinecolor": "white"
           },
           "zaxis": {
            "backgroundcolor": "#E5ECF6",
            "gridcolor": "white",
            "gridwidth": 2,
            "linecolor": "white",
            "showbackground": true,
            "ticks": "",
            "zerolinecolor": "white"
           }
          },
          "shapedefaults": {
           "line": {
            "color": "#2a3f5f"
           }
          },
          "ternary": {
           "aaxis": {
            "gridcolor": "white",
            "linecolor": "white",
            "ticks": ""
           },
           "baxis": {
            "gridcolor": "white",
            "linecolor": "white",
            "ticks": ""
           },
           "bgcolor": "#E5ECF6",
           "caxis": {
            "gridcolor": "white",
            "linecolor": "white",
            "ticks": ""
           }
          },
          "title": {
           "x": 0.05
          },
          "xaxis": {
           "automargin": true,
           "gridcolor": "white",
           "linecolor": "white",
           "ticks": "",
           "title": {
            "standoff": 15
           },
           "zerolinecolor": "white",
           "zerolinewidth": 2
          },
          "yaxis": {
           "automargin": true,
           "gridcolor": "white",
           "linecolor": "white",
           "ticks": "",
           "title": {
            "standoff": 15
           },
           "zerolinecolor": "white",
           "zerolinewidth": 2
          }
         }
        },
        "xaxis": {
         "anchor": "y",
         "domain": [
          0,
          1
         ],
         "title": {
          "text": "index"
         }
        },
        "yaxis": {
         "anchor": "x",
         "domain": [
          0,
          1
         ],
         "title": {
          "text": "value"
         }
        }
       }
      }
     },
     "metadata": {},
     "output_type": "display_data"
    }
   ],
   "source": [
    "fig = px.bar(df.corr()['Churn Label'].sort_values(ascending = False),\n",
    "             color = 'value')\n",
    "fig.show()"
   ]
  },
  {
   "cell_type": "code",
   "execution_count": 70,
   "metadata": {},
   "outputs": [],
   "source": [
    "over = SMOTE(sampling_strategy=1)\n",
    "\n",
    "X = df.drop([\"Churn Label\"], axis=1)\n",
    "y = df[\"Churn Label\"]"
   ]
  },
  {
   "cell_type": "code",
   "execution_count": 71,
   "metadata": {},
   "outputs": [],
   "source": [
    "X, y = over.fit_resample(X, y)"
   ]
  },
  {
   "cell_type": "code",
   "execution_count": 72,
   "metadata": {},
   "outputs": [
    {
     "data": {
      "text/plain": [
       "((8278, 58), (2070, 58), (8278,), (2070,))"
      ]
     },
     "execution_count": 72,
     "metadata": {},
     "output_type": "execute_result"
    }
   ],
   "source": [
    "X_train, X_test, y_train, y_test = train_test_split(X, y, test_size=0.2)\n",
    "X_train.shape, X_test.shape, y_train.shape, y_test.shape"
   ]
  },
  {
   "cell_type": "code",
   "execution_count": 79,
   "metadata": {},
   "outputs": [],
   "source": [
    "def model(method, x_train, y_train, x_test, y_test):\n",
    "    # Train the model\n",
    "    method.fit(x_train, y_train)\n",
    "    \n",
    "    # Make predictions on test data and calculate confusion matrix\n",
    "    predictions = method.predict(x_test)\n",
    "    c_matrix = confusion_matrix(y_test, predictions)\n",
    "    \n",
    "    # Calculate label percentages and create label strings with counts and percentages\n",
    "    percentages = (c_matrix / np.sum(c_matrix, axis=1)[:, np.newaxis]).round(2) * 100\n",
    "    labels = [[f\"{c_matrix[i, j]} ({percentages[i, j]:.2f}%)\" for j in range(c_matrix.shape[1])] for i in range(c_matrix.shape[0])]\n",
    "    labels = np.asarray(labels)\n",
    "    \n",
    "    # Plot confusion matrix with labeled counts and percentages\n",
    "    sns.heatmap(c_matrix, annot=labels, fmt='', cmap='Blues')\n",
    "    \n",
    "    # Evaluate model performance and print results\n",
    "    print(\"Training Accuracy: \", '{:.2%}'.format(method.score(x_train, y_train)))\n",
    "    print(\"Testing Accuracy: \", '{:.2%}'.format(method.score(x_test, y_test)))\n",
    "    print(\"ROC AUC TRAINING SCORE: \", '{:.2%}'.format(roc_auc_score(y_train, method.predict(x_train))))\n",
    "    print(\"ROC AUC TEST SCORE: \", '{:.2%}'.format(roc_auc_score(y_test, predictions)))\n",
    "    print(\"Model accuracy: \", '{:.2%}'.format(accuracy_score(y_test, predictions)))\n",
    "    print(\"Recall Test: \", '{:.2%}'.format(recall_score(y_test, predictions)))\n",
    "    print(\"Precision Test: \", '{:.2%}'.format(precision_score(y_test, predictions)))\n",
    "    print(\"F1 Score Test: \", '{:.2%}'.format(f1_score(y_test, predictions)))\n",
    "    print(classification_report(y_test, predictions))\n",
    "\n",
    "    # Plot ROC curve and calculate AUC metric\n",
    "\n",
    "    false_positive_rate, true_positive_rate, threshold = roc_curve(y_test, predictions)\n",
    "    auc_score = auc(false_positive_rate, true_positive_rate)\n",
    "    fig = px.area(\n",
    "        x = false_positive_rate,\n",
    "        y = true_positive_rate,\n",
    "        title=f'ROC Curve (AUC={auc_score:.4f})',\n",
    "        labels=dict(x='False Positive Rate', y='True Positive Rate'),\n",
    "        width=700, height=500\n",
    "    )\n",
    "    fig.add_shape(\n",
    "        type='line', line=dict(dash='dash'),\n",
    "        x0=0, x1=1, y0=0, y1=1\n",
    "    )\n",
    "    fig.update_yaxes(scaleanchor=\"x\", scaleratio=1)\n",
    "    fig.update_xaxes(constrain='domain')\n",
    "    fig.show()\n",
    "    \n",
    "    \n"
   ]
  },
  {
   "cell_type": "code",
   "execution_count": 80,
   "metadata": {},
   "outputs": [
    {
     "name": "stdout",
     "output_type": "stream",
     "text": [
      "Training Accuracy:  100.00%\n",
      "Testing Accuracy:  97.54%\n",
      "ROC AUC TRAINING SCORE:  100.00%\n",
      "ROC AUC TEST SCORE:  97.54%\n",
      "Model accuracy:  97.54%\n",
      "Recall Test:  97.87%\n",
      "Precision Test:  97.22%\n",
      "F1 Score Test:  97.54%\n",
      "              precision    recall  f1-score   support\n",
      "\n",
      "           0       0.98      0.97      0.98      1035\n",
      "           1       0.97      0.98      0.98      1035\n",
      "\n",
      "    accuracy                           0.98      2070\n",
      "   macro avg       0.98      0.98      0.98      2070\n",
      "weighted avg       0.98      0.98      0.98      2070\n",
      "\n"
     ]
    },
    {
     "data": {
      "application/vnd.plotly.v1+json": {
       "config": {
        "plotlyServerURL": "https://plot.ly"
       },
       "data": [
        {
         "fillpattern": {
          "shape": ""
         },
         "hovertemplate": "False Positive Rate=%{x}<br>True Positive Rate=%{y}<extra></extra>",
         "legendgroup": "",
         "line": {
          "color": "#636efa"
         },
         "marker": {
          "symbol": "circle"
         },
         "mode": "lines",
         "name": "",
         "orientation": "v",
         "showlegend": false,
         "stackgroup": "1",
         "type": "scatter",
         "x": [
          0,
          0.028019323671497585,
          1
         ],
         "xaxis": "x",
         "y": [
          0,
          0.978743961352657,
          1
         ],
         "yaxis": "y"
        }
       ],
       "layout": {
        "height": 500,
        "legend": {
         "tracegroupgap": 0
        },
        "shapes": [
         {
          "line": {
           "dash": "dash"
          },
          "type": "line",
          "x0": 0,
          "x1": 1,
          "y0": 0,
          "y1": 1
         }
        ],
        "template": {
         "data": {
          "bar": [
           {
            "error_x": {
             "color": "#2a3f5f"
            },
            "error_y": {
             "color": "#2a3f5f"
            },
            "marker": {
             "line": {
              "color": "#E5ECF6",
              "width": 0.5
             },
             "pattern": {
              "fillmode": "overlay",
              "size": 10,
              "solidity": 0.2
             }
            },
            "type": "bar"
           }
          ],
          "barpolar": [
           {
            "marker": {
             "line": {
              "color": "#E5ECF6",
              "width": 0.5
             },
             "pattern": {
              "fillmode": "overlay",
              "size": 10,
              "solidity": 0.2
             }
            },
            "type": "barpolar"
           }
          ],
          "carpet": [
           {
            "aaxis": {
             "endlinecolor": "#2a3f5f",
             "gridcolor": "white",
             "linecolor": "white",
             "minorgridcolor": "white",
             "startlinecolor": "#2a3f5f"
            },
            "baxis": {
             "endlinecolor": "#2a3f5f",
             "gridcolor": "white",
             "linecolor": "white",
             "minorgridcolor": "white",
             "startlinecolor": "#2a3f5f"
            },
            "type": "carpet"
           }
          ],
          "choropleth": [
           {
            "colorbar": {
             "outlinewidth": 0,
             "ticks": ""
            },
            "type": "choropleth"
           }
          ],
          "contour": [
           {
            "colorbar": {
             "outlinewidth": 0,
             "ticks": ""
            },
            "colorscale": [
             [
              0,
              "#0d0887"
             ],
             [
              0.1111111111111111,
              "#46039f"
             ],
             [
              0.2222222222222222,
              "#7201a8"
             ],
             [
              0.3333333333333333,
              "#9c179e"
             ],
             [
              0.4444444444444444,
              "#bd3786"
             ],
             [
              0.5555555555555556,
              "#d8576b"
             ],
             [
              0.6666666666666666,
              "#ed7953"
             ],
             [
              0.7777777777777778,
              "#fb9f3a"
             ],
             [
              0.8888888888888888,
              "#fdca26"
             ],
             [
              1,
              "#f0f921"
             ]
            ],
            "type": "contour"
           }
          ],
          "contourcarpet": [
           {
            "colorbar": {
             "outlinewidth": 0,
             "ticks": ""
            },
            "type": "contourcarpet"
           }
          ],
          "heatmap": [
           {
            "colorbar": {
             "outlinewidth": 0,
             "ticks": ""
            },
            "colorscale": [
             [
              0,
              "#0d0887"
             ],
             [
              0.1111111111111111,
              "#46039f"
             ],
             [
              0.2222222222222222,
              "#7201a8"
             ],
             [
              0.3333333333333333,
              "#9c179e"
             ],
             [
              0.4444444444444444,
              "#bd3786"
             ],
             [
              0.5555555555555556,
              "#d8576b"
             ],
             [
              0.6666666666666666,
              "#ed7953"
             ],
             [
              0.7777777777777778,
              "#fb9f3a"
             ],
             [
              0.8888888888888888,
              "#fdca26"
             ],
             [
              1,
              "#f0f921"
             ]
            ],
            "type": "heatmap"
           }
          ],
          "heatmapgl": [
           {
            "colorbar": {
             "outlinewidth": 0,
             "ticks": ""
            },
            "colorscale": [
             [
              0,
              "#0d0887"
             ],
             [
              0.1111111111111111,
              "#46039f"
             ],
             [
              0.2222222222222222,
              "#7201a8"
             ],
             [
              0.3333333333333333,
              "#9c179e"
             ],
             [
              0.4444444444444444,
              "#bd3786"
             ],
             [
              0.5555555555555556,
              "#d8576b"
             ],
             [
              0.6666666666666666,
              "#ed7953"
             ],
             [
              0.7777777777777778,
              "#fb9f3a"
             ],
             [
              0.8888888888888888,
              "#fdca26"
             ],
             [
              1,
              "#f0f921"
             ]
            ],
            "type": "heatmapgl"
           }
          ],
          "histogram": [
           {
            "marker": {
             "pattern": {
              "fillmode": "overlay",
              "size": 10,
              "solidity": 0.2
             }
            },
            "type": "histogram"
           }
          ],
          "histogram2d": [
           {
            "colorbar": {
             "outlinewidth": 0,
             "ticks": ""
            },
            "colorscale": [
             [
              0,
              "#0d0887"
             ],
             [
              0.1111111111111111,
              "#46039f"
             ],
             [
              0.2222222222222222,
              "#7201a8"
             ],
             [
              0.3333333333333333,
              "#9c179e"
             ],
             [
              0.4444444444444444,
              "#bd3786"
             ],
             [
              0.5555555555555556,
              "#d8576b"
             ],
             [
              0.6666666666666666,
              "#ed7953"
             ],
             [
              0.7777777777777778,
              "#fb9f3a"
             ],
             [
              0.8888888888888888,
              "#fdca26"
             ],
             [
              1,
              "#f0f921"
             ]
            ],
            "type": "histogram2d"
           }
          ],
          "histogram2dcontour": [
           {
            "colorbar": {
             "outlinewidth": 0,
             "ticks": ""
            },
            "colorscale": [
             [
              0,
              "#0d0887"
             ],
             [
              0.1111111111111111,
              "#46039f"
             ],
             [
              0.2222222222222222,
              "#7201a8"
             ],
             [
              0.3333333333333333,
              "#9c179e"
             ],
             [
              0.4444444444444444,
              "#bd3786"
             ],
             [
              0.5555555555555556,
              "#d8576b"
             ],
             [
              0.6666666666666666,
              "#ed7953"
             ],
             [
              0.7777777777777778,
              "#fb9f3a"
             ],
             [
              0.8888888888888888,
              "#fdca26"
             ],
             [
              1,
              "#f0f921"
             ]
            ],
            "type": "histogram2dcontour"
           }
          ],
          "mesh3d": [
           {
            "colorbar": {
             "outlinewidth": 0,
             "ticks": ""
            },
            "type": "mesh3d"
           }
          ],
          "parcoords": [
           {
            "line": {
             "colorbar": {
              "outlinewidth": 0,
              "ticks": ""
             }
            },
            "type": "parcoords"
           }
          ],
          "pie": [
           {
            "automargin": true,
            "type": "pie"
           }
          ],
          "scatter": [
           {
            "fillpattern": {
             "fillmode": "overlay",
             "size": 10,
             "solidity": 0.2
            },
            "type": "scatter"
           }
          ],
          "scatter3d": [
           {
            "line": {
             "colorbar": {
              "outlinewidth": 0,
              "ticks": ""
             }
            },
            "marker": {
             "colorbar": {
              "outlinewidth": 0,
              "ticks": ""
             }
            },
            "type": "scatter3d"
           }
          ],
          "scattercarpet": [
           {
            "marker": {
             "colorbar": {
              "outlinewidth": 0,
              "ticks": ""
             }
            },
            "type": "scattercarpet"
           }
          ],
          "scattergeo": [
           {
            "marker": {
             "colorbar": {
              "outlinewidth": 0,
              "ticks": ""
             }
            },
            "type": "scattergeo"
           }
          ],
          "scattergl": [
           {
            "marker": {
             "colorbar": {
              "outlinewidth": 0,
              "ticks": ""
             }
            },
            "type": "scattergl"
           }
          ],
          "scattermapbox": [
           {
            "marker": {
             "colorbar": {
              "outlinewidth": 0,
              "ticks": ""
             }
            },
            "type": "scattermapbox"
           }
          ],
          "scatterpolar": [
           {
            "marker": {
             "colorbar": {
              "outlinewidth": 0,
              "ticks": ""
             }
            },
            "type": "scatterpolar"
           }
          ],
          "scatterpolargl": [
           {
            "marker": {
             "colorbar": {
              "outlinewidth": 0,
              "ticks": ""
             }
            },
            "type": "scatterpolargl"
           }
          ],
          "scatterternary": [
           {
            "marker": {
             "colorbar": {
              "outlinewidth": 0,
              "ticks": ""
             }
            },
            "type": "scatterternary"
           }
          ],
          "surface": [
           {
            "colorbar": {
             "outlinewidth": 0,
             "ticks": ""
            },
            "colorscale": [
             [
              0,
              "#0d0887"
             ],
             [
              0.1111111111111111,
              "#46039f"
             ],
             [
              0.2222222222222222,
              "#7201a8"
             ],
             [
              0.3333333333333333,
              "#9c179e"
             ],
             [
              0.4444444444444444,
              "#bd3786"
             ],
             [
              0.5555555555555556,
              "#d8576b"
             ],
             [
              0.6666666666666666,
              "#ed7953"
             ],
             [
              0.7777777777777778,
              "#fb9f3a"
             ],
             [
              0.8888888888888888,
              "#fdca26"
             ],
             [
              1,
              "#f0f921"
             ]
            ],
            "type": "surface"
           }
          ],
          "table": [
           {
            "cells": {
             "fill": {
              "color": "#EBF0F8"
             },
             "line": {
              "color": "white"
             }
            },
            "header": {
             "fill": {
              "color": "#C8D4E3"
             },
             "line": {
              "color": "white"
             }
            },
            "type": "table"
           }
          ]
         },
         "layout": {
          "annotationdefaults": {
           "arrowcolor": "#2a3f5f",
           "arrowhead": 0,
           "arrowwidth": 1
          },
          "autotypenumbers": "strict",
          "coloraxis": {
           "colorbar": {
            "outlinewidth": 0,
            "ticks": ""
           }
          },
          "colorscale": {
           "diverging": [
            [
             0,
             "#8e0152"
            ],
            [
             0.1,
             "#c51b7d"
            ],
            [
             0.2,
             "#de77ae"
            ],
            [
             0.3,
             "#f1b6da"
            ],
            [
             0.4,
             "#fde0ef"
            ],
            [
             0.5,
             "#f7f7f7"
            ],
            [
             0.6,
             "#e6f5d0"
            ],
            [
             0.7,
             "#b8e186"
            ],
            [
             0.8,
             "#7fbc41"
            ],
            [
             0.9,
             "#4d9221"
            ],
            [
             1,
             "#276419"
            ]
           ],
           "sequential": [
            [
             0,
             "#0d0887"
            ],
            [
             0.1111111111111111,
             "#46039f"
            ],
            [
             0.2222222222222222,
             "#7201a8"
            ],
            [
             0.3333333333333333,
             "#9c179e"
            ],
            [
             0.4444444444444444,
             "#bd3786"
            ],
            [
             0.5555555555555556,
             "#d8576b"
            ],
            [
             0.6666666666666666,
             "#ed7953"
            ],
            [
             0.7777777777777778,
             "#fb9f3a"
            ],
            [
             0.8888888888888888,
             "#fdca26"
            ],
            [
             1,
             "#f0f921"
            ]
           ],
           "sequentialminus": [
            [
             0,
             "#0d0887"
            ],
            [
             0.1111111111111111,
             "#46039f"
            ],
            [
             0.2222222222222222,
             "#7201a8"
            ],
            [
             0.3333333333333333,
             "#9c179e"
            ],
            [
             0.4444444444444444,
             "#bd3786"
            ],
            [
             0.5555555555555556,
             "#d8576b"
            ],
            [
             0.6666666666666666,
             "#ed7953"
            ],
            [
             0.7777777777777778,
             "#fb9f3a"
            ],
            [
             0.8888888888888888,
             "#fdca26"
            ],
            [
             1,
             "#f0f921"
            ]
           ]
          },
          "colorway": [
           "#636efa",
           "#EF553B",
           "#00cc96",
           "#ab63fa",
           "#FFA15A",
           "#19d3f3",
           "#FF6692",
           "#B6E880",
           "#FF97FF",
           "#FECB52"
          ],
          "font": {
           "color": "#2a3f5f"
          },
          "geo": {
           "bgcolor": "white",
           "lakecolor": "white",
           "landcolor": "#E5ECF6",
           "showlakes": true,
           "showland": true,
           "subunitcolor": "white"
          },
          "hoverlabel": {
           "align": "left"
          },
          "hovermode": "closest",
          "mapbox": {
           "style": "light"
          },
          "paper_bgcolor": "white",
          "plot_bgcolor": "#E5ECF6",
          "polar": {
           "angularaxis": {
            "gridcolor": "white",
            "linecolor": "white",
            "ticks": ""
           },
           "bgcolor": "#E5ECF6",
           "radialaxis": {
            "gridcolor": "white",
            "linecolor": "white",
            "ticks": ""
           }
          },
          "scene": {
           "xaxis": {
            "backgroundcolor": "#E5ECF6",
            "gridcolor": "white",
            "gridwidth": 2,
            "linecolor": "white",
            "showbackground": true,
            "ticks": "",
            "zerolinecolor": "white"
           },
           "yaxis": {
            "backgroundcolor": "#E5ECF6",
            "gridcolor": "white",
            "gridwidth": 2,
            "linecolor": "white",
            "showbackground": true,
            "ticks": "",
            "zerolinecolor": "white"
           },
           "zaxis": {
            "backgroundcolor": "#E5ECF6",
            "gridcolor": "white",
            "gridwidth": 2,
            "linecolor": "white",
            "showbackground": true,
            "ticks": "",
            "zerolinecolor": "white"
           }
          },
          "shapedefaults": {
           "line": {
            "color": "#2a3f5f"
           }
          },
          "ternary": {
           "aaxis": {
            "gridcolor": "white",
            "linecolor": "white",
            "ticks": ""
           },
           "baxis": {
            "gridcolor": "white",
            "linecolor": "white",
            "ticks": ""
           },
           "bgcolor": "#E5ECF6",
           "caxis": {
            "gridcolor": "white",
            "linecolor": "white",
            "ticks": ""
           }
          },
          "title": {
           "x": 0.05
          },
          "xaxis": {
           "automargin": true,
           "gridcolor": "white",
           "linecolor": "white",
           "ticks": "",
           "title": {
            "standoff": 15
           },
           "zerolinecolor": "white",
           "zerolinewidth": 2
          },
          "yaxis": {
           "automargin": true,
           "gridcolor": "white",
           "linecolor": "white",
           "ticks": "",
           "title": {
            "standoff": 15
           },
           "zerolinecolor": "white",
           "zerolinewidth": 2
          }
         }
        },
        "title": {
         "text": "ROC Curve (AUC=0.9754)"
        },
        "width": 700,
        "xaxis": {
         "anchor": "y",
         "constrain": "domain",
         "domain": [
          0,
          1
         ],
         "title": {
          "text": "False Positive Rate"
         }
        },
        "yaxis": {
         "anchor": "x",
         "domain": [
          0,
          1
         ],
         "scaleanchor": "x",
         "scaleratio": 1,
         "title": {
          "text": "True Positive Rate"
         }
        }
       }
      }
     },
     "metadata": {},
     "output_type": "display_data"
    },
    {
     "data": {
      "image/png": "[encoded data removed]",
      "text/plain": [
       "<Figure size 640x480 with 2 Axes>"
      ]
     },
     "metadata": {},
     "output_type": "display_data"
    }
   ],
   "source": [
    "xgb = XGBClassifier()\n",
    "\n",
    "model(xgb, X_train, y_train, X_test, y_test)"
   ]
  },
  {
   "cell_type": "code",
   "execution_count": 81,
   "metadata": {},
   "outputs": [
    {
     "data": {
      "text/plain": [
       "{'objective': 'binary:logistic',\n",
       " 'use_label_encoder': None,\n",
       " 'base_score': None,\n",
       " 'booster': None,\n",
       " 'callbacks': None,\n",
       " 'colsample_bylevel': None,\n",
       " 'colsample_bynode': None,\n",
       " 'colsample_bytree': None,\n",
       " 'early_stopping_rounds': None,\n",
       " 'enable_categorical': False,\n",
       " 'eval_metric': None,\n",
       " 'feature_types': None,\n",
       " 'gamma': None,\n",
       " 'gpu_id': None,\n",
       " 'grow_policy': None,\n",
       " 'importance_type': None,\n",
       " 'interaction_constraints': None,\n",
       " 'learning_rate': None,\n",
       " 'max_bin': None,\n",
       " 'max_cat_threshold': None,\n",
       " 'max_cat_to_onehot': None,\n",
       " 'max_delta_step': None,\n",
       " 'max_depth': None,\n",
       " 'max_leaves': None,\n",
       " 'min_child_weight': None,\n",
       " 'missing': nan,\n",
       " 'monotone_constraints': None,\n",
       " 'n_estimators': 100,\n",
       " 'n_jobs': None,\n",
       " 'num_parallel_tree': None,\n",
       " 'predictor': None,\n",
       " 'random_state': None,\n",
       " 'reg_alpha': None,\n",
       " 'reg_lambda': None,\n",
       " 'sampling_method': None,\n",
       " 'scale_pos_weight': None,\n",
       " 'subsample': None,\n",
       " 'tree_method': None,\n",
       " 'validate_parameters': None,\n",
       " 'verbosity': None}"
      ]
     },
     "execution_count": 81,
     "metadata": {},
     "output_type": "execute_result"
    }
   ],
   "source": [
    "# check params xgb\n",
    "xgb.get_params()"
   ]
  },
  {
   "cell_type": "code",
   "execution_count": 82,
   "metadata": {},
   "outputs": [
    {
     "name": "stdout",
     "output_type": "stream",
     "text": [
      "Fitting 3 folds for each of 27 candidates, totalling 81 fits\n",
      "{'learning_rate': 0.1, 'max_depth': 4, 'n_estimators': 150}\n",
      "0.9979961430615978\n"
     ]
    }
   ],
   "source": [
    "xgb = XGBClassifier()\n",
    "\n",
    "param_grid = {\n",
    "    'max_depth': [3, 4, 5],\n",
    "    'learning_rate': [0.001, 0.01, 0.1],\n",
    "    'n_estimators': [100, 150, 200],\n",
    "}\n",
    "\n",
    "grid_clf = GridSearchCV(xgb, param_grid, scoring='roc_auc', cv=3, n_jobs=1, verbose=1)\n",
    "grid_clf.fit(X_train, y_train)\n",
    "\n",
    "print(grid_clf.best_params_)\n",
    "print(grid_clf.best_score_)\n"
   ]
  },
  {
   "cell_type": "code",
   "execution_count": 83,
   "metadata": {},
   "outputs": [
    {
     "name": "stdout",
     "output_type": "stream",
     "text": [
      "0.978743961352657\n",
      "0.978743961352657\n"
     ]
    }
   ],
   "source": [
    "#roc auc score\n",
    "print(roc_auc_score(y_test, grid_clf.predict(X_test)))\n",
    "\n",
    "#accuracy score\n",
    "print(accuracy_score(y_test, grid_clf.predict(X_test)))"
   ]
  },
  {
   "cell_type": "code",
   "execution_count": 84,
   "metadata": {},
   "outputs": [
    {
     "name": "stdout",
     "output_type": "stream",
     "text": [
      "              precision    recall  f1-score   support\n",
      "\n",
      "           0       0.98      0.98      0.98      1035\n",
      "           1       0.98      0.98      0.98      1035\n",
      "\n",
      "    accuracy                           0.98      2070\n",
      "   macro avg       0.98      0.98      0.98      2070\n",
      "weighted avg       0.98      0.98      0.98      2070\n",
      "\n"
     ]
    },
    {
     "data": {
      "text/plain": [
       "<Axes: >"
      ]
     },
     "execution_count": 84,
     "metadata": {},
     "output_type": "execute_result"
    },
    {
     "data": {
      "image/png": "[encoded data removed]",
      "text/plain": [
       "<Figure size 640x480 with 2 Axes>"
      ]
     },
     "metadata": {},
     "output_type": "display_data"
    }
   ],
   "source": [
    "# classification report\n",
    "print(classification_report(y_test, grid_clf.predict(X_test)))\n",
    "\n",
    "#confusion matrix\n",
    "c_matrix = confusion_matrix(y_test, grid_clf.predict(X_test))\n",
    "\n",
    "#plot confusion matrix\n",
    "sns.heatmap(c_matrix, annot=True, fmt='', cmap='Blues')\n",
    "\n"
   ]
  },
  {
   "cell_type": "code",
   "execution_count": 85,
   "metadata": {},
   "outputs": [
    {
     "data": {
      "application/vnd.plotly.v1+json": {
       "config": {
        "plotlyServerURL": "https://plot.ly"
       },
       "data": [
        {
         "alignmentgroup": "True",
         "hovertemplate": "value=%{x}<br>index=%{y}<br>color=%{marker.color}<extra></extra>",
         "legendgroup": "",
         "marker": {
          "color": [
           0.37847256660461426,
           0.18195493519306183,
           0.10329467058181763,
           0.05577133223414421,
           0.029901940375566483,
           0.026891687884926796,
           0.02543717436492443,
           0.015212233178317547,
           0.01070326566696167,
           0.010055586695671082,
           0.009364563040435314,
           0.009227731265127659,
           0.008545951917767525,
           0.00807433295994997,
           0.007868072018027306,
           0.0077264620922505856,
           0.007712989114224911,
           0.00726014468818903,
           0.006375267636030912,
           0.006091851741075516,
           0.0060093579813838005,
           0.005874362308532,
           0.00557914050295949,
           0.0055421944707632065,
           0.005419254302978516,
           0.0053106071427464485,
           0.0049165585078299046,
           0.004537874832749367,
           0.004255708307027817,
           0.0035939558874815702,
           0.003457641927525401,
           0.0031237094663083553,
           0.003061436116695404,
           0.0030061507131904364,
           0.0027458006516098976,
           0.0025892164558172226,
           0.0022959779016673565,
           0.0022794227115809917,
           0.002150540240108967,
           0.002102206228300929,
           0.0017964644357562065,
           0.0014500758843496442,
           0.0009866993641480803,
           0.0009817893151193857,
           0.0009608017280697823,
           0.00003031400774489157,
           0,
           0,
           0,
           0,
           0,
           0,
           0,
           0,
           0,
           0,
           0,
           0
          ],
          "coloraxis": "coloraxis",
          "pattern": {
           "shape": ""
          }
         },
         "name": "",
         "offsetgroup": "",
         "orientation": "h",
         "showlegend": false,
         "textposition": "auto",
         "type": "bar",
         "x": [
          0.37847256660461426,
          0.18195493519306183,
          0.10329467058181763,
          0.05577133223414421,
          0.029901940375566483,
          0.026891687884926796,
          0.02543717436492443,
          0.015212233178317547,
          0.01070326566696167,
          0.010055586695671082,
          0.009364563040435314,
          0.009227731265127659,
          0.008545951917767525,
          0.00807433295994997,
          0.007868072018027306,
          0.0077264620922505856,
          0.007712989114224911,
          0.00726014468818903,
          0.006375267636030912,
          0.006091851741075516,
          0.0060093579813838005,
          0.005874362308532,
          0.00557914050295949,
          0.0055421944707632065,
          0.005419254302978516,
          0.0053106071427464485,
          0.0049165585078299046,
          0.004537874832749367,
          0.004255708307027817,
          0.0035939558874815702,
          0.003457641927525401,
          0.0031237094663083553,
          0.003061436116695404,
          0.0030061507131904364,
          0.0027458006516098976,
          0.0025892164558172226,
          0.0022959779016673565,
          0.0022794227115809917,
          0.002150540240108967,
          0.002102206228300929,
          0.0017964644357562065,
          0.0014500758843496442,
          0.0009866993641480803,
          0.0009817893151193857,
          0.0009608017280697823,
          0.00003031400774489157,
          0,
          0,
          0,
          0,
          0,
          0,
          0,
          0,
          0,
          0,
          0,
          0
         ],
         "xaxis": "x",
         "y": [
          "location_device_payment_method_monthly_purchase_music_churn_rate",
          "location_device_payment_method_monthly_purchase_games_churn_rate",
          "location_device_payment_method_monthly_purchase_education_churn_rate",
          "location_device_payment_method_monthly_purchase_call_center_churn_rate",
          "location_device_payment_method_monthly_purchase_myapp_churn_rate",
          "tenure_cltv_churn_rate",
          "location_device_payment_method_monthly_purchase_video_churn_rate",
          "device_churn_rate",
          "location_churn_rate",
          "Tenure Months",
          "location_device_payment_method_call_center_churn_rate",
          "Music Product",
          "tenure_monthly_purchase_churn_rate",
          "games_churn_rate",
          "Payment Method",
          "location_device_payment_method_video_churn_rate",
          "location_device_payment_method_monthly_purchase_churn_rate",
          "payment_method_churn_rate",
          "device_payment_method_churn_rate",
          "cltv_monthly_purchase_churn_rate",
          "call_center_churn_rate",
          "device_music_churn_rate",
          "location_device_payment_method_churn_rate",
          "service_used",
          "tenure_cltv_monthly_purchase_churn_rate",
          "music_churn_rate",
          "service_used_churn_rate",
          "CLTV (Predicted Thou. IDR)",
          "Call Center",
          "location_device_payment_method_myapp_churn_rate",
          "location_device_payment_method_service_churn_rate",
          "Location",
          "Games Product",
          "cltv_monthly_purchase_category",
          "tenure_cltv_category",
          "tenure_cltv_monthly_purchase_category",
          "Device Class",
          "device_location_churn_rate",
          "Monthly Purchase (Thou. IDR)",
          "location_device_payment_method_games_churn_rate",
          "MonthlyPurchase_Category",
          "device_video_churn_rate",
          "location_device_payment_method_education_churn_rate",
          "Education Product",
          "device_service_churn_rate",
          "education_churn_rate",
          "Video Product",
          "Use MyApp",
          "Tenure_Category",
          "CLTV_Category",
          "device_call_center_churn_rate",
          "video_churn_rate",
          "tenure_monthly_purchase_category",
          "myapp_churn_rate",
          "location_device_payment_method_music_churn_rate",
          "device_games_churn_rate",
          "device_myapp_churn_rate",
          "device_education_churn_rate"
         ],
         "yaxis": "y"
        }
       ],
       "layout": {
        "barmode": "relative",
        "coloraxis": {
         "colorbar": {
          "title": {
           "text": "color"
          }
         },
         "colorscale": [
          [
           0,
           "#0d0887"
          ],
          [
           0.1111111111111111,
           "#46039f"
          ],
          [
           0.2222222222222222,
           "#7201a8"
          ],
          [
           0.3333333333333333,
           "#9c179e"
          ],
          [
           0.4444444444444444,
           "#bd3786"
          ],
          [
           0.5555555555555556,
           "#d8576b"
          ],
          [
           0.6666666666666666,
           "#ed7953"
          ],
          [
           0.7777777777777778,
           "#fb9f3a"
          ],
          [
           0.8888888888888888,
           "#fdca26"
          ],
          [
           1,
           "#f0f921"
          ]
         ]
        },
        "height": 1000,
        "legend": {
         "tracegroupgap": 0
        },
        "template": {
         "data": {
          "bar": [
           {
            "error_x": {
             "color": "#2a3f5f"
            },
            "error_y": {
             "color": "#2a3f5f"
            },
            "marker": {
             "line": {
              "color": "#E5ECF6",
              "width": 0.5
             },
             "pattern": {
              "fillmode": "overlay",
              "size": 10,
              "solidity": 0.2
             }
            },
            "type": "bar"
           }
          ],
          "barpolar": [
           {
            "marker": {
             "line": {
              "color": "#E5ECF6",
              "width": 0.5
             },
             "pattern": {
              "fillmode": "overlay",
              "size": 10,
              "solidity": 0.2
             }
            },
            "type": "barpolar"
           }
          ],
          "carpet": [
           {
            "aaxis": {
             "endlinecolor": "#2a3f5f",
             "gridcolor": "white",
             "linecolor": "white",
             "minorgridcolor": "white",
             "startlinecolor": "#2a3f5f"
            },
            "baxis": {
             "endlinecolor": "#2a3f5f",
             "gridcolor": "white",
             "linecolor": "white",
             "minorgridcolor": "white",
             "startlinecolor": "#2a3f5f"
            },
            "type": "carpet"
           }
          ],
          "choropleth": [
           {
            "colorbar": {
             "outlinewidth": 0,
             "ticks": ""
            },
            "type": "choropleth"
           }
          ],
          "contour": [
           {
            "colorbar": {
             "outlinewidth": 0,
             "ticks": ""
            },
            "colorscale": [
             [
              0,
              "#0d0887"
             ],
             [
              0.1111111111111111,
              "#46039f"
             ],
             [
              0.2222222222222222,
              "#7201a8"
             ],
             [
              0.3333333333333333,
              "#9c179e"
             ],
             [
              0.4444444444444444,
              "#bd3786"
             ],
             [
              0.5555555555555556,
              "#d8576b"
             ],
             [
              0.6666666666666666,
              "#ed7953"
             ],
             [
              0.7777777777777778,
              "#fb9f3a"
             ],
             [
              0.8888888888888888,
              "#fdca26"
             ],
             [
              1,
              "#f0f921"
             ]
            ],
            "type": "contour"
           }
          ],
          "contourcarpet": [
           {
            "colorbar": {
             "outlinewidth": 0,
             "ticks": ""
            },
            "type": "contourcarpet"
           }
          ],
          "heatmap": [
           {
            "colorbar": {
             "outlinewidth": 0,
             "ticks": ""
            },
            "colorscale": [
             [
              0,
              "#0d0887"
             ],
             [
              0.1111111111111111,
              "#46039f"
             ],
             [
              0.2222222222222222,
              "#7201a8"
             ],
             [
              0.3333333333333333,
              "#9c179e"
             ],
             [
              0.4444444444444444,
              "#bd3786"
             ],
             [
              0.5555555555555556,
              "#d8576b"
             ],
             [
              0.6666666666666666,
              "#ed7953"
             ],
             [
              0.7777777777777778,
              "#fb9f3a"
             ],
             [
              0.8888888888888888,
              "#fdca26"
             ],
             [
              1,
              "#f0f921"
             ]
            ],
            "type": "heatmap"
           }
          ],
          "heatmapgl": [
           {
            "colorbar": {
             "outlinewidth": 0,
             "ticks": ""
            },
            "colorscale": [
             [
              0,
              "#0d0887"
             ],
             [
              0.1111111111111111,
              "#46039f"
             ],
             [
              0.2222222222222222,
              "#7201a8"
             ],
             [
              0.3333333333333333,
              "#9c179e"
             ],
             [
              0.4444444444444444,
              "#bd3786"
             ],
             [
              0.5555555555555556,
              "#d8576b"
             ],
             [
              0.6666666666666666,
              "#ed7953"
             ],
             [
              0.7777777777777778,
              "#fb9f3a"
             ],
             [
              0.8888888888888888,
              "#fdca26"
             ],
             [
              1,
              "#f0f921"
             ]
            ],
            "type": "heatmapgl"
           }
          ],
          "histogram": [
           {
            "marker": {
             "pattern": {
              "fillmode": "overlay",
              "size": 10,
              "solidity": 0.2
             }
            },
            "type": "histogram"
           }
          ],
          "histogram2d": [
           {
            "colorbar": {
             "outlinewidth": 0,
             "ticks": ""
            },
            "colorscale": [
             [
              0,
              "#0d0887"
             ],
             [
              0.1111111111111111,
              "#46039f"
             ],
             [
              0.2222222222222222,
              "#7201a8"
             ],
             [
              0.3333333333333333,
              "#9c179e"
             ],
             [
              0.4444444444444444,
              "#bd3786"
             ],
             [
              0.5555555555555556,
              "#d8576b"
             ],
             [
              0.6666666666666666,
              "#ed7953"
             ],
             [
              0.7777777777777778,
              "#fb9f3a"
             ],
             [
              0.8888888888888888,
              "#fdca26"
             ],
             [
              1,
              "#f0f921"
             ]
            ],
            "type": "histogram2d"
           }
          ],
          "histogram2dcontour": [
           {
            "colorbar": {
             "outlinewidth": 0,
             "ticks": ""
            },
            "colorscale": [
             [
              0,
              "#0d0887"
             ],
             [
              0.1111111111111111,
              "#46039f"
             ],
             [
              0.2222222222222222,
              "#7201a8"
             ],
             [
              0.3333333333333333,
              "#9c179e"
             ],
             [
              0.4444444444444444,
              "#bd3786"
             ],
             [
              0.5555555555555556,
              "#d8576b"
             ],
             [
              0.6666666666666666,
              "#ed7953"
             ],
             [
              0.7777777777777778,
              "#fb9f3a"
             ],
             [
              0.8888888888888888,
              "#fdca26"
             ],
             [
              1,
              "#f0f921"
             ]
            ],
            "type": "histogram2dcontour"
           }
          ],
          "mesh3d": [
           {
            "colorbar": {
             "outlinewidth": 0,
             "ticks": ""
            },
            "type": "mesh3d"
           }
          ],
          "parcoords": [
           {
            "line": {
             "colorbar": {
              "outlinewidth": 0,
              "ticks": ""
             }
            },
            "type": "parcoords"
           }
          ],
          "pie": [
           {
            "automargin": true,
            "type": "pie"
           }
          ],
          "scatter": [
           {
            "fillpattern": {
             "fillmode": "overlay",
             "size": 10,
             "solidity": 0.2
            },
            "type": "scatter"
           }
          ],
          "scatter3d": [
           {
            "line": {
             "colorbar": {
              "outlinewidth": 0,
              "ticks": ""
             }
            },
            "marker": {
             "colorbar": {
              "outlinewidth": 0,
              "ticks": ""
             }
            },
            "type": "scatter3d"
           }
          ],
          "scattercarpet": [
           {
            "marker": {
             "colorbar": {
              "outlinewidth": 0,
              "ticks": ""
             }
            },
            "type": "scattercarpet"
           }
          ],
          "scattergeo": [
           {
            "marker": {
             "colorbar": {
              "outlinewidth": 0,
              "ticks": ""
             }
            },
            "type": "scattergeo"
           }
          ],
          "scattergl": [
           {
            "marker": {
             "colorbar": {
              "outlinewidth": 0,
              "ticks": ""
             }
            },
            "type": "scattergl"
           }
          ],
          "scattermapbox": [
           {
            "marker": {
             "colorbar": {
              "outlinewidth": 0,
              "ticks": ""
             }
            },
            "type": "scattermapbox"
           }
          ],
          "scatterpolar": [
           {
            "marker": {
             "colorbar": {
              "outlinewidth": 0,
              "ticks": ""
             }
            },
            "type": "scatterpolar"
           }
          ],
          "scatterpolargl": [
           {
            "marker": {
             "colorbar": {
              "outlinewidth": 0,
              "ticks": ""
             }
            },
            "type": "scatterpolargl"
           }
          ],
          "scatterternary": [
           {
            "marker": {
             "colorbar": {
              "outlinewidth": 0,
              "ticks": ""
             }
            },
            "type": "scatterternary"
           }
          ],
          "surface": [
           {
            "colorbar": {
             "outlinewidth": 0,
             "ticks": ""
            },
            "colorscale": [
             [
              0,
              "#0d0887"
             ],
             [
              0.1111111111111111,
              "#46039f"
             ],
             [
              0.2222222222222222,
              "#7201a8"
             ],
             [
              0.3333333333333333,
              "#9c179e"
             ],
             [
              0.4444444444444444,
              "#bd3786"
             ],
             [
              0.5555555555555556,
              "#d8576b"
             ],
             [
              0.6666666666666666,
              "#ed7953"
             ],
             [
              0.7777777777777778,
              "#fb9f3a"
             ],
             [
              0.8888888888888888,
              "#fdca26"
             ],
             [
              1,
              "#f0f921"
             ]
            ],
            "type": "surface"
           }
          ],
          "table": [
           {
            "cells": {
             "fill": {
              "color": "#EBF0F8"
             },
             "line": {
              "color": "white"
             }
            },
            "header": {
             "fill": {
              "color": "#C8D4E3"
             },
             "line": {
              "color": "white"
             }
            },
            "type": "table"
           }
          ]
         },
         "layout": {
          "annotationdefaults": {
           "arrowcolor": "#2a3f5f",
           "arrowhead": 0,
           "arrowwidth": 1
          },
          "autotypenumbers": "strict",
          "coloraxis": {
           "colorbar": {
            "outlinewidth": 0,
            "ticks": ""
           }
          },
          "colorscale": {
           "diverging": [
            [
             0,
             "#8e0152"
            ],
            [
             0.1,
             "#c51b7d"
            ],
            [
             0.2,
             "#de77ae"
            ],
            [
             0.3,
             "#f1b6da"
            ],
            [
             0.4,
             "#fde0ef"
            ],
            [
             0.5,
             "#f7f7f7"
            ],
            [
             0.6,
             "#e6f5d0"
            ],
            [
             0.7,
             "#b8e186"
            ],
            [
             0.8,
             "#7fbc41"
            ],
            [
             0.9,
             "#4d9221"
            ],
            [
             1,
             "#276419"
            ]
           ],
           "sequential": [
            [
             0,
             "#0d0887"
            ],
            [
             0.1111111111111111,
             "#46039f"
            ],
            [
             0.2222222222222222,
             "#7201a8"
            ],
            [
             0.3333333333333333,
             "#9c179e"
            ],
            [
             0.4444444444444444,
             "#bd3786"
            ],
            [
             0.5555555555555556,
             "#d8576b"
            ],
            [
             0.6666666666666666,
             "#ed7953"
            ],
            [
             0.7777777777777778,
             "#fb9f3a"
            ],
            [
             0.8888888888888888,
             "#fdca26"
            ],
            [
             1,
             "#f0f921"
            ]
           ],
           "sequentialminus": [
            [
             0,
             "#0d0887"
            ],
            [
             0.1111111111111111,
             "#46039f"
            ],
            [
             0.2222222222222222,
             "#7201a8"
            ],
            [
             0.3333333333333333,
             "#9c179e"
            ],
            [
             0.4444444444444444,
             "#bd3786"
            ],
            [
             0.5555555555555556,
             "#d8576b"
            ],
            [
             0.6666666666666666,
             "#ed7953"
            ],
            [
             0.7777777777777778,
             "#fb9f3a"
            ],
            [
             0.8888888888888888,
             "#fdca26"
            ],
            [
             1,
             "#f0f921"
            ]
           ]
          },
          "colorway": [
           "#636efa",
           "#EF553B",
           "#00cc96",
           "#ab63fa",
           "#FFA15A",
           "#19d3f3",
           "#FF6692",
           "#B6E880",
           "#FF97FF",
           "#FECB52"
          ],
          "font": {
           "color": "#2a3f5f"
          },
          "geo": {
           "bgcolor": "white",
           "lakecolor": "white",
           "landcolor": "#E5ECF6",
           "showlakes": true,
           "showland": true,
           "subunitcolor": "white"
          },
          "hoverlabel": {
           "align": "left"
          },
          "hovermode": "closest",
          "mapbox": {
           "style": "light"
          },
          "paper_bgcolor": "white",
          "plot_bgcolor": "#E5ECF6",
          "polar": {
           "angularaxis": {
            "gridcolor": "white",
            "linecolor": "white",
            "ticks": ""
           },
           "bgcolor": "#E5ECF6",
           "radialaxis": {
            "gridcolor": "white",
            "linecolor": "white",
            "ticks": ""
           }
          },
          "scene": {
           "xaxis": {
            "backgroundcolor": "#E5ECF6",
            "gridcolor": "white",
            "gridwidth": 2,
            "linecolor": "white",
            "showbackground": true,
            "ticks": "",
            "zerolinecolor": "white"
           },
           "yaxis": {
            "backgroundcolor": "#E5ECF6",
            "gridcolor": "white",
            "gridwidth": 2,
            "linecolor": "white",
            "showbackground": true,
            "ticks": "",
            "zerolinecolor": "white"
           },
           "zaxis": {
            "backgroundcolor": "#E5ECF6",
            "gridcolor": "white",
            "gridwidth": 2,
            "linecolor": "white",
            "showbackground": true,
            "ticks": "",
            "zerolinecolor": "white"
           }
          },
          "shapedefaults": {
           "line": {
            "color": "#2a3f5f"
           }
          },
          "ternary": {
           "aaxis": {
            "gridcolor": "white",
            "linecolor": "white",
            "ticks": ""
           },
           "baxis": {
            "gridcolor": "white",
            "linecolor": "white",
            "ticks": ""
           },
           "bgcolor": "#E5ECF6",
           "caxis": {
            "gridcolor": "white",
            "linecolor": "white",
            "ticks": ""
           }
          },
          "title": {
           "x": 0.05
          },
          "xaxis": {
           "automargin": true,
           "gridcolor": "white",
           "linecolor": "white",
           "ticks": "",
           "title": {
            "standoff": 15
           },
           "zerolinecolor": "white",
           "zerolinewidth": 2
          },
          "yaxis": {
           "automargin": true,
           "gridcolor": "white",
           "linecolor": "white",
           "ticks": "",
           "title": {
            "standoff": 15
           },
           "zerolinecolor": "white",
           "zerolinewidth": 2
          }
         }
        },
        "title": {
         "text": "Feature Importance"
        },
        "width": 2000,
        "xaxis": {
         "anchor": "y",
         "domain": [
          0,
          1
         ],
         "title": {
          "text": "value"
         }
        },
        "yaxis": {
         "anchor": "x",
         "domain": [
          0,
          1
         ],
         "title": {
          "text": "index"
         }
        }
       }
      }
     },
     "metadata": {},
     "output_type": "display_data"
    }
   ],
   "source": [
    "# feature importance\n",
    "importance = grid_clf.best_estimator_.feature_importances_\n",
    "feature_imp = pd.Series(importance, index=X.columns).sort_values(ascending=False)\n",
    "fig = px.bar(feature_imp, color=feature_imp, title='Feature Importance', orientation='h', width=2000, height=1000)\n",
    "fig.show()"
   ]
  },
  {
   "cell_type": "code",
   "execution_count": 86,
   "metadata": {},
   "outputs": [
    {
     "data": {
      "text/plain": [
       "location_device_payment_method_monthly_purchase_music_churn_rate          0.378473\n",
       "location_device_payment_method_monthly_purchase_games_churn_rate          0.181955\n",
       "location_device_payment_method_monthly_purchase_education_churn_rate      0.103295\n",
       "location_device_payment_method_monthly_purchase_call_center_churn_rate    0.055771\n",
       "location_device_payment_method_monthly_purchase_myapp_churn_rate          0.029902\n",
       "tenure_cltv_churn_rate                                                    0.026892\n",
       "location_device_payment_method_monthly_purchase_video_churn_rate          0.025437\n",
       "device_churn_rate                                                         0.015212\n",
       "location_churn_rate                                                       0.010703\n",
       "Tenure Months                                                             0.010056\n",
       "location_device_payment_method_call_center_churn_rate                     0.009365\n",
       "Music Product                                                             0.009228\n",
       "tenure_monthly_purchase_churn_rate                                        0.008546\n",
       "games_churn_rate                                                          0.008074\n",
       "Payment Method                                                            0.007868\n",
       "location_device_payment_method_video_churn_rate                           0.007726\n",
       "location_device_payment_method_monthly_purchase_churn_rate                0.007713\n",
       "payment_method_churn_rate                                                 0.007260\n",
       "device_payment_method_churn_rate                                          0.006375\n",
       "cltv_monthly_purchase_churn_rate                                          0.006092\n",
       "dtype: float32"
      ]
     },
     "execution_count": 86,
     "metadata": {},
     "output_type": "execute_result"
    }
   ],
   "source": [
    "feature_imp2 = feature_imp[:20]\n",
    "feature_imp2"
   ]
  },
  {
   "cell_type": "code",
   "execution_count": 88,
   "metadata": {},
   "outputs": [
    {
     "name": "stdout",
     "output_type": "stream",
     "text": [
      "Training Accuracy:  98.14%\n",
      "Testing Accuracy:  97.20%\n",
      "ROC AUC TRAINING SCORE:  98.14%\n",
      "ROC AUC TEST SCORE:  97.21%\n",
      "Model accuracy:  97.20%\n",
      "Recall Test:  97.75%\n",
      "Precision Test:  96.61%\n",
      "F1 Score Test:  97.18%\n",
      "              precision    recall  f1-score   support\n",
      "\n",
      "           0       0.98      0.97      0.97      1049\n",
      "           1       0.97      0.98      0.97      1021\n",
      "\n",
      "    accuracy                           0.97      2070\n",
      "   macro avg       0.97      0.97      0.97      2070\n",
      "weighted avg       0.97      0.97      0.97      2070\n",
      "\n"
     ]
    },
    {
     "data": {
      "application/vnd.plotly.v1+json": {
       "config": {
        "plotlyServerURL": "https://plot.ly"
       },
       "data": [
        {
         "fillpattern": {
          "shape": ""
         },
         "hovertemplate": "False Positive Rate=%{x}<br>True Positive Rate=%{y}<extra></extra>",
         "legendgroup": "",
         "line": {
          "color": "#636efa"
         },
         "marker": {
          "symbol": "circle"
         },
         "mode": "lines",
         "name": "",
         "orientation": "v",
         "showlegend": false,
         "stackgroup": "1",
         "type": "scatter",
         "x": [
          0,
          0.03336510962821735,
          1
         ],
         "xaxis": "x",
         "y": [
          0,
          0.9774730656219393,
          1
         ],
         "yaxis": "y"
        }
       ],
       "layout": {
        "height": 500,
        "legend": {
         "tracegroupgap": 0
        },
        "shapes": [
         {
          "line": {
           "dash": "dash"
          },
          "type": "line",
          "x0": 0,
          "x1": 1,
          "y0": 0,
          "y1": 1
         }
        ],
        "template": {
         "data": {
          "bar": [
           {
            "error_x": {
             "color": "#2a3f5f"
            },
            "error_y": {
             "color": "#2a3f5f"
            },
            "marker": {
             "line": {
              "color": "#E5ECF6",
              "width": 0.5
             },
             "pattern": {
              "fillmode": "overlay",
              "size": 10,
              "solidity": 0.2
             }
            },
            "type": "bar"
           }
          ],
          "barpolar": [
           {
            "marker": {
             "line": {
              "color": "#E5ECF6",
              "width": 0.5
             },
             "pattern": {
              "fillmode": "overlay",
              "size": 10,
              "solidity": 0.2
             }
            },
            "type": "barpolar"
           }
          ],
          "carpet": [
           {
            "aaxis": {
             "endlinecolor": "#2a3f5f",
             "gridcolor": "white",
             "linecolor": "white",
             "minorgridcolor": "white",
             "startlinecolor": "#2a3f5f"
            },
            "baxis": {
             "endlinecolor": "#2a3f5f",
             "gridcolor": "white",
             "linecolor": "white",
             "minorgridcolor": "white",
             "startlinecolor": "#2a3f5f"
            },
            "type": "carpet"
           }
          ],
          "choropleth": [
           {
            "colorbar": {
             "outlinewidth": 0,
             "ticks": ""
            },
            "type": "choropleth"
           }
          ],
          "contour": [
           {
            "colorbar": {
             "outlinewidth": 0,
             "ticks": ""
            },
            "colorscale": [
             [
              0,
              "#0d0887"
             ],
             [
              0.1111111111111111,
              "#46039f"
             ],
             [
              0.2222222222222222,
              "#7201a8"
             ],
             [
              0.3333333333333333,
              "#9c179e"
             ],
             [
              0.4444444444444444,
              "#bd3786"
             ],
             [
              0.5555555555555556,
              "#d8576b"
             ],
             [
              0.6666666666666666,
              "#ed7953"
             ],
             [
              0.7777777777777778,
              "#fb9f3a"
             ],
             [
              0.8888888888888888,
              "#fdca26"
             ],
             [
              1,
              "#f0f921"
             ]
            ],
            "type": "contour"
           }
          ],
          "contourcarpet": [
           {
            "colorbar": {
             "outlinewidth": 0,
             "ticks": ""
            },
            "type": "contourcarpet"
           }
          ],
          "heatmap": [
           {
            "colorbar": {
             "outlinewidth": 0,
             "ticks": ""
            },
            "colorscale": [
             [
              0,
              "#0d0887"
             ],
             [
              0.1111111111111111,
              "#46039f"
             ],
             [
              0.2222222222222222,
              "#7201a8"
             ],
             [
              0.3333333333333333,
              "#9c179e"
             ],
             [
              0.4444444444444444,
              "#bd3786"
             ],
             [
              0.5555555555555556,
              "#d8576b"
             ],
             [
              0.6666666666666666,
              "#ed7953"
             ],
             [
              0.7777777777777778,
              "#fb9f3a"
             ],
             [
              0.8888888888888888,
              "#fdca26"
             ],
             [
              1,
              "#f0f921"
             ]
            ],
            "type": "heatmap"
           }
          ],
          "heatmapgl": [
           {
            "colorbar": {
             "outlinewidth": 0,
             "ticks": ""
            },
            "colorscale": [
             [
              0,
              "#0d0887"
             ],
             [
              0.1111111111111111,
              "#46039f"
             ],
             [
              0.2222222222222222,
              "#7201a8"
             ],
             [
              0.3333333333333333,
              "#9c179e"
             ],
             [
              0.4444444444444444,
              "#bd3786"
             ],
             [
              0.5555555555555556,
              "#d8576b"
             ],
             [
              0.6666666666666666,
              "#ed7953"
             ],
             [
              0.7777777777777778,
              "#fb9f3a"
             ],
             [
              0.8888888888888888,
              "#fdca26"
             ],
             [
              1,
              "#f0f921"
             ]
            ],
            "type": "heatmapgl"
           }
          ],
          "histogram": [
           {
            "marker": {
             "pattern": {
              "fillmode": "overlay",
              "size": 10,
              "solidity": 0.2
             }
            },
            "type": "histogram"
           }
          ],
          "histogram2d": [
           {
            "colorbar": {
             "outlinewidth": 0,
             "ticks": ""
            },
            "colorscale": [
             [
              0,
              "#0d0887"
             ],
             [
              0.1111111111111111,
              "#46039f"
             ],
             [
              0.2222222222222222,
              "#7201a8"
             ],
             [
              0.3333333333333333,
              "#9c179e"
             ],
             [
              0.4444444444444444,
              "#bd3786"
             ],
             [
              0.5555555555555556,
              "#d8576b"
             ],
             [
              0.6666666666666666,
              "#ed7953"
             ],
             [
              0.7777777777777778,
              "#fb9f3a"
             ],
             [
              0.8888888888888888,
              "#fdca26"
             ],
             [
              1,
              "#f0f921"
             ]
            ],
            "type": "histogram2d"
           }
          ],
          "histogram2dcontour": [
           {
            "colorbar": {
             "outlinewidth": 0,
             "ticks": ""
            },
            "colorscale": [
             [
              0,
              "#0d0887"
             ],
             [
              0.1111111111111111,
              "#46039f"
             ],
             [
              0.2222222222222222,
              "#7201a8"
             ],
             [
              0.3333333333333333,
              "#9c179e"
             ],
             [
              0.4444444444444444,
              "#bd3786"
             ],
             [
              0.5555555555555556,
              "#d8576b"
             ],
             [
              0.6666666666666666,
              "#ed7953"
             ],
             [
              0.7777777777777778,
              "#fb9f3a"
             ],
             [
              0.8888888888888888,
              "#fdca26"
             ],
             [
              1,
              "#f0f921"
             ]
            ],
            "type": "histogram2dcontour"
           }
          ],
          "mesh3d": [
           {
            "colorbar": {
             "outlinewidth": 0,
             "ticks": ""
            },
            "type": "mesh3d"
           }
          ],
          "parcoords": [
           {
            "line": {
             "colorbar": {
              "outlinewidth": 0,
              "ticks": ""
             }
            },
            "type": "parcoords"
           }
          ],
          "pie": [
           {
            "automargin": true,
            "type": "pie"
           }
          ],
          "scatter": [
           {
            "fillpattern": {
             "fillmode": "overlay",
             "size": 10,
             "solidity": 0.2
            },
            "type": "scatter"
           }
          ],
          "scatter3d": [
           {
            "line": {
             "colorbar": {
              "outlinewidth": 0,
              "ticks": ""
             }
            },
            "marker": {
             "colorbar": {
              "outlinewidth": 0,
              "ticks": ""
             }
            },
            "type": "scatter3d"
           }
          ],
          "scattercarpet": [
           {
            "marker": {
             "colorbar": {
              "outlinewidth": 0,
              "ticks": ""
             }
            },
            "type": "scattercarpet"
           }
          ],
          "scattergeo": [
           {
            "marker": {
             "colorbar": {
              "outlinewidth": 0,
              "ticks": ""
             }
            },
            "type": "scattergeo"
           }
          ],
          "scattergl": [
           {
            "marker": {
             "colorbar": {
              "outlinewidth": 0,
              "ticks": ""
             }
            },
            "type": "scattergl"
           }
          ],
          "scattermapbox": [
           {
            "marker": {
             "colorbar": {
              "outlinewidth": 0,
              "ticks": ""
             }
            },
            "type": "scattermapbox"
           }
          ],
          "scatterpolar": [
           {
            "marker": {
             "colorbar": {
              "outlinewidth": 0,
              "ticks": ""
             }
            },
            "type": "scatterpolar"
           }
          ],
          "scatterpolargl": [
           {
            "marker": {
             "colorbar": {
              "outlinewidth": 0,
              "ticks": ""
             }
            },
            "type": "scatterpolargl"
           }
          ],
          "scatterternary": [
           {
            "marker": {
             "colorbar": {
              "outlinewidth": 0,
              "ticks": ""
             }
            },
            "type": "scatterternary"
           }
          ],
          "surface": [
           {
            "colorbar": {
             "outlinewidth": 0,
             "ticks": ""
            },
            "colorscale": [
             [
              0,
              "#0d0887"
             ],
             [
              0.1111111111111111,
              "#46039f"
             ],
             [
              0.2222222222222222,
              "#7201a8"
             ],
             [
              0.3333333333333333,
              "#9c179e"
             ],
             [
              0.4444444444444444,
              "#bd3786"
             ],
             [
              0.5555555555555556,
              "#d8576b"
             ],
             [
              0.6666666666666666,
              "#ed7953"
             ],
             [
              0.7777777777777778,
              "#fb9f3a"
             ],
             [
              0.8888888888888888,
              "#fdca26"
             ],
             [
              1,
              "#f0f921"
             ]
            ],
            "type": "surface"
           }
          ],
          "table": [
           {
            "cells": {
             "fill": {
              "color": "#EBF0F8"
             },
             "line": {
              "color": "white"
             }
            },
            "header": {
             "fill": {
              "color": "#C8D4E3"
             },
             "line": {
              "color": "white"
             }
            },
            "type": "table"
           }
          ]
         },
         "layout": {
          "annotationdefaults": {
           "arrowcolor": "#2a3f5f",
           "arrowhead": 0,
           "arrowwidth": 1
          },
          "autotypenumbers": "strict",
          "coloraxis": {
           "colorbar": {
            "outlinewidth": 0,
            "ticks": ""
           }
          },
          "colorscale": {
           "diverging": [
            [
             0,
             "#8e0152"
            ],
            [
             0.1,
             "#c51b7d"
            ],
            [
             0.2,
             "#de77ae"
            ],
            [
             0.3,
             "#f1b6da"
            ],
            [
             0.4,
             "#fde0ef"
            ],
            [
             0.5,
             "#f7f7f7"
            ],
            [
             0.6,
             "#e6f5d0"
            ],
            [
             0.7,
             "#b8e186"
            ],
            [
             0.8,
             "#7fbc41"
            ],
            [
             0.9,
             "#4d9221"
            ],
            [
             1,
             "#276419"
            ]
           ],
           "sequential": [
            [
             0,
             "#0d0887"
            ],
            [
             0.1111111111111111,
             "#46039f"
            ],
            [
             0.2222222222222222,
             "#7201a8"
            ],
            [
             0.3333333333333333,
             "#9c179e"
            ],
            [
             0.4444444444444444,
             "#bd3786"
            ],
            [
             0.5555555555555556,
             "#d8576b"
            ],
            [
             0.6666666666666666,
             "#ed7953"
            ],
            [
             0.7777777777777778,
             "#fb9f3a"
            ],
            [
             0.8888888888888888,
             "#fdca26"
            ],
            [
             1,
             "#f0f921"
            ]
           ],
           "sequentialminus": [
            [
             0,
             "#0d0887"
            ],
            [
             0.1111111111111111,
             "#46039f"
            ],
            [
             0.2222222222222222,
             "#7201a8"
            ],
            [
             0.3333333333333333,
             "#9c179e"
            ],
            [
             0.4444444444444444,
             "#bd3786"
            ],
            [
             0.5555555555555556,
             "#d8576b"
            ],
            [
             0.6666666666666666,
             "#ed7953"
            ],
            [
             0.7777777777777778,
             "#fb9f3a"
            ],
            [
             0.8888888888888888,
             "#fdca26"
            ],
            [
             1,
             "#f0f921"
            ]
           ]
          },
          "colorway": [
           "#636efa",
           "#EF553B",
           "#00cc96",
           "#ab63fa",
           "#FFA15A",
           "#19d3f3",
           "#FF6692",
           "#B6E880",
           "#FF97FF",
           "#FECB52"
          ],
          "font": {
           "color": "#2a3f5f"
          },
          "geo": {
           "bgcolor": "white",
           "lakecolor": "white",
           "landcolor": "#E5ECF6",
           "showlakes": true,
           "showland": true,
           "subunitcolor": "white"
          },
          "hoverlabel": {
           "align": "left"
          },
          "hovermode": "closest",
          "mapbox": {
           "style": "light"
          },
          "paper_bgcolor": "white",
          "plot_bgcolor": "#E5ECF6",
          "polar": {
           "angularaxis": {
            "gridcolor": "white",
            "linecolor": "white",
            "ticks": ""
           },
           "bgcolor": "#E5ECF6",
           "radialaxis": {
            "gridcolor": "white",
            "linecolor": "white",
            "ticks": ""
           }
          },
          "scene": {
           "xaxis": {
            "backgroundcolor": "#E5ECF6",
            "gridcolor": "white",
            "gridwidth": 2,
            "linecolor": "white",
            "showbackground": true,
            "ticks": "",
            "zerolinecolor": "white"
           },
           "yaxis": {
            "backgroundcolor": "#E5ECF6",
            "gridcolor": "white",
            "gridwidth": 2,
            "linecolor": "white",
            "showbackground": true,
            "ticks": "",
            "zerolinecolor": "white"
           },
           "zaxis": {
            "backgroundcolor": "#E5ECF6",
            "gridcolor": "white",
            "gridwidth": 2,
            "linecolor": "white",
            "showbackground": true,
            "ticks": "",
            "zerolinecolor": "white"
           }
          },
          "shapedefaults": {
           "line": {
            "color": "#2a3f5f"
           }
          },
          "ternary": {
           "aaxis": {
            "gridcolor": "white",
            "linecolor": "white",
            "ticks": ""
           },
           "baxis": {
            "gridcolor": "white",
            "linecolor": "white",
            "ticks": ""
           },
           "bgcolor": "#E5ECF6",
           "caxis": {
            "gridcolor": "white",
            "linecolor": "white",
            "ticks": ""
           }
          },
          "title": {
           "x": 0.05
          },
          "xaxis": {
           "automargin": true,
           "gridcolor": "white",
           "linecolor": "white",
           "ticks": "",
           "title": {
            "standoff": 15
           },
           "zerolinecolor": "white",
           "zerolinewidth": 2
          },
          "yaxis": {
           "automargin": true,
           "gridcolor": "white",
           "linecolor": "white",
           "ticks": "",
           "title": {
            "standoff": 15
           },
           "zerolinecolor": "white",
           "zerolinewidth": 2
          }
         }
        },
        "title": {
         "text": "ROC Curve (AUC=0.9721)"
        },
        "width": 700,
        "xaxis": {
         "anchor": "y",
         "constrain": "domain",
         "domain": [
          0,
          1
         ],
         "title": {
          "text": "False Positive Rate"
         }
        },
        "yaxis": {
         "anchor": "x",
         "domain": [
          0,
          1
         ],
         "scaleanchor": "x",
         "scaleratio": 1,
         "title": {
          "text": "True Positive Rate"
         }
        }
       }
      }
     },
     "metadata": {},
     "output_type": "display_data"
    },
    {
     "data": {
      "image/png": "[encoded data removed]",
      "text/plain": [
       "<Figure size 640x480 with 2 Axes>"
      ]
     },
     "metadata": {},
     "output_type": "display_data"
    }
   ],
   "source": [
    "# let's try to train with the best feature \n",
    "X = df[feature_imp2.index]\n",
    "y = df[\"Churn Label\"]\n",
    "\n",
    "X, y = over.fit_resample(X, y)\n",
    "\n",
    "X_train, X_test, y_train, y_test = train_test_split(X, y, test_size=0.2)\n",
    "\n",
    "xgb = XGBClassifier(\n",
    "    max_depth=4,\n",
    "    learning_rate=0.1,\n",
    "    n_estimators=150\n",
    ")\n",
    "\n",
    "model(xgb, X_train, y_train, X_test, y_test)\n"
   ]
  },
  {
   "cell_type": "code",
   "execution_count": null,
   "metadata": {},
   "outputs": [],
   "source": []
  }
 ],
 "metadata": {
  "kernelspec": {
   "display_name": "base",
   "language": "python",
   "name": "python3"
  },
  "language_info": {
   "codemirror_mode": {
    "name": "ipython",
    "version": 3
   },
   "file_extension": ".py",
   "mimetype": "text/x-python",
   "name": "python",
   "nbconvert_exporter": "python",
   "pygments_lexer": "ipython3",
   "version": "3.10.10"
  }
 },
 "nbformat": 4,
 "nbformat_minor": 2
}
