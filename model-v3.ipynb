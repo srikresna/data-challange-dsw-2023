{
 "cells": [
  {
   "cell_type": "code",
   "execution_count": 41,
   "metadata": {},
   "outputs": [],
   "source": [
    "import pandas as pd\n",
    "import numpy as np\n",
    "import plotly.express as px\n",
    "import seaborn as sns\n",
    "\n",
    "from sklearn.model_selection import train_test_split, GridSearchCV\n",
    "from sklearn.preprocessing import LabelEncoder, MinMaxScaler\n",
    "from imblearn.over_sampling import SMOTE\n",
    "from sklearn.metrics import classification_report, confusion_matrix, accuracy_score, roc_auc_score, roc_curve, auc\n",
    "\n",
    "from xgboost import XGBClassifier"
   ]
  },
  {
   "cell_type": "code",
   "execution_count": 42,
   "metadata": {},
   "outputs": [
    {
     "data": {
      "text/html": [
       "<div>\n",
       "<style scoped>\n",
       "    .dataframe tbody tr th:only-of-type {\n",
       "        vertical-align: middle;\n",
       "    }\n",
       "\n",
       "    .dataframe tbody tr th {\n",
       "        vertical-align: top;\n",
       "    }\n",
       "\n",
       "    .dataframe thead th {\n",
       "        text-align: right;\n",
       "    }\n",
       "</style>\n",
       "<table border=\"1\" class=\"dataframe\">\n",
       "  <thead>\n",
       "    <tr style=\"text-align: right;\">\n",
       "      <th></th>\n",
       "      <th>Customer ID</th>\n",
       "      <th>Tenure Months</th>\n",
       "      <th>Location</th>\n",
       "      <th>Device Class</th>\n",
       "      <th>Games Product</th>\n",
       "      <th>Music Product</th>\n",
       "      <th>Education Product</th>\n",
       "      <th>Call Center</th>\n",
       "      <th>Video Product</th>\n",
       "      <th>Use MyApp</th>\n",
       "      <th>...</th>\n",
       "      <th>CLTV (Predicted Thou. IDR)</th>\n",
       "      <th>service_used</th>\n",
       "      <th>payment_method_churn_rate</th>\n",
       "      <th>location_churn_rate</th>\n",
       "      <th>device_churn_rate</th>\n",
       "      <th>service_churn_rate</th>\n",
       "      <th>device_games_churn_rate</th>\n",
       "      <th>Tenure_Category</th>\n",
       "      <th>CLTV_Category</th>\n",
       "      <th>MonthlyPurchase_Category</th>\n",
       "    </tr>\n",
       "  </thead>\n",
       "  <tbody>\n",
       "    <tr>\n",
       "      <th>0</th>\n",
       "      <td>0</td>\n",
       "      <td>2</td>\n",
       "      <td>Jakarta</td>\n",
       "      <td>Mid End</td>\n",
       "      <td>1</td>\n",
       "      <td>1</td>\n",
       "      <td>0</td>\n",
       "      <td>0</td>\n",
       "      <td>0</td>\n",
       "      <td>0</td>\n",
       "      <td>...</td>\n",
       "      <td>4210.7</td>\n",
       "      <td>2</td>\n",
       "      <td>0.191067</td>\n",
       "      <td>0.26297</td>\n",
       "      <td>0.189591</td>\n",
       "      <td>0.188889</td>\n",
       "      <td>0.094915</td>\n",
       "      <td>Low Tenure</td>\n",
       "      <td>Low CLTV</td>\n",
       "      <td>Medium Monthly Purchase</td>\n",
       "    </tr>\n",
       "    <tr>\n",
       "      <th>1</th>\n",
       "      <td>1</td>\n",
       "      <td>2</td>\n",
       "      <td>Jakarta</td>\n",
       "      <td>High End</td>\n",
       "      <td>0</td>\n",
       "      <td>0</td>\n",
       "      <td>0</td>\n",
       "      <td>0</td>\n",
       "      <td>0</td>\n",
       "      <td>0</td>\n",
       "      <td>...</td>\n",
       "      <td>3511.3</td>\n",
       "      <td>0</td>\n",
       "      <td>0.452854</td>\n",
       "      <td>0.26297</td>\n",
       "      <td>0.418928</td>\n",
       "      <td>0.214060</td>\n",
       "      <td>0.493576</td>\n",
       "      <td>Low Tenure</td>\n",
       "      <td>Low CLTV</td>\n",
       "      <td>Medium Monthly Purchase</td>\n",
       "    </tr>\n",
       "    <tr>\n",
       "      <th>2</th>\n",
       "      <td>2</td>\n",
       "      <td>8</td>\n",
       "      <td>Jakarta</td>\n",
       "      <td>High End</td>\n",
       "      <td>0</td>\n",
       "      <td>0</td>\n",
       "      <td>1</td>\n",
       "      <td>0</td>\n",
       "      <td>1</td>\n",
       "      <td>1</td>\n",
       "      <td>...</td>\n",
       "      <td>6983.6</td>\n",
       "      <td>3</td>\n",
       "      <td>0.452854</td>\n",
       "      <td>0.26297</td>\n",
       "      <td>0.418928</td>\n",
       "      <td>0.507937</td>\n",
       "      <td>0.493576</td>\n",
       "      <td>Low Tenure</td>\n",
       "      <td>Medium CLTV</td>\n",
       "      <td>High Monthly Purchase</td>\n",
       "    </tr>\n",
       "    <tr>\n",
       "      <th>3</th>\n",
       "      <td>3</td>\n",
       "      <td>28</td>\n",
       "      <td>Jakarta</td>\n",
       "      <td>High End</td>\n",
       "      <td>0</td>\n",
       "      <td>0</td>\n",
       "      <td>1</td>\n",
       "      <td>1</td>\n",
       "      <td>1</td>\n",
       "      <td>1</td>\n",
       "      <td>...</td>\n",
       "      <td>6503.9</td>\n",
       "      <td>4</td>\n",
       "      <td>0.452854</td>\n",
       "      <td>0.26297</td>\n",
       "      <td>0.418928</td>\n",
       "      <td>0.289256</td>\n",
       "      <td>0.493576</td>\n",
       "      <td>Medium Tenure</td>\n",
       "      <td>Medium CLTV</td>\n",
       "      <td>High Monthly Purchase</td>\n",
       "    </tr>\n",
       "    <tr>\n",
       "      <th>4</th>\n",
       "      <td>4</td>\n",
       "      <td>49</td>\n",
       "      <td>Jakarta</td>\n",
       "      <td>High End</td>\n",
       "      <td>0</td>\n",
       "      <td>1</td>\n",
       "      <td>1</td>\n",
       "      <td>0</td>\n",
       "      <td>1</td>\n",
       "      <td>1</td>\n",
       "      <td>...</td>\n",
       "      <td>6942.0</td>\n",
       "      <td>4</td>\n",
       "      <td>0.167098</td>\n",
       "      <td>0.26297</td>\n",
       "      <td>0.418928</td>\n",
       "      <td>0.392857</td>\n",
       "      <td>0.493576</td>\n",
       "      <td>Medium Tenure</td>\n",
       "      <td>Medium CLTV</td>\n",
       "      <td>High Monthly Purchase</td>\n",
       "    </tr>\n",
       "  </tbody>\n",
       "</table>\n",
       "<p>5 rows × 25 columns</p>\n",
       "</div>"
      ],
      "text/plain": [
       "   Customer ID  Tenure Months Location Device Class  Games Product  \\\n",
       "0            0              2  Jakarta      Mid End              1   \n",
       "1            1              2  Jakarta     High End              0   \n",
       "2            2              8  Jakarta     High End              0   \n",
       "3            3             28  Jakarta     High End              0   \n",
       "4            4             49  Jakarta     High End              0   \n",
       "\n",
       "   Music Product  Education Product  Call Center  Video Product  Use MyApp  \\\n",
       "0              1                  0            0              0          0   \n",
       "1              0                  0            0              0          0   \n",
       "2              0                  1            0              1          1   \n",
       "3              0                  1            1              1          1   \n",
       "4              1                  1            0              1          1   \n",
       "\n",
       "   ... CLTV (Predicted Thou. IDR)  service_used  payment_method_churn_rate  \\\n",
       "0  ...                     4210.7             2                   0.191067   \n",
       "1  ...                     3511.3             0                   0.452854   \n",
       "2  ...                     6983.6             3                   0.452854   \n",
       "3  ...                     6503.9             4                   0.452854   \n",
       "4  ...                     6942.0             4                   0.167098   \n",
       "\n",
       "   location_churn_rate  device_churn_rate  service_churn_rate  \\\n",
       "0              0.26297           0.189591            0.188889   \n",
       "1              0.26297           0.418928            0.214060   \n",
       "2              0.26297           0.418928            0.507937   \n",
       "3              0.26297           0.418928            0.289256   \n",
       "4              0.26297           0.418928            0.392857   \n",
       "\n",
       "   device_games_churn_rate  Tenure_Category  CLTV_Category  \\\n",
       "0                 0.094915       Low Tenure       Low CLTV   \n",
       "1                 0.493576       Low Tenure       Low CLTV   \n",
       "2                 0.493576       Low Tenure    Medium CLTV   \n",
       "3                 0.493576    Medium Tenure    Medium CLTV   \n",
       "4                 0.493576    Medium Tenure    Medium CLTV   \n",
       "\n",
       "   MonthlyPurchase_Category  \n",
       "0   Medium Monthly Purchase  \n",
       "1   Medium Monthly Purchase  \n",
       "2     High Monthly Purchase  \n",
       "3     High Monthly Purchase  \n",
       "4     High Monthly Purchase  \n",
       "\n",
       "[5 rows x 25 columns]"
      ]
     },
     "execution_count": 42,
     "metadata": {},
     "output_type": "execute_result"
    }
   ],
   "source": [
    "df = pd.read_excel(\"data_modified_v2.xlsx\")\n",
    "df.head()"
   ]
  },
  {
   "cell_type": "code",
   "execution_count": 43,
   "metadata": {},
   "outputs": [
    {
     "data": {
      "text/html": [
       "<div>\n",
       "<style scoped>\n",
       "    .dataframe tbody tr th:only-of-type {\n",
       "        vertical-align: middle;\n",
       "    }\n",
       "\n",
       "    .dataframe tbody tr th {\n",
       "        vertical-align: top;\n",
       "    }\n",
       "\n",
       "    .dataframe thead th {\n",
       "        text-align: right;\n",
       "    }\n",
       "</style>\n",
       "<table border=\"1\" class=\"dataframe\">\n",
       "  <thead>\n",
       "    <tr style=\"text-align: right;\">\n",
       "      <th></th>\n",
       "      <th>Tenure Months</th>\n",
       "      <th>Location</th>\n",
       "      <th>Device Class</th>\n",
       "      <th>Games Product</th>\n",
       "      <th>Music Product</th>\n",
       "      <th>Education Product</th>\n",
       "      <th>Call Center</th>\n",
       "      <th>Video Product</th>\n",
       "      <th>Use MyApp</th>\n",
       "      <th>Payment Method</th>\n",
       "      <th>...</th>\n",
       "      <th>CLTV (Predicted Thou. IDR)</th>\n",
       "      <th>service_used</th>\n",
       "      <th>payment_method_churn_rate</th>\n",
       "      <th>location_churn_rate</th>\n",
       "      <th>device_churn_rate</th>\n",
       "      <th>service_churn_rate</th>\n",
       "      <th>device_games_churn_rate</th>\n",
       "      <th>Tenure_Category</th>\n",
       "      <th>CLTV_Category</th>\n",
       "      <th>MonthlyPurchase_Category</th>\n",
       "    </tr>\n",
       "  </thead>\n",
       "  <tbody>\n",
       "    <tr>\n",
       "      <th>0</th>\n",
       "      <td>2</td>\n",
       "      <td>Jakarta</td>\n",
       "      <td>Mid End</td>\n",
       "      <td>1</td>\n",
       "      <td>1</td>\n",
       "      <td>0</td>\n",
       "      <td>0</td>\n",
       "      <td>0</td>\n",
       "      <td>0</td>\n",
       "      <td>Digital Wallet</td>\n",
       "      <td>...</td>\n",
       "      <td>4210.7</td>\n",
       "      <td>2</td>\n",
       "      <td>0.191067</td>\n",
       "      <td>0.26297</td>\n",
       "      <td>0.189591</td>\n",
       "      <td>0.188889</td>\n",
       "      <td>0.094915</td>\n",
       "      <td>Low Tenure</td>\n",
       "      <td>Low CLTV</td>\n",
       "      <td>Medium Monthly Purchase</td>\n",
       "    </tr>\n",
       "    <tr>\n",
       "      <th>1</th>\n",
       "      <td>2</td>\n",
       "      <td>Jakarta</td>\n",
       "      <td>High End</td>\n",
       "      <td>0</td>\n",
       "      <td>0</td>\n",
       "      <td>0</td>\n",
       "      <td>0</td>\n",
       "      <td>0</td>\n",
       "      <td>0</td>\n",
       "      <td>Pulsa</td>\n",
       "      <td>...</td>\n",
       "      <td>3511.3</td>\n",
       "      <td>0</td>\n",
       "      <td>0.452854</td>\n",
       "      <td>0.26297</td>\n",
       "      <td>0.418928</td>\n",
       "      <td>0.214060</td>\n",
       "      <td>0.493576</td>\n",
       "      <td>Low Tenure</td>\n",
       "      <td>Low CLTV</td>\n",
       "      <td>Medium Monthly Purchase</td>\n",
       "    </tr>\n",
       "    <tr>\n",
       "      <th>2</th>\n",
       "      <td>8</td>\n",
       "      <td>Jakarta</td>\n",
       "      <td>High End</td>\n",
       "      <td>0</td>\n",
       "      <td>0</td>\n",
       "      <td>1</td>\n",
       "      <td>0</td>\n",
       "      <td>1</td>\n",
       "      <td>1</td>\n",
       "      <td>Pulsa</td>\n",
       "      <td>...</td>\n",
       "      <td>6983.6</td>\n",
       "      <td>3</td>\n",
       "      <td>0.452854</td>\n",
       "      <td>0.26297</td>\n",
       "      <td>0.418928</td>\n",
       "      <td>0.507937</td>\n",
       "      <td>0.493576</td>\n",
       "      <td>Low Tenure</td>\n",
       "      <td>Medium CLTV</td>\n",
       "      <td>High Monthly Purchase</td>\n",
       "    </tr>\n",
       "    <tr>\n",
       "      <th>3</th>\n",
       "      <td>28</td>\n",
       "      <td>Jakarta</td>\n",
       "      <td>High End</td>\n",
       "      <td>0</td>\n",
       "      <td>0</td>\n",
       "      <td>1</td>\n",
       "      <td>1</td>\n",
       "      <td>1</td>\n",
       "      <td>1</td>\n",
       "      <td>Pulsa</td>\n",
       "      <td>...</td>\n",
       "      <td>6503.9</td>\n",
       "      <td>4</td>\n",
       "      <td>0.452854</td>\n",
       "      <td>0.26297</td>\n",
       "      <td>0.418928</td>\n",
       "      <td>0.289256</td>\n",
       "      <td>0.493576</td>\n",
       "      <td>Medium Tenure</td>\n",
       "      <td>Medium CLTV</td>\n",
       "      <td>High Monthly Purchase</td>\n",
       "    </tr>\n",
       "    <tr>\n",
       "      <th>4</th>\n",
       "      <td>49</td>\n",
       "      <td>Jakarta</td>\n",
       "      <td>High End</td>\n",
       "      <td>0</td>\n",
       "      <td>1</td>\n",
       "      <td>1</td>\n",
       "      <td>0</td>\n",
       "      <td>1</td>\n",
       "      <td>1</td>\n",
       "      <td>Debit</td>\n",
       "      <td>...</td>\n",
       "      <td>6942.0</td>\n",
       "      <td>4</td>\n",
       "      <td>0.167098</td>\n",
       "      <td>0.26297</td>\n",
       "      <td>0.418928</td>\n",
       "      <td>0.392857</td>\n",
       "      <td>0.493576</td>\n",
       "      <td>Medium Tenure</td>\n",
       "      <td>Medium CLTV</td>\n",
       "      <td>High Monthly Purchase</td>\n",
       "    </tr>\n",
       "  </tbody>\n",
       "</table>\n",
       "<p>5 rows × 22 columns</p>\n",
       "</div>"
      ],
      "text/plain": [
       "   Tenure Months Location Device Class  Games Product  Music Product  \\\n",
       "0              2  Jakarta      Mid End              1              1   \n",
       "1              2  Jakarta     High End              0              0   \n",
       "2              8  Jakarta     High End              0              0   \n",
       "3             28  Jakarta     High End              0              0   \n",
       "4             49  Jakarta     High End              0              1   \n",
       "\n",
       "   Education Product  Call Center  Video Product  Use MyApp  Payment Method  \\\n",
       "0                  0            0              0          0  Digital Wallet   \n",
       "1                  0            0              0          0           Pulsa   \n",
       "2                  1            0              1          1           Pulsa   \n",
       "3                  1            1              1          1           Pulsa   \n",
       "4                  1            0              1          1           Debit   \n",
       "\n",
       "   ...  CLTV (Predicted Thou. IDR)  service_used  payment_method_churn_rate  \\\n",
       "0  ...                      4210.7             2                   0.191067   \n",
       "1  ...                      3511.3             0                   0.452854   \n",
       "2  ...                      6983.6             3                   0.452854   \n",
       "3  ...                      6503.9             4                   0.452854   \n",
       "4  ...                      6942.0             4                   0.167098   \n",
       "\n",
       "   location_churn_rate  device_churn_rate  service_churn_rate  \\\n",
       "0              0.26297           0.189591            0.188889   \n",
       "1              0.26297           0.418928            0.214060   \n",
       "2              0.26297           0.418928            0.507937   \n",
       "3              0.26297           0.418928            0.289256   \n",
       "4              0.26297           0.418928            0.392857   \n",
       "\n",
       "   device_games_churn_rate  Tenure_Category  CLTV_Category  \\\n",
       "0                 0.094915       Low Tenure       Low CLTV   \n",
       "1                 0.493576       Low Tenure       Low CLTV   \n",
       "2                 0.493576       Low Tenure    Medium CLTV   \n",
       "3                 0.493576    Medium Tenure    Medium CLTV   \n",
       "4                 0.493576    Medium Tenure    Medium CLTV   \n",
       "\n",
       "  MonthlyPurchase_Category  \n",
       "0  Medium Monthly Purchase  \n",
       "1  Medium Monthly Purchase  \n",
       "2    High Monthly Purchase  \n",
       "3    High Monthly Purchase  \n",
       "4    High Monthly Purchase  \n",
       "\n",
       "[5 rows x 22 columns]"
      ]
     },
     "execution_count": 43,
     "metadata": {},
     "output_type": "execute_result"
    }
   ],
   "source": [
    "df.drop([\"Customer ID\", \"Latitude\", \"Longitude\"], axis=1, inplace=True)\n",
    "df.head()"
   ]
  },
  {
   "cell_type": "code",
   "execution_count": 44,
   "metadata": {},
   "outputs": [
    {
     "data": {
      "text/plain": [
       "Index(['Tenure Months', 'Location', 'Device Class', 'Games Product',\n",
       "       'Music Product', 'Education Product', 'Call Center', 'Video Product',\n",
       "       'Use MyApp', 'Payment Method', 'Monthly Purchase (Thou. IDR)',\n",
       "       'Churn Label', 'CLTV (Predicted Thou. IDR)', 'service_used',\n",
       "       'payment_method_churn_rate', 'location_churn_rate', 'device_churn_rate',\n",
       "       'service_churn_rate', 'device_games_churn_rate', 'Tenure_Category',\n",
       "       'CLTV_Category', 'MonthlyPurchase_Category'],\n",
       "      dtype='object')"
      ]
     },
     "execution_count": 44,
     "metadata": {},
     "output_type": "execute_result"
    }
   ],
   "source": [
    "df.columns"
   ]
  },
  {
   "cell_type": "code",
   "execution_count": 45,
   "metadata": {},
   "outputs": [],
   "source": [
    "# scaler = MinMaxScaler()\n",
    "# need_scaled = ['Tenure Months', 'Monthly Purchase (Thou. IDR)', 'CLTV (Predicted Thou. IDR)']\n",
    "\n",
    "# df[need_scaled] = scaler.fit_transform(df[need_scaled])\n",
    "# df.head()\n",
    "\n",
    "\n",
    "\n",
    "# commented out because the accuracy is lower than the original"
   ]
  },
  {
   "cell_type": "code",
   "execution_count": 46,
   "metadata": {},
   "outputs": [],
   "source": [
    "def encode_data(df):\n",
    "    if df.dtype == \"object\":\n",
    "        le = LabelEncoder()\n",
    "        df = le.fit_transform(df)\n",
    "    return df"
   ]
  },
  {
   "cell_type": "code",
   "execution_count": 47,
   "metadata": {},
   "outputs": [
    {
     "data": {
      "text/html": [
       "<div>\n",
       "<style scoped>\n",
       "    .dataframe tbody tr th:only-of-type {\n",
       "        vertical-align: middle;\n",
       "    }\n",
       "\n",
       "    .dataframe tbody tr th {\n",
       "        vertical-align: top;\n",
       "    }\n",
       "\n",
       "    .dataframe thead th {\n",
       "        text-align: right;\n",
       "    }\n",
       "</style>\n",
       "<table border=\"1\" class=\"dataframe\">\n",
       "  <thead>\n",
       "    <tr style=\"text-align: right;\">\n",
       "      <th></th>\n",
       "      <th>Tenure Months</th>\n",
       "      <th>Location</th>\n",
       "      <th>Device Class</th>\n",
       "      <th>Games Product</th>\n",
       "      <th>Music Product</th>\n",
       "      <th>Education Product</th>\n",
       "      <th>Call Center</th>\n",
       "      <th>Video Product</th>\n",
       "      <th>Use MyApp</th>\n",
       "      <th>Payment Method</th>\n",
       "      <th>...</th>\n",
       "      <th>CLTV (Predicted Thou. IDR)</th>\n",
       "      <th>service_used</th>\n",
       "      <th>payment_method_churn_rate</th>\n",
       "      <th>location_churn_rate</th>\n",
       "      <th>device_churn_rate</th>\n",
       "      <th>service_churn_rate</th>\n",
       "      <th>device_games_churn_rate</th>\n",
       "      <th>Tenure_Category</th>\n",
       "      <th>CLTV_Category</th>\n",
       "      <th>MonthlyPurchase_Category</th>\n",
       "    </tr>\n",
       "  </thead>\n",
       "  <tbody>\n",
       "    <tr>\n",
       "      <th>0</th>\n",
       "      <td>2</td>\n",
       "      <td>1</td>\n",
       "      <td>2</td>\n",
       "      <td>1</td>\n",
       "      <td>1</td>\n",
       "      <td>0</td>\n",
       "      <td>0</td>\n",
       "      <td>0</td>\n",
       "      <td>0</td>\n",
       "      <td>2</td>\n",
       "      <td>...</td>\n",
       "      <td>4210.7</td>\n",
       "      <td>2</td>\n",
       "      <td>0.191067</td>\n",
       "      <td>0.26297</td>\n",
       "      <td>0.189591</td>\n",
       "      <td>0.188889</td>\n",
       "      <td>0.094915</td>\n",
       "      <td>1</td>\n",
       "      <td>1</td>\n",
       "      <td>2</td>\n",
       "    </tr>\n",
       "    <tr>\n",
       "      <th>1</th>\n",
       "      <td>2</td>\n",
       "      <td>1</td>\n",
       "      <td>0</td>\n",
       "      <td>0</td>\n",
       "      <td>0</td>\n",
       "      <td>0</td>\n",
       "      <td>0</td>\n",
       "      <td>0</td>\n",
       "      <td>0</td>\n",
       "      <td>3</td>\n",
       "      <td>...</td>\n",
       "      <td>3511.3</td>\n",
       "      <td>0</td>\n",
       "      <td>0.452854</td>\n",
       "      <td>0.26297</td>\n",
       "      <td>0.418928</td>\n",
       "      <td>0.214060</td>\n",
       "      <td>0.493576</td>\n",
       "      <td>1</td>\n",
       "      <td>1</td>\n",
       "      <td>2</td>\n",
       "    </tr>\n",
       "    <tr>\n",
       "      <th>2</th>\n",
       "      <td>8</td>\n",
       "      <td>1</td>\n",
       "      <td>0</td>\n",
       "      <td>0</td>\n",
       "      <td>0</td>\n",
       "      <td>1</td>\n",
       "      <td>0</td>\n",
       "      <td>1</td>\n",
       "      <td>1</td>\n",
       "      <td>3</td>\n",
       "      <td>...</td>\n",
       "      <td>6983.6</td>\n",
       "      <td>3</td>\n",
       "      <td>0.452854</td>\n",
       "      <td>0.26297</td>\n",
       "      <td>0.418928</td>\n",
       "      <td>0.507937</td>\n",
       "      <td>0.493576</td>\n",
       "      <td>1</td>\n",
       "      <td>2</td>\n",
       "      <td>0</td>\n",
       "    </tr>\n",
       "    <tr>\n",
       "      <th>3</th>\n",
       "      <td>28</td>\n",
       "      <td>1</td>\n",
       "      <td>0</td>\n",
       "      <td>0</td>\n",
       "      <td>0</td>\n",
       "      <td>1</td>\n",
       "      <td>1</td>\n",
       "      <td>1</td>\n",
       "      <td>1</td>\n",
       "      <td>3</td>\n",
       "      <td>...</td>\n",
       "      <td>6503.9</td>\n",
       "      <td>4</td>\n",
       "      <td>0.452854</td>\n",
       "      <td>0.26297</td>\n",
       "      <td>0.418928</td>\n",
       "      <td>0.289256</td>\n",
       "      <td>0.493576</td>\n",
       "      <td>2</td>\n",
       "      <td>2</td>\n",
       "      <td>0</td>\n",
       "    </tr>\n",
       "    <tr>\n",
       "      <th>4</th>\n",
       "      <td>49</td>\n",
       "      <td>1</td>\n",
       "      <td>0</td>\n",
       "      <td>0</td>\n",
       "      <td>1</td>\n",
       "      <td>1</td>\n",
       "      <td>0</td>\n",
       "      <td>1</td>\n",
       "      <td>1</td>\n",
       "      <td>1</td>\n",
       "      <td>...</td>\n",
       "      <td>6942.0</td>\n",
       "      <td>4</td>\n",
       "      <td>0.167098</td>\n",
       "      <td>0.26297</td>\n",
       "      <td>0.418928</td>\n",
       "      <td>0.392857</td>\n",
       "      <td>0.493576</td>\n",
       "      <td>2</td>\n",
       "      <td>2</td>\n",
       "      <td>0</td>\n",
       "    </tr>\n",
       "  </tbody>\n",
       "</table>\n",
       "<p>5 rows × 22 columns</p>\n",
       "</div>"
      ],
      "text/plain": [
       "   Tenure Months  Location  Device Class  Games Product  Music Product  \\\n",
       "0              2         1             2              1              1   \n",
       "1              2         1             0              0              0   \n",
       "2              8         1             0              0              0   \n",
       "3             28         1             0              0              0   \n",
       "4             49         1             0              0              1   \n",
       "\n",
       "   Education Product  Call Center  Video Product  Use MyApp  Payment Method  \\\n",
       "0                  0            0              0          0               2   \n",
       "1                  0            0              0          0               3   \n",
       "2                  1            0              1          1               3   \n",
       "3                  1            1              1          1               3   \n",
       "4                  1            0              1          1               1   \n",
       "\n",
       "   ...  CLTV (Predicted Thou. IDR)  service_used  payment_method_churn_rate  \\\n",
       "0  ...                      4210.7             2                   0.191067   \n",
       "1  ...                      3511.3             0                   0.452854   \n",
       "2  ...                      6983.6             3                   0.452854   \n",
       "3  ...                      6503.9             4                   0.452854   \n",
       "4  ...                      6942.0             4                   0.167098   \n",
       "\n",
       "   location_churn_rate  device_churn_rate  service_churn_rate  \\\n",
       "0              0.26297           0.189591            0.188889   \n",
       "1              0.26297           0.418928            0.214060   \n",
       "2              0.26297           0.418928            0.507937   \n",
       "3              0.26297           0.418928            0.289256   \n",
       "4              0.26297           0.418928            0.392857   \n",
       "\n",
       "   device_games_churn_rate  Tenure_Category  CLTV_Category  \\\n",
       "0                 0.094915                1              1   \n",
       "1                 0.493576                1              1   \n",
       "2                 0.493576                1              2   \n",
       "3                 0.493576                2              2   \n",
       "4                 0.493576                2              2   \n",
       "\n",
       "   MonthlyPurchase_Category  \n",
       "0                         2  \n",
       "1                         2  \n",
       "2                         0  \n",
       "3                         0  \n",
       "4                         0  \n",
       "\n",
       "[5 rows x 22 columns]"
      ]
     },
     "execution_count": 47,
     "metadata": {},
     "output_type": "execute_result"
    }
   ],
   "source": [
    "df = df.apply(lambda x: encode_data(x))\n",
    "df.head()"
   ]
  },
  {
   "cell_type": "code",
   "execution_count": 48,
   "metadata": {},
   "outputs": [
    {
     "data": {
      "application/vnd.plotly.v1+json": {
       "config": {
        "plotlyServerURL": "https://plot.ly"
       },
       "data": [
        {
         "alignmentgroup": "True",
         "hovertemplate": "index=%{x}<br>value=%{marker.color}<extra></extra>",
         "legendgroup": "",
         "marker": {
          "color": [
           1,
           0.3909039892182715,
           0.3457289728528547,
           0.3224545552123071,
           0.3033586255540694,
           0.2628182020893582,
           0.193356422237854,
           0.08909024363832924,
           0.06322774611875864,
           0.0613815480151869,
           0.025397572233346793,
           0.018087971608749212,
           0.008596374123943925,
           -0.008596374123850607,
           -0.06615979128029065,
           -0.08225486893814218,
           -0.0876981271195637,
           -0.12746310171745023,
           -0.16467355590159374,
           -0.171226291948553,
           -0.2408097340138934,
           -0.352228670113079
          ],
          "coloraxis": "coloraxis",
          "pattern": {
           "shape": ""
          }
         },
         "name": "",
         "offsetgroup": "",
         "orientation": "v",
         "showlegend": false,
         "textposition": "auto",
         "type": "bar",
         "x": [
          "Churn Label",
          "device_games_churn_rate",
          "service_churn_rate",
          "device_churn_rate",
          "payment_method_churn_rate",
          "Payment Method",
          "Monthly Purchase (Thou. IDR)",
          "Tenure_Category",
          "Video Product",
          "Use MyApp",
          "CLTV_Category",
          "MonthlyPurchase_Category",
          "location_churn_rate",
          "Location",
          "Education Product",
          "Music Product",
          "service_used",
          "CLTV (Predicted Thou. IDR)",
          "Call Center",
          "Games Product",
          "Device Class",
          "Tenure Months"
         ],
         "xaxis": "x",
         "y": [
          1,
          0.3909039892182715,
          0.3457289728528547,
          0.3224545552123071,
          0.3033586255540694,
          0.2628182020893582,
          0.193356422237854,
          0.08909024363832924,
          0.06322774611875864,
          0.0613815480151869,
          0.025397572233346793,
          0.018087971608749212,
          0.008596374123943925,
          -0.008596374123850607,
          -0.06615979128029065,
          -0.08225486893814218,
          -0.0876981271195637,
          -0.12746310171745023,
          -0.16467355590159374,
          -0.171226291948553,
          -0.2408097340138934,
          -0.352228670113079
         ],
         "yaxis": "y"
        }
       ],
       "layout": {
        "barmode": "relative",
        "coloraxis": {
         "colorbar": {
          "title": {
           "text": "value"
          }
         },
         "colorscale": [
          [
           0,
           "#0d0887"
          ],
          [
           0.1111111111111111,
           "#46039f"
          ],
          [
           0.2222222222222222,
           "#7201a8"
          ],
          [
           0.3333333333333333,
           "#9c179e"
          ],
          [
           0.4444444444444444,
           "#bd3786"
          ],
          [
           0.5555555555555556,
           "#d8576b"
          ],
          [
           0.6666666666666666,
           "#ed7953"
          ],
          [
           0.7777777777777778,
           "#fb9f3a"
          ],
          [
           0.8888888888888888,
           "#fdca26"
          ],
          [
           1,
           "#f0f921"
          ]
         ]
        },
        "legend": {
         "tracegroupgap": 0
        },
        "margin": {
         "t": 60
        },
        "template": {
         "data": {
          "bar": [
           {
            "error_x": {
             "color": "#2a3f5f"
            },
            "error_y": {
             "color": "#2a3f5f"
            },
            "marker": {
             "line": {
              "color": "#E5ECF6",
              "width": 0.5
             },
             "pattern": {
              "fillmode": "overlay",
              "size": 10,
              "solidity": 0.2
             }
            },
            "type": "bar"
           }
          ],
          "barpolar": [
           {
            "marker": {
             "line": {
              "color": "#E5ECF6",
              "width": 0.5
             },
             "pattern": {
              "fillmode": "overlay",
              "size": 10,
              "solidity": 0.2
             }
            },
            "type": "barpolar"
           }
          ],
          "carpet": [
           {
            "aaxis": {
             "endlinecolor": "#2a3f5f",
             "gridcolor": "white",
             "linecolor": "white",
             "minorgridcolor": "white",
             "startlinecolor": "#2a3f5f"
            },
            "baxis": {
             "endlinecolor": "#2a3f5f",
             "gridcolor": "white",
             "linecolor": "white",
             "minorgridcolor": "white",
             "startlinecolor": "#2a3f5f"
            },
            "type": "carpet"
           }
          ],
          "choropleth": [
           {
            "colorbar": {
             "outlinewidth": 0,
             "ticks": ""
            },
            "type": "choropleth"
           }
          ],
          "contour": [
           {
            "colorbar": {
             "outlinewidth": 0,
             "ticks": ""
            },
            "colorscale": [
             [
              0,
              "#0d0887"
             ],
             [
              0.1111111111111111,
              "#46039f"
             ],
             [
              0.2222222222222222,
              "#7201a8"
             ],
             [
              0.3333333333333333,
              "#9c179e"
             ],
             [
              0.4444444444444444,
              "#bd3786"
             ],
             [
              0.5555555555555556,
              "#d8576b"
             ],
             [
              0.6666666666666666,
              "#ed7953"
             ],
             [
              0.7777777777777778,
              "#fb9f3a"
             ],
             [
              0.8888888888888888,
              "#fdca26"
             ],
             [
              1,
              "#f0f921"
             ]
            ],
            "type": "contour"
           }
          ],
          "contourcarpet": [
           {
            "colorbar": {
             "outlinewidth": 0,
             "ticks": ""
            },
            "type": "contourcarpet"
           }
          ],
          "heatmap": [
           {
            "colorbar": {
             "outlinewidth": 0,
             "ticks": ""
            },
            "colorscale": [
             [
              0,
              "#0d0887"
             ],
             [
              0.1111111111111111,
              "#46039f"
             ],
             [
              0.2222222222222222,
              "#7201a8"
             ],
             [
              0.3333333333333333,
              "#9c179e"
             ],
             [
              0.4444444444444444,
              "#bd3786"
             ],
             [
              0.5555555555555556,
              "#d8576b"
             ],
             [
              0.6666666666666666,
              "#ed7953"
             ],
             [
              0.7777777777777778,
              "#fb9f3a"
             ],
             [
              0.8888888888888888,
              "#fdca26"
             ],
             [
              1,
              "#f0f921"
             ]
            ],
            "type": "heatmap"
           }
          ],
          "heatmapgl": [
           {
            "colorbar": {
             "outlinewidth": 0,
             "ticks": ""
            },
            "colorscale": [
             [
              0,
              "#0d0887"
             ],
             [
              0.1111111111111111,
              "#46039f"
             ],
             [
              0.2222222222222222,
              "#7201a8"
             ],
             [
              0.3333333333333333,
              "#9c179e"
             ],
             [
              0.4444444444444444,
              "#bd3786"
             ],
             [
              0.5555555555555556,
              "#d8576b"
             ],
             [
              0.6666666666666666,
              "#ed7953"
             ],
             [
              0.7777777777777778,
              "#fb9f3a"
             ],
             [
              0.8888888888888888,
              "#fdca26"
             ],
             [
              1,
              "#f0f921"
             ]
            ],
            "type": "heatmapgl"
           }
          ],
          "histogram": [
           {
            "marker": {
             "pattern": {
              "fillmode": "overlay",
              "size": 10,
              "solidity": 0.2
             }
            },
            "type": "histogram"
           }
          ],
          "histogram2d": [
           {
            "colorbar": {
             "outlinewidth": 0,
             "ticks": ""
            },
            "colorscale": [
             [
              0,
              "#0d0887"
             ],
             [
              0.1111111111111111,
              "#46039f"
             ],
             [
              0.2222222222222222,
              "#7201a8"
             ],
             [
              0.3333333333333333,
              "#9c179e"
             ],
             [
              0.4444444444444444,
              "#bd3786"
             ],
             [
              0.5555555555555556,
              "#d8576b"
             ],
             [
              0.6666666666666666,
              "#ed7953"
             ],
             [
              0.7777777777777778,
              "#fb9f3a"
             ],
             [
              0.8888888888888888,
              "#fdca26"
             ],
             [
              1,
              "#f0f921"
             ]
            ],
            "type": "histogram2d"
           }
          ],
          "histogram2dcontour": [
           {
            "colorbar": {
             "outlinewidth": 0,
             "ticks": ""
            },
            "colorscale": [
             [
              0,
              "#0d0887"
             ],
             [
              0.1111111111111111,
              "#46039f"
             ],
             [
              0.2222222222222222,
              "#7201a8"
             ],
             [
              0.3333333333333333,
              "#9c179e"
             ],
             [
              0.4444444444444444,
              "#bd3786"
             ],
             [
              0.5555555555555556,
              "#d8576b"
             ],
             [
              0.6666666666666666,
              "#ed7953"
             ],
             [
              0.7777777777777778,
              "#fb9f3a"
             ],
             [
              0.8888888888888888,
              "#fdca26"
             ],
             [
              1,
              "#f0f921"
             ]
            ],
            "type": "histogram2dcontour"
           }
          ],
          "mesh3d": [
           {
            "colorbar": {
             "outlinewidth": 0,
             "ticks": ""
            },
            "type": "mesh3d"
           }
          ],
          "parcoords": [
           {
            "line": {
             "colorbar": {
              "outlinewidth": 0,
              "ticks": ""
             }
            },
            "type": "parcoords"
           }
          ],
          "pie": [
           {
            "automargin": true,
            "type": "pie"
           }
          ],
          "scatter": [
           {
            "fillpattern": {
             "fillmode": "overlay",
             "size": 10,
             "solidity": 0.2
            },
            "type": "scatter"
           }
          ],
          "scatter3d": [
           {
            "line": {
             "colorbar": {
              "outlinewidth": 0,
              "ticks": ""
             }
            },
            "marker": {
             "colorbar": {
              "outlinewidth": 0,
              "ticks": ""
             }
            },
            "type": "scatter3d"
           }
          ],
          "scattercarpet": [
           {
            "marker": {
             "colorbar": {
              "outlinewidth": 0,
              "ticks": ""
             }
            },
            "type": "scattercarpet"
           }
          ],
          "scattergeo": [
           {
            "marker": {
             "colorbar": {
              "outlinewidth": 0,
              "ticks": ""
             }
            },
            "type": "scattergeo"
           }
          ],
          "scattergl": [
           {
            "marker": {
             "colorbar": {
              "outlinewidth": 0,
              "ticks": ""
             }
            },
            "type": "scattergl"
           }
          ],
          "scattermapbox": [
           {
            "marker": {
             "colorbar": {
              "outlinewidth": 0,
              "ticks": ""
             }
            },
            "type": "scattermapbox"
           }
          ],
          "scatterpolar": [
           {
            "marker": {
             "colorbar": {
              "outlinewidth": 0,
              "ticks": ""
             }
            },
            "type": "scatterpolar"
           }
          ],
          "scatterpolargl": [
           {
            "marker": {
             "colorbar": {
              "outlinewidth": 0,
              "ticks": ""
             }
            },
            "type": "scatterpolargl"
           }
          ],
          "scatterternary": [
           {
            "marker": {
             "colorbar": {
              "outlinewidth": 0,
              "ticks": ""
             }
            },
            "type": "scatterternary"
           }
          ],
          "surface": [
           {
            "colorbar": {
             "outlinewidth": 0,
             "ticks": ""
            },
            "colorscale": [
             [
              0,
              "#0d0887"
             ],
             [
              0.1111111111111111,
              "#46039f"
             ],
             [
              0.2222222222222222,
              "#7201a8"
             ],
             [
              0.3333333333333333,
              "#9c179e"
             ],
             [
              0.4444444444444444,
              "#bd3786"
             ],
             [
              0.5555555555555556,
              "#d8576b"
             ],
             [
              0.6666666666666666,
              "#ed7953"
             ],
             [
              0.7777777777777778,
              "#fb9f3a"
             ],
             [
              0.8888888888888888,
              "#fdca26"
             ],
             [
              1,
              "#f0f921"
             ]
            ],
            "type": "surface"
           }
          ],
          "table": [
           {
            "cells": {
             "fill": {
              "color": "#EBF0F8"
             },
             "line": {
              "color": "white"
             }
            },
            "header": {
             "fill": {
              "color": "#C8D4E3"
             },
             "line": {
              "color": "white"
             }
            },
            "type": "table"
           }
          ]
         },
         "layout": {
          "annotationdefaults": {
           "arrowcolor": "#2a3f5f",
           "arrowhead": 0,
           "arrowwidth": 1
          },
          "autotypenumbers": "strict",
          "coloraxis": {
           "colorbar": {
            "outlinewidth": 0,
            "ticks": ""
           }
          },
          "colorscale": {
           "diverging": [
            [
             0,
             "#8e0152"
            ],
            [
             0.1,
             "#c51b7d"
            ],
            [
             0.2,
             "#de77ae"
            ],
            [
             0.3,
             "#f1b6da"
            ],
            [
             0.4,
             "#fde0ef"
            ],
            [
             0.5,
             "#f7f7f7"
            ],
            [
             0.6,
             "#e6f5d0"
            ],
            [
             0.7,
             "#b8e186"
            ],
            [
             0.8,
             "#7fbc41"
            ],
            [
             0.9,
             "#4d9221"
            ],
            [
             1,
             "#276419"
            ]
           ],
           "sequential": [
            [
             0,
             "#0d0887"
            ],
            [
             0.1111111111111111,
             "#46039f"
            ],
            [
             0.2222222222222222,
             "#7201a8"
            ],
            [
             0.3333333333333333,
             "#9c179e"
            ],
            [
             0.4444444444444444,
             "#bd3786"
            ],
            [
             0.5555555555555556,
             "#d8576b"
            ],
            [
             0.6666666666666666,
             "#ed7953"
            ],
            [
             0.7777777777777778,
             "#fb9f3a"
            ],
            [
             0.8888888888888888,
             "#fdca26"
            ],
            [
             1,
             "#f0f921"
            ]
           ],
           "sequentialminus": [
            [
             0,
             "#0d0887"
            ],
            [
             0.1111111111111111,
             "#46039f"
            ],
            [
             0.2222222222222222,
             "#7201a8"
            ],
            [
             0.3333333333333333,
             "#9c179e"
            ],
            [
             0.4444444444444444,
             "#bd3786"
            ],
            [
             0.5555555555555556,
             "#d8576b"
            ],
            [
             0.6666666666666666,
             "#ed7953"
            ],
            [
             0.7777777777777778,
             "#fb9f3a"
            ],
            [
             0.8888888888888888,
             "#fdca26"
            ],
            [
             1,
             "#f0f921"
            ]
           ]
          },
          "colorway": [
           "#636efa",
           "#EF553B",
           "#00cc96",
           "#ab63fa",
           "#FFA15A",
           "#19d3f3",
           "#FF6692",
           "#B6E880",
           "#FF97FF",
           "#FECB52"
          ],
          "font": {
           "color": "#2a3f5f"
          },
          "geo": {
           "bgcolor": "white",
           "lakecolor": "white",
           "landcolor": "#E5ECF6",
           "showlakes": true,
           "showland": true,
           "subunitcolor": "white"
          },
          "hoverlabel": {
           "align": "left"
          },
          "hovermode": "closest",
          "mapbox": {
           "style": "light"
          },
          "paper_bgcolor": "white",
          "plot_bgcolor": "#E5ECF6",
          "polar": {
           "angularaxis": {
            "gridcolor": "white",
            "linecolor": "white",
            "ticks": ""
           },
           "bgcolor": "#E5ECF6",
           "radialaxis": {
            "gridcolor": "white",
            "linecolor": "white",
            "ticks": ""
           }
          },
          "scene": {
           "xaxis": {
            "backgroundcolor": "#E5ECF6",
            "gridcolor": "white",
            "gridwidth": 2,
            "linecolor": "white",
            "showbackground": true,
            "ticks": "",
            "zerolinecolor": "white"
           },
           "yaxis": {
            "backgroundcolor": "#E5ECF6",
            "gridcolor": "white",
            "gridwidth": 2,
            "linecolor": "white",
            "showbackground": true,
            "ticks": "",
            "zerolinecolor": "white"
           },
           "zaxis": {
            "backgroundcolor": "#E5ECF6",
            "gridcolor": "white",
            "gridwidth": 2,
            "linecolor": "white",
            "showbackground": true,
            "ticks": "",
            "zerolinecolor": "white"
           }
          },
          "shapedefaults": {
           "line": {
            "color": "#2a3f5f"
           }
          },
          "ternary": {
           "aaxis": {
            "gridcolor": "white",
            "linecolor": "white",
            "ticks": ""
           },
           "baxis": {
            "gridcolor": "white",
            "linecolor": "white",
            "ticks": ""
           },
           "bgcolor": "#E5ECF6",
           "caxis": {
            "gridcolor": "white",
            "linecolor": "white",
            "ticks": ""
           }
          },
          "title": {
           "x": 0.05
          },
          "xaxis": {
           "automargin": true,
           "gridcolor": "white",
           "linecolor": "white",
           "ticks": "",
           "title": {
            "standoff": 15
           },
           "zerolinecolor": "white",
           "zerolinewidth": 2
          },
          "yaxis": {
           "automargin": true,
           "gridcolor": "white",
           "linecolor": "white",
           "ticks": "",
           "title": {
            "standoff": 15
           },
           "zerolinecolor": "white",
           "zerolinewidth": 2
          }
         }
        },
        "xaxis": {
         "anchor": "y",
         "domain": [
          0,
          1
         ],
         "title": {
          "text": "index"
         }
        },
        "yaxis": {
         "anchor": "x",
         "domain": [
          0,
          1
         ],
         "title": {
          "text": "value"
         }
        }
       }
      }
     },
     "metadata": {},
     "output_type": "display_data"
    }
   ],
   "source": [
    "fig = px.bar(df.corr()['Churn Label'].sort_values(ascending = False),\n",
    "             color = 'value')\n",
    "fig.show()"
   ]
  },
  {
   "cell_type": "code",
   "execution_count": 49,
   "metadata": {},
   "outputs": [],
   "source": [
    "over = SMOTE(sampling_strategy=1)\n",
    "\n",
    "X = df.drop([\"Churn Label\"], axis=1)\n",
    "y = df[\"Churn Label\"]"
   ]
  },
  {
   "cell_type": "code",
   "execution_count": 50,
   "metadata": {},
   "outputs": [],
   "source": [
    "X, y = over.fit_resample(X, y)"
   ]
  },
  {
   "cell_type": "code",
   "execution_count": 51,
   "metadata": {},
   "outputs": [
    {
     "data": {
      "text/plain": [
       "((8278, 21), (2070, 21), (8278,), (2070,))"
      ]
     },
     "execution_count": 51,
     "metadata": {},
     "output_type": "execute_result"
    }
   ],
   "source": [
    "X_train, X_test, y_train, y_test = train_test_split(X, y, test_size=0.2)\n",
    "X_train.shape, X_test.shape, y_train.shape, y_test.shape"
   ]
  },
  {
   "cell_type": "code",
   "execution_count": 52,
   "metadata": {},
   "outputs": [],
   "source": [
    "def model(method, x_train, y_train, x_test, y_test):\n",
    "    # Train the model\n",
    "    method.fit(x_train, y_train)\n",
    "    \n",
    "    # Make predictions on test data and calculate confusion matrix\n",
    "    predictions = method.predict(x_test)\n",
    "    c_matrix = confusion_matrix(y_test, predictions)\n",
    "    \n",
    "    # Calculate label percentages and create label strings with counts and percentages\n",
    "    percentages = (c_matrix / np.sum(c_matrix, axis=1)[:, np.newaxis]).round(2) * 100\n",
    "    labels = [[f\"{c_matrix[i, j]} ({percentages[i, j]:.2f}%)\" for j in range(c_matrix.shape[1])] for i in range(c_matrix.shape[0])]\n",
    "    labels = np.asarray(labels)\n",
    "    \n",
    "    # Plot confusion matrix with labeled counts and percentages\n",
    "    sns.heatmap(c_matrix, annot=labels, fmt='', cmap='Blues')\n",
    "    \n",
    "    # Evaluate model performance and print results\n",
    "    print(\"ROC AUC: \", '{:.2%}'.format(roc_auc_score(y_test, predictions)))\n",
    "    print(\"Model accuracy: \", '{:.2%}'.format(accuracy_score(y_test, predictions)))\n",
    "    print(classification_report(y_test, predictions))"
   ]
  },
  {
   "cell_type": "code",
   "execution_count": 53,
   "metadata": {},
   "outputs": [
    {
     "name": "stdout",
     "output_type": "stream",
     "text": [
      "ROC AUC:  84.52%\n",
      "Model accuracy:  84.54%\n",
      "              precision    recall  f1-score   support\n",
      "\n",
      "           0       0.84      0.86      0.85      1048\n",
      "           1       0.85      0.83      0.84      1022\n",
      "\n",
      "    accuracy                           0.85      2070\n",
      "   macro avg       0.85      0.85      0.85      2070\n",
      "weighted avg       0.85      0.85      0.85      2070\n",
      "\n"
     ]
    },
    {
     "data": {
      "image/png": "[encoded data removed]",
      "text/plain": [
       "<Figure size 640x480 with 2 Axes>"
      ]
     },
     "metadata": {},
     "output_type": "display_data"
    }
   ],
   "source": [
    "xgb = XGBClassifier()\n",
    "\n",
    "model(xgb, X_train, y_train, X_test, y_test)"
   ]
  },
  {
   "cell_type": "code",
   "execution_count": 54,
   "metadata": {},
   "outputs": [
    {
     "name": "stdout",
     "output_type": "stream",
     "text": [
      "Fitting 3 folds for each of 48 candidates, totalling 144 fits\n",
      "{'learning_rate': 0.1, 'max_depth': 3, 'n_estimators': 250}\n",
      "0.9335325320179888\n"
     ]
    }
   ],
   "source": [
    "xgb = XGBClassifier()\n",
    "\n",
    "param_grid = {\n",
    "    'max_depth': [3, 4, 5, 6],\n",
    "    'learning_rate': [0.01, 0.1, 0.15],\n",
    "    'n_estimators': [200, 250, 300, 350],\n",
    "}\n",
    "\n",
    "grid_clf = GridSearchCV(xgb, param_grid, scoring='roc_auc', cv=3, n_jobs=1, verbose=1)\n",
    "grid_clf.fit(X_train, y_train)\n",
    "\n",
    "print(grid_clf.best_params_)\n",
    "print(grid_clf.best_score_)\n"
   ]
  },
  {
   "cell_type": "code",
   "execution_count": 55,
   "metadata": {},
   "outputs": [
    {
     "name": "stdout",
     "output_type": "stream",
     "text": [
      "0.8428429512555832\n",
      "0.8429951690821256\n"
     ]
    }
   ],
   "source": [
    "#roc auc score\n",
    "print(roc_auc_score(y_test, grid_clf.predict(X_test)))\n",
    "\n",
    "#accuracy score\n",
    "print(accuracy_score(y_test, grid_clf.predict(X_test)))"
   ]
  },
  {
   "cell_type": "code",
   "execution_count": 56,
   "metadata": {},
   "outputs": [
    {
     "name": "stdout",
     "output_type": "stream",
     "text": [
      "              precision    recall  f1-score   support\n",
      "\n",
      "           0       0.84      0.85      0.85      1048\n",
      "           1       0.85      0.83      0.84      1022\n",
      "\n",
      "    accuracy                           0.84      2070\n",
      "   macro avg       0.84      0.84      0.84      2070\n",
      "weighted avg       0.84      0.84      0.84      2070\n",
      "\n"
     ]
    },
    {
     "data": {
      "application/vnd.plotly.v1+json": {
       "config": {
        "plotlyServerURL": "https://plot.ly"
       },
       "data": [
        {
         "fillpattern": {
          "shape": ""
         },
         "hovertemplate": "False Positive Rate=%{x}<br>True Positive Rate=%{y}<extra></extra>",
         "legendgroup": "",
         "line": {
          "color": "#636efa"
         },
         "marker": {
          "symbol": "circle"
         },
         "mode": "lines",
         "name": "",
         "orientation": "v",
         "showlegend": false,
         "stackgroup": "1",
         "type": "scatter",
         "x": [
          0,
          0,
          0,
          0,
          0,
          0,
          0,
          0,
          0,
          0,
          0,
          0,
          0,
          0,
          0,
          0,
          0,
          0,
          0,
          0,
          0,
          0,
          0,
          0,
          0,
          0,
          0,
          0,
          0,
          0,
          0,
          0.0009541984732824427,
          0.0009541984732824427,
          0.0019083969465648854,
          0.0019083969465648854,
          0.0028625954198473282,
          0.0028625954198473282,
          0.0028625954198473282,
          0.0028625954198473282,
          0.0028625954198473282,
          0.0028625954198473282,
          0.0057251908396946565,
          0.0057251908396946565,
          0.007633587786259542,
          0.007633587786259542,
          0.008587786259541985,
          0.008587786259541985,
          0.009541984732824428,
          0.009541984732824428,
          0.01049618320610687,
          0.01049618320610687,
          0.011450381679389313,
          0.011450381679389313,
          0.012404580152671756,
          0.012404580152671756,
          0.013358778625954198,
          0.013358778625954198,
          0.01431297709923664,
          0.01431297709923664,
          0.016221374045801526,
          0.016221374045801526,
          0.01812977099236641,
          0.01812977099236641,
          0.019083969465648856,
          0.019083969465648856,
          0.02099236641221374,
          0.02099236641221374,
          0.02194656488549618,
          0.02194656488549618,
          0.022900763358778626,
          0.022900763358778626,
          0.02385496183206107,
          0.02385496183206107,
          0.02480916030534351,
          0.02480916030534351,
          0.025763358778625955,
          0.025763358778625955,
          0.026717557251908396,
          0.026717557251908396,
          0.02767175572519084,
          0.02767175572519084,
          0.029580152671755726,
          0.029580152671755726,
          0.030534351145038167,
          0.030534351145038167,
          0.03148854961832061,
          0.03148854961832061,
          0.03244274809160305,
          0.03244274809160305,
          0.033396946564885496,
          0.033396946564885496,
          0.03435114503816794,
          0.03435114503816794,
          0.035305343511450385,
          0.035305343511450385,
          0.03625954198473282,
          0.03625954198473282,
          0.03816793893129771,
          0.039122137404580155,
          0.039122137404580155,
          0.04103053435114504,
          0.04103053435114504,
          0.04389312977099236,
          0.04389312977099236,
          0.04866412213740458,
          0.04866412213740458,
          0.05057251908396947,
          0.05057251908396947,
          0.05152671755725191,
          0.05152671755725191,
          0.05629770992366412,
          0.05629770992366412,
          0.05820610687022901,
          0.05820610687022901,
          0.061068702290076333,
          0.061068702290076333,
          0.06202290076335878,
          0.06202290076335878,
          0.06297709923664122,
          0.06297709923664122,
          0.06393129770992366,
          0.06393129770992366,
          0.0648854961832061,
          0.0648854961832061,
          0.06583969465648855,
          0.06583969465648855,
          0.06774809160305344,
          0.06774809160305344,
          0.06965648854961833,
          0.06965648854961833,
          0.07061068702290077,
          0.07061068702290077,
          0.07347328244274809,
          0.07347328244274809,
          0.07442748091603053,
          0.07442748091603053,
          0.07538167938931298,
          0.07538167938931298,
          0.07633587786259542,
          0.07633587786259542,
          0.07729007633587787,
          0.07729007633587787,
          0.07729007633587787,
          0.07824427480916031,
          0.07824427480916031,
          0.07919847328244274,
          0.07919847328244274,
          0.08396946564885496,
          0.08396946564885496,
          0.0868320610687023,
          0.0868320610687023,
          0.08778625954198473,
          0.08778625954198473,
          0.08874045801526717,
          0.08874045801526717,
          0.09064885496183206,
          0.09064885496183206,
          0.09255725190839695,
          0.09255725190839695,
          0.09446564885496184,
          0.09446564885496184,
          0.09637404580152671,
          0.09637404580152671,
          0.0982824427480916,
          0.0982824427480916,
          0.09923664122137404,
          0.09923664122137404,
          0.10019083969465649,
          0.10019083969465649,
          0.10209923664122138,
          0.10209923664122138,
          0.1049618320610687,
          0.1049618320610687,
          0.10687022900763359,
          0.10687022900763359,
          0.10877862595419847,
          0.10877862595419847,
          0.10973282442748092,
          0.10973282442748092,
          0.11068702290076336,
          0.11068702290076336,
          0.11164122137404581,
          0.11164122137404581,
          0.11354961832061068,
          0.11354961832061068,
          0.11450381679389313,
          0.11450381679389313,
          0.11736641221374046,
          0.11736641221374046,
          0.1183206106870229,
          0.1183206106870229,
          0.11927480916030535,
          0.11927480916030535,
          0.12022900763358779,
          0.12022900763358779,
          0.12309160305343511,
          0.12309160305343511,
          0.12595419847328243,
          0.12595419847328243,
          0.1269083969465649,
          0.1269083969465649,
          0.12786259541984732,
          0.12786259541984732,
          0.12881679389312978,
          0.12881679389312978,
          0.1297709923664122,
          0.1297709923664122,
          0.1316793893129771,
          0.1316793893129771,
          0.13549618320610687,
          0.13549618320610687,
          0.1383587786259542,
          0.1383587786259542,
          0.13931297709923665,
          0.13931297709923665,
          0.1431297709923664,
          0.1431297709923664,
          0.14599236641221375,
          0.14599236641221375,
          0.14790076335877864,
          0.14790076335877864,
          0.14885496183206107,
          0.14885496183206107,
          0.15076335877862596,
          0.15076335877862596,
          0.15267175572519084,
          0.15267175572519084,
          0.15458015267175573,
          0.15458015267175573,
          0.15648854961832062,
          0.15648854961832062,
          0.15935114503816794,
          0.15935114503816794,
          0.16125954198473283,
          0.16125954198473283,
          0.16221374045801526,
          0.16221374045801526,
          0.16316793893129772,
          0.16316793893129772,
          0.16412213740458015,
          0.16412213740458015,
          0.1650763358778626,
          0.1650763358778626,
          0.16603053435114504,
          0.16603053435114504,
          0.16793893129770993,
          0.16793893129770993,
          0.16889312977099236,
          0.16889312977099236,
          0.17270992366412213,
          0.17270992366412213,
          0.1736641221374046,
          0.1736641221374046,
          0.17461832061068702,
          0.17461832061068702,
          0.1784351145038168,
          0.1784351145038168,
          0.17938931297709923,
          0.17938931297709923,
          0.1803435114503817,
          0.1803435114503817,
          0.18129770992366412,
          0.18129770992366412,
          0.18416030534351144,
          0.18416030534351144,
          0.1851145038167939,
          0.1851145038167939,
          0.1898854961832061,
          0.1898854961832061,
          0.191793893129771,
          0.191793893129771,
          0.19274809160305342,
          0.19274809160305342,
          0.19370229007633588,
          0.19370229007633588,
          0.19561068702290077,
          0.19561068702290077,
          0.1965648854961832,
          0.1965648854961832,
          0.1984732824427481,
          0.1984732824427481,
          0.19942748091603055,
          0.19942748091603055,
          0.2013358778625954,
          0.2013358778625954,
          0.20229007633587787,
          0.20229007633587787,
          0.20515267175572519,
          0.20515267175572519,
          0.21564885496183206,
          0.21564885496183206,
          0.21755725190839695,
          0.21755725190839695,
          0.21851145038167938,
          0.21851145038167938,
          0.22041984732824427,
          0.22041984732824427,
          0.22232824427480916,
          0.22232824427480916,
          0.22328244274809161,
          0.22328244274809161,
          0.22709923664122136,
          0.22709923664122136,
          0.23377862595419846,
          0.23377862595419846,
          0.23473282442748092,
          0.23473282442748092,
          0.23568702290076335,
          0.23568702290076335,
          0.23759541984732824,
          0.23759541984732824,
          0.2385496183206107,
          0.2385496183206107,
          0.24141221374045801,
          0.24141221374045801,
          0.2452290076335878,
          0.2452290076335878,
          0.24713740458015268,
          0.24713740458015268,
          0.25190839694656486,
          0.25190839694656486,
          0.2547709923664122,
          0.2547709923664122,
          0.25572519083969464,
          0.25572519083969464,
          0.2566793893129771,
          0.2566793893129771,
          0.258587786259542,
          0.258587786259542,
          0.26049618320610685,
          0.26049618320610685,
          0.26145038167938933,
          0.26145038167938933,
          0.26240458015267176,
          0.26240458015267176,
          0.2643129770992366,
          0.2643129770992366,
          0.2652671755725191,
          0.2652671755725191,
          0.2681297709923664,
          0.2681297709923664,
          0.2700381679389313,
          0.2700381679389313,
          0.2719465648854962,
          0.2719465648854962,
          0.2738549618320611,
          0.2738549618320611,
          0.2748091603053435,
          0.2748091603053435,
          0.28053435114503816,
          0.28053435114503816,
          0.2919847328244275,
          0.2919847328244275,
          0.3015267175572519,
          0.3015267175572519,
          0.3053435114503817,
          0.3053435114503817,
          0.30820610687022904,
          0.30820610687022904,
          0.3148854961832061,
          0.3148854961832061,
          0.31679389312977096,
          0.31679389312977096,
          0.31774809160305345,
          0.31774809160305345,
          0.3234732824427481,
          0.3234732824427481,
          0.3301526717557252,
          0.3301526717557252,
          0.33587786259541985,
          0.33587786259541985,
          0.3520992366412214,
          0.3520992366412214,
          0.35782442748091603,
          0.35782442748091603,
          0.3616412213740458,
          0.3616412213740458,
          0.3683206106870229,
          0.3683206106870229,
          0.3702290076335878,
          0.3702290076335878,
          0.37213740458015265,
          0.37213740458015265,
          0.37309160305343514,
          0.37309160305343514,
          0.375,
          0.375,
          0.3788167938931298,
          0.3788167938931298,
          0.3845419847328244,
          0.3845419847328244,
          0.39217557251908397,
          0.39217557251908397,
          0.3979007633587786,
          0.3979007633587786,
          0.4169847328244275,
          0.4169847328244275,
          0.41889312977099236,
          0.41889312977099236,
          0.4217557251908397,
          0.4217557251908397,
          0.42270992366412213,
          0.42270992366412213,
          0.42461832061068705,
          0.42461832061068705,
          0.44561068702290074,
          0.44561068702290074,
          0.4675572519083969,
          0.4675572519083969,
          0.4713740458015267,
          0.4713740458015267,
          0.4723282442748092,
          0.4723282442748092,
          0.4799618320610687,
          0.4799618320610687,
          0.49904580152671757,
          0.49904580152671757,
          0.5085877862595419,
          0.5085877862595419,
          0.5333969465648855,
          0.5333969465648855,
          0.5572519083969466,
          0.5572519083969466,
          0.5591603053435115,
          0.5591603053435115,
          0.5658396946564885,
          0.5658396946564885,
          0.5782442748091603,
          0.5782442748091603,
          0.5954198473282443,
          0.5954198473282443,
          0.6049618320610687,
          0.6049618320610687,
          0.6164122137404581,
          0.6164122137404581,
          0.6192748091603053,
          0.6192748091603053,
          0.6221374045801527,
          0.6221374045801527,
          0.6335877862595419,
          0.6335877862595419,
          0.6469465648854962,
          0.6469465648854962,
          0.674618320610687,
          0.674618320610687,
          0.691793893129771,
          0.691793893129771,
          0.7156488549618321,
          0.7156488549618321,
          0.7175572519083969,
          0.7175572519083969,
          0.7786259541984732,
          0.7786259541984732,
          0.8377862595419847,
          0.8396946564885496,
          0.8959923664122137,
          0.8959923664122137,
          0.9990458015267175,
          0.9990458015267175,
          1
         ],
         "xaxis": "x",
         "y": [
          0,
          0.0009784735812133072,
          0.05968688845401174,
          0.06164383561643835,
          0.09784735812133072,
          0.09980430528375733,
          0.14383561643835616,
          0.14579256360078277,
          0.17906066536203522,
          0.18101761252446183,
          0.19667318982387474,
          0.19863013698630136,
          0.20645792563600782,
          0.20841487279843443,
          0.24266144814090018,
          0.2446183953033268,
          0.34540117416829746,
          0.3473581213307241,
          0.3649706457925636,
          0.3669275929549902,
          0.39823874755381605,
          0.40117416829745595,
          0.4726027397260274,
          0.474559686888454,
          0.5,
          0.5019569471624267,
          0.5117416829745597,
          0.5136986301369864,
          0.5420743639921722,
          0.5440313111545988,
          0.547945205479452,
          0.547945205479452,
          0.5499021526418787,
          0.5499021526418787,
          0.5567514677103719,
          0.5567514677103719,
          0.5821917808219178,
          0.5841487279843445,
          0.6154598825831703,
          0.6174168297455969,
          0.6252446183953033,
          0.6252446183953033,
          0.6291585127201565,
          0.6291585127201565,
          0.6330724070450098,
          0.6330724070450098,
          0.6428571428571429,
          0.6428571428571429,
          0.6477495107632094,
          0.6477495107632094,
          0.6506849315068494,
          0.6506849315068494,
          0.6516634050880626,
          0.6516634050880626,
          0.6545988258317026,
          0.6545988258317026,
          0.6555772994129159,
          0.6555772994129159,
          0.6565557729941291,
          0.6565557729941291,
          0.6585127201565558,
          0.6585127201565558,
          0.6604696673189824,
          0.6604696673189824,
          0.6653620352250489,
          0.6653620352250489,
          0.6663405088062623,
          0.6663405088062623,
          0.6682974559686888,
          0.6682974559686888,
          0.6731898238747553,
          0.6731898238747553,
          0.675146771037182,
          0.675146771037182,
          0.6771037181996086,
          0.6771037181996086,
          0.678082191780822,
          0.678082191780822,
          0.6839530332681018,
          0.6839530332681018,
          0.684931506849315,
          0.684931506849315,
          0.6859099804305284,
          0.6859099804305284,
          0.6868884540117417,
          0.6868884540117417,
          0.6908023483365949,
          0.6908023483365949,
          0.6917808219178082,
          0.6917808219178082,
          0.6966731898238747,
          0.6966731898238747,
          0.6986301369863014,
          0.6986301369863014,
          0.700587084148728,
          0.700587084148728,
          0.7035225048923679,
          0.7035225048923679,
          0.7045009784735812,
          0.7084148727984344,
          0.7084148727984344,
          0.7113502935420744,
          0.7113502935420744,
          0.7162426614481409,
          0.7162426614481409,
          0.7221135029354208,
          0.7221135029354208,
          0.7250489236790607,
          0.7250489236790607,
          0.726027397260274,
          0.726027397260274,
          0.7279843444227005,
          0.7279843444227005,
          0.7289628180039139,
          0.7289628180039139,
          0.7318982387475538,
          0.7318982387475538,
          0.7328767123287672,
          0.7328767123287672,
          0.735812133072407,
          0.735812133072407,
          0.7377690802348337,
          0.7377690802348337,
          0.7397260273972602,
          0.7397260273972602,
          0.7416829745596869,
          0.7416829745596869,
          0.7426614481409002,
          0.7426614481409002,
          0.7446183953033269,
          0.7446183953033269,
          0.7465753424657534,
          0.7465753424657534,
          0.7485322896281801,
          0.7485322896281801,
          0.7514677103718199,
          0.7514677103718199,
          0.7553816046966731,
          0.7553816046966731,
          0.7573385518590998,
          0.7573385518590998,
          0.761252446183953,
          0.7622309197651663,
          0.7622309197651663,
          0.7632093933463796,
          0.7632093933463796,
          0.7681017612524462,
          0.7681017612524462,
          0.7690802348336595,
          0.7690802348336595,
          0.7720156555772995,
          0.7720156555772995,
          0.7729941291585127,
          0.7729941291585127,
          0.7749510763209393,
          0.7749510763209393,
          0.776908023483366,
          0.776908023483366,
          0.7778864970645792,
          0.7778864970645792,
          0.7788649706457925,
          0.7788649706457925,
          0.7827788649706457,
          0.7827788649706457,
          0.7876712328767124,
          0.7876712328767124,
          0.7906066536203522,
          0.7906066536203522,
          0.7915851272015656,
          0.7915851272015656,
          0.7925636007827789,
          0.7925636007827789,
          0.7954990215264188,
          0.7954990215264188,
          0.7974559686888454,
          0.7974559686888454,
          0.8003913894324853,
          0.8003913894324853,
          0.8013698630136986,
          0.8013698630136986,
          0.8033268101761253,
          0.8033268101761253,
          0.8043052837573386,
          0.8043052837573386,
          0.8052837573385518,
          0.8052837573385518,
          0.8082191780821918,
          0.8082191780821918,
          0.8101761252446184,
          0.8101761252446184,
          0.8131115459882583,
          0.8131115459882583,
          0.815068493150685,
          0.815068493150685,
          0.8160469667318982,
          0.8160469667318982,
          0.8180039138943248,
          0.8180039138943248,
          0.8199608610567515,
          0.8199608610567515,
          0.8209393346379648,
          0.8209393346379648,
          0.8228962818003914,
          0.8228962818003914,
          0.8238747553816047,
          0.824853228962818,
          0.8258317025440313,
          0.8258317025440313,
          0.8268101761252447,
          0.8268101761252447,
          0.8277886497064579,
          0.8277886497064579,
          0.8287671232876712,
          0.8287671232876712,
          0.8297455968688845,
          0.8297455968688845,
          0.8307240704500979,
          0.8307240704500979,
          0.8336594911937377,
          0.8336594911937377,
          0.8346379647749511,
          0.8346379647749511,
          0.8365949119373777,
          0.8365949119373777,
          0.8385518590998043,
          0.8385518590998043,
          0.8405088062622309,
          0.8405088062622309,
          0.8444227005870841,
          0.8444227005870841,
          0.8483365949119374,
          0.8483365949119374,
          0.850293542074364,
          0.850293542074364,
          0.8512720156555773,
          0.8512720156555773,
          0.8522504892367906,
          0.8522504892367906,
          0.8571428571428571,
          0.8571428571428571,
          0.8581213307240705,
          0.8581213307240705,
          0.8590998043052838,
          0.8590998043052838,
          0.860078277886497,
          0.860078277886497,
          0.8620352250489237,
          0.8620352250489237,
          0.8649706457925636,
          0.8649706457925636,
          0.8659491193737769,
          0.8659491193737769,
          0.8679060665362035,
          0.8679060665362035,
          0.8708414872798435,
          0.8708414872798435,
          0.8718199608610567,
          0.8718199608610567,
          0.87279843444227,
          0.87279843444227,
          0.8737769080234834,
          0.8737769080234834,
          0.8747553816046967,
          0.8747553816046967,
          0.87573385518591,
          0.87573385518591,
          0.8767123287671232,
          0.8767123287671232,
          0.8786692759295499,
          0.8786692759295499,
          0.8806262230919765,
          0.8806262230919765,
          0.8816046966731899,
          0.8816046966731899,
          0.8835616438356164,
          0.8835616438356164,
          0.8855185909980431,
          0.8855185909980431,
          0.8884540117416829,
          0.8884540117416829,
          0.8894324853228963,
          0.8894324853228963,
          0.8923679060665362,
          0.8923679060665362,
          0.8953033268101761,
          0.8953033268101761,
          0.8972602739726028,
          0.8972602739726028,
          0.8992172211350293,
          0.8992172211350293,
          0.901174168297456,
          0.901174168297456,
          0.9021526418786693,
          0.9021526418786693,
          0.9031311154598826,
          0.9031311154598826,
          0.9050880626223092,
          0.9050880626223092,
          0.9070450097847358,
          0.9070450097847358,
          0.9090019569471625,
          0.9090019569471625,
          0.910958904109589,
          0.910958904109589,
          0.9119373776908023,
          0.9119373776908023,
          0.9129158512720157,
          0.9129158512720157,
          0.913894324853229,
          0.913894324853229,
          0.9158512720156555,
          0.9158512720156555,
          0.9178082191780822,
          0.9178082191780822,
          0.9187866927592955,
          0.9187866927592955,
          0.9197651663405088,
          0.9197651663405088,
          0.9207436399217221,
          0.9207436399217221,
          0.9217221135029354,
          0.9217221135029354,
          0.9227005870841487,
          0.9227005870841487,
          0.9246575342465754,
          0.9246575342465754,
          0.9275929549902152,
          0.9275929549902152,
          0.9285714285714286,
          0.9285714285714286,
          0.9295499021526419,
          0.9295499021526419,
          0.9315068493150684,
          0.9315068493150684,
          0.9324853228962818,
          0.9324853228962818,
          0.9334637964774951,
          0.9334637964774951,
          0.9354207436399217,
          0.9354207436399217,
          0.9373776908023483,
          0.9373776908023483,
          0.9383561643835616,
          0.9383561643835616,
          0.9393346379647749,
          0.9393346379647749,
          0.9403131115459883,
          0.9403131115459883,
          0.9412915851272016,
          0.9412915851272016,
          0.9422700587084148,
          0.9422700587084148,
          0.9432485322896281,
          0.9432485322896281,
          0.9442270058708415,
          0.9442270058708415,
          0.9452054794520548,
          0.9452054794520548,
          0.9461839530332681,
          0.9461839530332681,
          0.9471624266144814,
          0.9471624266144814,
          0.9481409001956947,
          0.9481409001956947,
          0.949119373776908,
          0.949119373776908,
          0.9500978473581213,
          0.9500978473581213,
          0.9510763209393346,
          0.9510763209393346,
          0.952054794520548,
          0.952054794520548,
          0.9530332681017613,
          0.9530332681017613,
          0.9549902152641878,
          0.9549902152641878,
          0.9559686888454012,
          0.9559686888454012,
          0.9569471624266145,
          0.9569471624266145,
          0.9579256360078278,
          0.9579256360078278,
          0.9598825831702544,
          0.9598825831702544,
          0.9608610567514677,
          0.9608610567514677,
          0.961839530332681,
          0.961839530332681,
          0.9628180039138943,
          0.9628180039138943,
          0.9637964774951077,
          0.9637964774951077,
          0.9647749510763209,
          0.9647749510763209,
          0.9657534246575342,
          0.9657534246575342,
          0.9667318982387475,
          0.9667318982387475,
          0.9677103718199609,
          0.9677103718199609,
          0.9686888454011742,
          0.9686888454011742,
          0.9706457925636007,
          0.9706457925636007,
          0.9716242661448141,
          0.9716242661448141,
          0.9726027397260274,
          0.9726027397260274,
          0.9735812133072407,
          0.9735812133072407,
          0.974559686888454,
          0.974559686888454,
          0.9755381604696673,
          0.9755381604696673,
          0.9765166340508806,
          0.9765166340508806,
          0.9784735812133072,
          0.9784735812133072,
          0.9794520547945206,
          0.9794520547945206,
          0.9804305283757339,
          0.9804305283757339,
          0.9814090019569471,
          0.9814090019569471,
          0.9823874755381604,
          0.9823874755381604,
          0.9833659491193738,
          0.9833659491193738,
          0.9843444227005871,
          0.9843444227005871,
          0.9863013698630136,
          0.9863013698630136,
          0.987279843444227,
          0.987279843444227,
          0.9882583170254403,
          0.9882583170254403,
          0.9892367906066536,
          0.9892367906066536,
          0.9902152641878669,
          0.9902152641878669,
          0.9911937377690803,
          0.9911937377690803,
          0.9921722113502935,
          0.9921722113502935,
          0.9931506849315068,
          0.9931506849315068,
          0.9941291585127201,
          0.9941291585127201,
          0.9951076320939335,
          0.9951076320939335,
          0.9960861056751468,
          0.9960861056751468,
          0.99706457925636,
          0.99706457925636,
          0.99706457925636,
          0.99706457925636,
          0.9990215264187867,
          0.9990215264187867,
          1,
          1
         ],
         "yaxis": "y"
        }
       ],
       "layout": {
        "height": 500,
        "legend": {
         "tracegroupgap": 0
        },
        "shapes": [
         {
          "line": {
           "dash": "dash"
          },
          "type": "line",
          "x0": 0,
          "x1": 1,
          "y0": 0,
          "y1": 1
         }
        ],
        "template": {
         "data": {
          "bar": [
           {
            "error_x": {
             "color": "#2a3f5f"
            },
            "error_y": {
             "color": "#2a3f5f"
            },
            "marker": {
             "line": {
              "color": "#E5ECF6",
              "width": 0.5
             },
             "pattern": {
              "fillmode": "overlay",
              "size": 10,
              "solidity": 0.2
             }
            },
            "type": "bar"
           }
          ],
          "barpolar": [
           {
            "marker": {
             "line": {
              "color": "#E5ECF6",
              "width": 0.5
             },
             "pattern": {
              "fillmode": "overlay",
              "size": 10,
              "solidity": 0.2
             }
            },
            "type": "barpolar"
           }
          ],
          "carpet": [
           {
            "aaxis": {
             "endlinecolor": "#2a3f5f",
             "gridcolor": "white",
             "linecolor": "white",
             "minorgridcolor": "white",
             "startlinecolor": "#2a3f5f"
            },
            "baxis": {
             "endlinecolor": "#2a3f5f",
             "gridcolor": "white",
             "linecolor": "white",
             "minorgridcolor": "white",
             "startlinecolor": "#2a3f5f"
            },
            "type": "carpet"
           }
          ],
          "choropleth": [
           {
            "colorbar": {
             "outlinewidth": 0,
             "ticks": ""
            },
            "type": "choropleth"
           }
          ],
          "contour": [
           {
            "colorbar": {
             "outlinewidth": 0,
             "ticks": ""
            },
            "colorscale": [
             [
              0,
              "#0d0887"
             ],
             [
              0.1111111111111111,
              "#46039f"
             ],
             [
              0.2222222222222222,
              "#7201a8"
             ],
             [
              0.3333333333333333,
              "#9c179e"
             ],
             [
              0.4444444444444444,
              "#bd3786"
             ],
             [
              0.5555555555555556,
              "#d8576b"
             ],
             [
              0.6666666666666666,
              "#ed7953"
             ],
             [
              0.7777777777777778,
              "#fb9f3a"
             ],
             [
              0.8888888888888888,
              "#fdca26"
             ],
             [
              1,
              "#f0f921"
             ]
            ],
            "type": "contour"
           }
          ],
          "contourcarpet": [
           {
            "colorbar": {
             "outlinewidth": 0,
             "ticks": ""
            },
            "type": "contourcarpet"
           }
          ],
          "heatmap": [
           {
            "colorbar": {
             "outlinewidth": 0,
             "ticks": ""
            },
            "colorscale": [
             [
              0,
              "#0d0887"
             ],
             [
              0.1111111111111111,
              "#46039f"
             ],
             [
              0.2222222222222222,
              "#7201a8"
             ],
             [
              0.3333333333333333,
              "#9c179e"
             ],
             [
              0.4444444444444444,
              "#bd3786"
             ],
             [
              0.5555555555555556,
              "#d8576b"
             ],
             [
              0.6666666666666666,
              "#ed7953"
             ],
             [
              0.7777777777777778,
              "#fb9f3a"
             ],
             [
              0.8888888888888888,
              "#fdca26"
             ],
             [
              1,
              "#f0f921"
             ]
            ],
            "type": "heatmap"
           }
          ],
          "heatmapgl": [
           {
            "colorbar": {
             "outlinewidth": 0,
             "ticks": ""
            },
            "colorscale": [
             [
              0,
              "#0d0887"
             ],
             [
              0.1111111111111111,
              "#46039f"
             ],
             [
              0.2222222222222222,
              "#7201a8"
             ],
             [
              0.3333333333333333,
              "#9c179e"
             ],
             [
              0.4444444444444444,
              "#bd3786"
             ],
             [
              0.5555555555555556,
              "#d8576b"
             ],
             [
              0.6666666666666666,
              "#ed7953"
             ],
             [
              0.7777777777777778,
              "#fb9f3a"
             ],
             [
              0.8888888888888888,
              "#fdca26"
             ],
             [
              1,
              "#f0f921"
             ]
            ],
            "type": "heatmapgl"
           }
          ],
          "histogram": [
           {
            "marker": {
             "pattern": {
              "fillmode": "overlay",
              "size": 10,
              "solidity": 0.2
             }
            },
            "type": "histogram"
           }
          ],
          "histogram2d": [
           {
            "colorbar": {
             "outlinewidth": 0,
             "ticks": ""
            },
            "colorscale": [
             [
              0,
              "#0d0887"
             ],
             [
              0.1111111111111111,
              "#46039f"
             ],
             [
              0.2222222222222222,
              "#7201a8"
             ],
             [
              0.3333333333333333,
              "#9c179e"
             ],
             [
              0.4444444444444444,
              "#bd3786"
             ],
             [
              0.5555555555555556,
              "#d8576b"
             ],
             [
              0.6666666666666666,
              "#ed7953"
             ],
             [
              0.7777777777777778,
              "#fb9f3a"
             ],
             [
              0.8888888888888888,
              "#fdca26"
             ],
             [
              1,
              "#f0f921"
             ]
            ],
            "type": "histogram2d"
           }
          ],
          "histogram2dcontour": [
           {
            "colorbar": {
             "outlinewidth": 0,
             "ticks": ""
            },
            "colorscale": [
             [
              0,
              "#0d0887"
             ],
             [
              0.1111111111111111,
              "#46039f"
             ],
             [
              0.2222222222222222,
              "#7201a8"
             ],
             [
              0.3333333333333333,
              "#9c179e"
             ],
             [
              0.4444444444444444,
              "#bd3786"
             ],
             [
              0.5555555555555556,
              "#d8576b"
             ],
             [
              0.6666666666666666,
              "#ed7953"
             ],
             [
              0.7777777777777778,
              "#fb9f3a"
             ],
             [
              0.8888888888888888,
              "#fdca26"
             ],
             [
              1,
              "#f0f921"
             ]
            ],
            "type": "histogram2dcontour"
           }
          ],
          "mesh3d": [
           {
            "colorbar": {
             "outlinewidth": 0,
             "ticks": ""
            },
            "type": "mesh3d"
           }
          ],
          "parcoords": [
           {
            "line": {
             "colorbar": {
              "outlinewidth": 0,
              "ticks": ""
             }
            },
            "type": "parcoords"
           }
          ],
          "pie": [
           {
            "automargin": true,
            "type": "pie"
           }
          ],
          "scatter": [
           {
            "fillpattern": {
             "fillmode": "overlay",
             "size": 10,
             "solidity": 0.2
            },
            "type": "scatter"
           }
          ],
          "scatter3d": [
           {
            "line": {
             "colorbar": {
              "outlinewidth": 0,
              "ticks": ""
             }
            },
            "marker": {
             "colorbar": {
              "outlinewidth": 0,
              "ticks": ""
             }
            },
            "type": "scatter3d"
           }
          ],
          "scattercarpet": [
           {
            "marker": {
             "colorbar": {
              "outlinewidth": 0,
              "ticks": ""
             }
            },
            "type": "scattercarpet"
           }
          ],
          "scattergeo": [
           {
            "marker": {
             "colorbar": {
              "outlinewidth": 0,
              "ticks": ""
             }
            },
            "type": "scattergeo"
           }
          ],
          "scattergl": [
           {
            "marker": {
             "colorbar": {
              "outlinewidth": 0,
              "ticks": ""
             }
            },
            "type": "scattergl"
           }
          ],
          "scattermapbox": [
           {
            "marker": {
             "colorbar": {
              "outlinewidth": 0,
              "ticks": ""
             }
            },
            "type": "scattermapbox"
           }
          ],
          "scatterpolar": [
           {
            "marker": {
             "colorbar": {
              "outlinewidth": 0,
              "ticks": ""
             }
            },
            "type": "scatterpolar"
           }
          ],
          "scatterpolargl": [
           {
            "marker": {
             "colorbar": {
              "outlinewidth": 0,
              "ticks": ""
             }
            },
            "type": "scatterpolargl"
           }
          ],
          "scatterternary": [
           {
            "marker": {
             "colorbar": {
              "outlinewidth": 0,
              "ticks": ""
             }
            },
            "type": "scatterternary"
           }
          ],
          "surface": [
           {
            "colorbar": {
             "outlinewidth": 0,
             "ticks": ""
            },
            "colorscale": [
             [
              0,
              "#0d0887"
             ],
             [
              0.1111111111111111,
              "#46039f"
             ],
             [
              0.2222222222222222,
              "#7201a8"
             ],
             [
              0.3333333333333333,
              "#9c179e"
             ],
             [
              0.4444444444444444,
              "#bd3786"
             ],
             [
              0.5555555555555556,
              "#d8576b"
             ],
             [
              0.6666666666666666,
              "#ed7953"
             ],
             [
              0.7777777777777778,
              "#fb9f3a"
             ],
             [
              0.8888888888888888,
              "#fdca26"
             ],
             [
              1,
              "#f0f921"
             ]
            ],
            "type": "surface"
           }
          ],
          "table": [
           {
            "cells": {
             "fill": {
              "color": "#EBF0F8"
             },
             "line": {
              "color": "white"
             }
            },
            "header": {
             "fill": {
              "color": "#C8D4E3"
             },
             "line": {
              "color": "white"
             }
            },
            "type": "table"
           }
          ]
         },
         "layout": {
          "annotationdefaults": {
           "arrowcolor": "#2a3f5f",
           "arrowhead": 0,
           "arrowwidth": 1
          },
          "autotypenumbers": "strict",
          "coloraxis": {
           "colorbar": {
            "outlinewidth": 0,
            "ticks": ""
           }
          },
          "colorscale": {
           "diverging": [
            [
             0,
             "#8e0152"
            ],
            [
             0.1,
             "#c51b7d"
            ],
            [
             0.2,
             "#de77ae"
            ],
            [
             0.3,
             "#f1b6da"
            ],
            [
             0.4,
             "#fde0ef"
            ],
            [
             0.5,
             "#f7f7f7"
            ],
            [
             0.6,
             "#e6f5d0"
            ],
            [
             0.7,
             "#b8e186"
            ],
            [
             0.8,
             "#7fbc41"
            ],
            [
             0.9,
             "#4d9221"
            ],
            [
             1,
             "#276419"
            ]
           ],
           "sequential": [
            [
             0,
             "#0d0887"
            ],
            [
             0.1111111111111111,
             "#46039f"
            ],
            [
             0.2222222222222222,
             "#7201a8"
            ],
            [
             0.3333333333333333,
             "#9c179e"
            ],
            [
             0.4444444444444444,
             "#bd3786"
            ],
            [
             0.5555555555555556,
             "#d8576b"
            ],
            [
             0.6666666666666666,
             "#ed7953"
            ],
            [
             0.7777777777777778,
             "#fb9f3a"
            ],
            [
             0.8888888888888888,
             "#fdca26"
            ],
            [
             1,
             "#f0f921"
            ]
           ],
           "sequentialminus": [
            [
             0,
             "#0d0887"
            ],
            [
             0.1111111111111111,
             "#46039f"
            ],
            [
             0.2222222222222222,
             "#7201a8"
            ],
            [
             0.3333333333333333,
             "#9c179e"
            ],
            [
             0.4444444444444444,
             "#bd3786"
            ],
            [
             0.5555555555555556,
             "#d8576b"
            ],
            [
             0.6666666666666666,
             "#ed7953"
            ],
            [
             0.7777777777777778,
             "#fb9f3a"
            ],
            [
             0.8888888888888888,
             "#fdca26"
            ],
            [
             1,
             "#f0f921"
            ]
           ]
          },
          "colorway": [
           "#636efa",
           "#EF553B",
           "#00cc96",
           "#ab63fa",
           "#FFA15A",
           "#19d3f3",
           "#FF6692",
           "#B6E880",
           "#FF97FF",
           "#FECB52"
          ],
          "font": {
           "color": "#2a3f5f"
          },
          "geo": {
           "bgcolor": "white",
           "lakecolor": "white",
           "landcolor": "#E5ECF6",
           "showlakes": true,
           "showland": true,
           "subunitcolor": "white"
          },
          "hoverlabel": {
           "align": "left"
          },
          "hovermode": "closest",
          "mapbox": {
           "style": "light"
          },
          "paper_bgcolor": "white",
          "plot_bgcolor": "#E5ECF6",
          "polar": {
           "angularaxis": {
            "gridcolor": "white",
            "linecolor": "white",
            "ticks": ""
           },
           "bgcolor": "#E5ECF6",
           "radialaxis": {
            "gridcolor": "white",
            "linecolor": "white",
            "ticks": ""
           }
          },
          "scene": {
           "xaxis": {
            "backgroundcolor": "#E5ECF6",
            "gridcolor": "white",
            "gridwidth": 2,
            "linecolor": "white",
            "showbackground": true,
            "ticks": "",
            "zerolinecolor": "white"
           },
           "yaxis": {
            "backgroundcolor": "#E5ECF6",
            "gridcolor": "white",
            "gridwidth": 2,
            "linecolor": "white",
            "showbackground": true,
            "ticks": "",
            "zerolinecolor": "white"
           },
           "zaxis": {
            "backgroundcolor": "#E5ECF6",
            "gridcolor": "white",
            "gridwidth": 2,
            "linecolor": "white",
            "showbackground": true,
            "ticks": "",
            "zerolinecolor": "white"
           }
          },
          "shapedefaults": {
           "line": {
            "color": "#2a3f5f"
           }
          },
          "ternary": {
           "aaxis": {
            "gridcolor": "white",
            "linecolor": "white",
            "ticks": ""
           },
           "baxis": {
            "gridcolor": "white",
            "linecolor": "white",
            "ticks": ""
           },
           "bgcolor": "#E5ECF6",
           "caxis": {
            "gridcolor": "white",
            "linecolor": "white",
            "ticks": ""
           }
          },
          "title": {
           "x": 0.05
          },
          "xaxis": {
           "automargin": true,
           "gridcolor": "white",
           "linecolor": "white",
           "ticks": "",
           "title": {
            "standoff": 15
           },
           "zerolinecolor": "white",
           "zerolinewidth": 2
          },
          "yaxis": {
           "automargin": true,
           "gridcolor": "white",
           "linecolor": "white",
           "ticks": "",
           "title": {
            "standoff": 15
           },
           "zerolinecolor": "white",
           "zerolinewidth": 2
          }
         }
        },
        "title": {
         "text": "ROC Curve (AUC=0.9366)"
        },
        "width": 700,
        "xaxis": {
         "anchor": "y",
         "constrain": "domain",
         "domain": [
          0,
          1
         ],
         "title": {
          "text": "False Positive Rate"
         }
        },
        "yaxis": {
         "anchor": "x",
         "domain": [
          0,
          1
         ],
         "scaleanchor": "x",
         "scaleratio": 1,
         "title": {
          "text": "True Positive Rate"
         }
        }
       }
      }
     },
     "metadata": {},
     "output_type": "display_data"
    },
    {
     "data": {
      "image/png": "[encoded data removed]",
      "text/plain": [
       "<Figure size 640x480 with 2 Axes>"
      ]
     },
     "metadata": {},
     "output_type": "display_data"
    }
   ],
   "source": [
    "# classification report\n",
    "print(classification_report(y_test, grid_clf.predict(X_test)))\n",
    "\n",
    "#confusion matrix\n",
    "c_matrix = confusion_matrix(y_test, grid_clf.predict(X_test))\n",
    "\n",
    "#plot confusion matrix\n",
    "sns.heatmap(c_matrix, annot=True, fmt='', cmap='Blues')\n",
    "\n",
    "#plot roc curve\n",
    "fpr, tpr, thresholds = roc_curve(y_test, grid_clf.predict_proba(X_test)[:,1])\n",
    "roc_auc = auc(fpr, tpr)\n",
    "\n",
    "fig = px.area(\n",
    "    x=fpr, y=tpr,\n",
    "    title=f'ROC Curve (AUC={roc_auc:.4f})',\n",
    "    labels=dict(x='False Positive Rate', y='True Positive Rate'),\n",
    "    width=700, height=500\n",
    ")\n",
    "fig.add_shape(\n",
    "    type='line', line=dict(dash='dash'),\n",
    "    x0=0, x1=1, y0=0, y1=1\n",
    ")\n",
    "\n",
    "fig.update_yaxes(scaleanchor=\"x\", scaleratio=1)\n",
    "fig.update_xaxes(constrain='domain')\n",
    "fig.show()\n"
   ]
  },
  {
   "cell_type": "code",
   "execution_count": 57,
   "metadata": {},
   "outputs": [
    {
     "data": {
      "application/vnd.plotly.v1+json": {
       "config": {
        "plotlyServerURL": "https://plot.ly"
       },
       "data": [
        {
         "alignmentgroup": "True",
         "hovertemplate": "index=%{x}<br>value=%{y}<br>color=%{marker.color}<extra></extra>",
         "legendgroup": "",
         "marker": {
          "color": [
           0.1689126342535019,
           0.16638801991939545,
           0.1359553039073944,
           0.12455451488494873,
           0.0621032789349556,
           0.05253509804606438,
           0.05071229487657547,
           0.04813651368021965,
           0.04135582596063614,
           0.03448351100087166,
           0.02161194570362568,
           0.01700487546622753,
           0.016470102593302727,
           0.014943190850317478,
           0.010540989227592945,
           0.007684554439038038,
           0.007549157366156578,
           0.006178971379995346,
           0.005881321616470814,
           0.004157915711402893,
           0.002839954337105155
          ],
          "coloraxis": "coloraxis",
          "pattern": {
           "shape": ""
          }
         },
         "name": "",
         "offsetgroup": "",
         "orientation": "v",
         "showlegend": false,
         "textposition": "auto",
         "type": "bar",
         "x": [
          "device_games_churn_rate",
          "payment_method_churn_rate",
          "Call Center",
          "location_churn_rate",
          "Payment Method",
          "device_churn_rate",
          "Music Product",
          "Tenure_Category",
          "Tenure Months",
          "service_used",
          "Education Product",
          "service_churn_rate",
          "Location",
          "MonthlyPurchase_Category",
          "Games Product",
          "Monthly Purchase (Thou. IDR)",
          "Use MyApp",
          "Device Class",
          "CLTV (Predicted Thou. IDR)",
          "Video Product",
          "CLTV_Category"
         ],
         "xaxis": "x",
         "y": [
          0.1689126342535019,
          0.16638801991939545,
          0.1359553039073944,
          0.12455451488494873,
          0.0621032789349556,
          0.05253509804606438,
          0.05071229487657547,
          0.04813651368021965,
          0.04135582596063614,
          0.03448351100087166,
          0.02161194570362568,
          0.01700487546622753,
          0.016470102593302727,
          0.014943190850317478,
          0.010540989227592945,
          0.007684554439038038,
          0.007549157366156578,
          0.006178971379995346,
          0.005881321616470814,
          0.004157915711402893,
          0.002839954337105155
         ],
         "yaxis": "y"
        }
       ],
       "layout": {
        "barmode": "relative",
        "coloraxis": {
         "colorbar": {
          "title": {
           "text": "color"
          }
         },
         "colorscale": [
          [
           0,
           "#0d0887"
          ],
          [
           0.1111111111111111,
           "#46039f"
          ],
          [
           0.2222222222222222,
           "#7201a8"
          ],
          [
           0.3333333333333333,
           "#9c179e"
          ],
          [
           0.4444444444444444,
           "#bd3786"
          ],
          [
           0.5555555555555556,
           "#d8576b"
          ],
          [
           0.6666666666666666,
           "#ed7953"
          ],
          [
           0.7777777777777778,
           "#fb9f3a"
          ],
          [
           0.8888888888888888,
           "#fdca26"
          ],
          [
           1,
           "#f0f921"
          ]
         ]
        },
        "legend": {
         "tracegroupgap": 0
        },
        "template": {
         "data": {
          "bar": [
           {
            "error_x": {
             "color": "#2a3f5f"
            },
            "error_y": {
             "color": "#2a3f5f"
            },
            "marker": {
             "line": {
              "color": "#E5ECF6",
              "width": 0.5
             },
             "pattern": {
              "fillmode": "overlay",
              "size": 10,
              "solidity": 0.2
             }
            },
            "type": "bar"
           }
          ],
          "barpolar": [
           {
            "marker": {
             "line": {
              "color": "#E5ECF6",
              "width": 0.5
             },
             "pattern": {
              "fillmode": "overlay",
              "size": 10,
              "solidity": 0.2
             }
            },
            "type": "barpolar"
           }
          ],
          "carpet": [
           {
            "aaxis": {
             "endlinecolor": "#2a3f5f",
             "gridcolor": "white",
             "linecolor": "white",
             "minorgridcolor": "white",
             "startlinecolor": "#2a3f5f"
            },
            "baxis": {
             "endlinecolor": "#2a3f5f",
             "gridcolor": "white",
             "linecolor": "white",
             "minorgridcolor": "white",
             "startlinecolor": "#2a3f5f"
            },
            "type": "carpet"
           }
          ],
          "choropleth": [
           {
            "colorbar": {
             "outlinewidth": 0,
             "ticks": ""
            },
            "type": "choropleth"
           }
          ],
          "contour": [
           {
            "colorbar": {
             "outlinewidth": 0,
             "ticks": ""
            },
            "colorscale": [
             [
              0,
              "#0d0887"
             ],
             [
              0.1111111111111111,
              "#46039f"
             ],
             [
              0.2222222222222222,
              "#7201a8"
             ],
             [
              0.3333333333333333,
              "#9c179e"
             ],
             [
              0.4444444444444444,
              "#bd3786"
             ],
             [
              0.5555555555555556,
              "#d8576b"
             ],
             [
              0.6666666666666666,
              "#ed7953"
             ],
             [
              0.7777777777777778,
              "#fb9f3a"
             ],
             [
              0.8888888888888888,
              "#fdca26"
             ],
             [
              1,
              "#f0f921"
             ]
            ],
            "type": "contour"
           }
          ],
          "contourcarpet": [
           {
            "colorbar": {
             "outlinewidth": 0,
             "ticks": ""
            },
            "type": "contourcarpet"
           }
          ],
          "heatmap": [
           {
            "colorbar": {
             "outlinewidth": 0,
             "ticks": ""
            },
            "colorscale": [
             [
              0,
              "#0d0887"
             ],
             [
              0.1111111111111111,
              "#46039f"
             ],
             [
              0.2222222222222222,
              "#7201a8"
             ],
             [
              0.3333333333333333,
              "#9c179e"
             ],
             [
              0.4444444444444444,
              "#bd3786"
             ],
             [
              0.5555555555555556,
              "#d8576b"
             ],
             [
              0.6666666666666666,
              "#ed7953"
             ],
             [
              0.7777777777777778,
              "#fb9f3a"
             ],
             [
              0.8888888888888888,
              "#fdca26"
             ],
             [
              1,
              "#f0f921"
             ]
            ],
            "type": "heatmap"
           }
          ],
          "heatmapgl": [
           {
            "colorbar": {
             "outlinewidth": 0,
             "ticks": ""
            },
            "colorscale": [
             [
              0,
              "#0d0887"
             ],
             [
              0.1111111111111111,
              "#46039f"
             ],
             [
              0.2222222222222222,
              "#7201a8"
             ],
             [
              0.3333333333333333,
              "#9c179e"
             ],
             [
              0.4444444444444444,
              "#bd3786"
             ],
             [
              0.5555555555555556,
              "#d8576b"
             ],
             [
              0.6666666666666666,
              "#ed7953"
             ],
             [
              0.7777777777777778,
              "#fb9f3a"
             ],
             [
              0.8888888888888888,
              "#fdca26"
             ],
             [
              1,
              "#f0f921"
             ]
            ],
            "type": "heatmapgl"
           }
          ],
          "histogram": [
           {
            "marker": {
             "pattern": {
              "fillmode": "overlay",
              "size": 10,
              "solidity": 0.2
             }
            },
            "type": "histogram"
           }
          ],
          "histogram2d": [
           {
            "colorbar": {
             "outlinewidth": 0,
             "ticks": ""
            },
            "colorscale": [
             [
              0,
              "#0d0887"
             ],
             [
              0.1111111111111111,
              "#46039f"
             ],
             [
              0.2222222222222222,
              "#7201a8"
             ],
             [
              0.3333333333333333,
              "#9c179e"
             ],
             [
              0.4444444444444444,
              "#bd3786"
             ],
             [
              0.5555555555555556,
              "#d8576b"
             ],
             [
              0.6666666666666666,
              "#ed7953"
             ],
             [
              0.7777777777777778,
              "#fb9f3a"
             ],
             [
              0.8888888888888888,
              "#fdca26"
             ],
             [
              1,
              "#f0f921"
             ]
            ],
            "type": "histogram2d"
           }
          ],
          "histogram2dcontour": [
           {
            "colorbar": {
             "outlinewidth": 0,
             "ticks": ""
            },
            "colorscale": [
             [
              0,
              "#0d0887"
             ],
             [
              0.1111111111111111,
              "#46039f"
             ],
             [
              0.2222222222222222,
              "#7201a8"
             ],
             [
              0.3333333333333333,
              "#9c179e"
             ],
             [
              0.4444444444444444,
              "#bd3786"
             ],
             [
              0.5555555555555556,
              "#d8576b"
             ],
             [
              0.6666666666666666,
              "#ed7953"
             ],
             [
              0.7777777777777778,
              "#fb9f3a"
             ],
             [
              0.8888888888888888,
              "#fdca26"
             ],
             [
              1,
              "#f0f921"
             ]
            ],
            "type": "histogram2dcontour"
           }
          ],
          "mesh3d": [
           {
            "colorbar": {
             "outlinewidth": 0,
             "ticks": ""
            },
            "type": "mesh3d"
           }
          ],
          "parcoords": [
           {
            "line": {
             "colorbar": {
              "outlinewidth": 0,
              "ticks": ""
             }
            },
            "type": "parcoords"
           }
          ],
          "pie": [
           {
            "automargin": true,
            "type": "pie"
           }
          ],
          "scatter": [
           {
            "fillpattern": {
             "fillmode": "overlay",
             "size": 10,
             "solidity": 0.2
            },
            "type": "scatter"
           }
          ],
          "scatter3d": [
           {
            "line": {
             "colorbar": {
              "outlinewidth": 0,
              "ticks": ""
             }
            },
            "marker": {
             "colorbar": {
              "outlinewidth": 0,
              "ticks": ""
             }
            },
            "type": "scatter3d"
           }
          ],
          "scattercarpet": [
           {
            "marker": {
             "colorbar": {
              "outlinewidth": 0,
              "ticks": ""
             }
            },
            "type": "scattercarpet"
           }
          ],
          "scattergeo": [
           {
            "marker": {
             "colorbar": {
              "outlinewidth": 0,
              "ticks": ""
             }
            },
            "type": "scattergeo"
           }
          ],
          "scattergl": [
           {
            "marker": {
             "colorbar": {
              "outlinewidth": 0,
              "ticks": ""
             }
            },
            "type": "scattergl"
           }
          ],
          "scattermapbox": [
           {
            "marker": {
             "colorbar": {
              "outlinewidth": 0,
              "ticks": ""
             }
            },
            "type": "scattermapbox"
           }
          ],
          "scatterpolar": [
           {
            "marker": {
             "colorbar": {
              "outlinewidth": 0,
              "ticks": ""
             }
            },
            "type": "scatterpolar"
           }
          ],
          "scatterpolargl": [
           {
            "marker": {
             "colorbar": {
              "outlinewidth": 0,
              "ticks": ""
             }
            },
            "type": "scatterpolargl"
           }
          ],
          "scatterternary": [
           {
            "marker": {
             "colorbar": {
              "outlinewidth": 0,
              "ticks": ""
             }
            },
            "type": "scatterternary"
           }
          ],
          "surface": [
           {
            "colorbar": {
             "outlinewidth": 0,
             "ticks": ""
            },
            "colorscale": [
             [
              0,
              "#0d0887"
             ],
             [
              0.1111111111111111,
              "#46039f"
             ],
             [
              0.2222222222222222,
              "#7201a8"
             ],
             [
              0.3333333333333333,
              "#9c179e"
             ],
             [
              0.4444444444444444,
              "#bd3786"
             ],
             [
              0.5555555555555556,
              "#d8576b"
             ],
             [
              0.6666666666666666,
              "#ed7953"
             ],
             [
              0.7777777777777778,
              "#fb9f3a"
             ],
             [
              0.8888888888888888,
              "#fdca26"
             ],
             [
              1,
              "#f0f921"
             ]
            ],
            "type": "surface"
           }
          ],
          "table": [
           {
            "cells": {
             "fill": {
              "color": "#EBF0F8"
             },
             "line": {
              "color": "white"
             }
            },
            "header": {
             "fill": {
              "color": "#C8D4E3"
             },
             "line": {
              "color": "white"
             }
            },
            "type": "table"
           }
          ]
         },
         "layout": {
          "annotationdefaults": {
           "arrowcolor": "#2a3f5f",
           "arrowhead": 0,
           "arrowwidth": 1
          },
          "autotypenumbers": "strict",
          "coloraxis": {
           "colorbar": {
            "outlinewidth": 0,
            "ticks": ""
           }
          },
          "colorscale": {
           "diverging": [
            [
             0,
             "#8e0152"
            ],
            [
             0.1,
             "#c51b7d"
            ],
            [
             0.2,
             "#de77ae"
            ],
            [
             0.3,
             "#f1b6da"
            ],
            [
             0.4,
             "#fde0ef"
            ],
            [
             0.5,
             "#f7f7f7"
            ],
            [
             0.6,
             "#e6f5d0"
            ],
            [
             0.7,
             "#b8e186"
            ],
            [
             0.8,
             "#7fbc41"
            ],
            [
             0.9,
             "#4d9221"
            ],
            [
             1,
             "#276419"
            ]
           ],
           "sequential": [
            [
             0,
             "#0d0887"
            ],
            [
             0.1111111111111111,
             "#46039f"
            ],
            [
             0.2222222222222222,
             "#7201a8"
            ],
            [
             0.3333333333333333,
             "#9c179e"
            ],
            [
             0.4444444444444444,
             "#bd3786"
            ],
            [
             0.5555555555555556,
             "#d8576b"
            ],
            [
             0.6666666666666666,
             "#ed7953"
            ],
            [
             0.7777777777777778,
             "#fb9f3a"
            ],
            [
             0.8888888888888888,
             "#fdca26"
            ],
            [
             1,
             "#f0f921"
            ]
           ],
           "sequentialminus": [
            [
             0,
             "#0d0887"
            ],
            [
             0.1111111111111111,
             "#46039f"
            ],
            [
             0.2222222222222222,
             "#7201a8"
            ],
            [
             0.3333333333333333,
             "#9c179e"
            ],
            [
             0.4444444444444444,
             "#bd3786"
            ],
            [
             0.5555555555555556,
             "#d8576b"
            ],
            [
             0.6666666666666666,
             "#ed7953"
            ],
            [
             0.7777777777777778,
             "#fb9f3a"
            ],
            [
             0.8888888888888888,
             "#fdca26"
            ],
            [
             1,
             "#f0f921"
            ]
           ]
          },
          "colorway": [
           "#636efa",
           "#EF553B",
           "#00cc96",
           "#ab63fa",
           "#FFA15A",
           "#19d3f3",
           "#FF6692",
           "#B6E880",
           "#FF97FF",
           "#FECB52"
          ],
          "font": {
           "color": "#2a3f5f"
          },
          "geo": {
           "bgcolor": "white",
           "lakecolor": "white",
           "landcolor": "#E5ECF6",
           "showlakes": true,
           "showland": true,
           "subunitcolor": "white"
          },
          "hoverlabel": {
           "align": "left"
          },
          "hovermode": "closest",
          "mapbox": {
           "style": "light"
          },
          "paper_bgcolor": "white",
          "plot_bgcolor": "#E5ECF6",
          "polar": {
           "angularaxis": {
            "gridcolor": "white",
            "linecolor": "white",
            "ticks": ""
           },
           "bgcolor": "#E5ECF6",
           "radialaxis": {
            "gridcolor": "white",
            "linecolor": "white",
            "ticks": ""
           }
          },
          "scene": {
           "xaxis": {
            "backgroundcolor": "#E5ECF6",
            "gridcolor": "white",
            "gridwidth": 2,
            "linecolor": "white",
            "showbackground": true,
            "ticks": "",
            "zerolinecolor": "white"
           },
           "yaxis": {
            "backgroundcolor": "#E5ECF6",
            "gridcolor": "white",
            "gridwidth": 2,
            "linecolor": "white",
            "showbackground": true,
            "ticks": "",
            "zerolinecolor": "white"
           },
           "zaxis": {
            "backgroundcolor": "#E5ECF6",
            "gridcolor": "white",
            "gridwidth": 2,
            "linecolor": "white",
            "showbackground": true,
            "ticks": "",
            "zerolinecolor": "white"
           }
          },
          "shapedefaults": {
           "line": {
            "color": "#2a3f5f"
           }
          },
          "ternary": {
           "aaxis": {
            "gridcolor": "white",
            "linecolor": "white",
            "ticks": ""
           },
           "baxis": {
            "gridcolor": "white",
            "linecolor": "white",
            "ticks": ""
           },
           "bgcolor": "#E5ECF6",
           "caxis": {
            "gridcolor": "white",
            "linecolor": "white",
            "ticks": ""
           }
          },
          "title": {
           "x": 0.05
          },
          "xaxis": {
           "automargin": true,
           "gridcolor": "white",
           "linecolor": "white",
           "ticks": "",
           "title": {
            "standoff": 15
           },
           "zerolinecolor": "white",
           "zerolinewidth": 2
          },
          "yaxis": {
           "automargin": true,
           "gridcolor": "white",
           "linecolor": "white",
           "ticks": "",
           "title": {
            "standoff": 15
           },
           "zerolinecolor": "white",
           "zerolinewidth": 2
          }
         }
        },
        "title": {
         "text": "Feature Importance"
        },
        "xaxis": {
         "anchor": "y",
         "domain": [
          0,
          1
         ],
         "title": {
          "text": "index"
         }
        },
        "yaxis": {
         "anchor": "x",
         "domain": [
          0,
          1
         ],
         "title": {
          "text": "value"
         }
        }
       }
      }
     },
     "metadata": {},
     "output_type": "display_data"
    }
   ],
   "source": [
    "# feature importance\n",
    "importance = grid_clf.best_estimator_.feature_importances_\n",
    "feature_imp = pd.Series(importance, index=X.columns).sort_values(ascending=False)\n",
    "fig = px.bar(feature_imp, color=feature_imp, title='Feature Importance')\n",
    "fig.show()"
   ]
  }
 ],
 "metadata": {
  "kernelspec": {
   "display_name": "base",
   "language": "python",
   "name": "python3"
  },
  "language_info": {
   "codemirror_mode": {
    "name": "ipython",
    "version": 3
   },
   "file_extension": ".py",
   "mimetype": "text/x-python",
   "name": "python",
   "nbconvert_exporter": "python",
   "pygments_lexer": "ipython3",
   "version": "3.10.10"
  }
 },
 "nbformat": 4,
 "nbformat_minor": 2
}
