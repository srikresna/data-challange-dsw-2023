{
 "cells": [
  {
   "cell_type": "code",
   "execution_count": 2,
   "metadata": {},
   "outputs": [],
   "source": [
    "import pandas as pd\n",
    "import numpy as np\n",
    "import plotly.express as px\n",
    "import seaborn as sns\n",
    "\n",
    "from sklearn.model_selection import train_test_split, GridSearchCV\n",
    "from sklearn.preprocessing import LabelEncoder\n",
    "from imblearn.over_sampling import SMOTE\n",
    "from sklearn.metrics import classification_report, confusion_matrix, accuracy_score, roc_auc_score, roc_curve, auc\n",
    "\n",
    "from xgboost import XGBClassifier"
   ]
  },
  {
   "cell_type": "code",
   "execution_count": 3,
   "metadata": {},
   "outputs": [
    {
     "data": {
      "text/html": [
       "<div>\n",
       "<style scoped>\n",
       "    .dataframe tbody tr th:only-of-type {\n",
       "        vertical-align: middle;\n",
       "    }\n",
       "\n",
       "    .dataframe tbody tr th {\n",
       "        vertical-align: top;\n",
       "    }\n",
       "\n",
       "    .dataframe thead th {\n",
       "        text-align: right;\n",
       "    }\n",
       "</style>\n",
       "<table border=\"1\" class=\"dataframe\">\n",
       "  <thead>\n",
       "    <tr style=\"text-align: right;\">\n",
       "      <th></th>\n",
       "      <th>Customer ID</th>\n",
       "      <th>Tenure Months</th>\n",
       "      <th>Location</th>\n",
       "      <th>Device Class</th>\n",
       "      <th>Games Product</th>\n",
       "      <th>Music Product</th>\n",
       "      <th>Education Product</th>\n",
       "      <th>Call Center</th>\n",
       "      <th>Video Product</th>\n",
       "      <th>Use MyApp</th>\n",
       "      <th>Payment Method</th>\n",
       "      <th>Monthly Purchase (Thou. IDR)</th>\n",
       "      <th>Churn Label</th>\n",
       "      <th>Longitude</th>\n",
       "      <th>Latitude</th>\n",
       "      <th>CLTV (Predicted Thou. IDR)</th>\n",
       "    </tr>\n",
       "  </thead>\n",
       "  <tbody>\n",
       "    <tr>\n",
       "      <th>0</th>\n",
       "      <td>0</td>\n",
       "      <td>2</td>\n",
       "      <td>Jakarta</td>\n",
       "      <td>Mid End</td>\n",
       "      <td>Yes</td>\n",
       "      <td>Yes</td>\n",
       "      <td>No</td>\n",
       "      <td>No</td>\n",
       "      <td>No</td>\n",
       "      <td>No</td>\n",
       "      <td>Digital Wallet</td>\n",
       "      <td>70.005</td>\n",
       "      <td>Yes</td>\n",
       "      <td>106.816666</td>\n",
       "      <td>-6.2</td>\n",
       "      <td>4210.7</td>\n",
       "    </tr>\n",
       "    <tr>\n",
       "      <th>1</th>\n",
       "      <td>1</td>\n",
       "      <td>2</td>\n",
       "      <td>Jakarta</td>\n",
       "      <td>High End</td>\n",
       "      <td>No</td>\n",
       "      <td>No</td>\n",
       "      <td>No</td>\n",
       "      <td>No</td>\n",
       "      <td>No</td>\n",
       "      <td>No</td>\n",
       "      <td>Pulsa</td>\n",
       "      <td>91.910</td>\n",
       "      <td>Yes</td>\n",
       "      <td>106.816666</td>\n",
       "      <td>-6.2</td>\n",
       "      <td>3511.3</td>\n",
       "    </tr>\n",
       "    <tr>\n",
       "      <th>2</th>\n",
       "      <td>2</td>\n",
       "      <td>8</td>\n",
       "      <td>Jakarta</td>\n",
       "      <td>High End</td>\n",
       "      <td>No</td>\n",
       "      <td>No</td>\n",
       "      <td>Yes</td>\n",
       "      <td>No</td>\n",
       "      <td>Yes</td>\n",
       "      <td>Yes</td>\n",
       "      <td>Pulsa</td>\n",
       "      <td>129.545</td>\n",
       "      <td>Yes</td>\n",
       "      <td>106.816666</td>\n",
       "      <td>-6.2</td>\n",
       "      <td>6983.6</td>\n",
       "    </tr>\n",
       "    <tr>\n",
       "      <th>3</th>\n",
       "      <td>3</td>\n",
       "      <td>28</td>\n",
       "      <td>Jakarta</td>\n",
       "      <td>High End</td>\n",
       "      <td>No</td>\n",
       "      <td>No</td>\n",
       "      <td>Yes</td>\n",
       "      <td>Yes</td>\n",
       "      <td>Yes</td>\n",
       "      <td>Yes</td>\n",
       "      <td>Pulsa</td>\n",
       "      <td>136.240</td>\n",
       "      <td>Yes</td>\n",
       "      <td>106.816666</td>\n",
       "      <td>-6.2</td>\n",
       "      <td>6503.9</td>\n",
       "    </tr>\n",
       "    <tr>\n",
       "      <th>4</th>\n",
       "      <td>4</td>\n",
       "      <td>49</td>\n",
       "      <td>Jakarta</td>\n",
       "      <td>High End</td>\n",
       "      <td>No</td>\n",
       "      <td>Yes</td>\n",
       "      <td>Yes</td>\n",
       "      <td>No</td>\n",
       "      <td>Yes</td>\n",
       "      <td>Yes</td>\n",
       "      <td>Debit</td>\n",
       "      <td>134.810</td>\n",
       "      <td>Yes</td>\n",
       "      <td>106.816666</td>\n",
       "      <td>-6.2</td>\n",
       "      <td>6942.0</td>\n",
       "    </tr>\n",
       "  </tbody>\n",
       "</table>\n",
       "</div>"
      ],
      "text/plain": [
       "   Customer ID  Tenure Months Location Device Class Games Product  \\\n",
       "0            0              2  Jakarta      Mid End           Yes   \n",
       "1            1              2  Jakarta     High End            No   \n",
       "2            2              8  Jakarta     High End            No   \n",
       "3            3             28  Jakarta     High End            No   \n",
       "4            4             49  Jakarta     High End            No   \n",
       "\n",
       "  Music Product Education Product Call Center Video Product Use MyApp  \\\n",
       "0           Yes                No          No            No        No   \n",
       "1            No                No          No            No        No   \n",
       "2            No               Yes          No           Yes       Yes   \n",
       "3            No               Yes         Yes           Yes       Yes   \n",
       "4           Yes               Yes          No           Yes       Yes   \n",
       "\n",
       "   Payment Method  Monthly Purchase (Thou. IDR) Churn Label   Longitude  \\\n",
       "0  Digital Wallet                        70.005         Yes  106.816666   \n",
       "1           Pulsa                        91.910         Yes  106.816666   \n",
       "2           Pulsa                       129.545         Yes  106.816666   \n",
       "3           Pulsa                       136.240         Yes  106.816666   \n",
       "4           Debit                       134.810         Yes  106.816666   \n",
       "\n",
       "   Latitude  CLTV (Predicted Thou. IDR)  \n",
       "0      -6.2                      4210.7  \n",
       "1      -6.2                      3511.3  \n",
       "2      -6.2                      6983.6  \n",
       "3      -6.2                      6503.9  \n",
       "4      -6.2                      6942.0  "
      ]
     },
     "execution_count": 3,
     "metadata": {},
     "output_type": "execute_result"
    }
   ],
   "source": [
    "df = pd.read_excel(\"Telco_customer_churn_adapted_v2.xlsx\")\n",
    "df.head()"
   ]
  },
  {
   "cell_type": "code",
   "execution_count": 4,
   "metadata": {},
   "outputs": [
    {
     "data": {
      "text/html": [
       "<div>\n",
       "<style scoped>\n",
       "    .dataframe tbody tr th:only-of-type {\n",
       "        vertical-align: middle;\n",
       "    }\n",
       "\n",
       "    .dataframe tbody tr th {\n",
       "        vertical-align: top;\n",
       "    }\n",
       "\n",
       "    .dataframe thead th {\n",
       "        text-align: right;\n",
       "    }\n",
       "</style>\n",
       "<table border=\"1\" class=\"dataframe\">\n",
       "  <thead>\n",
       "    <tr style=\"text-align: right;\">\n",
       "      <th></th>\n",
       "      <th>Tenure Months</th>\n",
       "      <th>Location</th>\n",
       "      <th>Device Class</th>\n",
       "      <th>Games Product</th>\n",
       "      <th>Music Product</th>\n",
       "      <th>Education Product</th>\n",
       "      <th>Call Center</th>\n",
       "      <th>Video Product</th>\n",
       "      <th>Use MyApp</th>\n",
       "      <th>Payment Method</th>\n",
       "      <th>Monthly Purchase (Thou. IDR)</th>\n",
       "      <th>Churn Label</th>\n",
       "      <th>CLTV (Predicted Thou. IDR)</th>\n",
       "    </tr>\n",
       "  </thead>\n",
       "  <tbody>\n",
       "    <tr>\n",
       "      <th>0</th>\n",
       "      <td>2</td>\n",
       "      <td>Jakarta</td>\n",
       "      <td>Mid End</td>\n",
       "      <td>Yes</td>\n",
       "      <td>Yes</td>\n",
       "      <td>No</td>\n",
       "      <td>No</td>\n",
       "      <td>No</td>\n",
       "      <td>No</td>\n",
       "      <td>Digital Wallet</td>\n",
       "      <td>70.005</td>\n",
       "      <td>Yes</td>\n",
       "      <td>4210.7</td>\n",
       "    </tr>\n",
       "    <tr>\n",
       "      <th>1</th>\n",
       "      <td>2</td>\n",
       "      <td>Jakarta</td>\n",
       "      <td>High End</td>\n",
       "      <td>No</td>\n",
       "      <td>No</td>\n",
       "      <td>No</td>\n",
       "      <td>No</td>\n",
       "      <td>No</td>\n",
       "      <td>No</td>\n",
       "      <td>Pulsa</td>\n",
       "      <td>91.910</td>\n",
       "      <td>Yes</td>\n",
       "      <td>3511.3</td>\n",
       "    </tr>\n",
       "    <tr>\n",
       "      <th>2</th>\n",
       "      <td>8</td>\n",
       "      <td>Jakarta</td>\n",
       "      <td>High End</td>\n",
       "      <td>No</td>\n",
       "      <td>No</td>\n",
       "      <td>Yes</td>\n",
       "      <td>No</td>\n",
       "      <td>Yes</td>\n",
       "      <td>Yes</td>\n",
       "      <td>Pulsa</td>\n",
       "      <td>129.545</td>\n",
       "      <td>Yes</td>\n",
       "      <td>6983.6</td>\n",
       "    </tr>\n",
       "    <tr>\n",
       "      <th>3</th>\n",
       "      <td>28</td>\n",
       "      <td>Jakarta</td>\n",
       "      <td>High End</td>\n",
       "      <td>No</td>\n",
       "      <td>No</td>\n",
       "      <td>Yes</td>\n",
       "      <td>Yes</td>\n",
       "      <td>Yes</td>\n",
       "      <td>Yes</td>\n",
       "      <td>Pulsa</td>\n",
       "      <td>136.240</td>\n",
       "      <td>Yes</td>\n",
       "      <td>6503.9</td>\n",
       "    </tr>\n",
       "    <tr>\n",
       "      <th>4</th>\n",
       "      <td>49</td>\n",
       "      <td>Jakarta</td>\n",
       "      <td>High End</td>\n",
       "      <td>No</td>\n",
       "      <td>Yes</td>\n",
       "      <td>Yes</td>\n",
       "      <td>No</td>\n",
       "      <td>Yes</td>\n",
       "      <td>Yes</td>\n",
       "      <td>Debit</td>\n",
       "      <td>134.810</td>\n",
       "      <td>Yes</td>\n",
       "      <td>6942.0</td>\n",
       "    </tr>\n",
       "  </tbody>\n",
       "</table>\n",
       "</div>"
      ],
      "text/plain": [
       "   Tenure Months Location Device Class Games Product Music Product  \\\n",
       "0              2  Jakarta      Mid End           Yes           Yes   \n",
       "1              2  Jakarta     High End            No            No   \n",
       "2              8  Jakarta     High End            No            No   \n",
       "3             28  Jakarta     High End            No            No   \n",
       "4             49  Jakarta     High End            No           Yes   \n",
       "\n",
       "  Education Product Call Center Video Product Use MyApp  Payment Method  \\\n",
       "0                No          No            No        No  Digital Wallet   \n",
       "1                No          No            No        No           Pulsa   \n",
       "2               Yes          No           Yes       Yes           Pulsa   \n",
       "3               Yes         Yes           Yes       Yes           Pulsa   \n",
       "4               Yes          No           Yes       Yes           Debit   \n",
       "\n",
       "   Monthly Purchase (Thou. IDR) Churn Label  CLTV (Predicted Thou. IDR)  \n",
       "0                        70.005         Yes                      4210.7  \n",
       "1                        91.910         Yes                      3511.3  \n",
       "2                       129.545         Yes                      6983.6  \n",
       "3                       136.240         Yes                      6503.9  \n",
       "4                       134.810         Yes                      6942.0  "
      ]
     },
     "execution_count": 4,
     "metadata": {},
     "output_type": "execute_result"
    }
   ],
   "source": [
    "df.drop([\"Customer ID\", \"Latitude\", \"Longitude\"], axis=1, inplace=True)\n",
    "df.head()"
   ]
  },
  {
   "cell_type": "code",
   "execution_count": 5,
   "metadata": {},
   "outputs": [],
   "source": [
    "def encode_data(df):\n",
    "    if df.dtype == \"object\":\n",
    "        le = LabelEncoder()\n",
    "        df = le.fit_transform(df)\n",
    "    return df"
   ]
  },
  {
   "cell_type": "code",
   "execution_count": 6,
   "metadata": {},
   "outputs": [
    {
     "data": {
      "text/html": [
       "<div>\n",
       "<style scoped>\n",
       "    .dataframe tbody tr th:only-of-type {\n",
       "        vertical-align: middle;\n",
       "    }\n",
       "\n",
       "    .dataframe tbody tr th {\n",
       "        vertical-align: top;\n",
       "    }\n",
       "\n",
       "    .dataframe thead th {\n",
       "        text-align: right;\n",
       "    }\n",
       "</style>\n",
       "<table border=\"1\" class=\"dataframe\">\n",
       "  <thead>\n",
       "    <tr style=\"text-align: right;\">\n",
       "      <th></th>\n",
       "      <th>Tenure Months</th>\n",
       "      <th>Location</th>\n",
       "      <th>Device Class</th>\n",
       "      <th>Games Product</th>\n",
       "      <th>Music Product</th>\n",
       "      <th>Education Product</th>\n",
       "      <th>Call Center</th>\n",
       "      <th>Video Product</th>\n",
       "      <th>Use MyApp</th>\n",
       "      <th>Payment Method</th>\n",
       "      <th>Monthly Purchase (Thou. IDR)</th>\n",
       "      <th>Churn Label</th>\n",
       "      <th>CLTV (Predicted Thou. IDR)</th>\n",
       "    </tr>\n",
       "  </thead>\n",
       "  <tbody>\n",
       "    <tr>\n",
       "      <th>0</th>\n",
       "      <td>2</td>\n",
       "      <td>1</td>\n",
       "      <td>2</td>\n",
       "      <td>2</td>\n",
       "      <td>2</td>\n",
       "      <td>0</td>\n",
       "      <td>0</td>\n",
       "      <td>0</td>\n",
       "      <td>0</td>\n",
       "      <td>2</td>\n",
       "      <td>70.005</td>\n",
       "      <td>1</td>\n",
       "      <td>4210.7</td>\n",
       "    </tr>\n",
       "    <tr>\n",
       "      <th>1</th>\n",
       "      <td>2</td>\n",
       "      <td>1</td>\n",
       "      <td>0</td>\n",
       "      <td>0</td>\n",
       "      <td>0</td>\n",
       "      <td>0</td>\n",
       "      <td>0</td>\n",
       "      <td>0</td>\n",
       "      <td>0</td>\n",
       "      <td>3</td>\n",
       "      <td>91.910</td>\n",
       "      <td>1</td>\n",
       "      <td>3511.3</td>\n",
       "    </tr>\n",
       "    <tr>\n",
       "      <th>2</th>\n",
       "      <td>8</td>\n",
       "      <td>1</td>\n",
       "      <td>0</td>\n",
       "      <td>0</td>\n",
       "      <td>0</td>\n",
       "      <td>2</td>\n",
       "      <td>0</td>\n",
       "      <td>2</td>\n",
       "      <td>2</td>\n",
       "      <td>3</td>\n",
       "      <td>129.545</td>\n",
       "      <td>1</td>\n",
       "      <td>6983.6</td>\n",
       "    </tr>\n",
       "    <tr>\n",
       "      <th>3</th>\n",
       "      <td>28</td>\n",
       "      <td>1</td>\n",
       "      <td>0</td>\n",
       "      <td>0</td>\n",
       "      <td>0</td>\n",
       "      <td>2</td>\n",
       "      <td>1</td>\n",
       "      <td>2</td>\n",
       "      <td>2</td>\n",
       "      <td>3</td>\n",
       "      <td>136.240</td>\n",
       "      <td>1</td>\n",
       "      <td>6503.9</td>\n",
       "    </tr>\n",
       "    <tr>\n",
       "      <th>4</th>\n",
       "      <td>49</td>\n",
       "      <td>1</td>\n",
       "      <td>0</td>\n",
       "      <td>0</td>\n",
       "      <td>2</td>\n",
       "      <td>2</td>\n",
       "      <td>0</td>\n",
       "      <td>2</td>\n",
       "      <td>2</td>\n",
       "      <td>1</td>\n",
       "      <td>134.810</td>\n",
       "      <td>1</td>\n",
       "      <td>6942.0</td>\n",
       "    </tr>\n",
       "  </tbody>\n",
       "</table>\n",
       "</div>"
      ],
      "text/plain": [
       "   Tenure Months  Location  Device Class  Games Product  Music Product  \\\n",
       "0              2         1             2              2              2   \n",
       "1              2         1             0              0              0   \n",
       "2              8         1             0              0              0   \n",
       "3             28         1             0              0              0   \n",
       "4             49         1             0              0              2   \n",
       "\n",
       "   Education Product  Call Center  Video Product  Use MyApp  Payment Method  \\\n",
       "0                  0            0              0          0               2   \n",
       "1                  0            0              0          0               3   \n",
       "2                  2            0              2          2               3   \n",
       "3                  2            1              2          2               3   \n",
       "4                  2            0              2          2               1   \n",
       "\n",
       "   Monthly Purchase (Thou. IDR)  Churn Label  CLTV (Predicted Thou. IDR)  \n",
       "0                        70.005            1                      4210.7  \n",
       "1                        91.910            1                      3511.3  \n",
       "2                       129.545            1                      6983.6  \n",
       "3                       136.240            1                      6503.9  \n",
       "4                       134.810            1                      6942.0  "
      ]
     },
     "execution_count": 6,
     "metadata": {},
     "output_type": "execute_result"
    }
   ],
   "source": [
    "df = df.apply(lambda x: encode_data(x))\n",
    "df.head()"
   ]
  },
  {
   "cell_type": "code",
   "execution_count": 7,
   "metadata": {},
   "outputs": [
    {
     "data": {
      "application/vnd.plotly.v1+json": {
       "config": {
        "plotlyServerURL": "https://plot.ly"
       },
       "data": [
        {
         "alignmentgroup": "True",
         "hovertemplate": "index=%{x}<br>value=%{marker.color}<extra></extra>",
         "legendgroup": "",
         "marker": {
          "color": [
           1,
           0.2628182020893582,
           0.19335642223785393,
           -0.008596374123850607,
           -0.03658099337318505,
           -0.038491628519887924,
           -0.12746310171745026,
           -0.16467355590159374,
           -0.17813386106687837,
           -0.19552501409217768,
           -0.2408097340138934,
           -0.28930899612232513,
           -0.352228670113079
          ],
          "coloraxis": "coloraxis",
          "pattern": {
           "shape": ""
          }
         },
         "name": "",
         "offsetgroup": "",
         "orientation": "v",
         "showlegend": false,
         "textposition": "auto",
         "type": "bar",
         "x": [
          "Churn Label",
          "Payment Method",
          "Monthly Purchase (Thou. IDR)",
          "Location",
          "Video Product",
          "Use MyApp",
          "CLTV (Predicted Thou. IDR)",
          "Call Center",
          "Education Product",
          "Music Product",
          "Device Class",
          "Games Product",
          "Tenure Months"
         ],
         "xaxis": "x",
         "y": [
          1,
          0.2628182020893582,
          0.19335642223785393,
          -0.008596374123850607,
          -0.03658099337318505,
          -0.038491628519887924,
          -0.12746310171745026,
          -0.16467355590159374,
          -0.17813386106687837,
          -0.19552501409217768,
          -0.2408097340138934,
          -0.28930899612232513,
          -0.352228670113079
         ],
         "yaxis": "y"
        }
       ],
       "layout": {
        "barmode": "relative",
        "coloraxis": {
         "colorbar": {
          "title": {
           "text": "value"
          }
         },
         "colorscale": [
          [
           0,
           "#0d0887"
          ],
          [
           0.1111111111111111,
           "#46039f"
          ],
          [
           0.2222222222222222,
           "#7201a8"
          ],
          [
           0.3333333333333333,
           "#9c179e"
          ],
          [
           0.4444444444444444,
           "#bd3786"
          ],
          [
           0.5555555555555556,
           "#d8576b"
          ],
          [
           0.6666666666666666,
           "#ed7953"
          ],
          [
           0.7777777777777778,
           "#fb9f3a"
          ],
          [
           0.8888888888888888,
           "#fdca26"
          ],
          [
           1,
           "#f0f921"
          ]
         ]
        },
        "legend": {
         "tracegroupgap": 0
        },
        "margin": {
         "t": 60
        },
        "template": {
         "data": {
          "bar": [
           {
            "error_x": {
             "color": "#2a3f5f"
            },
            "error_y": {
             "color": "#2a3f5f"
            },
            "marker": {
             "line": {
              "color": "#E5ECF6",
              "width": 0.5
             },
             "pattern": {
              "fillmode": "overlay",
              "size": 10,
              "solidity": 0.2
             }
            },
            "type": "bar"
           }
          ],
          "barpolar": [
           {
            "marker": {
             "line": {
              "color": "#E5ECF6",
              "width": 0.5
             },
             "pattern": {
              "fillmode": "overlay",
              "size": 10,
              "solidity": 0.2
             }
            },
            "type": "barpolar"
           }
          ],
          "carpet": [
           {
            "aaxis": {
             "endlinecolor": "#2a3f5f",
             "gridcolor": "white",
             "linecolor": "white",
             "minorgridcolor": "white",
             "startlinecolor": "#2a3f5f"
            },
            "baxis": {
             "endlinecolor": "#2a3f5f",
             "gridcolor": "white",
             "linecolor": "white",
             "minorgridcolor": "white",
             "startlinecolor": "#2a3f5f"
            },
            "type": "carpet"
           }
          ],
          "choropleth": [
           {
            "colorbar": {
             "outlinewidth": 0,
             "ticks": ""
            },
            "type": "choropleth"
           }
          ],
          "contour": [
           {
            "colorbar": {
             "outlinewidth": 0,
             "ticks": ""
            },
            "colorscale": [
             [
              0,
              "#0d0887"
             ],
             [
              0.1111111111111111,
              "#46039f"
             ],
             [
              0.2222222222222222,
              "#7201a8"
             ],
             [
              0.3333333333333333,
              "#9c179e"
             ],
             [
              0.4444444444444444,
              "#bd3786"
             ],
             [
              0.5555555555555556,
              "#d8576b"
             ],
             [
              0.6666666666666666,
              "#ed7953"
             ],
             [
              0.7777777777777778,
              "#fb9f3a"
             ],
             [
              0.8888888888888888,
              "#fdca26"
             ],
             [
              1,
              "#f0f921"
             ]
            ],
            "type": "contour"
           }
          ],
          "contourcarpet": [
           {
            "colorbar": {
             "outlinewidth": 0,
             "ticks": ""
            },
            "type": "contourcarpet"
           }
          ],
          "heatmap": [
           {
            "colorbar": {
             "outlinewidth": 0,
             "ticks": ""
            },
            "colorscale": [
             [
              0,
              "#0d0887"
             ],
             [
              0.1111111111111111,
              "#46039f"
             ],
             [
              0.2222222222222222,
              "#7201a8"
             ],
             [
              0.3333333333333333,
              "#9c179e"
             ],
             [
              0.4444444444444444,
              "#bd3786"
             ],
             [
              0.5555555555555556,
              "#d8576b"
             ],
             [
              0.6666666666666666,
              "#ed7953"
             ],
             [
              0.7777777777777778,
              "#fb9f3a"
             ],
             [
              0.8888888888888888,
              "#fdca26"
             ],
             [
              1,
              "#f0f921"
             ]
            ],
            "type": "heatmap"
           }
          ],
          "heatmapgl": [
           {
            "colorbar": {
             "outlinewidth": 0,
             "ticks": ""
            },
            "colorscale": [
             [
              0,
              "#0d0887"
             ],
             [
              0.1111111111111111,
              "#46039f"
             ],
             [
              0.2222222222222222,
              "#7201a8"
             ],
             [
              0.3333333333333333,
              "#9c179e"
             ],
             [
              0.4444444444444444,
              "#bd3786"
             ],
             [
              0.5555555555555556,
              "#d8576b"
             ],
             [
              0.6666666666666666,
              "#ed7953"
             ],
             [
              0.7777777777777778,
              "#fb9f3a"
             ],
             [
              0.8888888888888888,
              "#fdca26"
             ],
             [
              1,
              "#f0f921"
             ]
            ],
            "type": "heatmapgl"
           }
          ],
          "histogram": [
           {
            "marker": {
             "pattern": {
              "fillmode": "overlay",
              "size": 10,
              "solidity": 0.2
             }
            },
            "type": "histogram"
           }
          ],
          "histogram2d": [
           {
            "colorbar": {
             "outlinewidth": 0,
             "ticks": ""
            },
            "colorscale": [
             [
              0,
              "#0d0887"
             ],
             [
              0.1111111111111111,
              "#46039f"
             ],
             [
              0.2222222222222222,
              "#7201a8"
             ],
             [
              0.3333333333333333,
              "#9c179e"
             ],
             [
              0.4444444444444444,
              "#bd3786"
             ],
             [
              0.5555555555555556,
              "#d8576b"
             ],
             [
              0.6666666666666666,
              "#ed7953"
             ],
             [
              0.7777777777777778,
              "#fb9f3a"
             ],
             [
              0.8888888888888888,
              "#fdca26"
             ],
             [
              1,
              "#f0f921"
             ]
            ],
            "type": "histogram2d"
           }
          ],
          "histogram2dcontour": [
           {
            "colorbar": {
             "outlinewidth": 0,
             "ticks": ""
            },
            "colorscale": [
             [
              0,
              "#0d0887"
             ],
             [
              0.1111111111111111,
              "#46039f"
             ],
             [
              0.2222222222222222,
              "#7201a8"
             ],
             [
              0.3333333333333333,
              "#9c179e"
             ],
             [
              0.4444444444444444,
              "#bd3786"
             ],
             [
              0.5555555555555556,
              "#d8576b"
             ],
             [
              0.6666666666666666,
              "#ed7953"
             ],
             [
              0.7777777777777778,
              "#fb9f3a"
             ],
             [
              0.8888888888888888,
              "#fdca26"
             ],
             [
              1,
              "#f0f921"
             ]
            ],
            "type": "histogram2dcontour"
           }
          ],
          "mesh3d": [
           {
            "colorbar": {
             "outlinewidth": 0,
             "ticks": ""
            },
            "type": "mesh3d"
           }
          ],
          "parcoords": [
           {
            "line": {
             "colorbar": {
              "outlinewidth": 0,
              "ticks": ""
             }
            },
            "type": "parcoords"
           }
          ],
          "pie": [
           {
            "automargin": true,
            "type": "pie"
           }
          ],
          "scatter": [
           {
            "fillpattern": {
             "fillmode": "overlay",
             "size": 10,
             "solidity": 0.2
            },
            "type": "scatter"
           }
          ],
          "scatter3d": [
           {
            "line": {
             "colorbar": {
              "outlinewidth": 0,
              "ticks": ""
             }
            },
            "marker": {
             "colorbar": {
              "outlinewidth": 0,
              "ticks": ""
             }
            },
            "type": "scatter3d"
           }
          ],
          "scattercarpet": [
           {
            "marker": {
             "colorbar": {
              "outlinewidth": 0,
              "ticks": ""
             }
            },
            "type": "scattercarpet"
           }
          ],
          "scattergeo": [
           {
            "marker": {
             "colorbar": {
              "outlinewidth": 0,
              "ticks": ""
             }
            },
            "type": "scattergeo"
           }
          ],
          "scattergl": [
           {
            "marker": {
             "colorbar": {
              "outlinewidth": 0,
              "ticks": ""
             }
            },
            "type": "scattergl"
           }
          ],
          "scattermapbox": [
           {
            "marker": {
             "colorbar": {
              "outlinewidth": 0,
              "ticks": ""
             }
            },
            "type": "scattermapbox"
           }
          ],
          "scatterpolar": [
           {
            "marker": {
             "colorbar": {
              "outlinewidth": 0,
              "ticks": ""
             }
            },
            "type": "scatterpolar"
           }
          ],
          "scatterpolargl": [
           {
            "marker": {
             "colorbar": {
              "outlinewidth": 0,
              "ticks": ""
             }
            },
            "type": "scatterpolargl"
           }
          ],
          "scatterternary": [
           {
            "marker": {
             "colorbar": {
              "outlinewidth": 0,
              "ticks": ""
             }
            },
            "type": "scatterternary"
           }
          ],
          "surface": [
           {
            "colorbar": {
             "outlinewidth": 0,
             "ticks": ""
            },
            "colorscale": [
             [
              0,
              "#0d0887"
             ],
             [
              0.1111111111111111,
              "#46039f"
             ],
             [
              0.2222222222222222,
              "#7201a8"
             ],
             [
              0.3333333333333333,
              "#9c179e"
             ],
             [
              0.4444444444444444,
              "#bd3786"
             ],
             [
              0.5555555555555556,
              "#d8576b"
             ],
             [
              0.6666666666666666,
              "#ed7953"
             ],
             [
              0.7777777777777778,
              "#fb9f3a"
             ],
             [
              0.8888888888888888,
              "#fdca26"
             ],
             [
              1,
              "#f0f921"
             ]
            ],
            "type": "surface"
           }
          ],
          "table": [
           {
            "cells": {
             "fill": {
              "color": "#EBF0F8"
             },
             "line": {
              "color": "white"
             }
            },
            "header": {
             "fill": {
              "color": "#C8D4E3"
             },
             "line": {
              "color": "white"
             }
            },
            "type": "table"
           }
          ]
         },
         "layout": {
          "annotationdefaults": {
           "arrowcolor": "#2a3f5f",
           "arrowhead": 0,
           "arrowwidth": 1
          },
          "autotypenumbers": "strict",
          "coloraxis": {
           "colorbar": {
            "outlinewidth": 0,
            "ticks": ""
           }
          },
          "colorscale": {
           "diverging": [
            [
             0,
             "#8e0152"
            ],
            [
             0.1,
             "#c51b7d"
            ],
            [
             0.2,
             "#de77ae"
            ],
            [
             0.3,
             "#f1b6da"
            ],
            [
             0.4,
             "#fde0ef"
            ],
            [
             0.5,
             "#f7f7f7"
            ],
            [
             0.6,
             "#e6f5d0"
            ],
            [
             0.7,
             "#b8e186"
            ],
            [
             0.8,
             "#7fbc41"
            ],
            [
             0.9,
             "#4d9221"
            ],
            [
             1,
             "#276419"
            ]
           ],
           "sequential": [
            [
             0,
             "#0d0887"
            ],
            [
             0.1111111111111111,
             "#46039f"
            ],
            [
             0.2222222222222222,
             "#7201a8"
            ],
            [
             0.3333333333333333,
             "#9c179e"
            ],
            [
             0.4444444444444444,
             "#bd3786"
            ],
            [
             0.5555555555555556,
             "#d8576b"
            ],
            [
             0.6666666666666666,
             "#ed7953"
            ],
            [
             0.7777777777777778,
             "#fb9f3a"
            ],
            [
             0.8888888888888888,
             "#fdca26"
            ],
            [
             1,
             "#f0f921"
            ]
           ],
           "sequentialminus": [
            [
             0,
             "#0d0887"
            ],
            [
             0.1111111111111111,
             "#46039f"
            ],
            [
             0.2222222222222222,
             "#7201a8"
            ],
            [
             0.3333333333333333,
             "#9c179e"
            ],
            [
             0.4444444444444444,
             "#bd3786"
            ],
            [
             0.5555555555555556,
             "#d8576b"
            ],
            [
             0.6666666666666666,
             "#ed7953"
            ],
            [
             0.7777777777777778,
             "#fb9f3a"
            ],
            [
             0.8888888888888888,
             "#fdca26"
            ],
            [
             1,
             "#f0f921"
            ]
           ]
          },
          "colorway": [
           "#636efa",
           "#EF553B",
           "#00cc96",
           "#ab63fa",
           "#FFA15A",
           "#19d3f3",
           "#FF6692",
           "#B6E880",
           "#FF97FF",
           "#FECB52"
          ],
          "font": {
           "color": "#2a3f5f"
          },
          "geo": {
           "bgcolor": "white",
           "lakecolor": "white",
           "landcolor": "#E5ECF6",
           "showlakes": true,
           "showland": true,
           "subunitcolor": "white"
          },
          "hoverlabel": {
           "align": "left"
          },
          "hovermode": "closest",
          "mapbox": {
           "style": "light"
          },
          "paper_bgcolor": "white",
          "plot_bgcolor": "#E5ECF6",
          "polar": {
           "angularaxis": {
            "gridcolor": "white",
            "linecolor": "white",
            "ticks": ""
           },
           "bgcolor": "#E5ECF6",
           "radialaxis": {
            "gridcolor": "white",
            "linecolor": "white",
            "ticks": ""
           }
          },
          "scene": {
           "xaxis": {
            "backgroundcolor": "#E5ECF6",
            "gridcolor": "white",
            "gridwidth": 2,
            "linecolor": "white",
            "showbackground": true,
            "ticks": "",
            "zerolinecolor": "white"
           },
           "yaxis": {
            "backgroundcolor": "#E5ECF6",
            "gridcolor": "white",
            "gridwidth": 2,
            "linecolor": "white",
            "showbackground": true,
            "ticks": "",
            "zerolinecolor": "white"
           },
           "zaxis": {
            "backgroundcolor": "#E5ECF6",
            "gridcolor": "white",
            "gridwidth": 2,
            "linecolor": "white",
            "showbackground": true,
            "ticks": "",
            "zerolinecolor": "white"
           }
          },
          "shapedefaults": {
           "line": {
            "color": "#2a3f5f"
           }
          },
          "ternary": {
           "aaxis": {
            "gridcolor": "white",
            "linecolor": "white",
            "ticks": ""
           },
           "baxis": {
            "gridcolor": "white",
            "linecolor": "white",
            "ticks": ""
           },
           "bgcolor": "#E5ECF6",
           "caxis": {
            "gridcolor": "white",
            "linecolor": "white",
            "ticks": ""
           }
          },
          "title": {
           "x": 0.05
          },
          "xaxis": {
           "automargin": true,
           "gridcolor": "white",
           "linecolor": "white",
           "ticks": "",
           "title": {
            "standoff": 15
           },
           "zerolinecolor": "white",
           "zerolinewidth": 2
          },
          "yaxis": {
           "automargin": true,
           "gridcolor": "white",
           "linecolor": "white",
           "ticks": "",
           "title": {
            "standoff": 15
           },
           "zerolinecolor": "white",
           "zerolinewidth": 2
          }
         }
        },
        "xaxis": {
         "anchor": "y",
         "domain": [
          0,
          1
         ],
         "title": {
          "text": "index"
         }
        },
        "yaxis": {
         "anchor": "x",
         "domain": [
          0,
          1
         ],
         "title": {
          "text": "value"
         }
        }
       }
      }
     },
     "metadata": {},
     "output_type": "display_data"
    }
   ],
   "source": [
    "fig = px.bar(df.corr()['Churn Label'].sort_values(ascending = False),\n",
    "             color = 'value')\n",
    "fig.show()"
   ]
  },
  {
   "cell_type": "code",
   "execution_count": 8,
   "metadata": {},
   "outputs": [],
   "source": [
    "over = SMOTE(sampling_strategy=1)\n",
    "\n",
    "X = df.drop([\"Churn Label\"], axis=1)\n",
    "y = df[\"Churn Label\"]"
   ]
  },
  {
   "cell_type": "code",
   "execution_count": 9,
   "metadata": {},
   "outputs": [],
   "source": [
    "X, y = over.fit_resample(X, y)"
   ]
  },
  {
   "cell_type": "code",
   "execution_count": 10,
   "metadata": {},
   "outputs": [
    {
     "data": {
      "text/plain": [
       "((8278, 12), (2070, 12), (8278,), (2070,))"
      ]
     },
     "execution_count": 10,
     "metadata": {},
     "output_type": "execute_result"
    }
   ],
   "source": [
    "X_train, X_test, y_train, y_test = train_test_split(X, y, test_size=0.2)\n",
    "X_train.shape, X_test.shape, y_train.shape, y_test.shape"
   ]
  },
  {
   "cell_type": "code",
   "execution_count": 11,
   "metadata": {},
   "outputs": [],
   "source": [
    "def model(method, x_train, y_train, x_test, y_test):\n",
    "    # Train the model\n",
    "    method.fit(x_train, y_train)\n",
    "    \n",
    "    # Make predictions on test data and calculate confusion matrix\n",
    "    predictions = method.predict(x_test)\n",
    "    c_matrix = confusion_matrix(y_test, predictions)\n",
    "    \n",
    "    # Calculate label percentages and create label strings with counts and percentages\n",
    "    percentages = (c_matrix / np.sum(c_matrix, axis=1)[:, np.newaxis]).round(2) * 100\n",
    "    labels = [[f\"{c_matrix[i, j]} ({percentages[i, j]:.2f}%)\" for j in range(c_matrix.shape[1])] for i in range(c_matrix.shape[0])]\n",
    "    labels = np.asarray(labels)\n",
    "    \n",
    "    # Plot confusion matrix with labeled counts and percentages\n",
    "    sns.heatmap(c_matrix, annot=labels, fmt='', cmap='Blues')\n",
    "    \n",
    "    # Evaluate model performance and print results\n",
    "    print(\"ROC AUC: \", '{:.2%}'.format(roc_auc_score(y_test, predictions)))\n",
    "    print(\"Model accuracy: \", '{:.2%}'.format(accuracy_score(y_test, predictions)))\n",
    "    print(classification_report(y_test, predictions))"
   ]
  },
  {
   "cell_type": "code",
   "execution_count": 12,
   "metadata": {},
   "outputs": [
    {
     "name": "stdout",
     "output_type": "stream",
     "text": [
      "ROC AUC:  81.33%\n",
      "Model accuracy:  81.30%\n",
      "              precision    recall  f1-score   support\n",
      "\n",
      "           0       0.83      0.80      0.81      1049\n",
      "           1       0.80      0.83      0.81      1021\n",
      "\n",
      "    accuracy                           0.81      2070\n",
      "   macro avg       0.81      0.81      0.81      2070\n",
      "weighted avg       0.81      0.81      0.81      2070\n",
      "\n"
     ]
    },
    {
     "data": {
      "image/png": "[encoded data removed]",
      "text/plain": [
       "<Figure size 640x480 with 2 Axes>"
      ]
     },
     "metadata": {},
     "output_type": "display_data"
    }
   ],
   "source": [
    "xgb = XGBClassifier(learning_rate= 0.01,max_depth = 3,n_estimators = 1000)\n",
    "\n",
    "model(xgb, X_train, y_train, X_test, y_test)"
   ]
  },
  {
   "cell_type": "code",
   "execution_count": 13,
   "metadata": {},
   "outputs": [
    {
     "name": "stdout",
     "output_type": "stream",
     "text": [
      "Fitting 3 folds for each of 64 candidates, totalling 192 fits\n",
      "{'gamma': 0.2, 'learning_rate': 0.1, 'max_depth': 6, 'min_child_weight': 1, 'n_estimators': 200, 'subsample': 0.8}\n",
      "0.9179889809806924\n"
     ]
    }
   ],
   "source": [
    "xgb = XGBClassifier()\n",
    "\n",
    "param_grid = {\n",
    "    'max_depth': [5, 6],\n",
    "    'learning_rate': [0.1, 0.15],\n",
    "    'n_estimators': [200, 250],\n",
    "    'gamma': [0.2, 0.3],\n",
    "    'min_child_weight': [1, 2],\n",
    "    'subsample': [0.8, 0.9],\n",
    "}\n",
    "\n",
    "grid_clf = GridSearchCV(xgb, param_grid, scoring='roc_auc', cv=3, n_jobs=1, verbose=1)\n",
    "grid_clf.fit(X_train, y_train)\n",
    "\n",
    "print(grid_clf.best_params_)\n",
    "print(grid_clf.best_score_)\n"
   ]
  },
  {
   "cell_type": "code",
   "execution_count": 14,
   "metadata": {},
   "outputs": [
    {
     "name": "stdout",
     "output_type": "stream",
     "text": [
      "              precision    recall  f1-score   support\n",
      "\n",
      "           0       0.85      0.83      0.84      1049\n",
      "           1       0.83      0.85      0.84      1021\n",
      "\n",
      "    accuracy                           0.84      2070\n",
      "   macro avg       0.84      0.84      0.84      2070\n",
      "weighted avg       0.84      0.84      0.84      2070\n",
      "\n"
     ]
    },
    {
     "data": {
      "application/vnd.plotly.v1+json": {
       "config": {
        "plotlyServerURL": "https://plot.ly"
       },
       "data": [
        {
         "fillpattern": {
          "shape": ""
         },
         "hovertemplate": "False Positive Rate=%{x}<br>True Positive Rate=%{y}<extra></extra>",
         "legendgroup": "",
         "line": {
          "color": "#636efa"
         },
         "marker": {
          "symbol": "circle"
         },
         "mode": "lines",
         "name": "",
         "orientation": "v",
         "showlegend": false,
         "stackgroup": "1",
         "type": "scatter",
         "x": [
          0,
          0,
          0,
          0,
          0,
          0.0009532888465204957,
          0.0009532888465204957,
          0.0019065776930409914,
          0.0019065776930409914,
          0.002859866539561487,
          0.002859866539561487,
          0.002859866539561487,
          0.002859866539561487,
          0.0038131553860819827,
          0.0038131553860819827,
          0.004766444232602479,
          0.004766444232602479,
          0.004766444232602479,
          0.004766444232602479,
          0.00667302192564347,
          0.00667302192564347,
          0.0076263107721639654,
          0.0076263107721639654,
          0.008579599618684462,
          0.008579599618684462,
          0.009532888465204958,
          0.009532888465204958,
          0.010486177311725452,
          0.010486177311725452,
          0.012392755004766444,
          0.012392755004766444,
          0.012392755004766444,
          0.012392755004766444,
          0.012392755004766444,
          0.012392755004766444,
          0.01334604385128694,
          0.01334604385128694,
          0.015252621544327931,
          0.015252621544327931,
          0.016205910390848427,
          0.016205910390848427,
          0.017159199237368923,
          0.017159199237368923,
          0.01811248808388942,
          0.01811248808388942,
          0.019065776930409915,
          0.019065776930409915,
          0.02001906577693041,
          0.02001906577693041,
          0.0219256434699714,
          0.0219256434699714,
          0.022878932316491896,
          0.022878932316491896,
          0.023832221163012392,
          0.023832221163012392,
          0.02478551000953289,
          0.02478551000953289,
          0.025738798856053385,
          0.025738798856053385,
          0.02669208770257388,
          0.02669208770257388,
          0.027645376549094377,
          0.027645376549094377,
          0.028598665395614873,
          0.028598665395614873,
          0.029551954242135366,
          0.029551954242135366,
          0.030505243088655862,
          0.030505243088655862,
          0.03145853193517636,
          0.03145853193517636,
          0.032411820781696854,
          0.032411820781696854,
          0.03336510962821735,
          0.03336510962821735,
          0.034318398474737846,
          0.034318398474737846,
          0.03622497616777884,
          0.03622497616777884,
          0.037178265014299335,
          0.037178265014299335,
          0.03908484270734033,
          0.03908484270734033,
          0.04003813155386082,
          0.04003813155386082,
          0.04099142040038131,
          0.04099142040038131,
          0.04194470924690181,
          0.04194470924690181,
          0.0438512869399428,
          0.0438512869399428,
          0.04575786463298379,
          0.04575786463298379,
          0.047664442326024785,
          0.047664442326024785,
          0.04861773117254528,
          0.04861773117254528,
          0.04957102001906578,
          0.04957102001906578,
          0.05052430886558627,
          0.05052430886558627,
          0.05147759771210677,
          0.05147759771210677,
          0.052430886558627265,
          0.052430886558627265,
          0.05433746425166826,
          0.05433746425166826,
          0.057197330791229746,
          0.057197330791229746,
          0.058150619637750235,
          0.058150619637750235,
          0.05910390848427073,
          0.05910390848427073,
          0.06005719733079123,
          0.06005719733079123,
          0.061010486177311724,
          0.061010486177311724,
          0.06387035271687322,
          0.06387035271687322,
          0.06482364156339371,
          0.06482364156339371,
          0.0667302192564347,
          0.0667302192564347,
          0.06863679694947569,
          0.06863679694947569,
          0.07054337464251668,
          0.07054337464251668,
          0.07149666348903717,
          0.07149666348903717,
          0.07244995233555768,
          0.07244995233555768,
          0.07435653002859867,
          0.07435653002859867,
          0.07530981887511916,
          0.07530981887511916,
          0.07626310772163966,
          0.07626310772163966,
          0.07912297426120114,
          0.07912297426120114,
          0.08007626310772165,
          0.08007626310772165,
          0.08293612964728313,
          0.08293612964728313,
          0.08388941849380362,
          0.08388941849380362,
          0.08484270734032412,
          0.08484270734032412,
          0.08674928503336511,
          0.08674928503336511,
          0.0886558627264061,
          0.0886558627264061,
          0.08960915157292659,
          0.08960915157292659,
          0.0905624404194471,
          0.0905624404194471,
          0.09151572926596759,
          0.09151572926596759,
          0.09246901811248809,
          0.09246901811248809,
          0.09532888465204957,
          0.09532888465204957,
          0.09628217349857007,
          0.09628217349857007,
          0.09723546234509056,
          0.09723546234509056,
          0.10104861773117255,
          0.10104861773117255,
          0.10486177311725453,
          0.10486177311725453,
          0.109628217349857,
          0.109628217349857,
          0.11058150619637751,
          0.11058150619637751,
          0.111534795042898,
          0.111534795042898,
          0.1124880838894185,
          0.1124880838894185,
          0.11534795042897998,
          0.11534795042897998,
          0.11630123927550047,
          0.11630123927550047,
          0.11725452812202097,
          0.11725452812202097,
          0.12011439466158245,
          0.12011439466158245,
          0.12202097235462345,
          0.12202097235462345,
          0.12678741658722592,
          0.12678741658722592,
          0.1306005719733079,
          0.1306005719733079,
          0.1334604385128694,
          0.1334604385128694,
          0.1363203050524309,
          0.1363203050524309,
          0.13918017159199236,
          0.13918017159199236,
          0.14108674928503337,
          0.14108674928503337,
          0.14204003813155386,
          0.14204003813155386,
          0.14489990467111535,
          0.14489990467111535,
          0.14585319351763584,
          0.14585319351763584,
          0.14775977121067682,
          0.14775977121067682,
          0.1515729265967588,
          0.1515729265967588,
          0.15252621544327932,
          0.15252621544327932,
          0.1534795042897998,
          0.1534795042897998,
          0.1553860819828408,
          0.1553860819828408,
          0.15919923736892277,
          0.15919923736892277,
          0.16396568160152525,
          0.16396568160152525,
          0.16491897044804577,
          0.16491897044804577,
          0.16587225929456625,
          0.16587225929456625,
          0.16682554814108674,
          0.16682554814108674,
          0.16777883698760723,
          0.16777883698760723,
          0.16968541468064824,
          0.16968541468064824,
          0.17159199237368922,
          0.17159199237368922,
          0.17254528122020973,
          0.17254528122020973,
          0.1744518589132507,
          0.1744518589132507,
          0.17635843660629172,
          0.17635843660629172,
          0.1782650142993327,
          0.1782650142993327,
          0.17921830314585319,
          0.17921830314585319,
          0.1801715919923737,
          0.1801715919923737,
          0.18684461391801716,
          0.18684461391801716,
          0.18970448045757865,
          0.18970448045757865,
          0.19161105815061963,
          0.19161105815061963,
          0.19256434699714015,
          0.19256434699714015,
          0.19351763584366063,
          0.19351763584366063,
          0.19637750238322213,
          0.19637750238322213,
          0.2011439466158246,
          0.2011439466158246,
          0.2020972354623451,
          0.2020972354623451,
          0.20305052430886558,
          0.20305052430886558,
          0.20591039084842708,
          0.20591039084842708,
          0.20781696854146806,
          0.20781696854146806,
          0.20877025738798857,
          0.20877025738798857,
          0.20972354623450906,
          0.20972354623450906,
          0.21258341277407056,
          0.21258341277407056,
          0.21353670162059105,
          0.21353670162059105,
          0.2163965681601525,
          0.2163965681601525,
          0.2202097235462345,
          0.2202097235462345,
          0.2221163012392755,
          0.2221163012392755,
          0.23260247855100094,
          0.23260247855100094,
          0.2430886558627264,
          0.2430886558627264,
          0.2449952335557674,
          0.2449952335557674,
          0.2469018112488084,
          0.2469018112488084,
          0.24785510009532888,
          0.24785510009532888,
          0.25357483317445184,
          0.25357483317445184,
          0.25452812202097236,
          0.25452812202097236,
          0.25738798856053385,
          0.25738798856053385,
          0.2583412774070543,
          0.2583412774070543,
          0.25929456625357483,
          0.25929456625357483,
          0.2631077216396568,
          0.2631077216396568,
          0.2688274547187798,
          0.2688274547187798,
          0.27454718779790277,
          0.27454718779790277,
          0.28217349857006674,
          0.28217349857006674,
          0.2859866539561487,
          0.2859866539561487,
          0.29361296472831266,
          0.29361296472831266,
          0.29933269780743565,
          0.29933269780743565,
          0.30219256434699715,
          0.30219256434699715,
          0.3031458531935176,
          0.3031458531935176,
          0.31649189704480457,
          0.31649189704480457,
          0.3174451858913251,
          0.3174451858913251,
          0.31839847473784555,
          0.31839847473784555,
          0.31935176358436607,
          0.31935176358436607,
          0.32221163012392756,
          0.32221163012392756,
          0.32411820781696854,
          0.32411820781696854,
          0.32507149666348906,
          0.32507149666348906,
          0.32983794089609153,
          0.32983794089609153,
          0.330791229742612,
          0.330791229742612,
          0.33555767397521447,
          0.33555767397521447,
          0.3374642516682555,
          0.3374642516682555,
          0.33841754051477596,
          0.33841754051477596,
          0.342230695900858,
          0.342230695900858,
          0.3479504289799809,
          0.3479504289799809,
          0.35271687321258344,
          0.35271687321258344,
          0.3546234509056244,
          0.3546234509056244,
          0.3565300285986654,
          0.3565300285986654,
          0.3593898951382269,
          0.3593898951382269,
          0.3622497616777884,
          0.3622497616777884,
          0.3651096282173499,
          0.3651096282173499,
          0.37273593898951385,
          0.37273593898951385,
          0.3755958055290753,
          0.3755958055290753,
          0.38608198284080075,
          0.38608198284080075,
          0.38703527168732127,
          0.38703527168732127,
          0.38798856053384173,
          0.38798856053384173,
          0.3908484270734032,
          0.3908484270734032,
          0.3956148713060057,
          0.3956148713060057,
          0.40324118207816967,
          0.40324118207816967,
          0.4051477597712107,
          0.4051477597712107,
          0.4099142040038132,
          0.4099142040038132,
          0.41372735938989513,
          0.41372735938989513,
          0.4156339370829361,
          0.4156339370829361,
          0.4232602478551001,
          0.4232602478551001,
          0.4251668255481411,
          0.4251668255481411,
          0.42897998093422307,
          0.42897998093422307,
          0.43660629170638704,
          0.43660629170638704,
          0.43946615824594853,
          0.43946615824594853,
          0.44232602478551003,
          0.44232602478551003,
          0.44804575786463297,
          0.44804575786463297,
          0.4489990467111535,
          0.4489990467111535,
          0.45948522402287895,
          0.45948522402287895,
          0.4652049571020019,
          0.4652049571020019,
          0.47378455672068637,
          0.47378455672068637,
          0.47855100095328884,
          0.47855100095328884,
          0.48141086749285034,
          0.48141086749285034,
          0.48236415633937085,
          0.48236415633937085,
          0.4833174451858913,
          0.4833174451858913,
          0.4852240228789323,
          0.4852240228789323,
          0.5033365109628217,
          0.5033365109628217,
          0.5271687321258341,
          0.5271687321258341,
          0.55767397521449,
          0.55767397521449,
          0.5605338417540515,
          0.5605338417540515,
          0.5653002859866539,
          0.5653002859866539,
          0.567206863679695,
          0.567206863679695,
          0.6234509056244042,
          0.6234509056244042,
          0.6310772163965681,
          0.6310772163965681,
          0.6377502383222117,
          0.6377502383222117,
          0.6472831267874166,
          0.6472831267874166,
          0.6587225929456625,
          0.6587225929456625,
          0.6682554814108675,
          0.6682554814108675,
          0.6825548141086749,
          0.6825548141086749,
          0.6854146806482364,
          0.6854146806482364,
          0.7187797902764538,
          0.7187797902764538,
          0.7302192564346998,
          0.7302192564346998,
          0.8446139180171592,
          0.8446139180171592,
          0.8665395614871306,
          0.8665395614871306,
          0.8836987607244995,
          0.8836987607244995,
          0.909437559580553,
          0.909437559580553,
          1
         ],
         "xaxis": "x",
         "y": [
          0,
          0.0009794319294809011,
          0.05778648383937316,
          0.059745347698334964,
          0.2556317335945152,
          0.2556317335945152,
          0.2840352595494613,
          0.2840352595494613,
          0.2859941234084231,
          0.2859941234084231,
          0.30754162585700295,
          0.3095004897159647,
          0.31831537708129287,
          0.31831537708129287,
          0.3437806072477963,
          0.3437806072477963,
          0.34965719882468166,
          0.3516160626836435,
          0.3702252693437806,
          0.3702252693437806,
          0.4201762977473066,
          0.4201762977473066,
          0.42703232125367285,
          0.42703232125367285,
          0.4289911851126347,
          0.4289911851126347,
          0.4593535749265426,
          0.4593535749265426,
          0.465230166503428,
          0.465230166503428,
          0.47992164544564153,
          0.48188050930460335,
          0.49853085210577863,
          0.5004897159647405,
          0.5112634671890304,
          0.5112634671890304,
          0.515181194906954,
          0.515181194906954,
          0.5171400587659157,
          0.5171400587659157,
          0.5269343780607247,
          0.5269343780607247,
          0.5631733594515181,
          0.5631733594515181,
          0.5661116552399609,
          0.5661116552399609,
          0.5670910871694417,
          0.5670910871694417,
          0.5798237022526934,
          0.5798237022526934,
          0.5857002938295789,
          0.5857002938295789,
          0.5905974534769833,
          0.5905974534769833,
          0.5935357492654261,
          0.5935357492654261,
          0.594515181194907,
          0.594515181194907,
          0.5964740450538688,
          0.5964740450538688,
          0.5994123408423114,
          0.5994123408423114,
          0.6121449559255632,
          0.6121449559255632,
          0.623898139079334,
          0.623898139079334,
          0.6258570029382958,
          0.6258570029382958,
          0.6278158667972575,
          0.6278158667972575,
          0.633692458374143,
          0.633692458374143,
          0.6346718903036239,
          0.6346718903036239,
          0.6385896180215475,
          0.6385896180215475,
          0.6405484818805093,
          0.6405484818805093,
          0.6464250734573947,
          0.6464250734573947,
          0.6523016650342801,
          0.6523016650342801,
          0.6552399608227228,
          0.6552399608227228,
          0.6571988246816847,
          0.6571988246816847,
          0.6581782566111655,
          0.6581782566111655,
          0.6611165523996082,
          0.6611165523996082,
          0.6650342801175319,
          0.6650342801175319,
          0.6699314397649363,
          0.6699314397649363,
          0.6709108716944172,
          0.6709108716944172,
          0.67384916748286,
          0.67384916748286,
          0.6748285994123409,
          0.6748285994123409,
          0.6797257590597453,
          0.6797257590597453,
          0.6865817825661117,
          0.6865817825661117,
          0.7012732615083251,
          0.7012732615083251,
          0.7091087169441724,
          0.7091087169441724,
          0.7120470127326151,
          0.7120470127326151,
          0.713026444662096,
          0.713026444662096,
          0.7149853085210578,
          0.7149853085210578,
          0.7169441723800196,
          0.7169441723800196,
          0.7189030362389814,
          0.7189030362389814,
          0.722820763956905,
          0.722820763956905,
          0.7247796278158668,
          0.7247796278158668,
          0.7316356513222331,
          0.7316356513222331,
          0.732615083251714,
          0.732615083251714,
          0.7355533790401567,
          0.7355533790401567,
          0.7365328109696376,
          0.7365328109696376,
          0.7394711067580804,
          0.7394711067580804,
          0.7443682664054848,
          0.7443682664054848,
          0.7482859941234085,
          0.7482859941234085,
          0.7502448579823702,
          0.7502448579823702,
          0.752203721841332,
          0.752203721841332,
          0.7541625857002938,
          0.7541625857002938,
          0.7551420176297747,
          0.7551420176297747,
          0.7561214495592556,
          0.7561214495592556,
          0.7580803134182175,
          0.7580803134182175,
          0.7610186092066601,
          0.7610186092066601,
          0.7629774730656219,
          0.7629774730656219,
          0.7639569049951028,
          0.7639569049951028,
          0.7698334965719883,
          0.7698334965719883,
          0.7708129285014691,
          0.7708129285014691,
          0.7727717923604309,
          0.7727717923604309,
          0.7737512242899118,
          0.7737512242899118,
          0.7766895200783546,
          0.7766895200783546,
          0.7806072477962782,
          0.7806072477962782,
          0.781586679725759,
          0.781586679725759,
          0.7825661116552399,
          0.7825661116552399,
          0.7835455435847208,
          0.7835455435847208,
          0.7845249755142018,
          0.7845249755142018,
          0.7874632713026445,
          0.7874632713026445,
          0.7904015670910872,
          0.7904015670910872,
          0.7933398628795298,
          0.7933398628795298,
          0.7992164544564153,
          0.7992164544564153,
          0.8041136141038198,
          0.8041136141038198,
          0.8060724779627816,
          0.8060724779627816,
          0.8070519098922625,
          0.8070519098922625,
          0.8099902056807052,
          0.8099902056807052,
          0.8139079333986288,
          0.8139079333986288,
          0.8148873653281097,
          0.8148873653281097,
          0.8168462291870715,
          0.8168462291870715,
          0.8188050930460333,
          0.8188050930460333,
          0.8237022526934378,
          0.8237022526934378,
          0.8246816846229187,
          0.8246816846229187,
          0.8276199804113614,
          0.8276199804113614,
          0.8354554358472086,
          0.8354554358472086,
          0.8364348677766895,
          0.8364348677766895,
          0.8374142997061704,
          0.8374142997061704,
          0.8383937316356513,
          0.8383937316356513,
          0.8413320274240941,
          0.8413320274240941,
          0.8423114593535749,
          0.8423114593535749,
          0.8432908912830558,
          0.8432908912830558,
          0.8442703232125367,
          0.8442703232125367,
          0.8472086190009794,
          0.8472086190009794,
          0.8491674828599413,
          0.8491674828599413,
          0.8501469147894222,
          0.8501469147894222,
          0.8530852105778648,
          0.8530852105778648,
          0.8570029382957884,
          0.8570029382957884,
          0.8589618021547503,
          0.8589618021547503,
          0.8599412340842312,
          0.8599412340842312,
          0.861900097943193,
          0.861900097943193,
          0.8628795298726738,
          0.8628795298726738,
          0.8638589618021547,
          0.8638589618021547,
          0.8648383937316356,
          0.8648383937316356,
          0.8687561214495593,
          0.8687561214495593,
          0.8697355533790402,
          0.8697355533790402,
          0.871694417238002,
          0.871694417238002,
          0.8726738491674828,
          0.8726738491674828,
          0.8746327130264446,
          0.8746327130264446,
          0.8756121449559255,
          0.8756121449559255,
          0.8775710088148874,
          0.8775710088148874,
          0.8785504407443683,
          0.8785504407443683,
          0.8795298726738492,
          0.8795298726738492,
          0.881488736532811,
          0.881488736532811,
          0.8834476003917727,
          0.8834476003917727,
          0.8844270323212536,
          0.8844270323212536,
          0.8863858961802155,
          0.8863858961802155,
          0.8873653281096964,
          0.8873653281096964,
          0.8883447600391773,
          0.8883447600391773,
          0.8903036238981391,
          0.8903036238981391,
          0.89128305582762,
          0.89128305582762,
          0.8932419196865817,
          0.8932419196865817,
          0.8952007835455436,
          0.8952007835455436,
          0.8961802154750245,
          0.8961802154750245,
          0.8971596474045054,
          0.8971596474045054,
          0.901077375122429,
          0.901077375122429,
          0.9030362389813908,
          0.9030362389813908,
          0.9040156709108716,
          0.9040156709108716,
          0.9059745347698335,
          0.9059745347698335,
          0.9069539666993144,
          0.9069539666993144,
          0.9079333986287953,
          0.9079333986287953,
          0.9098922624877571,
          0.9098922624877571,
          0.9128305582761999,
          0.9128305582761999,
          0.9157688540646425,
          0.9157688540646425,
          0.9177277179236043,
          0.9177277179236043,
          0.9187071498530852,
          0.9187071498530852,
          0.9196865817825661,
          0.9196865817825661,
          0.920666013712047,
          0.920666013712047,
          0.9226248775710089,
          0.9226248775710089,
          0.9236043095004897,
          0.9236043095004897,
          0.9245837414299706,
          0.9245837414299706,
          0.9255631733594515,
          0.9255631733594515,
          0.9265426052889324,
          0.9265426052889324,
          0.9275220372184133,
          0.9275220372184133,
          0.9285014691478942,
          0.9285014691478942,
          0.930460333006856,
          0.930460333006856,
          0.931439764936337,
          0.931439764936337,
          0.9324191968658179,
          0.9324191968658179,
          0.9333986287952988,
          0.9333986287952988,
          0.9343780607247796,
          0.9343780607247796,
          0.9353574926542605,
          0.9353574926542605,
          0.9363369245837414,
          0.9363369245837414,
          0.9373163565132223,
          0.9373163565132223,
          0.9392752203721841,
          0.9392752203721841,
          0.941234084231146,
          0.941234084231146,
          0.9422135161606269,
          0.9422135161606269,
          0.9431929480901078,
          0.9431929480901078,
          0.9441723800195886,
          0.9441723800195886,
          0.9451518119490695,
          0.9451518119490695,
          0.9461312438785504,
          0.9461312438785504,
          0.9471106758080313,
          0.9471106758080313,
          0.9490695396669931,
          0.9490695396669931,
          0.9500489715964741,
          0.9500489715964741,
          0.951028403525955,
          0.951028403525955,
          0.9529872673849168,
          0.9529872673849168,
          0.9549461312438785,
          0.9549461312438785,
          0.9559255631733594,
          0.9559255631733594,
          0.9569049951028403,
          0.9569049951028403,
          0.9578844270323212,
          0.9578844270323212,
          0.9588638589618022,
          0.9588638589618022,
          0.9598432908912831,
          0.9598432908912831,
          0.960822722820764,
          0.960822722820764,
          0.9618021547502449,
          0.9618021547502449,
          0.9627815866797258,
          0.9627815866797258,
          0.9637610186092067,
          0.9637610186092067,
          0.9647404505386875,
          0.9647404505386875,
          0.9657198824681684,
          0.9657198824681684,
          0.9666993143976493,
          0.9666993143976493,
          0.9676787463271302,
          0.9676787463271302,
          0.9686581782566112,
          0.9686581782566112,
          0.9696376101860921,
          0.9696376101860921,
          0.970617042115573,
          0.970617042115573,
          0.9715964740450539,
          0.9715964740450539,
          0.9725759059745348,
          0.9725759059745348,
          0.9735553379040157,
          0.9735553379040157,
          0.9745347698334965,
          0.9745347698334965,
          0.9755142017629774,
          0.9755142017629774,
          0.9764936336924583,
          0.9764936336924583,
          0.9774730656219393,
          0.9774730656219393,
          0.9784524975514202,
          0.9784524975514202,
          0.9794319294809011,
          0.9794319294809011,
          0.9813907933398629,
          0.9813907933398629,
          0.9823702252693438,
          0.9823702252693438,
          0.9833496571988247,
          0.9833496571988247,
          0.9843290891283056,
          0.9843290891283056,
          0.9862879529872673,
          0.9862879529872673,
          0.9872673849167483,
          0.9872673849167483,
          0.9882468168462292,
          0.9882468168462292,
          0.9892262487757101,
          0.9892262487757101,
          0.990205680705191,
          0.990205680705191,
          0.9911851126346719,
          0.9911851126346719,
          0.9921645445641528,
          0.9921645445641528,
          0.9931439764936337,
          0.9931439764936337,
          0.9941234084231146,
          0.9941234084231146,
          0.9951028403525954,
          0.9951028403525954,
          0.9960822722820764,
          0.9960822722820764,
          0.9970617042115573,
          0.9970617042115573,
          0.9980411361410382,
          0.9980411361410382,
          0.9990205680705191,
          0.9990205680705191,
          1,
          1
         ],
         "yaxis": "y"
        }
       ],
       "layout": {
        "height": 500,
        "legend": {
         "tracegroupgap": 0
        },
        "shapes": [
         {
          "line": {
           "dash": "dash"
          },
          "type": "line",
          "x0": 0,
          "x1": 1,
          "y0": 0,
          "y1": 1
         }
        ],
        "template": {
         "data": {
          "bar": [
           {
            "error_x": {
             "color": "#2a3f5f"
            },
            "error_y": {
             "color": "#2a3f5f"
            },
            "marker": {
             "line": {
              "color": "#E5ECF6",
              "width": 0.5
             },
             "pattern": {
              "fillmode": "overlay",
              "size": 10,
              "solidity": 0.2
             }
            },
            "type": "bar"
           }
          ],
          "barpolar": [
           {
            "marker": {
             "line": {
              "color": "#E5ECF6",
              "width": 0.5
             },
             "pattern": {
              "fillmode": "overlay",
              "size": 10,
              "solidity": 0.2
             }
            },
            "type": "barpolar"
           }
          ],
          "carpet": [
           {
            "aaxis": {
             "endlinecolor": "#2a3f5f",
             "gridcolor": "white",
             "linecolor": "white",
             "minorgridcolor": "white",
             "startlinecolor": "#2a3f5f"
            },
            "baxis": {
             "endlinecolor": "#2a3f5f",
             "gridcolor": "white",
             "linecolor": "white",
             "minorgridcolor": "white",
             "startlinecolor": "#2a3f5f"
            },
            "type": "carpet"
           }
          ],
          "choropleth": [
           {
            "colorbar": {
             "outlinewidth": 0,
             "ticks": ""
            },
            "type": "choropleth"
           }
          ],
          "contour": [
           {
            "colorbar": {
             "outlinewidth": 0,
             "ticks": ""
            },
            "colorscale": [
             [
              0,
              "#0d0887"
             ],
             [
              0.1111111111111111,
              "#46039f"
             ],
             [
              0.2222222222222222,
              "#7201a8"
             ],
             [
              0.3333333333333333,
              "#9c179e"
             ],
             [
              0.4444444444444444,
              "#bd3786"
             ],
             [
              0.5555555555555556,
              "#d8576b"
             ],
             [
              0.6666666666666666,
              "#ed7953"
             ],
             [
              0.7777777777777778,
              "#fb9f3a"
             ],
             [
              0.8888888888888888,
              "#fdca26"
             ],
             [
              1,
              "#f0f921"
             ]
            ],
            "type": "contour"
           }
          ],
          "contourcarpet": [
           {
            "colorbar": {
             "outlinewidth": 0,
             "ticks": ""
            },
            "type": "contourcarpet"
           }
          ],
          "heatmap": [
           {
            "colorbar": {
             "outlinewidth": 0,
             "ticks": ""
            },
            "colorscale": [
             [
              0,
              "#0d0887"
             ],
             [
              0.1111111111111111,
              "#46039f"
             ],
             [
              0.2222222222222222,
              "#7201a8"
             ],
             [
              0.3333333333333333,
              "#9c179e"
             ],
             [
              0.4444444444444444,
              "#bd3786"
             ],
             [
              0.5555555555555556,
              "#d8576b"
             ],
             [
              0.6666666666666666,
              "#ed7953"
             ],
             [
              0.7777777777777778,
              "#fb9f3a"
             ],
             [
              0.8888888888888888,
              "#fdca26"
             ],
             [
              1,
              "#f0f921"
             ]
            ],
            "type": "heatmap"
           }
          ],
          "heatmapgl": [
           {
            "colorbar": {
             "outlinewidth": 0,
             "ticks": ""
            },
            "colorscale": [
             [
              0,
              "#0d0887"
             ],
             [
              0.1111111111111111,
              "#46039f"
             ],
             [
              0.2222222222222222,
              "#7201a8"
             ],
             [
              0.3333333333333333,
              "#9c179e"
             ],
             [
              0.4444444444444444,
              "#bd3786"
             ],
             [
              0.5555555555555556,
              "#d8576b"
             ],
             [
              0.6666666666666666,
              "#ed7953"
             ],
             [
              0.7777777777777778,
              "#fb9f3a"
             ],
             [
              0.8888888888888888,
              "#fdca26"
             ],
             [
              1,
              "#f0f921"
             ]
            ],
            "type": "heatmapgl"
           }
          ],
          "histogram": [
           {
            "marker": {
             "pattern": {
              "fillmode": "overlay",
              "size": 10,
              "solidity": 0.2
             }
            },
            "type": "histogram"
           }
          ],
          "histogram2d": [
           {
            "colorbar": {
             "outlinewidth": 0,
             "ticks": ""
            },
            "colorscale": [
             [
              0,
              "#0d0887"
             ],
             [
              0.1111111111111111,
              "#46039f"
             ],
             [
              0.2222222222222222,
              "#7201a8"
             ],
             [
              0.3333333333333333,
              "#9c179e"
             ],
             [
              0.4444444444444444,
              "#bd3786"
             ],
             [
              0.5555555555555556,
              "#d8576b"
             ],
             [
              0.6666666666666666,
              "#ed7953"
             ],
             [
              0.7777777777777778,
              "#fb9f3a"
             ],
             [
              0.8888888888888888,
              "#fdca26"
             ],
             [
              1,
              "#f0f921"
             ]
            ],
            "type": "histogram2d"
           }
          ],
          "histogram2dcontour": [
           {
            "colorbar": {
             "outlinewidth": 0,
             "ticks": ""
            },
            "colorscale": [
             [
              0,
              "#0d0887"
             ],
             [
              0.1111111111111111,
              "#46039f"
             ],
             [
              0.2222222222222222,
              "#7201a8"
             ],
             [
              0.3333333333333333,
              "#9c179e"
             ],
             [
              0.4444444444444444,
              "#bd3786"
             ],
             [
              0.5555555555555556,
              "#d8576b"
             ],
             [
              0.6666666666666666,
              "#ed7953"
             ],
             [
              0.7777777777777778,
              "#fb9f3a"
             ],
             [
              0.8888888888888888,
              "#fdca26"
             ],
             [
              1,
              "#f0f921"
             ]
            ],
            "type": "histogram2dcontour"
           }
          ],
          "mesh3d": [
           {
            "colorbar": {
             "outlinewidth": 0,
             "ticks": ""
            },
            "type": "mesh3d"
           }
          ],
          "parcoords": [
           {
            "line": {
             "colorbar": {
              "outlinewidth": 0,
              "ticks": ""
             }
            },
            "type": "parcoords"
           }
          ],
          "pie": [
           {
            "automargin": true,
            "type": "pie"
           }
          ],
          "scatter": [
           {
            "fillpattern": {
             "fillmode": "overlay",
             "size": 10,
             "solidity": 0.2
            },
            "type": "scatter"
           }
          ],
          "scatter3d": [
           {
            "line": {
             "colorbar": {
              "outlinewidth": 0,
              "ticks": ""
             }
            },
            "marker": {
             "colorbar": {
              "outlinewidth": 0,
              "ticks": ""
             }
            },
            "type": "scatter3d"
           }
          ],
          "scattercarpet": [
           {
            "marker": {
             "colorbar": {
              "outlinewidth": 0,
              "ticks": ""
             }
            },
            "type": "scattercarpet"
           }
          ],
          "scattergeo": [
           {
            "marker": {
             "colorbar": {
              "outlinewidth": 0,
              "ticks": ""
             }
            },
            "type": "scattergeo"
           }
          ],
          "scattergl": [
           {
            "marker": {
             "colorbar": {
              "outlinewidth": 0,
              "ticks": ""
             }
            },
            "type": "scattergl"
           }
          ],
          "scattermapbox": [
           {
            "marker": {
             "colorbar": {
              "outlinewidth": 0,
              "ticks": ""
             }
            },
            "type": "scattermapbox"
           }
          ],
          "scatterpolar": [
           {
            "marker": {
             "colorbar": {
              "outlinewidth": 0,
              "ticks": ""
             }
            },
            "type": "scatterpolar"
           }
          ],
          "scatterpolargl": [
           {
            "marker": {
             "colorbar": {
              "outlinewidth": 0,
              "ticks": ""
             }
            },
            "type": "scatterpolargl"
           }
          ],
          "scatterternary": [
           {
            "marker": {
             "colorbar": {
              "outlinewidth": 0,
              "ticks": ""
             }
            },
            "type": "scatterternary"
           }
          ],
          "surface": [
           {
            "colorbar": {
             "outlinewidth": 0,
             "ticks": ""
            },
            "colorscale": [
             [
              0,
              "#0d0887"
             ],
             [
              0.1111111111111111,
              "#46039f"
             ],
             [
              0.2222222222222222,
              "#7201a8"
             ],
             [
              0.3333333333333333,
              "#9c179e"
             ],
             [
              0.4444444444444444,
              "#bd3786"
             ],
             [
              0.5555555555555556,
              "#d8576b"
             ],
             [
              0.6666666666666666,
              "#ed7953"
             ],
             [
              0.7777777777777778,
              "#fb9f3a"
             ],
             [
              0.8888888888888888,
              "#fdca26"
             ],
             [
              1,
              "#f0f921"
             ]
            ],
            "type": "surface"
           }
          ],
          "table": [
           {
            "cells": {
             "fill": {
              "color": "#EBF0F8"
             },
             "line": {
              "color": "white"
             }
            },
            "header": {
             "fill": {
              "color": "#C8D4E3"
             },
             "line": {
              "color": "white"
             }
            },
            "type": "table"
           }
          ]
         },
         "layout": {
          "annotationdefaults": {
           "arrowcolor": "#2a3f5f",
           "arrowhead": 0,
           "arrowwidth": 1
          },
          "autotypenumbers": "strict",
          "coloraxis": {
           "colorbar": {
            "outlinewidth": 0,
            "ticks": ""
           }
          },
          "colorscale": {
           "diverging": [
            [
             0,
             "#8e0152"
            ],
            [
             0.1,
             "#c51b7d"
            ],
            [
             0.2,
             "#de77ae"
            ],
            [
             0.3,
             "#f1b6da"
            ],
            [
             0.4,
             "#fde0ef"
            ],
            [
             0.5,
             "#f7f7f7"
            ],
            [
             0.6,
             "#e6f5d0"
            ],
            [
             0.7,
             "#b8e186"
            ],
            [
             0.8,
             "#7fbc41"
            ],
            [
             0.9,
             "#4d9221"
            ],
            [
             1,
             "#276419"
            ]
           ],
           "sequential": [
            [
             0,
             "#0d0887"
            ],
            [
             0.1111111111111111,
             "#46039f"
            ],
            [
             0.2222222222222222,
             "#7201a8"
            ],
            [
             0.3333333333333333,
             "#9c179e"
            ],
            [
             0.4444444444444444,
             "#bd3786"
            ],
            [
             0.5555555555555556,
             "#d8576b"
            ],
            [
             0.6666666666666666,
             "#ed7953"
            ],
            [
             0.7777777777777778,
             "#fb9f3a"
            ],
            [
             0.8888888888888888,
             "#fdca26"
            ],
            [
             1,
             "#f0f921"
            ]
           ],
           "sequentialminus": [
            [
             0,
             "#0d0887"
            ],
            [
             0.1111111111111111,
             "#46039f"
            ],
            [
             0.2222222222222222,
             "#7201a8"
            ],
            [
             0.3333333333333333,
             "#9c179e"
            ],
            [
             0.4444444444444444,
             "#bd3786"
            ],
            [
             0.5555555555555556,
             "#d8576b"
            ],
            [
             0.6666666666666666,
             "#ed7953"
            ],
            [
             0.7777777777777778,
             "#fb9f3a"
            ],
            [
             0.8888888888888888,
             "#fdca26"
            ],
            [
             1,
             "#f0f921"
            ]
           ]
          },
          "colorway": [
           "#636efa",
           "#EF553B",
           "#00cc96",
           "#ab63fa",
           "#FFA15A",
           "#19d3f3",
           "#FF6692",
           "#B6E880",
           "#FF97FF",
           "#FECB52"
          ],
          "font": {
           "color": "#2a3f5f"
          },
          "geo": {
           "bgcolor": "white",
           "lakecolor": "white",
           "landcolor": "#E5ECF6",
           "showlakes": true,
           "showland": true,
           "subunitcolor": "white"
          },
          "hoverlabel": {
           "align": "left"
          },
          "hovermode": "closest",
          "mapbox": {
           "style": "light"
          },
          "paper_bgcolor": "white",
          "plot_bgcolor": "#E5ECF6",
          "polar": {
           "angularaxis": {
            "gridcolor": "white",
            "linecolor": "white",
            "ticks": ""
           },
           "bgcolor": "#E5ECF6",
           "radialaxis": {
            "gridcolor": "white",
            "linecolor": "white",
            "ticks": ""
           }
          },
          "scene": {
           "xaxis": {
            "backgroundcolor": "#E5ECF6",
            "gridcolor": "white",
            "gridwidth": 2,
            "linecolor": "white",
            "showbackground": true,
            "ticks": "",
            "zerolinecolor": "white"
           },
           "yaxis": {
            "backgroundcolor": "#E5ECF6",
            "gridcolor": "white",
            "gridwidth": 2,
            "linecolor": "white",
            "showbackground": true,
            "ticks": "",
            "zerolinecolor": "white"
           },
           "zaxis": {
            "backgroundcolor": "#E5ECF6",
            "gridcolor": "white",
            "gridwidth": 2,
            "linecolor": "white",
            "showbackground": true,
            "ticks": "",
            "zerolinecolor": "white"
           }
          },
          "shapedefaults": {
           "line": {
            "color": "#2a3f5f"
           }
          },
          "ternary": {
           "aaxis": {
            "gridcolor": "white",
            "linecolor": "white",
            "ticks": ""
           },
           "baxis": {
            "gridcolor": "white",
            "linecolor": "white",
            "ticks": ""
           },
           "bgcolor": "#E5ECF6",
           "caxis": {
            "gridcolor": "white",
            "linecolor": "white",
            "ticks": ""
           }
          },
          "title": {
           "x": 0.05
          },
          "xaxis": {
           "automargin": true,
           "gridcolor": "white",
           "linecolor": "white",
           "ticks": "",
           "title": {
            "standoff": 15
           },
           "zerolinecolor": "white",
           "zerolinewidth": 2
          },
          "yaxis": {
           "automargin": true,
           "gridcolor": "white",
           "linecolor": "white",
           "ticks": "",
           "title": {
            "standoff": 15
           },
           "zerolinecolor": "white",
           "zerolinewidth": 2
          }
         }
        },
        "title": {
         "text": "ROC Curve (AUC=0.9260)"
        },
        "width": 700,
        "xaxis": {
         "anchor": "y",
         "constrain": "domain",
         "domain": [
          0,
          1
         ],
         "title": {
          "text": "False Positive Rate"
         }
        },
        "yaxis": {
         "anchor": "x",
         "domain": [
          0,
          1
         ],
         "scaleanchor": "x",
         "scaleratio": 1,
         "title": {
          "text": "True Positive Rate"
         }
        }
       }
      }
     },
     "metadata": {},
     "output_type": "display_data"
    },
    {
     "data": {
      "image/png": "[encoded data removed]",
      "text/plain": [
       "<Figure size 640x480 with 2 Axes>"
      ]
     },
     "metadata": {},
     "output_type": "display_data"
    }
   ],
   "source": [
    "#roc auc score\n",
    "roc_auc_score(y_test, grid_clf.predict(X_test))\n",
    "\n",
    "#accuracy score\n",
    "accuracy_score(y_test, grid_clf.predict(X_test))\n",
    "\n",
    "# classification report\n",
    "print(classification_report(y_test, grid_clf.predict(X_test)))\n",
    "\n",
    "#confusion matrix\n",
    "c_matrix = confusion_matrix(y_test, grid_clf.predict(X_test))\n",
    "\n",
    "#plot confusion matrix\n",
    "sns.heatmap(c_matrix, annot=True, fmt='', cmap='Blues')\n",
    "\n",
    "#plot roc curve\n",
    "fpr, tpr, thresholds = roc_curve(y_test, grid_clf.predict_proba(X_test)[:,1])\n",
    "roc_auc = auc(fpr, tpr)\n",
    "\n",
    "fig = px.area(\n",
    "    x=fpr, y=tpr,\n",
    "    title=f'ROC Curve (AUC={roc_auc:.4f})',\n",
    "    labels=dict(x='False Positive Rate', y='True Positive Rate'),\n",
    "    width=700, height=500\n",
    ")\n",
    "fig.add_shape(\n",
    "    type='line', line=dict(dash='dash'),\n",
    "    x0=0, x1=1, y0=0, y1=1\n",
    ")\n",
    "\n",
    "fig.update_yaxes(scaleanchor=\"x\", scaleratio=1)\n",
    "fig.update_xaxes(constrain='domain')\n",
    "fig.show()\n",
    "\n",
    "\n"
   ]
  },
  {
   "cell_type": "code",
   "execution_count": 15,
   "metadata": {},
   "outputs": [
    {
     "data": {
      "application/vnd.plotly.v1+json": {
       "config": {
        "plotlyServerURL": "https://plot.ly"
       },
       "data": [
        {
         "alignmentgroup": "True",
         "hovertemplate": "index=%{x}<br>value=%{y}<br>color=%{marker.color}<extra></extra>",
         "legendgroup": "",
         "marker": {
          "color": [
           0.3569841980934143,
           0.1896832138299942,
           0.1347007006406784,
           0.06148559972643852,
           0.056723322719335556,
           0.040169913321733475,
           0.038508594036102295,
           0.03216808661818504,
           0.02566683664917946,
           0.025211365893483162,
           0.01997016929090023,
           0.01872793212532997
          ],
          "coloraxis": "coloraxis",
          "pattern": {
           "shape": ""
          }
         },
         "name": "",
         "offsetgroup": "",
         "orientation": "v",
         "showlegend": false,
         "textposition": "auto",
         "type": "bar",
         "x": [
          "Games Product",
          "Call Center",
          "Device Class",
          "Music Product",
          "Education Product",
          "Tenure Months",
          "Use MyApp",
          "Video Product",
          "Location",
          "Monthly Purchase (Thou. IDR)",
          "CLTV (Predicted Thou. IDR)",
          "Payment Method"
         ],
         "xaxis": "x",
         "y": [
          0.3569841980934143,
          0.1896832138299942,
          0.1347007006406784,
          0.06148559972643852,
          0.056723322719335556,
          0.040169913321733475,
          0.038508594036102295,
          0.03216808661818504,
          0.02566683664917946,
          0.025211365893483162,
          0.01997016929090023,
          0.01872793212532997
         ],
         "yaxis": "y"
        }
       ],
       "layout": {
        "barmode": "relative",
        "coloraxis": {
         "colorbar": {
          "title": {
           "text": "color"
          }
         },
         "colorscale": [
          [
           0,
           "#0d0887"
          ],
          [
           0.1111111111111111,
           "#46039f"
          ],
          [
           0.2222222222222222,
           "#7201a8"
          ],
          [
           0.3333333333333333,
           "#9c179e"
          ],
          [
           0.4444444444444444,
           "#bd3786"
          ],
          [
           0.5555555555555556,
           "#d8576b"
          ],
          [
           0.6666666666666666,
           "#ed7953"
          ],
          [
           0.7777777777777778,
           "#fb9f3a"
          ],
          [
           0.8888888888888888,
           "#fdca26"
          ],
          [
           1,
           "#f0f921"
          ]
         ]
        },
        "legend": {
         "tracegroupgap": 0
        },
        "template": {
         "data": {
          "bar": [
           {
            "error_x": {
             "color": "#2a3f5f"
            },
            "error_y": {
             "color": "#2a3f5f"
            },
            "marker": {
             "line": {
              "color": "#E5ECF6",
              "width": 0.5
             },
             "pattern": {
              "fillmode": "overlay",
              "size": 10,
              "solidity": 0.2
             }
            },
            "type": "bar"
           }
          ],
          "barpolar": [
           {
            "marker": {
             "line": {
              "color": "#E5ECF6",
              "width": 0.5
             },
             "pattern": {
              "fillmode": "overlay",
              "size": 10,
              "solidity": 0.2
             }
            },
            "type": "barpolar"
           }
          ],
          "carpet": [
           {
            "aaxis": {
             "endlinecolor": "#2a3f5f",
             "gridcolor": "white",
             "linecolor": "white",
             "minorgridcolor": "white",
             "startlinecolor": "#2a3f5f"
            },
            "baxis": {
             "endlinecolor": "#2a3f5f",
             "gridcolor": "white",
             "linecolor": "white",
             "minorgridcolor": "white",
             "startlinecolor": "#2a3f5f"
            },
            "type": "carpet"
           }
          ],
          "choropleth": [
           {
            "colorbar": {
             "outlinewidth": 0,
             "ticks": ""
            },
            "type": "choropleth"
           }
          ],
          "contour": [
           {
            "colorbar": {
             "outlinewidth": 0,
             "ticks": ""
            },
            "colorscale": [
             [
              0,
              "#0d0887"
             ],
             [
              0.1111111111111111,
              "#46039f"
             ],
             [
              0.2222222222222222,
              "#7201a8"
             ],
             [
              0.3333333333333333,
              "#9c179e"
             ],
             [
              0.4444444444444444,
              "#bd3786"
             ],
             [
              0.5555555555555556,
              "#d8576b"
             ],
             [
              0.6666666666666666,
              "#ed7953"
             ],
             [
              0.7777777777777778,
              "#fb9f3a"
             ],
             [
              0.8888888888888888,
              "#fdca26"
             ],
             [
              1,
              "#f0f921"
             ]
            ],
            "type": "contour"
           }
          ],
          "contourcarpet": [
           {
            "colorbar": {
             "outlinewidth": 0,
             "ticks": ""
            },
            "type": "contourcarpet"
           }
          ],
          "heatmap": [
           {
            "colorbar": {
             "outlinewidth": 0,
             "ticks": ""
            },
            "colorscale": [
             [
              0,
              "#0d0887"
             ],
             [
              0.1111111111111111,
              "#46039f"
             ],
             [
              0.2222222222222222,
              "#7201a8"
             ],
             [
              0.3333333333333333,
              "#9c179e"
             ],
             [
              0.4444444444444444,
              "#bd3786"
             ],
             [
              0.5555555555555556,
              "#d8576b"
             ],
             [
              0.6666666666666666,
              "#ed7953"
             ],
             [
              0.7777777777777778,
              "#fb9f3a"
             ],
             [
              0.8888888888888888,
              "#fdca26"
             ],
             [
              1,
              "#f0f921"
             ]
            ],
            "type": "heatmap"
           }
          ],
          "heatmapgl": [
           {
            "colorbar": {
             "outlinewidth": 0,
             "ticks": ""
            },
            "colorscale": [
             [
              0,
              "#0d0887"
             ],
             [
              0.1111111111111111,
              "#46039f"
             ],
             [
              0.2222222222222222,
              "#7201a8"
             ],
             [
              0.3333333333333333,
              "#9c179e"
             ],
             [
              0.4444444444444444,
              "#bd3786"
             ],
             [
              0.5555555555555556,
              "#d8576b"
             ],
             [
              0.6666666666666666,
              "#ed7953"
             ],
             [
              0.7777777777777778,
              "#fb9f3a"
             ],
             [
              0.8888888888888888,
              "#fdca26"
             ],
             [
              1,
              "#f0f921"
             ]
            ],
            "type": "heatmapgl"
           }
          ],
          "histogram": [
           {
            "marker": {
             "pattern": {
              "fillmode": "overlay",
              "size": 10,
              "solidity": 0.2
             }
            },
            "type": "histogram"
           }
          ],
          "histogram2d": [
           {
            "colorbar": {
             "outlinewidth": 0,
             "ticks": ""
            },
            "colorscale": [
             [
              0,
              "#0d0887"
             ],
             [
              0.1111111111111111,
              "#46039f"
             ],
             [
              0.2222222222222222,
              "#7201a8"
             ],
             [
              0.3333333333333333,
              "#9c179e"
             ],
             [
              0.4444444444444444,
              "#bd3786"
             ],
             [
              0.5555555555555556,
              "#d8576b"
             ],
             [
              0.6666666666666666,
              "#ed7953"
             ],
             [
              0.7777777777777778,
              "#fb9f3a"
             ],
             [
              0.8888888888888888,
              "#fdca26"
             ],
             [
              1,
              "#f0f921"
             ]
            ],
            "type": "histogram2d"
           }
          ],
          "histogram2dcontour": [
           {
            "colorbar": {
             "outlinewidth": 0,
             "ticks": ""
            },
            "colorscale": [
             [
              0,
              "#0d0887"
             ],
             [
              0.1111111111111111,
              "#46039f"
             ],
             [
              0.2222222222222222,
              "#7201a8"
             ],
             [
              0.3333333333333333,
              "#9c179e"
             ],
             [
              0.4444444444444444,
              "#bd3786"
             ],
             [
              0.5555555555555556,
              "#d8576b"
             ],
             [
              0.6666666666666666,
              "#ed7953"
             ],
             [
              0.7777777777777778,
              "#fb9f3a"
             ],
             [
              0.8888888888888888,
              "#fdca26"
             ],
             [
              1,
              "#f0f921"
             ]
            ],
            "type": "histogram2dcontour"
           }
          ],
          "mesh3d": [
           {
            "colorbar": {
             "outlinewidth": 0,
             "ticks": ""
            },
            "type": "mesh3d"
           }
          ],
          "parcoords": [
           {
            "line": {
             "colorbar": {
              "outlinewidth": 0,
              "ticks": ""
             }
            },
            "type": "parcoords"
           }
          ],
          "pie": [
           {
            "automargin": true,
            "type": "pie"
           }
          ],
          "scatter": [
           {
            "fillpattern": {
             "fillmode": "overlay",
             "size": 10,
             "solidity": 0.2
            },
            "type": "scatter"
           }
          ],
          "scatter3d": [
           {
            "line": {
             "colorbar": {
              "outlinewidth": 0,
              "ticks": ""
             }
            },
            "marker": {
             "colorbar": {
              "outlinewidth": 0,
              "ticks": ""
             }
            },
            "type": "scatter3d"
           }
          ],
          "scattercarpet": [
           {
            "marker": {
             "colorbar": {
              "outlinewidth": 0,
              "ticks": ""
             }
            },
            "type": "scattercarpet"
           }
          ],
          "scattergeo": [
           {
            "marker": {
             "colorbar": {
              "outlinewidth": 0,
              "ticks": ""
             }
            },
            "type": "scattergeo"
           }
          ],
          "scattergl": [
           {
            "marker": {
             "colorbar": {
              "outlinewidth": 0,
              "ticks": ""
             }
            },
            "type": "scattergl"
           }
          ],
          "scattermapbox": [
           {
            "marker": {
             "colorbar": {
              "outlinewidth": 0,
              "ticks": ""
             }
            },
            "type": "scattermapbox"
           }
          ],
          "scatterpolar": [
           {
            "marker": {
             "colorbar": {
              "outlinewidth": 0,
              "ticks": ""
             }
            },
            "type": "scatterpolar"
           }
          ],
          "scatterpolargl": [
           {
            "marker": {
             "colorbar": {
              "outlinewidth": 0,
              "ticks": ""
             }
            },
            "type": "scatterpolargl"
           }
          ],
          "scatterternary": [
           {
            "marker": {
             "colorbar": {
              "outlinewidth": 0,
              "ticks": ""
             }
            },
            "type": "scatterternary"
           }
          ],
          "surface": [
           {
            "colorbar": {
             "outlinewidth": 0,
             "ticks": ""
            },
            "colorscale": [
             [
              0,
              "#0d0887"
             ],
             [
              0.1111111111111111,
              "#46039f"
             ],
             [
              0.2222222222222222,
              "#7201a8"
             ],
             [
              0.3333333333333333,
              "#9c179e"
             ],
             [
              0.4444444444444444,
              "#bd3786"
             ],
             [
              0.5555555555555556,
              "#d8576b"
             ],
             [
              0.6666666666666666,
              "#ed7953"
             ],
             [
              0.7777777777777778,
              "#fb9f3a"
             ],
             [
              0.8888888888888888,
              "#fdca26"
             ],
             [
              1,
              "#f0f921"
             ]
            ],
            "type": "surface"
           }
          ],
          "table": [
           {
            "cells": {
             "fill": {
              "color": "#EBF0F8"
             },
             "line": {
              "color": "white"
             }
            },
            "header": {
             "fill": {
              "color": "#C8D4E3"
             },
             "line": {
              "color": "white"
             }
            },
            "type": "table"
           }
          ]
         },
         "layout": {
          "annotationdefaults": {
           "arrowcolor": "#2a3f5f",
           "arrowhead": 0,
           "arrowwidth": 1
          },
          "autotypenumbers": "strict",
          "coloraxis": {
           "colorbar": {
            "outlinewidth": 0,
            "ticks": ""
           }
          },
          "colorscale": {
           "diverging": [
            [
             0,
             "#8e0152"
            ],
            [
             0.1,
             "#c51b7d"
            ],
            [
             0.2,
             "#de77ae"
            ],
            [
             0.3,
             "#f1b6da"
            ],
            [
             0.4,
             "#fde0ef"
            ],
            [
             0.5,
             "#f7f7f7"
            ],
            [
             0.6,
             "#e6f5d0"
            ],
            [
             0.7,
             "#b8e186"
            ],
            [
             0.8,
             "#7fbc41"
            ],
            [
             0.9,
             "#4d9221"
            ],
            [
             1,
             "#276419"
            ]
           ],
           "sequential": [
            [
             0,
             "#0d0887"
            ],
            [
             0.1111111111111111,
             "#46039f"
            ],
            [
             0.2222222222222222,
             "#7201a8"
            ],
            [
             0.3333333333333333,
             "#9c179e"
            ],
            [
             0.4444444444444444,
             "#bd3786"
            ],
            [
             0.5555555555555556,
             "#d8576b"
            ],
            [
             0.6666666666666666,
             "#ed7953"
            ],
            [
             0.7777777777777778,
             "#fb9f3a"
            ],
            [
             0.8888888888888888,
             "#fdca26"
            ],
            [
             1,
             "#f0f921"
            ]
           ],
           "sequentialminus": [
            [
             0,
             "#0d0887"
            ],
            [
             0.1111111111111111,
             "#46039f"
            ],
            [
             0.2222222222222222,
             "#7201a8"
            ],
            [
             0.3333333333333333,
             "#9c179e"
            ],
            [
             0.4444444444444444,
             "#bd3786"
            ],
            [
             0.5555555555555556,
             "#d8576b"
            ],
            [
             0.6666666666666666,
             "#ed7953"
            ],
            [
             0.7777777777777778,
             "#fb9f3a"
            ],
            [
             0.8888888888888888,
             "#fdca26"
            ],
            [
             1,
             "#f0f921"
            ]
           ]
          },
          "colorway": [
           "#636efa",
           "#EF553B",
           "#00cc96",
           "#ab63fa",
           "#FFA15A",
           "#19d3f3",
           "#FF6692",
           "#B6E880",
           "#FF97FF",
           "#FECB52"
          ],
          "font": {
           "color": "#2a3f5f"
          },
          "geo": {
           "bgcolor": "white",
           "lakecolor": "white",
           "landcolor": "#E5ECF6",
           "showlakes": true,
           "showland": true,
           "subunitcolor": "white"
          },
          "hoverlabel": {
           "align": "left"
          },
          "hovermode": "closest",
          "mapbox": {
           "style": "light"
          },
          "paper_bgcolor": "white",
          "plot_bgcolor": "#E5ECF6",
          "polar": {
           "angularaxis": {
            "gridcolor": "white",
            "linecolor": "white",
            "ticks": ""
           },
           "bgcolor": "#E5ECF6",
           "radialaxis": {
            "gridcolor": "white",
            "linecolor": "white",
            "ticks": ""
           }
          },
          "scene": {
           "xaxis": {
            "backgroundcolor": "#E5ECF6",
            "gridcolor": "white",
            "gridwidth": 2,
            "linecolor": "white",
            "showbackground": true,
            "ticks": "",
            "zerolinecolor": "white"
           },
           "yaxis": {
            "backgroundcolor": "#E5ECF6",
            "gridcolor": "white",
            "gridwidth": 2,
            "linecolor": "white",
            "showbackground": true,
            "ticks": "",
            "zerolinecolor": "white"
           },
           "zaxis": {
            "backgroundcolor": "#E5ECF6",
            "gridcolor": "white",
            "gridwidth": 2,
            "linecolor": "white",
            "showbackground": true,
            "ticks": "",
            "zerolinecolor": "white"
           }
          },
          "shapedefaults": {
           "line": {
            "color": "#2a3f5f"
           }
          },
          "ternary": {
           "aaxis": {
            "gridcolor": "white",
            "linecolor": "white",
            "ticks": ""
           },
           "baxis": {
            "gridcolor": "white",
            "linecolor": "white",
            "ticks": ""
           },
           "bgcolor": "#E5ECF6",
           "caxis": {
            "gridcolor": "white",
            "linecolor": "white",
            "ticks": ""
           }
          },
          "title": {
           "x": 0.05
          },
          "xaxis": {
           "automargin": true,
           "gridcolor": "white",
           "linecolor": "white",
           "ticks": "",
           "title": {
            "standoff": 15
           },
           "zerolinecolor": "white",
           "zerolinewidth": 2
          },
          "yaxis": {
           "automargin": true,
           "gridcolor": "white",
           "linecolor": "white",
           "ticks": "",
           "title": {
            "standoff": 15
           },
           "zerolinecolor": "white",
           "zerolinewidth": 2
          }
         }
        },
        "title": {
         "text": "Feature Importance"
        },
        "xaxis": {
         "anchor": "y",
         "domain": [
          0,
          1
         ],
         "title": {
          "text": "index"
         }
        },
        "yaxis": {
         "anchor": "x",
         "domain": [
          0,
          1
         ],
         "title": {
          "text": "value"
         }
        }
       }
      }
     },
     "metadata": {},
     "output_type": "display_data"
    }
   ],
   "source": [
    "# feature importance\n",
    "importance = grid_clf.best_estimator_.feature_importances_\n",
    "feature_imp = pd.Series(importance, index=X.columns).sort_values(ascending=False)\n",
    "fig = px.bar(feature_imp, color=feature_imp, title='Feature Importance')\n",
    "fig.show()"
   ]
  }
 ],
 "metadata": {
  "kernelspec": {
   "display_name": "base",
   "language": "python",
   "name": "python3"
  },
  "language_info": {
   "codemirror_mode": {
    "name": "ipython",
    "version": 3
   },
   "file_extension": ".py",
   "mimetype": "text/x-python",
   "name": "python",
   "nbconvert_exporter": "python",
   "pygments_lexer": "ipython3",
   "version": "3.10.10"
  }
 },
 "nbformat": 4,
 "nbformat_minor": 2
}
