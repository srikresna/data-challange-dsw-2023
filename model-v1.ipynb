{
 "cells": [
  {
   "cell_type": "code",
   "execution_count": 1,
   "metadata": {},
   "outputs": [],
   "source": [
    "import pandas as pd\n",
    "import numpy as np\n",
    "import plotly.express as px\n",
    "import seaborn as sns\n",
    "\n",
    "from sklearn.model_selection import train_test_split, GridSearchCV\n",
    "from sklearn.preprocessing import LabelEncoder\n",
    "from imblearn.over_sampling import SMOTE\n",
    "from sklearn.metrics import classification_report, confusion_matrix, accuracy_score, roc_auc_score, roc_curve, auc\n",
    "\n",
    "from xgboost import XGBClassifier"
   ]
  },
  {
   "cell_type": "code",
   "execution_count": 2,
   "metadata": {},
   "outputs": [
    {
     "data": {
      "text/html": [
       "<div>\n",
       "<style scoped>\n",
       "    .dataframe tbody tr th:only-of-type {\n",
       "        vertical-align: middle;\n",
       "    }\n",
       "\n",
       "    .dataframe tbody tr th {\n",
       "        vertical-align: top;\n",
       "    }\n",
       "\n",
       "    .dataframe thead th {\n",
       "        text-align: right;\n",
       "    }\n",
       "</style>\n",
       "<table border=\"1\" class=\"dataframe\">\n",
       "  <thead>\n",
       "    <tr style=\"text-align: right;\">\n",
       "      <th></th>\n",
       "      <th>Customer ID</th>\n",
       "      <th>Tenure Months</th>\n",
       "      <th>Location</th>\n",
       "      <th>Device Class</th>\n",
       "      <th>Games Product</th>\n",
       "      <th>Music Product</th>\n",
       "      <th>Education Product</th>\n",
       "      <th>Call Center</th>\n",
       "      <th>Video Product</th>\n",
       "      <th>Use MyApp</th>\n",
       "      <th>Payment Method</th>\n",
       "      <th>Monthly Purchase (Thou. IDR)</th>\n",
       "      <th>Churn Label</th>\n",
       "      <th>Longitude</th>\n",
       "      <th>Latitude</th>\n",
       "      <th>CLTV (Predicted Thou. IDR)</th>\n",
       "    </tr>\n",
       "  </thead>\n",
       "  <tbody>\n",
       "    <tr>\n",
       "      <th>0</th>\n",
       "      <td>0</td>\n",
       "      <td>2</td>\n",
       "      <td>Jakarta</td>\n",
       "      <td>Mid End</td>\n",
       "      <td>Yes</td>\n",
       "      <td>Yes</td>\n",
       "      <td>No</td>\n",
       "      <td>No</td>\n",
       "      <td>No</td>\n",
       "      <td>No</td>\n",
       "      <td>Digital Wallet</td>\n",
       "      <td>70.005</td>\n",
       "      <td>Yes</td>\n",
       "      <td>106.816666</td>\n",
       "      <td>-6.2</td>\n",
       "      <td>4210.7</td>\n",
       "    </tr>\n",
       "    <tr>\n",
       "      <th>1</th>\n",
       "      <td>1</td>\n",
       "      <td>2</td>\n",
       "      <td>Jakarta</td>\n",
       "      <td>High End</td>\n",
       "      <td>No</td>\n",
       "      <td>No</td>\n",
       "      <td>No</td>\n",
       "      <td>No</td>\n",
       "      <td>No</td>\n",
       "      <td>No</td>\n",
       "      <td>Pulsa</td>\n",
       "      <td>91.910</td>\n",
       "      <td>Yes</td>\n",
       "      <td>106.816666</td>\n",
       "      <td>-6.2</td>\n",
       "      <td>3511.3</td>\n",
       "    </tr>\n",
       "    <tr>\n",
       "      <th>2</th>\n",
       "      <td>2</td>\n",
       "      <td>8</td>\n",
       "      <td>Jakarta</td>\n",
       "      <td>High End</td>\n",
       "      <td>No</td>\n",
       "      <td>No</td>\n",
       "      <td>Yes</td>\n",
       "      <td>No</td>\n",
       "      <td>Yes</td>\n",
       "      <td>Yes</td>\n",
       "      <td>Pulsa</td>\n",
       "      <td>129.545</td>\n",
       "      <td>Yes</td>\n",
       "      <td>106.816666</td>\n",
       "      <td>-6.2</td>\n",
       "      <td>6983.6</td>\n",
       "    </tr>\n",
       "    <tr>\n",
       "      <th>3</th>\n",
       "      <td>3</td>\n",
       "      <td>28</td>\n",
       "      <td>Jakarta</td>\n",
       "      <td>High End</td>\n",
       "      <td>No</td>\n",
       "      <td>No</td>\n",
       "      <td>Yes</td>\n",
       "      <td>Yes</td>\n",
       "      <td>Yes</td>\n",
       "      <td>Yes</td>\n",
       "      <td>Pulsa</td>\n",
       "      <td>136.240</td>\n",
       "      <td>Yes</td>\n",
       "      <td>106.816666</td>\n",
       "      <td>-6.2</td>\n",
       "      <td>6503.9</td>\n",
       "    </tr>\n",
       "    <tr>\n",
       "      <th>4</th>\n",
       "      <td>4</td>\n",
       "      <td>49</td>\n",
       "      <td>Jakarta</td>\n",
       "      <td>High End</td>\n",
       "      <td>No</td>\n",
       "      <td>Yes</td>\n",
       "      <td>Yes</td>\n",
       "      <td>No</td>\n",
       "      <td>Yes</td>\n",
       "      <td>Yes</td>\n",
       "      <td>Debit</td>\n",
       "      <td>134.810</td>\n",
       "      <td>Yes</td>\n",
       "      <td>106.816666</td>\n",
       "      <td>-6.2</td>\n",
       "      <td>6942.0</td>\n",
       "    </tr>\n",
       "  </tbody>\n",
       "</table>\n",
       "</div>"
      ],
      "text/plain": [
       "   Customer ID  Tenure Months Location Device Class Games Product  \\\n",
       "0            0              2  Jakarta      Mid End           Yes   \n",
       "1            1              2  Jakarta     High End            No   \n",
       "2            2              8  Jakarta     High End            No   \n",
       "3            3             28  Jakarta     High End            No   \n",
       "4            4             49  Jakarta     High End            No   \n",
       "\n",
       "  Music Product Education Product Call Center Video Product Use MyApp  \\\n",
       "0           Yes                No          No            No        No   \n",
       "1            No                No          No            No        No   \n",
       "2            No               Yes          No           Yes       Yes   \n",
       "3            No               Yes         Yes           Yes       Yes   \n",
       "4           Yes               Yes          No           Yes       Yes   \n",
       "\n",
       "   Payment Method  Monthly Purchase (Thou. IDR) Churn Label   Longitude  \\\n",
       "0  Digital Wallet                        70.005         Yes  106.816666   \n",
       "1           Pulsa                        91.910         Yes  106.816666   \n",
       "2           Pulsa                       129.545         Yes  106.816666   \n",
       "3           Pulsa                       136.240         Yes  106.816666   \n",
       "4           Debit                       134.810         Yes  106.816666   \n",
       "\n",
       "   Latitude  CLTV (Predicted Thou. IDR)  \n",
       "0      -6.2                      4210.7  \n",
       "1      -6.2                      3511.3  \n",
       "2      -6.2                      6983.6  \n",
       "3      -6.2                      6503.9  \n",
       "4      -6.2                      6942.0  "
      ]
     },
     "execution_count": 2,
     "metadata": {},
     "output_type": "execute_result"
    }
   ],
   "source": [
    "df = pd.read_excel(\"Telco_customer_churn_adapted_v2.xlsx\")\n",
    "df.head()"
   ]
  },
  {
   "cell_type": "code",
   "execution_count": 3,
   "metadata": {},
   "outputs": [
    {
     "data": {
      "text/html": [
       "<div>\n",
       "<style scoped>\n",
       "    .dataframe tbody tr th:only-of-type {\n",
       "        vertical-align: middle;\n",
       "    }\n",
       "\n",
       "    .dataframe tbody tr th {\n",
       "        vertical-align: top;\n",
       "    }\n",
       "\n",
       "    .dataframe thead th {\n",
       "        text-align: right;\n",
       "    }\n",
       "</style>\n",
       "<table border=\"1\" class=\"dataframe\">\n",
       "  <thead>\n",
       "    <tr style=\"text-align: right;\">\n",
       "      <th></th>\n",
       "      <th>Tenure Months</th>\n",
       "      <th>Location</th>\n",
       "      <th>Device Class</th>\n",
       "      <th>Games Product</th>\n",
       "      <th>Music Product</th>\n",
       "      <th>Education Product</th>\n",
       "      <th>Call Center</th>\n",
       "      <th>Video Product</th>\n",
       "      <th>Use MyApp</th>\n",
       "      <th>Payment Method</th>\n",
       "      <th>Monthly Purchase (Thou. IDR)</th>\n",
       "      <th>Churn Label</th>\n",
       "      <th>CLTV (Predicted Thou. IDR)</th>\n",
       "    </tr>\n",
       "  </thead>\n",
       "  <tbody>\n",
       "    <tr>\n",
       "      <th>0</th>\n",
       "      <td>2</td>\n",
       "      <td>Jakarta</td>\n",
       "      <td>Mid End</td>\n",
       "      <td>Yes</td>\n",
       "      <td>Yes</td>\n",
       "      <td>No</td>\n",
       "      <td>No</td>\n",
       "      <td>No</td>\n",
       "      <td>No</td>\n",
       "      <td>Digital Wallet</td>\n",
       "      <td>70.005</td>\n",
       "      <td>Yes</td>\n",
       "      <td>4210.7</td>\n",
       "    </tr>\n",
       "    <tr>\n",
       "      <th>1</th>\n",
       "      <td>2</td>\n",
       "      <td>Jakarta</td>\n",
       "      <td>High End</td>\n",
       "      <td>No</td>\n",
       "      <td>No</td>\n",
       "      <td>No</td>\n",
       "      <td>No</td>\n",
       "      <td>No</td>\n",
       "      <td>No</td>\n",
       "      <td>Pulsa</td>\n",
       "      <td>91.910</td>\n",
       "      <td>Yes</td>\n",
       "      <td>3511.3</td>\n",
       "    </tr>\n",
       "    <tr>\n",
       "      <th>2</th>\n",
       "      <td>8</td>\n",
       "      <td>Jakarta</td>\n",
       "      <td>High End</td>\n",
       "      <td>No</td>\n",
       "      <td>No</td>\n",
       "      <td>Yes</td>\n",
       "      <td>No</td>\n",
       "      <td>Yes</td>\n",
       "      <td>Yes</td>\n",
       "      <td>Pulsa</td>\n",
       "      <td>129.545</td>\n",
       "      <td>Yes</td>\n",
       "      <td>6983.6</td>\n",
       "    </tr>\n",
       "    <tr>\n",
       "      <th>3</th>\n",
       "      <td>28</td>\n",
       "      <td>Jakarta</td>\n",
       "      <td>High End</td>\n",
       "      <td>No</td>\n",
       "      <td>No</td>\n",
       "      <td>Yes</td>\n",
       "      <td>Yes</td>\n",
       "      <td>Yes</td>\n",
       "      <td>Yes</td>\n",
       "      <td>Pulsa</td>\n",
       "      <td>136.240</td>\n",
       "      <td>Yes</td>\n",
       "      <td>6503.9</td>\n",
       "    </tr>\n",
       "    <tr>\n",
       "      <th>4</th>\n",
       "      <td>49</td>\n",
       "      <td>Jakarta</td>\n",
       "      <td>High End</td>\n",
       "      <td>No</td>\n",
       "      <td>Yes</td>\n",
       "      <td>Yes</td>\n",
       "      <td>No</td>\n",
       "      <td>Yes</td>\n",
       "      <td>Yes</td>\n",
       "      <td>Debit</td>\n",
       "      <td>134.810</td>\n",
       "      <td>Yes</td>\n",
       "      <td>6942.0</td>\n",
       "    </tr>\n",
       "  </tbody>\n",
       "</table>\n",
       "</div>"
      ],
      "text/plain": [
       "   Tenure Months Location Device Class Games Product Music Product  \\\n",
       "0              2  Jakarta      Mid End           Yes           Yes   \n",
       "1              2  Jakarta     High End            No            No   \n",
       "2              8  Jakarta     High End            No            No   \n",
       "3             28  Jakarta     High End            No            No   \n",
       "4             49  Jakarta     High End            No           Yes   \n",
       "\n",
       "  Education Product Call Center Video Product Use MyApp  Payment Method  \\\n",
       "0                No          No            No        No  Digital Wallet   \n",
       "1                No          No            No        No           Pulsa   \n",
       "2               Yes          No           Yes       Yes           Pulsa   \n",
       "3               Yes         Yes           Yes       Yes           Pulsa   \n",
       "4               Yes          No           Yes       Yes           Debit   \n",
       "\n",
       "   Monthly Purchase (Thou. IDR) Churn Label  CLTV (Predicted Thou. IDR)  \n",
       "0                        70.005         Yes                      4210.7  \n",
       "1                        91.910         Yes                      3511.3  \n",
       "2                       129.545         Yes                      6983.6  \n",
       "3                       136.240         Yes                      6503.9  \n",
       "4                       134.810         Yes                      6942.0  "
      ]
     },
     "execution_count": 3,
     "metadata": {},
     "output_type": "execute_result"
    }
   ],
   "source": [
    "df.drop([\"Customer ID\", \"Latitude\", \"Longitude\"], axis=1, inplace=True)\n",
    "df.head()"
   ]
  },
  {
   "cell_type": "code",
   "execution_count": 4,
   "metadata": {},
   "outputs": [],
   "source": [
    "def encode_data(df):\n",
    "    if df.dtype == \"object\":\n",
    "        le = LabelEncoder()\n",
    "        df = le.fit_transform(df)\n",
    "    return df"
   ]
  },
  {
   "cell_type": "code",
   "execution_count": 5,
   "metadata": {},
   "outputs": [
    {
     "data": {
      "text/html": [
       "<div>\n",
       "<style scoped>\n",
       "    .dataframe tbody tr th:only-of-type {\n",
       "        vertical-align: middle;\n",
       "    }\n",
       "\n",
       "    .dataframe tbody tr th {\n",
       "        vertical-align: top;\n",
       "    }\n",
       "\n",
       "    .dataframe thead th {\n",
       "        text-align: right;\n",
       "    }\n",
       "</style>\n",
       "<table border=\"1\" class=\"dataframe\">\n",
       "  <thead>\n",
       "    <tr style=\"text-align: right;\">\n",
       "      <th></th>\n",
       "      <th>Tenure Months</th>\n",
       "      <th>Location</th>\n",
       "      <th>Device Class</th>\n",
       "      <th>Games Product</th>\n",
       "      <th>Music Product</th>\n",
       "      <th>Education Product</th>\n",
       "      <th>Call Center</th>\n",
       "      <th>Video Product</th>\n",
       "      <th>Use MyApp</th>\n",
       "      <th>Payment Method</th>\n",
       "      <th>Monthly Purchase (Thou. IDR)</th>\n",
       "      <th>Churn Label</th>\n",
       "      <th>CLTV (Predicted Thou. IDR)</th>\n",
       "    </tr>\n",
       "  </thead>\n",
       "  <tbody>\n",
       "    <tr>\n",
       "      <th>0</th>\n",
       "      <td>2</td>\n",
       "      <td>1</td>\n",
       "      <td>2</td>\n",
       "      <td>2</td>\n",
       "      <td>2</td>\n",
       "      <td>0</td>\n",
       "      <td>0</td>\n",
       "      <td>0</td>\n",
       "      <td>0</td>\n",
       "      <td>2</td>\n",
       "      <td>70.005</td>\n",
       "      <td>1</td>\n",
       "      <td>4210.7</td>\n",
       "    </tr>\n",
       "    <tr>\n",
       "      <th>1</th>\n",
       "      <td>2</td>\n",
       "      <td>1</td>\n",
       "      <td>0</td>\n",
       "      <td>0</td>\n",
       "      <td>0</td>\n",
       "      <td>0</td>\n",
       "      <td>0</td>\n",
       "      <td>0</td>\n",
       "      <td>0</td>\n",
       "      <td>3</td>\n",
       "      <td>91.910</td>\n",
       "      <td>1</td>\n",
       "      <td>3511.3</td>\n",
       "    </tr>\n",
       "    <tr>\n",
       "      <th>2</th>\n",
       "      <td>8</td>\n",
       "      <td>1</td>\n",
       "      <td>0</td>\n",
       "      <td>0</td>\n",
       "      <td>0</td>\n",
       "      <td>2</td>\n",
       "      <td>0</td>\n",
       "      <td>2</td>\n",
       "      <td>2</td>\n",
       "      <td>3</td>\n",
       "      <td>129.545</td>\n",
       "      <td>1</td>\n",
       "      <td>6983.6</td>\n",
       "    </tr>\n",
       "    <tr>\n",
       "      <th>3</th>\n",
       "      <td>28</td>\n",
       "      <td>1</td>\n",
       "      <td>0</td>\n",
       "      <td>0</td>\n",
       "      <td>0</td>\n",
       "      <td>2</td>\n",
       "      <td>1</td>\n",
       "      <td>2</td>\n",
       "      <td>2</td>\n",
       "      <td>3</td>\n",
       "      <td>136.240</td>\n",
       "      <td>1</td>\n",
       "      <td>6503.9</td>\n",
       "    </tr>\n",
       "    <tr>\n",
       "      <th>4</th>\n",
       "      <td>49</td>\n",
       "      <td>1</td>\n",
       "      <td>0</td>\n",
       "      <td>0</td>\n",
       "      <td>2</td>\n",
       "      <td>2</td>\n",
       "      <td>0</td>\n",
       "      <td>2</td>\n",
       "      <td>2</td>\n",
       "      <td>1</td>\n",
       "      <td>134.810</td>\n",
       "      <td>1</td>\n",
       "      <td>6942.0</td>\n",
       "    </tr>\n",
       "  </tbody>\n",
       "</table>\n",
       "</div>"
      ],
      "text/plain": [
       "   Tenure Months  Location  Device Class  Games Product  Music Product  \\\n",
       "0              2         1             2              2              2   \n",
       "1              2         1             0              0              0   \n",
       "2              8         1             0              0              0   \n",
       "3             28         1             0              0              0   \n",
       "4             49         1             0              0              2   \n",
       "\n",
       "   Education Product  Call Center  Video Product  Use MyApp  Payment Method  \\\n",
       "0                  0            0              0          0               2   \n",
       "1                  0            0              0          0               3   \n",
       "2                  2            0              2          2               3   \n",
       "3                  2            1              2          2               3   \n",
       "4                  2            0              2          2               1   \n",
       "\n",
       "   Monthly Purchase (Thou. IDR)  Churn Label  CLTV (Predicted Thou. IDR)  \n",
       "0                        70.005            1                      4210.7  \n",
       "1                        91.910            1                      3511.3  \n",
       "2                       129.545            1                      6983.6  \n",
       "3                       136.240            1                      6503.9  \n",
       "4                       134.810            1                      6942.0  "
      ]
     },
     "execution_count": 5,
     "metadata": {},
     "output_type": "execute_result"
    }
   ],
   "source": [
    "df = df.apply(lambda x: encode_data(x))\n",
    "df.head()"
   ]
  },
  {
   "cell_type": "code",
   "execution_count": 6,
   "metadata": {},
   "outputs": [
    {
     "data": {
      "application/vnd.plotly.v1+json": {
       "config": {
        "plotlyServerURL": "https://plot.ly"
       },
       "data": [
        {
         "alignmentgroup": "True",
         "hovertemplate": "index=%{x}<br>value=%{marker.color}<extra></extra>",
         "legendgroup": "",
         "marker": {
          "color": [
           1,
           0.2628182020893582,
           0.19335642223785393,
           -0.008596374123850607,
           -0.03658099337318505,
           -0.038491628519887924,
           -0.12746310171745026,
           -0.16467355590159374,
           -0.17813386106687837,
           -0.19552501409217768,
           -0.2408097340138934,
           -0.28930899612232513,
           -0.352228670113079
          ],
          "coloraxis": "coloraxis",
          "pattern": {
           "shape": ""
          }
         },
         "name": "",
         "offsetgroup": "",
         "orientation": "v",
         "showlegend": false,
         "textposition": "auto",
         "type": "bar",
         "x": [
          "Churn Label",
          "Payment Method",
          "Monthly Purchase (Thou. IDR)",
          "Location",
          "Video Product",
          "Use MyApp",
          "CLTV (Predicted Thou. IDR)",
          "Call Center",
          "Education Product",
          "Music Product",
          "Device Class",
          "Games Product",
          "Tenure Months"
         ],
         "xaxis": "x",
         "y": [
          1,
          0.2628182020893582,
          0.19335642223785393,
          -0.008596374123850607,
          -0.03658099337318505,
          -0.038491628519887924,
          -0.12746310171745026,
          -0.16467355590159374,
          -0.17813386106687837,
          -0.19552501409217768,
          -0.2408097340138934,
          -0.28930899612232513,
          -0.352228670113079
         ],
         "yaxis": "y"
        }
       ],
       "layout": {
        "barmode": "relative",
        "coloraxis": {
         "colorbar": {
          "title": {
           "text": "value"
          }
         },
         "colorscale": [
          [
           0,
           "#0d0887"
          ],
          [
           0.1111111111111111,
           "#46039f"
          ],
          [
           0.2222222222222222,
           "#7201a8"
          ],
          [
           0.3333333333333333,
           "#9c179e"
          ],
          [
           0.4444444444444444,
           "#bd3786"
          ],
          [
           0.5555555555555556,
           "#d8576b"
          ],
          [
           0.6666666666666666,
           "#ed7953"
          ],
          [
           0.7777777777777778,
           "#fb9f3a"
          ],
          [
           0.8888888888888888,
           "#fdca26"
          ],
          [
           1,
           "#f0f921"
          ]
         ]
        },
        "legend": {
         "tracegroupgap": 0
        },
        "margin": {
         "t": 60
        },
        "template": {
         "data": {
          "bar": [
           {
            "error_x": {
             "color": "#2a3f5f"
            },
            "error_y": {
             "color": "#2a3f5f"
            },
            "marker": {
             "line": {
              "color": "#E5ECF6",
              "width": 0.5
             },
             "pattern": {
              "fillmode": "overlay",
              "size": 10,
              "solidity": 0.2
             }
            },
            "type": "bar"
           }
          ],
          "barpolar": [
           {
            "marker": {
             "line": {
              "color": "#E5ECF6",
              "width": 0.5
             },
             "pattern": {
              "fillmode": "overlay",
              "size": 10,
              "solidity": 0.2
             }
            },
            "type": "barpolar"
           }
          ],
          "carpet": [
           {
            "aaxis": {
             "endlinecolor": "#2a3f5f",
             "gridcolor": "white",
             "linecolor": "white",
             "minorgridcolor": "white",
             "startlinecolor": "#2a3f5f"
            },
            "baxis": {
             "endlinecolor": "#2a3f5f",
             "gridcolor": "white",
             "linecolor": "white",
             "minorgridcolor": "white",
             "startlinecolor": "#2a3f5f"
            },
            "type": "carpet"
           }
          ],
          "choropleth": [
           {
            "colorbar": {
             "outlinewidth": 0,
             "ticks": ""
            },
            "type": "choropleth"
           }
          ],
          "contour": [
           {
            "colorbar": {
             "outlinewidth": 0,
             "ticks": ""
            },
            "colorscale": [
             [
              0,
              "#0d0887"
             ],
             [
              0.1111111111111111,
              "#46039f"
             ],
             [
              0.2222222222222222,
              "#7201a8"
             ],
             [
              0.3333333333333333,
              "#9c179e"
             ],
             [
              0.4444444444444444,
              "#bd3786"
             ],
             [
              0.5555555555555556,
              "#d8576b"
             ],
             [
              0.6666666666666666,
              "#ed7953"
             ],
             [
              0.7777777777777778,
              "#fb9f3a"
             ],
             [
              0.8888888888888888,
              "#fdca26"
             ],
             [
              1,
              "#f0f921"
             ]
            ],
            "type": "contour"
           }
          ],
          "contourcarpet": [
           {
            "colorbar": {
             "outlinewidth": 0,
             "ticks": ""
            },
            "type": "contourcarpet"
           }
          ],
          "heatmap": [
           {
            "colorbar": {
             "outlinewidth": 0,
             "ticks": ""
            },
            "colorscale": [
             [
              0,
              "#0d0887"
             ],
             [
              0.1111111111111111,
              "#46039f"
             ],
             [
              0.2222222222222222,
              "#7201a8"
             ],
             [
              0.3333333333333333,
              "#9c179e"
             ],
             [
              0.4444444444444444,
              "#bd3786"
             ],
             [
              0.5555555555555556,
              "#d8576b"
             ],
             [
              0.6666666666666666,
              "#ed7953"
             ],
             [
              0.7777777777777778,
              "#fb9f3a"
             ],
             [
              0.8888888888888888,
              "#fdca26"
             ],
             [
              1,
              "#f0f921"
             ]
            ],
            "type": "heatmap"
           }
          ],
          "heatmapgl": [
           {
            "colorbar": {
             "outlinewidth": 0,
             "ticks": ""
            },
            "colorscale": [
             [
              0,
              "#0d0887"
             ],
             [
              0.1111111111111111,
              "#46039f"
             ],
             [
              0.2222222222222222,
              "#7201a8"
             ],
             [
              0.3333333333333333,
              "#9c179e"
             ],
             [
              0.4444444444444444,
              "#bd3786"
             ],
             [
              0.5555555555555556,
              "#d8576b"
             ],
             [
              0.6666666666666666,
              "#ed7953"
             ],
             [
              0.7777777777777778,
              "#fb9f3a"
             ],
             [
              0.8888888888888888,
              "#fdca26"
             ],
             [
              1,
              "#f0f921"
             ]
            ],
            "type": "heatmapgl"
           }
          ],
          "histogram": [
           {
            "marker": {
             "pattern": {
              "fillmode": "overlay",
              "size": 10,
              "solidity": 0.2
             }
            },
            "type": "histogram"
           }
          ],
          "histogram2d": [
           {
            "colorbar": {
             "outlinewidth": 0,
             "ticks": ""
            },
            "colorscale": [
             [
              0,
              "#0d0887"
             ],
             [
              0.1111111111111111,
              "#46039f"
             ],
             [
              0.2222222222222222,
              "#7201a8"
             ],
             [
              0.3333333333333333,
              "#9c179e"
             ],
             [
              0.4444444444444444,
              "#bd3786"
             ],
             [
              0.5555555555555556,
              "#d8576b"
             ],
             [
              0.6666666666666666,
              "#ed7953"
             ],
             [
              0.7777777777777778,
              "#fb9f3a"
             ],
             [
              0.8888888888888888,
              "#fdca26"
             ],
             [
              1,
              "#f0f921"
             ]
            ],
            "type": "histogram2d"
           }
          ],
          "histogram2dcontour": [
           {
            "colorbar": {
             "outlinewidth": 0,
             "ticks": ""
            },
            "colorscale": [
             [
              0,
              "#0d0887"
             ],
             [
              0.1111111111111111,
              "#46039f"
             ],
             [
              0.2222222222222222,
              "#7201a8"
             ],
             [
              0.3333333333333333,
              "#9c179e"
             ],
             [
              0.4444444444444444,
              "#bd3786"
             ],
             [
              0.5555555555555556,
              "#d8576b"
             ],
             [
              0.6666666666666666,
              "#ed7953"
             ],
             [
              0.7777777777777778,
              "#fb9f3a"
             ],
             [
              0.8888888888888888,
              "#fdca26"
             ],
             [
              1,
              "#f0f921"
             ]
            ],
            "type": "histogram2dcontour"
           }
          ],
          "mesh3d": [
           {
            "colorbar": {
             "outlinewidth": 0,
             "ticks": ""
            },
            "type": "mesh3d"
           }
          ],
          "parcoords": [
           {
            "line": {
             "colorbar": {
              "outlinewidth": 0,
              "ticks": ""
             }
            },
            "type": "parcoords"
           }
          ],
          "pie": [
           {
            "automargin": true,
            "type": "pie"
           }
          ],
          "scatter": [
           {
            "fillpattern": {
             "fillmode": "overlay",
             "size": 10,
             "solidity": 0.2
            },
            "type": "scatter"
           }
          ],
          "scatter3d": [
           {
            "line": {
             "colorbar": {
              "outlinewidth": 0,
              "ticks": ""
             }
            },
            "marker": {
             "colorbar": {
              "outlinewidth": 0,
              "ticks": ""
             }
            },
            "type": "scatter3d"
           }
          ],
          "scattercarpet": [
           {
            "marker": {
             "colorbar": {
              "outlinewidth": 0,
              "ticks": ""
             }
            },
            "type": "scattercarpet"
           }
          ],
          "scattergeo": [
           {
            "marker": {
             "colorbar": {
              "outlinewidth": 0,
              "ticks": ""
             }
            },
            "type": "scattergeo"
           }
          ],
          "scattergl": [
           {
            "marker": {
             "colorbar": {
              "outlinewidth": 0,
              "ticks": ""
             }
            },
            "type": "scattergl"
           }
          ],
          "scattermapbox": [
           {
            "marker": {
             "colorbar": {
              "outlinewidth": 0,
              "ticks": ""
             }
            },
            "type": "scattermapbox"
           }
          ],
          "scatterpolar": [
           {
            "marker": {
             "colorbar": {
              "outlinewidth": 0,
              "ticks": ""
             }
            },
            "type": "scatterpolar"
           }
          ],
          "scatterpolargl": [
           {
            "marker": {
             "colorbar": {
              "outlinewidth": 0,
              "ticks": ""
             }
            },
            "type": "scatterpolargl"
           }
          ],
          "scatterternary": [
           {
            "marker": {
             "colorbar": {
              "outlinewidth": 0,
              "ticks": ""
             }
            },
            "type": "scatterternary"
           }
          ],
          "surface": [
           {
            "colorbar": {
             "outlinewidth": 0,
             "ticks": ""
            },
            "colorscale": [
             [
              0,
              "#0d0887"
             ],
             [
              0.1111111111111111,
              "#46039f"
             ],
             [
              0.2222222222222222,
              "#7201a8"
             ],
             [
              0.3333333333333333,
              "#9c179e"
             ],
             [
              0.4444444444444444,
              "#bd3786"
             ],
             [
              0.5555555555555556,
              "#d8576b"
             ],
             [
              0.6666666666666666,
              "#ed7953"
             ],
             [
              0.7777777777777778,
              "#fb9f3a"
             ],
             [
              0.8888888888888888,
              "#fdca26"
             ],
             [
              1,
              "#f0f921"
             ]
            ],
            "type": "surface"
           }
          ],
          "table": [
           {
            "cells": {
             "fill": {
              "color": "#EBF0F8"
             },
             "line": {
              "color": "white"
             }
            },
            "header": {
             "fill": {
              "color": "#C8D4E3"
             },
             "line": {
              "color": "white"
             }
            },
            "type": "table"
           }
          ]
         },
         "layout": {
          "annotationdefaults": {
           "arrowcolor": "#2a3f5f",
           "arrowhead": 0,
           "arrowwidth": 1
          },
          "autotypenumbers": "strict",
          "coloraxis": {
           "colorbar": {
            "outlinewidth": 0,
            "ticks": ""
           }
          },
          "colorscale": {
           "diverging": [
            [
             0,
             "#8e0152"
            ],
            [
             0.1,
             "#c51b7d"
            ],
            [
             0.2,
             "#de77ae"
            ],
            [
             0.3,
             "#f1b6da"
            ],
            [
             0.4,
             "#fde0ef"
            ],
            [
             0.5,
             "#f7f7f7"
            ],
            [
             0.6,
             "#e6f5d0"
            ],
            [
             0.7,
             "#b8e186"
            ],
            [
             0.8,
             "#7fbc41"
            ],
            [
             0.9,
             "#4d9221"
            ],
            [
             1,
             "#276419"
            ]
           ],
           "sequential": [
            [
             0,
             "#0d0887"
            ],
            [
             0.1111111111111111,
             "#46039f"
            ],
            [
             0.2222222222222222,
             "#7201a8"
            ],
            [
             0.3333333333333333,
             "#9c179e"
            ],
            [
             0.4444444444444444,
             "#bd3786"
            ],
            [
             0.5555555555555556,
             "#d8576b"
            ],
            [
             0.6666666666666666,
             "#ed7953"
            ],
            [
             0.7777777777777778,
             "#fb9f3a"
            ],
            [
             0.8888888888888888,
             "#fdca26"
            ],
            [
             1,
             "#f0f921"
            ]
           ],
           "sequentialminus": [
            [
             0,
             "#0d0887"
            ],
            [
             0.1111111111111111,
             "#46039f"
            ],
            [
             0.2222222222222222,
             "#7201a8"
            ],
            [
             0.3333333333333333,
             "#9c179e"
            ],
            [
             0.4444444444444444,
             "#bd3786"
            ],
            [
             0.5555555555555556,
             "#d8576b"
            ],
            [
             0.6666666666666666,
             "#ed7953"
            ],
            [
             0.7777777777777778,
             "#fb9f3a"
            ],
            [
             0.8888888888888888,
             "#fdca26"
            ],
            [
             1,
             "#f0f921"
            ]
           ]
          },
          "colorway": [
           "#636efa",
           "#EF553B",
           "#00cc96",
           "#ab63fa",
           "#FFA15A",
           "#19d3f3",
           "#FF6692",
           "#B6E880",
           "#FF97FF",
           "#FECB52"
          ],
          "font": {
           "color": "#2a3f5f"
          },
          "geo": {
           "bgcolor": "white",
           "lakecolor": "white",
           "landcolor": "#E5ECF6",
           "showlakes": true,
           "showland": true,
           "subunitcolor": "white"
          },
          "hoverlabel": {
           "align": "left"
          },
          "hovermode": "closest",
          "mapbox": {
           "style": "light"
          },
          "paper_bgcolor": "white",
          "plot_bgcolor": "#E5ECF6",
          "polar": {
           "angularaxis": {
            "gridcolor": "white",
            "linecolor": "white",
            "ticks": ""
           },
           "bgcolor": "#E5ECF6",
           "radialaxis": {
            "gridcolor": "white",
            "linecolor": "white",
            "ticks": ""
           }
          },
          "scene": {
           "xaxis": {
            "backgroundcolor": "#E5ECF6",
            "gridcolor": "white",
            "gridwidth": 2,
            "linecolor": "white",
            "showbackground": true,
            "ticks": "",
            "zerolinecolor": "white"
           },
           "yaxis": {
            "backgroundcolor": "#E5ECF6",
            "gridcolor": "white",
            "gridwidth": 2,
            "linecolor": "white",
            "showbackground": true,
            "ticks": "",
            "zerolinecolor": "white"
           },
           "zaxis": {
            "backgroundcolor": "#E5ECF6",
            "gridcolor": "white",
            "gridwidth": 2,
            "linecolor": "white",
            "showbackground": true,
            "ticks": "",
            "zerolinecolor": "white"
           }
          },
          "shapedefaults": {
           "line": {
            "color": "#2a3f5f"
           }
          },
          "ternary": {
           "aaxis": {
            "gridcolor": "white",
            "linecolor": "white",
            "ticks": ""
           },
           "baxis": {
            "gridcolor": "white",
            "linecolor": "white",
            "ticks": ""
           },
           "bgcolor": "#E5ECF6",
           "caxis": {
            "gridcolor": "white",
            "linecolor": "white",
            "ticks": ""
           }
          },
          "title": {
           "x": 0.05
          },
          "xaxis": {
           "automargin": true,
           "gridcolor": "white",
           "linecolor": "white",
           "ticks": "",
           "title": {
            "standoff": 15
           },
           "zerolinecolor": "white",
           "zerolinewidth": 2
          },
          "yaxis": {
           "automargin": true,
           "gridcolor": "white",
           "linecolor": "white",
           "ticks": "",
           "title": {
            "standoff": 15
           },
           "zerolinecolor": "white",
           "zerolinewidth": 2
          }
         }
        },
        "xaxis": {
         "anchor": "y",
         "domain": [
          0,
          1
         ],
         "title": {
          "text": "index"
         }
        },
        "yaxis": {
         "anchor": "x",
         "domain": [
          0,
          1
         ],
         "title": {
          "text": "value"
         }
        }
       }
      }
     },
     "metadata": {},
     "output_type": "display_data"
    }
   ],
   "source": [
    "fig = px.bar(df.corr()['Churn Label'].sort_values(ascending = False),\n",
    "             color = 'value')\n",
    "fig.show()"
   ]
  },
  {
   "cell_type": "code",
   "execution_count": 7,
   "metadata": {},
   "outputs": [],
   "source": [
    "over = SMOTE(sampling_strategy=1)\n",
    "\n",
    "X = df.drop([\"Churn Label\"], axis=1)\n",
    "y = df[\"Churn Label\"]"
   ]
  },
  {
   "cell_type": "code",
   "execution_count": 10,
   "metadata": {},
   "outputs": [],
   "source": [
    "X, y = over.fit_resample(X, y)"
   ]
  },
  {
   "cell_type": "code",
   "execution_count": 12,
   "metadata": {},
   "outputs": [
    {
     "data": {
      "text/plain": [
       "((8278, 12), (2070, 12), (8278,), (2070,))"
      ]
     },
     "execution_count": 12,
     "metadata": {},
     "output_type": "execute_result"
    }
   ],
   "source": [
    "X_train, X_test, y_train, y_test = train_test_split(X, y, test_size=0.2)\n",
    "X_train.shape, X_test.shape, y_train.shape, y_test.shape"
   ]
  },
  {
   "cell_type": "code",
   "execution_count": 13,
   "metadata": {},
   "outputs": [],
   "source": [
    "def model(method, x_train, y_train, x_test, y_test):\n",
    "    # Train the model\n",
    "    method.fit(x_train, y_train)\n",
    "    \n",
    "    # Make predictions on test data and calculate confusion matrix\n",
    "    predictions = method.predict(x_test)\n",
    "    c_matrix = confusion_matrix(y_test, predictions)\n",
    "    \n",
    "    # Calculate label percentages and create label strings with counts and percentages\n",
    "    percentages = (c_matrix / np.sum(c_matrix, axis=1)[:, np.newaxis]).round(2) * 100\n",
    "    labels = [[f\"{c_matrix[i, j]} ({percentages[i, j]:.2f}%)\" for j in range(c_matrix.shape[1])] for i in range(c_matrix.shape[0])]\n",
    "    labels = np.asarray(labels)\n",
    "    \n",
    "    # Plot confusion matrix with labeled counts and percentages\n",
    "    sns.heatmap(c_matrix, annot=labels, fmt='', cmap='Blues')\n",
    "    \n",
    "    # Evaluate model performance and print results\n",
    "    print(\"ROC AUC: \", '{:.2%}'.format(roc_auc_score(y_test, predictions)))\n",
    "    print(\"Model accuracy: \", '{:.2%}'.format(accuracy_score(y_test, predictions)))\n",
    "    print(classification_report(y_test, predictions))"
   ]
  },
  {
   "cell_type": "code",
   "execution_count": 15,
   "metadata": {},
   "outputs": [
    {
     "name": "stdout",
     "output_type": "stream",
     "text": [
      "ROC AUC:  83.58%\n",
      "Model accuracy:  83.57%\n",
      "              precision    recall  f1-score   support\n",
      "\n",
      "           0       0.82      0.84      0.83       982\n",
      "           1       0.85      0.84      0.84      1088\n",
      "\n",
      "    accuracy                           0.84      2070\n",
      "   macro avg       0.84      0.84      0.84      2070\n",
      "weighted avg       0.84      0.84      0.84      2070\n",
      "\n"
     ]
    },
    {
     "data": {
      "image/png": "[encoded data removed]",
      "text/plain": [
       "<Figure size 640x480 with 2 Axes>"
      ]
     },
     "metadata": {},
     "output_type": "display_data"
    }
   ],
   "source": [
    "xgb = XGBClassifier(learning_rate= 0.01,max_depth = 3,n_estimators = 1000)\n",
    "\n",
    "model(xgb, X_train, y_train, X_test, y_test)"
   ]
  },
  {
   "cell_type": "code",
   "execution_count": 24,
   "metadata": {},
   "outputs": [
    {
     "name": "stdout",
     "output_type": "stream",
     "text": [
      "Fitting 3 folds for each of 64 candidates, totalling 192 fits\n",
      "{'gamma': 0.3, 'learning_rate': 0.1, 'max_depth': 5, 'min_child_weight': 1, 'n_estimators': 250, 'subsample': 0.8}\n",
      "0.9225553172878657\n"
     ]
    }
   ],
   "source": [
    "xgb = XGBClassifier()\n",
    "\n",
    "param_grid = {\n",
    "    'max_depth': [5, 6],\n",
    "    'learning_rate': [0.1, 0.15],\n",
    "    'n_estimators': [200, 250],\n",
    "    'gamma': [0.2, 0.3],\n",
    "    'min_child_weight': [1, 2],\n",
    "    'subsample': [0.8, 0.9],\n",
    "}\n",
    "\n",
    "grid_clf = GridSearchCV(xgb, param_grid, scoring='roc_auc', cv=3, n_jobs=1, verbose=1)\n",
    "grid_clf.fit(X_train, y_train)\n",
    "\n",
    "print(grid_clf.best_params_)\n",
    "print(grid_clf.best_score_)\n"
   ]
  },
  {
   "cell_type": "code",
   "execution_count": 25,
   "metadata": {},
   "outputs": [
    {
     "name": "stdout",
     "output_type": "stream",
     "text": [
      "              precision    recall  f1-score   support\n",
      "\n",
      "           0       0.82      0.84      0.83       982\n",
      "           1       0.86      0.84      0.85      1088\n",
      "\n",
      "    accuracy                           0.84      2070\n",
      "   macro avg       0.84      0.84      0.84      2070\n",
      "weighted avg       0.84      0.84      0.84      2070\n",
      "\n"
     ]
    },
    {
     "data": {
      "application/vnd.plotly.v1+json": {
       "config": {
        "plotlyServerURL": "https://plot.ly"
       },
       "data": [
        {
         "fillpattern": {
          "shape": ""
         },
         "hovertemplate": "False Positive Rate=%{x}<br>True Positive Rate=%{y}<extra></extra>",
         "legendgroup": "",
         "line": {
          "color": "#636efa"
         },
         "marker": {
          "symbol": "circle"
         },
         "mode": "lines",
         "name": "",
         "orientation": "v",
         "showlegend": false,
         "stackgroup": "1",
         "type": "scatter",
         "x": [
          0,
          0,
          0,
          0,
          0,
          0,
          0,
          0,
          0,
          0.0010183299389002036,
          0.0010183299389002036,
          0.002036659877800407,
          0.002036659877800407,
          0.003054989816700611,
          0.003054989816700611,
          0.004073319755600814,
          0.004073319755600814,
          0.0050916496945010185,
          0.0050916496945010185,
          0.006109979633401222,
          0.006109979633401222,
          0.007128309572301426,
          0.007128309572301426,
          0.008146639511201629,
          0.008146639511201629,
          0.009164969450101833,
          0.009164969450101833,
          0.010183299389002037,
          0.010183299389002037,
          0.01120162932790224,
          0.01120162932790224,
          0.013238289205702648,
          0.013238289205702648,
          0.014256619144602852,
          0.014256619144602852,
          0.015274949083503055,
          0.015274949083503055,
          0.016293279022403257,
          0.016293279022403257,
          0.017311608961303463,
          0.017311608961303463,
          0.019348268839103868,
          0.019348268839103868,
          0.020366598778004074,
          0.020366598778004074,
          0.021384928716904276,
          0.021384928716904276,
          0.023421588594704685,
          0.023421588594704685,
          0.024439918533604887,
          0.024439918533604887,
          0.025458248472505093,
          0.025458248472505093,
          0.026476578411405296,
          0.026476578411405296,
          0.0274949083503055,
          0.0274949083503055,
          0.028513238289205704,
          0.028513238289205704,
          0.028513238289205704,
          0.028513238289205704,
          0.029531568228105907,
          0.029531568228105907,
          0.03054989816700611,
          0.03054989816700611,
          0.032586558044806514,
          0.032586558044806514,
          0.034623217922606926,
          0.034623217922606926,
          0.03665987780040733,
          0.03665987780040733,
          0.03767820773930754,
          0.03767820773930754,
          0.038696537678207736,
          0.038696537678207736,
          0.03971486761710794,
          0.03971486761710794,
          0.04073319755600815,
          0.04073319755600815,
          0.04276985743380855,
          0.04276985743380855,
          0.04684317718940937,
          0.04684317718940937,
          0.048879837067209775,
          0.048879837067209775,
          0.051934826883910386,
          0.051934826883910386,
          0.0539714867617108,
          0.0539714867617108,
          0.054989816700611,
          0.054989816700611,
          0.0560081466395112,
          0.0560081466395112,
          0.05702647657841141,
          0.05702647657841141,
          0.05804480651731161,
          0.05804480651731161,
          0.06008146639511202,
          0.06008146639511202,
          0.06109979633401222,
          0.06109979633401222,
          0.062118126272912425,
          0.062118126272912425,
          0.06313645621181263,
          0.06313645621181263,
          0.06415478615071284,
          0.06415478615071284,
          0.06924643584521385,
          0.06924643584521385,
          0.07128309572301425,
          0.07128309572301425,
          0.07230142566191446,
          0.07230142566191446,
          0.07331975560081466,
          0.07331975560081466,
          0.07433808553971487,
          0.07433808553971487,
          0.07535641547861507,
          0.07535641547861507,
          0.07841140529531568,
          0.07841140529531568,
          0.07942973523421588,
          0.07942973523421588,
          0.0814663951120163,
          0.0814663951120163,
          0.0835030549898167,
          0.0835030549898167,
          0.0845213849287169,
          0.0845213849287169,
          0.0855397148676171,
          0.0855397148676171,
          0.08859470468431772,
          0.08859470468431772,
          0.08961303462321792,
          0.08961303462321792,
          0.09063136456211812,
          0.09063136456211812,
          0.09368635437881874,
          0.09368635437881874,
          0.09572301425661914,
          0.09572301425661914,
          0.09674134419551934,
          0.09674134419551934,
          0.09877800407331976,
          0.09877800407331976,
          0.09979633401221996,
          0.09979633401221996,
          0.10081466395112017,
          0.10081466395112017,
          0.10285132382892057,
          0.10285132382892057,
          0.10386965376782077,
          0.10386965376782077,
          0.10488798370672098,
          0.10488798370672098,
          0.10590631364562118,
          0.10590631364562118,
          0.10692464358452139,
          0.10692464358452139,
          0.1120162932790224,
          0.1120162932790224,
          0.11507128309572301,
          0.11507128309572301,
          0.11608961303462322,
          0.11608961303462322,
          0.11914460285132383,
          0.11914460285132383,
          0.12016293279022404,
          0.12016293279022404,
          0.12219959266802444,
          0.12219959266802444,
          0.12321792260692464,
          0.12321792260692464,
          0.12525458248472504,
          0.12525458248472504,
          0.12729124236252545,
          0.12729124236252545,
          0.12932790224032586,
          0.12932790224032586,
          0.13136456211812628,
          0.13136456211812628,
          0.13238289205702647,
          0.13238289205702647,
          0.1334012219959267,
          0.1334012219959267,
          0.13441955193482688,
          0.13441955193482688,
          0.1354378818737271,
          0.1354378818737271,
          0.1395112016293279,
          0.1395112016293279,
          0.14052953156822812,
          0.14052953156822812,
          0.1415478615071283,
          0.1415478615071283,
          0.1425661914460285,
          0.1425661914460285,
          0.14358452138492872,
          0.14358452138492872,
          0.14867617107942974,
          0.14867617107942974,
          0.14969450101832993,
          0.14969450101832993,
          0.15071283095723015,
          0.15071283095723015,
          0.15580448065173116,
          0.15580448065173116,
          0.15885947046843177,
          0.15885947046843177,
          0.1629327902240326,
          0.1629327902240326,
          0.16395112016293278,
          0.16395112016293278,
          0.1680244399185336,
          0.1680244399185336,
          0.1690427698574338,
          0.1690427698574338,
          0.17006109979633402,
          0.17006109979633402,
          0.1710794297352342,
          0.1710794297352342,
          0.17209775967413443,
          0.17209775967413443,
          0.17311608961303462,
          0.17311608961303462,
          0.17413441955193482,
          0.17413441955193482,
          0.17515274949083504,
          0.17515274949083504,
          0.17718940936863545,
          0.17718940936863545,
          0.17922606924643583,
          0.17922606924643583,
          0.18024439918533605,
          0.18024439918533605,
          0.18431771894093688,
          0.18431771894093688,
          0.18737270875763748,
          0.18737270875763748,
          0.1894093686354379,
          0.1894093686354379,
          0.19653767820773932,
          0.19653767820773932,
          0.1975560081466395,
          0.1975560081466395,
          0.19959266802443992,
          0.19959266802443992,
          0.20061099796334012,
          0.20061099796334012,
          0.20162932790224034,
          0.20162932790224034,
          0.21079429735234215,
          0.21079429735234215,
          0.21283095723014256,
          0.21283095723014256,
          0.21384928716904278,
          0.21384928716904278,
          0.21486761710794297,
          0.21486761710794297,
          0.2158859470468432,
          0.2158859470468432,
          0.21792260692464357,
          0.21792260692464357,
          0.219959266802444,
          0.219959266802444,
          0.225050916496945,
          0.225050916496945,
          0.22606924643584522,
          0.22606924643584522,
          0.22810590631364563,
          0.22810590631364563,
          0.23625254582484725,
          0.23625254582484725,
          0.23727087576374745,
          0.23727087576374745,
          0.24032586558044808,
          0.24032586558044808,
          0.24745417515274948,
          0.24745417515274948,
          0.2484725050916497,
          0.2484725050916497,
          0.2525458248472505,
          0.2525458248472505,
          0.2535641547861507,
          0.2535641547861507,
          0.2545824847250509,
          0.2545824847250509,
          0.25865580448065173,
          0.25865580448065173,
          0.2606924643584521,
          0.2606924643584521,
          0.26272912423625255,
          0.26272912423625255,
          0.2637474541751528,
          0.2637474541751528,
          0.26782077393075354,
          0.26782077393075354,
          0.2708757637474542,
          0.2708757637474542,
          0.27189409368635437,
          0.27189409368635437,
          0.2739307535641548,
          0.2739307535641548,
          0.2790224032586558,
          0.2790224032586558,
          0.28105906313645623,
          0.28105906313645623,
          0.2820773930753564,
          0.2820773930753564,
          0.2892057026476578,
          0.2892057026476578,
          0.29327902240325865,
          0.29327902240325865,
          0.2953156822810591,
          0.2953156822810591,
          0.3014256619144603,
          0.3014256619144603,
          0.3034623217922607,
          0.3034623217922607,
          0.31160896130346233,
          0.31160896130346233,
          0.31466395112016293,
          0.31466395112016293,
          0.31771894093686354,
          0.31771894093686354,
          0.319755600814664,
          0.319755600814664,
          0.32077393075356414,
          0.32077393075356414,
          0.3228105906313646,
          0.3228105906313646,
          0.3268839103869654,
          0.3268839103869654,
          0.33095723014256617,
          0.33095723014256617,
          0.3421588594704684,
          0.3421588594704684,
          0.34725050916496947,
          0.34725050916496947,
          0.34826883910386963,
          0.34826883910386963,
          0.3533604887983707,
          0.3533604887983707,
          0.3543788187372709,
          0.3543788187372709,
          0.3564154786150713,
          0.3564154786150713,
          0.3574338085539715,
          0.3574338085539715,
          0.3635437881873727,
          0.3635437881873727,
          0.3655804480651731,
          0.3655804480651731,
          0.36761710794297353,
          0.36761710794297353,
          0.3727087576374745,
          0.3727087576374745,
          0.37474541751527496,
          0.37474541751527496,
          0.3757637474541752,
          0.3757637474541752,
          0.37678207739307534,
          0.37678207739307534,
          0.38391038696537677,
          0.38391038696537677,
          0.3869653767820774,
          0.3869653767820774,
          0.3890020366598778,
          0.3890020366598778,
          0.3920570264765784,
          0.3920570264765784,
          0.3940936863543788,
          0.3940936863543788,
          0.395112016293279,
          0.395112016293279,
          0.3981670061099796,
          0.3981670061099796,
          0.4063136456211813,
          0.4063136456211813,
          0.4093686354378819,
          0.4093686354378819,
          0.41140529531568226,
          0.41140529531568226,
          0.4175152749490835,
          0.4175152749490835,
          0.4185336048879837,
          0.4185336048879837,
          0.42973523421588594,
          0.42973523421588594,
          0.4378818737270876,
          0.4378818737270876,
          0.43890020366598775,
          0.43890020366598775,
          0.4409368635437882,
          0.4409368635437882,
          0.4419551934826884,
          0.4419551934826884,
          0.445010183299389,
          0.445010183299389,
          0.4460285132382892,
          0.4460285132382892,
          0.4511201629327902,
          0.4511201629327902,
          0.45417515274949083,
          0.45417515274949083,
          0.45824847250509165,
          0.45824847250509165,
          0.4623217922606925,
          0.4623217922606925,
          0.4663951120162933,
          0.4663951120162933,
          0.4684317718940937,
          0.4684317718940937,
          0.48879837067209775,
          0.48879837067209775,
          0.49185336048879835,
          0.49185336048879835,
          0.49490835030549896,
          0.49490835030549896,
          0.5071283095723014,
          0.5071283095723014,
          0.5142566191446029,
          0.5142566191446029,
          0.5346232179226069,
          0.5346232179226069,
          0.5845213849287169,
          0.5845213849287169,
          0.5855397148676171,
          0.5855397148676171,
          0.5865580448065173,
          0.5865580448065173,
          0.5875763747454175,
          0.5875763747454175,
          0.5936863543788188,
          0.5936863543788188,
          0.6221995926680245,
          0.6221995926680245,
          0.6507128309572301,
          0.6507128309572301,
          0.670061099796334,
          0.670061099796334,
          0.6720977596741344,
          0.6720977596741344,
          0.7138492871690427,
          0.7138492871690427,
          0.7209775967413442,
          0.7209775967413442,
          0.7281059063136456,
          0.7281059063136456,
          0.7291242362525459,
          0.7291242362525459,
          0.8095723014256619,
          0.8095723014256619,
          0.8930753564154786,
          0.8930753564154786,
          0.9103869653767821,
          0.9103869653767821,
          0.9215885947046843,
          0.9215885947046843,
          0.9541751527494908,
          0.9541751527494908,
          1
         ],
         "xaxis": "x",
         "y": [
          0,
          0.0009191176470588235,
          0.029411764705882353,
          0.03125,
          0.23713235294117646,
          0.23897058823529413,
          0.24724264705882354,
          0.24908088235294118,
          0.26378676470588236,
          0.26378676470588236,
          0.2665441176470588,
          0.2665441176470588,
          0.29963235294117646,
          0.29963235294117646,
          0.31985294117647056,
          0.31985294117647056,
          0.3336397058823529,
          0.3336397058823529,
          0.3704044117647059,
          0.3704044117647059,
          0.3795955882352941,
          0.3795955882352941,
          0.4053308823529412,
          0.4053308823529412,
          0.41268382352941174,
          0.41268382352941174,
          0.43933823529411764,
          0.43933823529411764,
          0.453125,
          0.453125,
          0.49816176470588236,
          0.49816176470588236,
          0.5009191176470589,
          0.5009191176470589,
          0.5018382352941176,
          0.5018382352941176,
          0.5073529411764706,
          0.5073529411764706,
          0.5588235294117647,
          0.5588235294117647,
          0.5689338235294118,
          0.5689338235294118,
          0.5735294117647058,
          0.5735294117647058,
          0.5909926470588235,
          0.5909926470588235,
          0.5974264705882353,
          0.5974264705882353,
          0.6029411764705882,
          0.6029411764705882,
          0.6047794117647058,
          0.6047794117647058,
          0.6075367647058824,
          0.6075367647058824,
          0.6084558823529411,
          0.6084558823529411,
          0.6102941176470589,
          0.6102941176470589,
          0.6130514705882353,
          0.6148897058823529,
          0.6158088235294118,
          0.6158088235294118,
          0.6176470588235294,
          0.6176470588235294,
          0.6240808823529411,
          0.6240808823529411,
          0.6277573529411765,
          0.6277573529411765,
          0.6332720588235294,
          0.6332720588235294,
          0.6351102941176471,
          0.6351102941176471,
          0.6387867647058824,
          0.6387867647058824,
          0.6397058823529411,
          0.6397058823529411,
          0.640625,
          0.640625,
          0.6553308823529411,
          0.6553308823529411,
          0.6608455882352942,
          0.6608455882352942,
          0.6755514705882353,
          0.6755514705882353,
          0.6783088235294118,
          0.6783088235294118,
          0.6801470588235294,
          0.6801470588235294,
          0.6884191176470589,
          0.6884191176470589,
          0.6902573529411765,
          0.6902573529411765,
          0.6911764705882353,
          0.6911764705882353,
          0.6948529411764706,
          0.6948529411764706,
          0.6957720588235294,
          0.6957720588235294,
          0.7003676470588235,
          0.7003676470588235,
          0.7012867647058824,
          0.7012867647058824,
          0.7022058823529411,
          0.7022058823529411,
          0.7040441176470589,
          0.7040441176470589,
          0.7049632352941176,
          0.7049632352941176,
          0.7077205882352942,
          0.7077205882352942,
          0.7104779411764706,
          0.7104779411764706,
          0.7123161764705882,
          0.7123161764705882,
          0.7141544117647058,
          0.7141544117647058,
          0.7159926470588235,
          0.7159926470588235,
          0.7215073529411765,
          0.7215073529411765,
          0.7242647058823529,
          0.7242647058823529,
          0.7270220588235294,
          0.7270220588235294,
          0.7306985294117647,
          0.7306985294117647,
          0.7334558823529411,
          0.7334558823529411,
          0.7352941176470589,
          0.7352941176470589,
          0.7389705882352942,
          0.7389705882352942,
          0.7463235294117647,
          0.7463235294117647,
          0.7481617647058824,
          0.7481617647058824,
          0.7490808823529411,
          0.7490808823529411,
          0.75,
          0.75,
          0.7564338235294118,
          0.7564338235294118,
          0.7573529411764706,
          0.7573529411764706,
          0.7582720588235294,
          0.7582720588235294,
          0.7647058823529411,
          0.7647058823529411,
          0.7683823529411765,
          0.7683823529411765,
          0.7711397058823529,
          0.7711397058823529,
          0.7738970588235294,
          0.7738970588235294,
          0.7766544117647058,
          0.7766544117647058,
          0.7784926470588235,
          0.7784926470588235,
          0.7840073529411765,
          0.7840073529411765,
          0.7858455882352942,
          0.7858455882352942,
          0.7931985294117647,
          0.7931985294117647,
          0.7959558823529411,
          0.7959558823529411,
          0.796875,
          0.796875,
          0.7987132352941176,
          0.7987132352941176,
          0.7996323529411765,
          0.7996323529411765,
          0.8014705882352942,
          0.8014705882352942,
          0.8069852941176471,
          0.8069852941176471,
          0.8079044117647058,
          0.8079044117647058,
          0.8088235294117647,
          0.8088235294117647,
          0.8106617647058824,
          0.8106617647058824,
          0.8115808823529411,
          0.8115808823529411,
          0.8125,
          0.8125,
          0.8161764705882353,
          0.8161764705882353,
          0.8170955882352942,
          0.8170955882352942,
          0.8198529411764706,
          0.8198529411764706,
          0.8244485294117647,
          0.8244485294117647,
          0.8262867647058824,
          0.8262867647058824,
          0.828125,
          0.828125,
          0.8299632352941176,
          0.8299632352941176,
          0.8308823529411765,
          0.8308823529411765,
          0.8318014705882353,
          0.8318014705882353,
          0.8345588235294118,
          0.8345588235294118,
          0.8354779411764706,
          0.8354779411764706,
          0.8363970588235294,
          0.8363970588235294,
          0.8382352941176471,
          0.8382352941176471,
          0.8391544117647058,
          0.8391544117647058,
          0.8400735294117647,
          0.8400735294117647,
          0.8419117647058824,
          0.8419117647058824,
          0.84375,
          0.84375,
          0.8446691176470589,
          0.8446691176470589,
          0.8474264705882353,
          0.8474264705882353,
          0.8501838235294118,
          0.8501838235294118,
          0.8511029411764706,
          0.8511029411764706,
          0.8520220588235294,
          0.8520220588235294,
          0.8529411764705882,
          0.8529411764705882,
          0.8556985294117647,
          0.8556985294117647,
          0.8584558823529411,
          0.8584558823529411,
          0.859375,
          0.859375,
          0.8612132352941176,
          0.8612132352941176,
          0.8621323529411765,
          0.8621323529411765,
          0.8648897058823529,
          0.8648897058823529,
          0.8658088235294118,
          0.8658088235294118,
          0.8667279411764706,
          0.8667279411764706,
          0.8685661764705882,
          0.8685661764705882,
          0.8694852941176471,
          0.8694852941176471,
          0.8704044117647058,
          0.8704044117647058,
          0.8722426470588235,
          0.8722426470588235,
          0.8740808823529411,
          0.8740808823529411,
          0.875,
          0.875,
          0.8768382352941176,
          0.8768382352941176,
          0.8777573529411765,
          0.8777573529411765,
          0.8814338235294118,
          0.8814338235294118,
          0.8832720588235294,
          0.8832720588235294,
          0.8841911764705882,
          0.8841911764705882,
          0.8851102941176471,
          0.8851102941176471,
          0.8878676470588235,
          0.8878676470588235,
          0.8887867647058824,
          0.8887867647058824,
          0.8897058823529411,
          0.8897058823529411,
          0.890625,
          0.890625,
          0.8924632352941176,
          0.8924632352941176,
          0.8933823529411765,
          0.8933823529411765,
          0.8943014705882353,
          0.8943014705882353,
          0.8952205882352942,
          0.8952205882352942,
          0.8961397058823529,
          0.8961397058823529,
          0.8979779411764706,
          0.8979779411764706,
          0.8998161764705882,
          0.8998161764705882,
          0.9007352941176471,
          0.9007352941176471,
          0.9025735294117647,
          0.9025735294117647,
          0.9034926470588235,
          0.9034926470588235,
          0.9044117647058824,
          0.9044117647058824,
          0.9053308823529411,
          0.9053308823529411,
          0.90625,
          0.90625,
          0.9071691176470589,
          0.9071691176470589,
          0.9080882352941176,
          0.9080882352941176,
          0.9099264705882353,
          0.9099264705882353,
          0.9117647058823529,
          0.9117647058823529,
          0.9126838235294118,
          0.9126838235294118,
          0.9136029411764706,
          0.9136029411764706,
          0.9145220588235294,
          0.9145220588235294,
          0.9154411764705882,
          0.9154411764705882,
          0.9163602941176471,
          0.9163602941176471,
          0.9227941176470589,
          0.9227941176470589,
          0.9246323529411765,
          0.9246323529411765,
          0.9264705882352942,
          0.9264705882352942,
          0.9273897058823529,
          0.9273897058823529,
          0.9283088235294118,
          0.9283088235294118,
          0.9292279411764706,
          0.9292279411764706,
          0.9301470588235294,
          0.9301470588235294,
          0.9310661764705882,
          0.9310661764705882,
          0.9319852941176471,
          0.9319852941176471,
          0.9329044117647058,
          0.9329044117647058,
          0.9338235294117647,
          0.9338235294117647,
          0.9347426470588235,
          0.9347426470588235,
          0.9375,
          0.9375,
          0.9393382352941176,
          0.9393382352941176,
          0.9402573529411765,
          0.9402573529411765,
          0.9420955882352942,
          0.9420955882352942,
          0.9439338235294118,
          0.9439338235294118,
          0.9448529411764706,
          0.9448529411764706,
          0.9466911764705882,
          0.9466911764705882,
          0.9476102941176471,
          0.9476102941176471,
          0.9485294117647058,
          0.9485294117647058,
          0.9503676470588235,
          0.9503676470588235,
          0.9512867647058824,
          0.9512867647058824,
          0.9522058823529411,
          0.9522058823529411,
          0.953125,
          0.953125,
          0.9540441176470589,
          0.9540441176470589,
          0.9549632352941176,
          0.9549632352941176,
          0.9558823529411765,
          0.9558823529411765,
          0.9568014705882353,
          0.9568014705882353,
          0.9577205882352942,
          0.9577205882352942,
          0.9586397058823529,
          0.9586397058823529,
          0.9595588235294118,
          0.9595588235294118,
          0.9604779411764706,
          0.9604779411764706,
          0.9613970588235294,
          0.9613970588235294,
          0.9623161764705882,
          0.9623161764705882,
          0.9641544117647058,
          0.9641544117647058,
          0.9650735294117647,
          0.9650735294117647,
          0.9659926470588235,
          0.9659926470588235,
          0.9696691176470589,
          0.9696691176470589,
          0.9705882352941176,
          0.9705882352941176,
          0.9715073529411765,
          0.9715073529411765,
          0.9724264705882353,
          0.9724264705882353,
          0.9733455882352942,
          0.9733455882352942,
          0.9751838235294118,
          0.9751838235294118,
          0.9761029411764706,
          0.9761029411764706,
          0.9770220588235294,
          0.9770220588235294,
          0.9779411764705882,
          0.9779411764705882,
          0.9788602941176471,
          0.9788602941176471,
          0.9806985294117647,
          0.9806985294117647,
          0.9816176470588235,
          0.9816176470588235,
          0.9825367647058824,
          0.9825367647058824,
          0.984375,
          0.984375,
          0.9852941176470589,
          0.9852941176470589,
          0.9862132352941176,
          0.9862132352941176,
          0.9871323529411765,
          0.9871323529411765,
          0.9880514705882353,
          0.9880514705882353,
          0.9889705882352942,
          0.9889705882352942,
          0.9898897058823529,
          0.9898897058823529,
          0.9908088235294118,
          0.9908088235294118,
          0.9917279411764706,
          0.9917279411764706,
          0.9926470588235294,
          0.9926470588235294,
          0.9935661764705882,
          0.9935661764705882,
          0.9944852941176471,
          0.9944852941176471,
          0.9954044117647058,
          0.9954044117647058,
          0.9963235294117647,
          0.9963235294117647,
          0.9972426470588235,
          0.9972426470588235,
          0.9981617647058824,
          0.9981617647058824,
          0.9990808823529411,
          0.9990808823529411,
          1,
          1
         ],
         "yaxis": "y"
        }
       ],
       "layout": {
        "height": 500,
        "legend": {
         "tracegroupgap": 0
        },
        "shapes": [
         {
          "line": {
           "dash": "dash"
          },
          "type": "line",
          "x0": 0,
          "x1": 1,
          "y0": 0,
          "y1": 1
         }
        ],
        "template": {
         "data": {
          "bar": [
           {
            "error_x": {
             "color": "#2a3f5f"
            },
            "error_y": {
             "color": "#2a3f5f"
            },
            "marker": {
             "line": {
              "color": "#E5ECF6",
              "width": 0.5
             },
             "pattern": {
              "fillmode": "overlay",
              "size": 10,
              "solidity": 0.2
             }
            },
            "type": "bar"
           }
          ],
          "barpolar": [
           {
            "marker": {
             "line": {
              "color": "#E5ECF6",
              "width": 0.5
             },
             "pattern": {
              "fillmode": "overlay",
              "size": 10,
              "solidity": 0.2
             }
            },
            "type": "barpolar"
           }
          ],
          "carpet": [
           {
            "aaxis": {
             "endlinecolor": "#2a3f5f",
             "gridcolor": "white",
             "linecolor": "white",
             "minorgridcolor": "white",
             "startlinecolor": "#2a3f5f"
            },
            "baxis": {
             "endlinecolor": "#2a3f5f",
             "gridcolor": "white",
             "linecolor": "white",
             "minorgridcolor": "white",
             "startlinecolor": "#2a3f5f"
            },
            "type": "carpet"
           }
          ],
          "choropleth": [
           {
            "colorbar": {
             "outlinewidth": 0,
             "ticks": ""
            },
            "type": "choropleth"
           }
          ],
          "contour": [
           {
            "colorbar": {
             "outlinewidth": 0,
             "ticks": ""
            },
            "colorscale": [
             [
              0,
              "#0d0887"
             ],
             [
              0.1111111111111111,
              "#46039f"
             ],
             [
              0.2222222222222222,
              "#7201a8"
             ],
             [
              0.3333333333333333,
              "#9c179e"
             ],
             [
              0.4444444444444444,
              "#bd3786"
             ],
             [
              0.5555555555555556,
              "#d8576b"
             ],
             [
              0.6666666666666666,
              "#ed7953"
             ],
             [
              0.7777777777777778,
              "#fb9f3a"
             ],
             [
              0.8888888888888888,
              "#fdca26"
             ],
             [
              1,
              "#f0f921"
             ]
            ],
            "type": "contour"
           }
          ],
          "contourcarpet": [
           {
            "colorbar": {
             "outlinewidth": 0,
             "ticks": ""
            },
            "type": "contourcarpet"
           }
          ],
          "heatmap": [
           {
            "colorbar": {
             "outlinewidth": 0,
             "ticks": ""
            },
            "colorscale": [
             [
              0,
              "#0d0887"
             ],
             [
              0.1111111111111111,
              "#46039f"
             ],
             [
              0.2222222222222222,
              "#7201a8"
             ],
             [
              0.3333333333333333,
              "#9c179e"
             ],
             [
              0.4444444444444444,
              "#bd3786"
             ],
             [
              0.5555555555555556,
              "#d8576b"
             ],
             [
              0.6666666666666666,
              "#ed7953"
             ],
             [
              0.7777777777777778,
              "#fb9f3a"
             ],
             [
              0.8888888888888888,
              "#fdca26"
             ],
             [
              1,
              "#f0f921"
             ]
            ],
            "type": "heatmap"
           }
          ],
          "heatmapgl": [
           {
            "colorbar": {
             "outlinewidth": 0,
             "ticks": ""
            },
            "colorscale": [
             [
              0,
              "#0d0887"
             ],
             [
              0.1111111111111111,
              "#46039f"
             ],
             [
              0.2222222222222222,
              "#7201a8"
             ],
             [
              0.3333333333333333,
              "#9c179e"
             ],
             [
              0.4444444444444444,
              "#bd3786"
             ],
             [
              0.5555555555555556,
              "#d8576b"
             ],
             [
              0.6666666666666666,
              "#ed7953"
             ],
             [
              0.7777777777777778,
              "#fb9f3a"
             ],
             [
              0.8888888888888888,
              "#fdca26"
             ],
             [
              1,
              "#f0f921"
             ]
            ],
            "type": "heatmapgl"
           }
          ],
          "histogram": [
           {
            "marker": {
             "pattern": {
              "fillmode": "overlay",
              "size": 10,
              "solidity": 0.2
             }
            },
            "type": "histogram"
           }
          ],
          "histogram2d": [
           {
            "colorbar": {
             "outlinewidth": 0,
             "ticks": ""
            },
            "colorscale": [
             [
              0,
              "#0d0887"
             ],
             [
              0.1111111111111111,
              "#46039f"
             ],
             [
              0.2222222222222222,
              "#7201a8"
             ],
             [
              0.3333333333333333,
              "#9c179e"
             ],
             [
              0.4444444444444444,
              "#bd3786"
             ],
             [
              0.5555555555555556,
              "#d8576b"
             ],
             [
              0.6666666666666666,
              "#ed7953"
             ],
             [
              0.7777777777777778,
              "#fb9f3a"
             ],
             [
              0.8888888888888888,
              "#fdca26"
             ],
             [
              1,
              "#f0f921"
             ]
            ],
            "type": "histogram2d"
           }
          ],
          "histogram2dcontour": [
           {
            "colorbar": {
             "outlinewidth": 0,
             "ticks": ""
            },
            "colorscale": [
             [
              0,
              "#0d0887"
             ],
             [
              0.1111111111111111,
              "#46039f"
             ],
             [
              0.2222222222222222,
              "#7201a8"
             ],
             [
              0.3333333333333333,
              "#9c179e"
             ],
             [
              0.4444444444444444,
              "#bd3786"
             ],
             [
              0.5555555555555556,
              "#d8576b"
             ],
             [
              0.6666666666666666,
              "#ed7953"
             ],
             [
              0.7777777777777778,
              "#fb9f3a"
             ],
             [
              0.8888888888888888,
              "#fdca26"
             ],
             [
              1,
              "#f0f921"
             ]
            ],
            "type": "histogram2dcontour"
           }
          ],
          "mesh3d": [
           {
            "colorbar": {
             "outlinewidth": 0,
             "ticks": ""
            },
            "type": "mesh3d"
           }
          ],
          "parcoords": [
           {
            "line": {
             "colorbar": {
              "outlinewidth": 0,
              "ticks": ""
             }
            },
            "type": "parcoords"
           }
          ],
          "pie": [
           {
            "automargin": true,
            "type": "pie"
           }
          ],
          "scatter": [
           {
            "fillpattern": {
             "fillmode": "overlay",
             "size": 10,
             "solidity": 0.2
            },
            "type": "scatter"
           }
          ],
          "scatter3d": [
           {
            "line": {
             "colorbar": {
              "outlinewidth": 0,
              "ticks": ""
             }
            },
            "marker": {
             "colorbar": {
              "outlinewidth": 0,
              "ticks": ""
             }
            },
            "type": "scatter3d"
           }
          ],
          "scattercarpet": [
           {
            "marker": {
             "colorbar": {
              "outlinewidth": 0,
              "ticks": ""
             }
            },
            "type": "scattercarpet"
           }
          ],
          "scattergeo": [
           {
            "marker": {
             "colorbar": {
              "outlinewidth": 0,
              "ticks": ""
             }
            },
            "type": "scattergeo"
           }
          ],
          "scattergl": [
           {
            "marker": {
             "colorbar": {
              "outlinewidth": 0,
              "ticks": ""
             }
            },
            "type": "scattergl"
           }
          ],
          "scattermapbox": [
           {
            "marker": {
             "colorbar": {
              "outlinewidth": 0,
              "ticks": ""
             }
            },
            "type": "scattermapbox"
           }
          ],
          "scatterpolar": [
           {
            "marker": {
             "colorbar": {
              "outlinewidth": 0,
              "ticks": ""
             }
            },
            "type": "scatterpolar"
           }
          ],
          "scatterpolargl": [
           {
            "marker": {
             "colorbar": {
              "outlinewidth": 0,
              "ticks": ""
             }
            },
            "type": "scatterpolargl"
           }
          ],
          "scatterternary": [
           {
            "marker": {
             "colorbar": {
              "outlinewidth": 0,
              "ticks": ""
             }
            },
            "type": "scatterternary"
           }
          ],
          "surface": [
           {
            "colorbar": {
             "outlinewidth": 0,
             "ticks": ""
            },
            "colorscale": [
             [
              0,
              "#0d0887"
             ],
             [
              0.1111111111111111,
              "#46039f"
             ],
             [
              0.2222222222222222,
              "#7201a8"
             ],
             [
              0.3333333333333333,
              "#9c179e"
             ],
             [
              0.4444444444444444,
              "#bd3786"
             ],
             [
              0.5555555555555556,
              "#d8576b"
             ],
             [
              0.6666666666666666,
              "#ed7953"
             ],
             [
              0.7777777777777778,
              "#fb9f3a"
             ],
             [
              0.8888888888888888,
              "#fdca26"
             ],
             [
              1,
              "#f0f921"
             ]
            ],
            "type": "surface"
           }
          ],
          "table": [
           {
            "cells": {
             "fill": {
              "color": "#EBF0F8"
             },
             "line": {
              "color": "white"
             }
            },
            "header": {
             "fill": {
              "color": "#C8D4E3"
             },
             "line": {
              "color": "white"
             }
            },
            "type": "table"
           }
          ]
         },
         "layout": {
          "annotationdefaults": {
           "arrowcolor": "#2a3f5f",
           "arrowhead": 0,
           "arrowwidth": 1
          },
          "autotypenumbers": "strict",
          "coloraxis": {
           "colorbar": {
            "outlinewidth": 0,
            "ticks": ""
           }
          },
          "colorscale": {
           "diverging": [
            [
             0,
             "#8e0152"
            ],
            [
             0.1,
             "#c51b7d"
            ],
            [
             0.2,
             "#de77ae"
            ],
            [
             0.3,
             "#f1b6da"
            ],
            [
             0.4,
             "#fde0ef"
            ],
            [
             0.5,
             "#f7f7f7"
            ],
            [
             0.6,
             "#e6f5d0"
            ],
            [
             0.7,
             "#b8e186"
            ],
            [
             0.8,
             "#7fbc41"
            ],
            [
             0.9,
             "#4d9221"
            ],
            [
             1,
             "#276419"
            ]
           ],
           "sequential": [
            [
             0,
             "#0d0887"
            ],
            [
             0.1111111111111111,
             "#46039f"
            ],
            [
             0.2222222222222222,
             "#7201a8"
            ],
            [
             0.3333333333333333,
             "#9c179e"
            ],
            [
             0.4444444444444444,
             "#bd3786"
            ],
            [
             0.5555555555555556,
             "#d8576b"
            ],
            [
             0.6666666666666666,
             "#ed7953"
            ],
            [
             0.7777777777777778,
             "#fb9f3a"
            ],
            [
             0.8888888888888888,
             "#fdca26"
            ],
            [
             1,
             "#f0f921"
            ]
           ],
           "sequentialminus": [
            [
             0,
             "#0d0887"
            ],
            [
             0.1111111111111111,
             "#46039f"
            ],
            [
             0.2222222222222222,
             "#7201a8"
            ],
            [
             0.3333333333333333,
             "#9c179e"
            ],
            [
             0.4444444444444444,
             "#bd3786"
            ],
            [
             0.5555555555555556,
             "#d8576b"
            ],
            [
             0.6666666666666666,
             "#ed7953"
            ],
            [
             0.7777777777777778,
             "#fb9f3a"
            ],
            [
             0.8888888888888888,
             "#fdca26"
            ],
            [
             1,
             "#f0f921"
            ]
           ]
          },
          "colorway": [
           "#636efa",
           "#EF553B",
           "#00cc96",
           "#ab63fa",
           "#FFA15A",
           "#19d3f3",
           "#FF6692",
           "#B6E880",
           "#FF97FF",
           "#FECB52"
          ],
          "font": {
           "color": "#2a3f5f"
          },
          "geo": {
           "bgcolor": "white",
           "lakecolor": "white",
           "landcolor": "#E5ECF6",
           "showlakes": true,
           "showland": true,
           "subunitcolor": "white"
          },
          "hoverlabel": {
           "align": "left"
          },
          "hovermode": "closest",
          "mapbox": {
           "style": "light"
          },
          "paper_bgcolor": "white",
          "plot_bgcolor": "#E5ECF6",
          "polar": {
           "angularaxis": {
            "gridcolor": "white",
            "linecolor": "white",
            "ticks": ""
           },
           "bgcolor": "#E5ECF6",
           "radialaxis": {
            "gridcolor": "white",
            "linecolor": "white",
            "ticks": ""
           }
          },
          "scene": {
           "xaxis": {
            "backgroundcolor": "#E5ECF6",
            "gridcolor": "white",
            "gridwidth": 2,
            "linecolor": "white",
            "showbackground": true,
            "ticks": "",
            "zerolinecolor": "white"
           },
           "yaxis": {
            "backgroundcolor": "#E5ECF6",
            "gridcolor": "white",
            "gridwidth": 2,
            "linecolor": "white",
            "showbackground": true,
            "ticks": "",
            "zerolinecolor": "white"
           },
           "zaxis": {
            "backgroundcolor": "#E5ECF6",
            "gridcolor": "white",
            "gridwidth": 2,
            "linecolor": "white",
            "showbackground": true,
            "ticks": "",
            "zerolinecolor": "white"
           }
          },
          "shapedefaults": {
           "line": {
            "color": "#2a3f5f"
           }
          },
          "ternary": {
           "aaxis": {
            "gridcolor": "white",
            "linecolor": "white",
            "ticks": ""
           },
           "baxis": {
            "gridcolor": "white",
            "linecolor": "white",
            "ticks": ""
           },
           "bgcolor": "#E5ECF6",
           "caxis": {
            "gridcolor": "white",
            "linecolor": "white",
            "ticks": ""
           }
          },
          "title": {
           "x": 0.05
          },
          "xaxis": {
           "automargin": true,
           "gridcolor": "white",
           "linecolor": "white",
           "ticks": "",
           "title": {
            "standoff": 15
           },
           "zerolinecolor": "white",
           "zerolinewidth": 2
          },
          "yaxis": {
           "automargin": true,
           "gridcolor": "white",
           "linecolor": "white",
           "ticks": "",
           "title": {
            "standoff": 15
           },
           "zerolinecolor": "white",
           "zerolinewidth": 2
          }
         }
        },
        "title": {
         "text": "ROC Curve (AUC=0.9218)"
        },
        "width": 700,
        "xaxis": {
         "anchor": "y",
         "constrain": "domain",
         "domain": [
          0,
          1
         ],
         "title": {
          "text": "False Positive Rate"
         }
        },
        "yaxis": {
         "anchor": "x",
         "domain": [
          0,
          1
         ],
         "scaleanchor": "x",
         "scaleratio": 1,
         "title": {
          "text": "True Positive Rate"
         }
        }
       }
      }
     },
     "metadata": {},
     "output_type": "display_data"
    },
    {
     "data": {
      "image/png": "[encoded data removed]",
      "text/plain": [
       "<Figure size 640x480 with 2 Axes>"
      ]
     },
     "metadata": {},
     "output_type": "display_data"
    }
   ],
   "source": [
    "#roc auc score\n",
    "roc_auc_score(y_test, grid_clf.predict(X_test))\n",
    "\n",
    "#accuracy score\n",
    "accuracy_score(y_test, grid_clf.predict(X_test))\n",
    "\n",
    "# classification report\n",
    "print(classification_report(y_test, grid_clf.predict(X_test)))\n",
    "\n",
    "#confusion matrix\n",
    "c_matrix = confusion_matrix(y_test, grid_clf.predict(X_test))\n",
    "\n",
    "#plot confusion matrix\n",
    "sns.heatmap(c_matrix, annot=True, fmt='', cmap='Blues')\n",
    "\n",
    "#plot roc curve\n",
    "fpr, tpr, thresholds = roc_curve(y_test, grid_clf.predict_proba(X_test)[:,1])\n",
    "roc_auc = auc(fpr, tpr)\n",
    "\n",
    "fig = px.area(\n",
    "    x=fpr, y=tpr,\n",
    "    title=f'ROC Curve (AUC={roc_auc:.4f})',\n",
    "    labels=dict(x='False Positive Rate', y='True Positive Rate'),\n",
    "    width=700, height=500\n",
    ")\n",
    "fig.add_shape(\n",
    "    type='line', line=dict(dash='dash'),\n",
    "    x0=0, x1=1, y0=0, y1=1\n",
    ")\n",
    "\n",
    "fig.update_yaxes(scaleanchor=\"x\", scaleratio=1)\n",
    "fig.update_xaxes(constrain='domain')\n",
    "fig.show()\n",
    "\n",
    "\n"
   ]
  }
 ],
 "metadata": {
  "kernelspec": {
   "display_name": "base",
   "language": "python",
   "name": "python3"
  },
  "language_info": {
   "codemirror_mode": {
    "name": "ipython",
    "version": 3
   },
   "file_extension": ".py",
   "mimetype": "text/x-python",
   "name": "python",
   "nbconvert_exporter": "python",
   "pygments_lexer": "ipython3",
   "version": "3.10.10"
  }
 },
 "nbformat": 4,
 "nbformat_minor": 2
}
